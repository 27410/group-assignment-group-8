{
 "cells": [
  {
   "cell_type": "code",
   "execution_count": 6,
   "metadata": {},
   "outputs": [
    {
     "name": "stdout",
     "output_type": "stream",
     "text": [
      "Collecting cobra==0.20.0Note: you may need to restart the kernel to use updated packages.\n",
      "\n",
      "  Downloading cobra-0.20.0-py2.py3-none-any.whl (2.4 MB)\n",
      "     ---------------------------------------- 0.0/2.4 MB ? eta -:--:--\n",
      "     --- ------------------------------------ 0.2/2.4 MB 4.7 MB/s eta 0:00:01\n",
      "     ------ --------------------------------- 0.4/2.4 MB 5.6 MB/s eta 0:00:01\n",
      "     ----------- ---------------------------- 0.7/2.4 MB 5.2 MB/s eta 0:00:01\n",
      "     ----------------- ---------------------- 1.0/2.4 MB 5.4 MB/s eta 0:00:01\n",
      "     ----------------------- ---------------- 1.4/2.4 MB 5.9 MB/s eta 0:00:01\n",
      "     --------------------------- ------------ 1.7/2.4 MB 5.9 MB/s eta 0:00:01\n",
      "     -------------------------------- ------- 1.9/2.4 MB 6.1 MB/s eta 0:00:01\n",
      "     ----------------------------------- ---- 2.1/2.4 MB 5.9 MB/s eta 0:00:01\n",
      "     ---------------------------------------- 2.4/2.4 MB 5.8 MB/s eta 0:00:00\n",
      "Requirement already satisfied: appdirs~=1.4 in c:\\users\\skole\\appdata\\local\\programs\\python\\python39\\lib\\site-packages (from cobra==0.20.0) (1.4.4)\n",
      "Requirement already satisfied: depinfo in c:\\users\\skole\\appdata\\local\\programs\\python\\python39\\lib\\site-packages (from cobra==0.20.0) (1.7.0)\n",
      "Requirement already satisfied: diskcache~=5.0 in c:\\users\\skole\\appdata\\local\\programs\\python\\python39\\lib\\site-packages (from cobra==0.20.0) (5.6.3)\n",
      "Requirement already satisfied: future in c:\\users\\skole\\appdata\\local\\programs\\python\\python39\\lib\\site-packages (from cobra==0.20.0) (0.18.3)\n",
      "Requirement already satisfied: httpx~=0.14 in c:\\users\\skole\\appdata\\local\\programs\\python\\python39\\lib\\site-packages (from cobra==0.20.0) (0.23.0)\n",
      "Requirement already satisfied: importlib-resources in c:\\users\\skole\\appdata\\local\\programs\\python\\python39\\lib\\site-packages (from cobra==0.20.0) (5.12.0)\n",
      "Requirement already satisfied: numpy~=1.13 in c:\\users\\skole\\appdata\\local\\programs\\python\\python39\\lib\\site-packages (from cobra==0.20.0) (1.21.6)\n",
      "Collecting optlang<1.4.6 (from cobra==0.20.0)\n",
      "  Downloading optlang-1.4.4-py2.py3-none-any.whl (125 kB)\n",
      "     ---------------------------------------- 0.0/125.6 kB ? eta -:--:--\n",
      "     -------------------------------------- 125.6/125.6 kB 7.7 MB/s eta 0:00:00\n",
      "Requirement already satisfied: pandas~=1.0 in c:\\users\\skole\\appdata\\local\\programs\\python\\python39\\lib\\site-packages (from cobra==0.20.0) (1.3.5)\n",
      "Requirement already satisfied: pydantic~=1.6 in c:\\users\\skole\\appdata\\local\\programs\\python\\python39\\lib\\site-packages (from cobra==0.20.0) (1.10.13)\n",
      "INFO: pip is looking at multiple versions of cobra to determine which version is compatible with other requirements. This could take a while.\n"
     ]
    },
    {
     "name": "stderr",
     "output_type": "stream",
     "text": [
      "ERROR: Could not find a version that satisfies the requirement python-libsbml-experimental==5.18.3 (from cobra) (from versions: 5.9.2, 5.10.0, 5.10.1, 5.10.2, 5.11.0, 5.11.2, 5.11.4, 5.11.6, 5.12.1, 5.13.0, 5.13.1, 5.14.0, 5.15.0, 5.15.2, 5.16.0, 5.17.0, 5.17.2, 5.18.0, 5.18.1, 5.19.0, 5.19.3, 5.19.4, 5.19.5, 5.19.6, 5.19.7, 5.20.0, 5.20.1, 5.20.2)\n",
      "ERROR: No matching distribution found for python-libsbml-experimental==5.18.3\n"
     ]
    }
   ],
   "source": [
    "pip install cobra==0.20.0 --upgrade"
   ]
  },
  {
   "cell_type": "code",
   "execution_count": 1,
   "metadata": {},
   "outputs": [],
   "source": [
    "import cameo"
   ]
  },
  {
   "cell_type": "code",
   "execution_count": 2,
   "metadata": {},
   "outputs": [],
   "source": [
    "from cameo.strain_design.heuristic.evolutionary_based import OptGene\n"
   ]
  },
  {
   "cell_type": "code",
   "execution_count": 3,
   "id": "122c1369",
   "metadata": {},
   "outputs": [
    {
     "name": "stderr",
     "output_type": "stream",
     "text": [
      "c:\\Users\\Skole\\AppData\\Local\\Programs\\Python\\Python39\\lib\\site-packages\\nbformat\\__init__.py:93: MissingIDFieldWarning: Code cell is missing an id field, this will become a hard error in future nbformat versions. You may want to use `normalize()` on your notebooks before validations (available since nbformat 5.1.4). Previous versions of nbformat are fixing this issue transparently, and will stop doing so in the future.\n",
      "  validate(nb)\n"
     ]
    },
    {
     "name": "stdout",
     "output_type": "stream",
     "text": [
      "ADS: frdp_c --> AMOR + ppi_c\n",
      "CPR1_CYP71AV1: AMOR + h_c + nadph_c + o2_c --> AAOH + h2o_c + nadp_c\n",
      "ADH1: AAOH + nad_c --> AAld + h_c + nadh_c\n",
      "ALDH1: AAld + h2o_c + nadp_c --> AA + h_c + nadph_c\n"
     ]
    }
   ],
   "source": [
    "%run Model_CFE.ipynb\n"
   ]
  },
  {
   "cell_type": "code",
   "execution_count": 4,
   "metadata": {},
   "outputs": [],
   "source": [
    "optgene = OptGene(iMM904)\n"
   ]
  },
  {
   "cell_type": "code",
   "execution_count": 7,
   "metadata": {},
   "outputs": [
    {
     "name": "stdout",
     "output_type": "stream",
     "text": [
      "Starting optimization at Tue, 21 Nov 2023 21:48:53\n"
     ]
    },
    {
     "name": "stderr",
     "output_type": "stream",
     "text": [
      "c:\\Users\\Skole\\AppData\\Local\\Programs\\Python\\Python39\\lib\\site-packages\\cameo\\strain_design\\heuristic\\evolutionary\\objective_functions.py:286: RuntimeWarning: invalid value encountered in double_scalars\n",
      "  return (biomass_flux * product_flux) / substrate_flux\n"
     ]
    },
    {
     "data": {
      "application/vnd.jupyter.widget-view+json": {
       "model_id": "15a12aa8cc994889859549e9c7d0cb54",
       "version_major": 2,
       "version_minor": 0
      },
      "text/plain": [
       "HBox()"
      ]
     },
     "metadata": {},
     "output_type": "display_data"
    },
    {
     "name": "stdout",
     "output_type": "stream",
     "text": [
      "Finished after 00:27:52\n"
     ]
    }
   ],
   "source": [
    "\n",
    "result = optgene.run(target=iMM904.reactions.ALDH1, \n",
    "                     biomass=iMM904.reactions.BIOMASS_SC5_notrace,\n",
    "                     substrate=iMM904.metabolites.sucr_e,\n",
    "                     max_evaluations=20000, population_size=200, max_knockouts=3,\n",
    "                     plot=False, growth_coupled=True)"
   ]
  },
  {
   "cell_type": "code",
   "execution_count": 8,
   "metadata": {},
   "outputs": [
    {
     "name": "stderr",
     "output_type": "stream",
     "text": [
      "No solutions found\n"
     ]
    },
    {
     "data": {
      "text/html": [
       "\n",
       "        <h3>OptGene Result</h3>\n",
       "        <ul>\n",
       "            <li>Simulation: fba<br/></li>\n",
       "            <li>Objective Function: $$bpcy = \\frac{(BIOMASS\\_SC5\\_notrace * min(ALDH1))}{EX\\_sucr\\_e}$$<br/></li>\n",
       "        </ul>\n",
       "        <div>\n",
       "<style scoped>\n",
       "    .dataframe tbody tr th:only-of-type {\n",
       "        vertical-align: middle;\n",
       "    }\n",
       "\n",
       "    .dataframe tbody tr th {\n",
       "        vertical-align: top;\n",
       "    }\n",
       "\n",
       "    .dataframe thead th {\n",
       "        text-align: right;\n",
       "    }\n",
       "</style>\n",
       "<table border=\"1\" class=\"dataframe\">\n",
       "  <thead>\n",
       "    <tr style=\"text-align: right;\">\n",
       "      <th></th>\n",
       "      <th>reactions</th>\n",
       "      <th>genes</th>\n",
       "      <th>size</th>\n",
       "      <th>fva_min</th>\n",
       "      <th>fva_max</th>\n",
       "      <th>target_flux</th>\n",
       "      <th>biomass_flux</th>\n",
       "      <th>yield</th>\n",
       "      <th>fitness</th>\n",
       "    </tr>\n",
       "  </thead>\n",
       "  <tbody>\n",
       "  </tbody>\n",
       "</table>\n",
       "</div>\n",
       "        "
      ],
      "text/plain": [
       "<cameo.strain_design.heuristic.evolutionary_based.OptGeneResult at 0x207663be190>"
      ]
     },
     "execution_count": 8,
     "metadata": {},
     "output_type": "execute_result"
    }
   ],
   "source": [
    "result"
   ]
  },
  {
   "cell_type": "code",
   "execution_count": null,
   "metadata": {},
   "outputs": [],
   "source": []
  },
  {
   "cell_type": "code",
   "execution_count": null,
   "metadata": {},
   "outputs": [],
   "source": []
  },
  {
   "cell_type": "code",
   "execution_count": null,
   "metadata": {},
   "outputs": [],
   "source": []
  },
  {
   "cell_type": "code",
   "execution_count": null,
   "metadata": {},
   "outputs": [],
   "source": [
    "\n"
   ]
  },
  {
   "cell_type": "code",
   "execution_count": null,
   "metadata": {},
   "outputs": [],
   "source": []
  },
  {
   "cell_type": "code",
   "execution_count": null,
   "metadata": {},
   "outputs": [],
   "source": []
  },
  {
   "cell_type": "code",
   "execution_count": null,
   "metadata": {},
   "outputs": [],
   "source": []
  },
  {
   "cell_type": "code",
   "execution_count": null,
   "metadata": {},
   "outputs": [],
   "source": []
  },
  {
   "cell_type": "code",
   "execution_count": null,
   "metadata": {},
   "outputs": [],
   "source": []
  },
  {
   "cell_type": "code",
   "execution_count": null,
   "metadata": {},
   "outputs": [],
   "source": []
  },
  {
   "cell_type": "code",
   "execution_count": null,
   "metadata": {},
   "outputs": [],
   "source": []
  },
  {
   "cell_type": "code",
   "execution_count": null,
   "metadata": {},
   "outputs": [],
   "source": []
  }
 ],
 "metadata": {
  "kernelspec": {
   "display_name": "Python 3 (ipykernel)",
   "language": "python",
   "name": "python3"
  },
  "language_info": {
   "codemirror_mode": {
    "name": "ipython",
    "version": 3
   },
   "file_extension": ".py",
   "mimetype": "text/x-python",
   "name": "python",
   "nbconvert_exporter": "python",
   "pygments_lexer": "ipython3",
   "version": "3.9.5"
  }
 },
 "nbformat": 4,
 "nbformat_minor": 5
}
