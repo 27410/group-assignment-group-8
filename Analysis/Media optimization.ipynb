{
 "cells": [
  {
   "cell_type": "code",
   "execution_count": 1,
   "id": "122c1369",
   "metadata": {},
   "outputs": [
    {
     "name": "stderr",
     "output_type": "stream",
     "text": [
      "/Users/emillundquist/Library/Python/3.9/lib/python/site-packages/nbformat/__init__.py:93: MissingIDFieldWarning: Code cell is missing an id field, this will become a hard error in future nbformat versions. You may want to use `normalize()` on your notebooks before validations (available since nbformat 5.1.4). Previous versions of nbformat are fixing this issue transparently, and will stop doing so in the future.\n",
      "  validate(nb)\n"
     ]
    },
    {
     "name": "stdout",
     "output_type": "stream",
     "text": [
      "ADS: frdp_c --> AMOR + ppi_c\n",
      "CPR1_CYP71AV1: AMOR + h_c + nadph_c + o2_c --> AAOH + h2o_c + nadp_c\n",
      "ADH1: AAOH + nad_c --> AAld + h_c + nadh_c\n",
      "ALDH1: AAld + h2o_c + nadp_c --> AA + h_c + nadph_c\n"
     ]
    }
   ],
   "source": [
    "%run Model_CFE.ipynb"
   ]
  },
  {
   "cell_type": "markdown",
   "metadata": {},
   "source": [
    "Productivity calcualted using the model standard media:"
   ]
  },
  {
   "cell_type": "code",
   "execution_count": 22,
   "metadata": {},
   "outputs": [
    {
     "name": "stdout",
     "output_type": "stream",
     "text": [
      "Maximum theoretical biomass productivity: 0.2875778380003134 /h\n",
      "Maximum theoretical productivity of Aldehyde_dehydrogenase_1 reaction: 0.0014381800197779163 mmol/gDW*h\n"
     ]
    }
   ],
   "source": [
    "with iMM904:\n",
    "    solution = iMM904.optimize()\n",
    "    print('Maximum theoretical biomass productivity:', solution.fluxes['BIOMASS_SC5_notrace'], '/h')\n",
    "    \n",
    "    iMM904.objective = iMM904.reactions.ALDH1\n",
    "    AA_production = iMM904.optimize().objective_value\n",
    "    print('Maximum theoretical productivity of Aldehyde_dehydrogenase_1 reaction:', AA_production, 'mmol/gDW*h')"
   ]
  },
  {
   "cell_type": "markdown",
   "metadata": {},
   "source": [
    "Defining YEPD media:"
   ]
  },
  {
   "cell_type": "code",
   "execution_count": 62,
   "metadata": {},
   "outputs": [],
   "source": [
    "YEPDmedium = iMM904.medium\n",
    "YEPDmedium[\"EX_glc__D_e\"] = 20\n",
    "YEPDmedium['EX_ala__L_e'] = 10\n",
    "YEPDmedium['EX_arg__L_e'] = 10\n",
    "YEPDmedium['EX_asp__L_e'] = 10\n",
    "YEPDmedium['EX_cys__L_e'] = 10\n",
    "YEPDmedium['EX_glu__L_e'] = 10\n",
    "YEPDmedium['EX_gly_e'] = 10\n",
    "YEPDmedium['EX_his__L_e'] = 10\n",
    "YEPDmedium['EX_ile__L_e'] = 10\n",
    "YEPDmedium['EX_leu__L_e'] = 10\n",
    "YEPDmedium['EX_lys__L_e'] = 10\n",
    "YEPDmedium['EX_met__L_e'] = 10\n",
    "YEPDmedium['EX_phe__L_e'] = 10\n",
    "YEPDmedium['EX_pro__L_e'] = 10\n",
    "YEPDmedium['EX_ser__L_e'] = 10\n",
    "YEPDmedium['EX_thr__L_e'] = 10\n",
    "YEPDmedium['EX_trp__L_e'] = 10\n",
    "YEPDmedium['EX_tyr__L_e'] = 10\n",
    "YEPDmedium['EX_val__L_e'] = 10\n",
    "YEPDmedium['EX_fe2_e'] = 10"
   ]
  },
  {
   "cell_type": "markdown",
   "metadata": {},
   "source": [
    "Productivity calcualted using the YEPD media:"
   ]
  },
  {
   "cell_type": "code",
   "execution_count": 63,
   "metadata": {},
   "outputs": [
    {
     "name": "stdout",
     "output_type": "stream",
     "text": [
      "Maximum theoretical biomass productivity: 0.2875778380003134 /h\n",
      "Maximum theoretical productivity of Aldehyde_dehydrogenase_1 reaction: 1.6374615411131754 mmol/gDW*h\n"
     ]
    }
   ],
   "source": [
    "iMM904.medium = YEPDmedium\n",
    "solution = iMM904.optimize()\n",
    "print('Maximum theoretical biomass productivity:', solution.fluxes['BIOMASS_SC5_notrace'], '/h')\n",
    "\n",
    "iMM904.objective = iMM904.reactions.ALDH1\n",
    "AA_production = iMM904.optimize().objective_value\n",
    "print('Maximum theoretical productivity of Aldehyde_dehydrogenase_1 reaction:', AA_production, 'mmol/gDW*h')"
   ]
  },
  {
   "cell_type": "markdown",
   "metadata": {},
   "source": [
    "Productivity calcualted using diffrent carbon sources:"
   ]
  },
  {
   "cell_type": "markdown",
   "metadata": {},
   "source": [
    "Galactose:"
   ]
  },
  {
   "cell_type": "code",
   "execution_count": 68,
   "metadata": {},
   "outputs": [
    {
     "name": "stdout",
     "output_type": "stream",
     "text": [
      "Maximum theoretical biomass productivity: 0.2875778380003134 /h\n",
      "Maximum theoretical productivity of psilocybin_synthase reaction: 0.8122698003266288 mmol/gDW*h\n"
     ]
    }
   ],
   "source": [
    "medium = iMM904.medium\n",
    "with iMM904:\n",
    "    medium['EX_glc__D_e'] = 0\n",
    "    medium['EX_gal_e'] = 10\n",
    "    iMM904.medium = medium\n",
    "    \n",
    "    solution2 = iMM904.optimize()\n",
    "    print('Maximum theoretical biomass productivity:', solution2.fluxes['BIOMASS_SC5_notrace'], '/h')\n",
    "    \n",
    "    iMM904.objective = iMM904.reactions.ALDH1\n",
    "    AA_production2 = iMM904.optimize().objective_value\n",
    "    print('Maximum theoretical productivity of Aldehyde_dehydrogenase_1 reaction:', AA_production2, 'mmol/gDW*h')"
   ]
  },
  {
   "cell_type": "markdown",
   "metadata": {},
   "source": [
    "Xanthosine:"
   ]
  },
  {
   "cell_type": "code",
   "execution_count": 70,
   "metadata": {},
   "outputs": [
    {
     "name": "stdout",
     "output_type": "stream",
     "text": [
      "Maximum theoretical biomass productivity: 0.2875778380003134 /h\n",
      "Maximum theoretical productivity of psilocybin_synthase reaction: 1.1002892980926573 mmol/gDW*h\n"
     ]
    }
   ],
   "source": [
    "medium = iMM904.medium\n",
    "with iMM904:\n",
    "    medium['EX_glc__D_e'] = 0\n",
    "    medium['EX_xtsn_e'] = 10\n",
    "    iMM904.medium = medium\n",
    "    \n",
    "    solution3 = iMM904.optimize()\n",
    "    print('Maximum theoretical biomass productivity:', solution3.fluxes['BIOMASS_SC5_notrace'], '/h')\n",
    "    \n",
    "    iMM904.objective = iMM904.reactions.ALDH1\n",
    "    AA_production3 = iMM904.optimize().objective_value\n",
    "    print('Maximum theoretical productivity of Aldehyde_dehydrogenase_1 reaction:', AA_production3, 'mmol/gDW*h')"
   ]
  },
  {
   "cell_type": "markdown",
   "metadata": {},
   "source": [
    "Guanosine:"
   ]
  },
  {
   "cell_type": "code",
   "execution_count": 71,
   "metadata": {},
   "outputs": [
    {
     "name": "stdout",
     "output_type": "stream",
     "text": [
      "Maximum theoretical biomass productivity: 0.2875778380003134 /h\n",
      "Maximum theoretical productivity of psilocybin_synthase reaction: 1.1027069099086548 mmol/gDW*h\n"
     ]
    }
   ],
   "source": [
    "medium = iMM904.medium\n",
    "with iMM904:\n",
    "    medium['EX_glc__D_e'] = 0\n",
    "    medium['EX_gsn_e'] = 10\n",
    "    iMM904.medium = medium\n",
    "    \n",
    "    solution4 = iMM904.optimize()\n",
    "    print('Maximum theoretical biomass productivity:', solution4.fluxes['BIOMASS_SC5_notrace'], '/h')\n",
    "    \n",
    "    iMM904.objective = iMM904.reactions.ALDH1\n",
    "    AA_production4 = iMM904.optimize().objective_value\n",
    "    print('Maximum theoretical productivity of Aldehyde_dehydrogenase_1 reaction:', AA_production4, 'mmol/gDW*h')"
   ]
  },
  {
   "cell_type": "markdown",
   "metadata": {},
   "source": [
    "Trehalose:"
   ]
  },
  {
   "cell_type": "code",
   "execution_count": 72,
   "metadata": {},
   "outputs": [
    {
     "name": "stdout",
     "output_type": "stream",
     "text": [
      "Maximum theoretical biomass productivity: 0.2875778380003134 /h\n",
      "Maximum theoretical productivity of psilocybin_synthase reaction: 1.6380827092432644 mmol/gDW*h\n"
     ]
    }
   ],
   "source": [
    "medium = iMM904.medium\n",
    "with iMM904:\n",
    "    medium['EX_glc__D_e'] = 0\n",
    "    medium['EX_tre_e'] = 10\n",
    "    iMM904.medium = medium\n",
    "    \n",
    "    solution5 = iMM904.optimize()\n",
    "    print('Maximum theoretical biomass productivity:', solution5.fluxes['BIOMASS_SC5_notrace'], '/h')\n",
    "    \n",
    "    iMM904.objective = iMM904.reactions.ALDH1\n",
    "    AA_production5 = iMM904.optimize().objective_value\n",
    "    print('Maximum theoretical productivity of Aldehyde_dehydrogenase_1 reaction:', AA_production5, 'mmol/gDW*h')"
   ]
  },
  {
   "cell_type": "markdown",
   "metadata": {},
   "source": [
    "Succrose:"
   ]
  },
  {
   "cell_type": "code",
   "execution_count": 75,
   "metadata": {},
   "outputs": [
    {
     "name": "stdout",
     "output_type": "stream",
     "text": [
      "Maximum theoretical biomass productivity: 0.2875778380003134 /h\n",
      "Maximum theoretical productivity of Aldehyde_dehydrogenase_1 reaction: 1.637461541113203 mmol/gDW*h\n"
     ]
    }
   ],
   "source": [
    "medium = iMM904.medium\n",
    "with iMM904:\n",
    "    medium['EX_glc__D_e'] = 0\n",
    "    medium['EX_sucr_e'] = 10\n",
    "    iMM904.medium = medium\n",
    "    \n",
    "    solution6 = iMM904.optimize()\n",
    "    print('Maximum theoretical biomass productivity:', solution6.fluxes['BIOMASS_SC5_notrace'], '/h')\n",
    "    \n",
    "    iMM904.objective = iMM904.reactions.ALDH1\n",
    "    AA_production6 = iMM904.optimize().objective_value\n",
    "    print('Maximum theoretical productivity of Aldehyde_dehydrogenase_1 reaction:', AA_production6, 'mmol/gDW*h')"
   ]
  }
 ],
 "metadata": {
  "kernelspec": {
   "display_name": "Python 3 (ipykernel)",
   "language": "python",
   "name": "python3"
  },
  "language_info": {
   "codemirror_mode": {
    "name": "ipython",
    "version": 3
   },
   "file_extension": ".py",
   "mimetype": "text/x-python",
   "name": "python",
   "nbconvert_exporter": "python",
   "pygments_lexer": "ipython3",
   "version": "3.9.6"
  }
 },
 "nbformat": 4,
 "nbformat_minor": 5
}
