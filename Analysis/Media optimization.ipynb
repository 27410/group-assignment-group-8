{
 "cells": [
  {
   "cell_type": "code",
   "execution_count": 48,
   "id": "122c1369",
   "metadata": {},
   "outputs": [
    {
     "name": "stderr",
     "output_type": "stream",
     "text": [
      "/Users/emillundquist/Library/Python/3.9/lib/python/site-packages/nbformat/__init__.py:93: MissingIDFieldWarning: Code cell is missing an id field, this will become a hard error in future nbformat versions. You may want to use `normalize()` on your notebooks before validations (available since nbformat 5.1.4). Previous versions of nbformat are fixing this issue transparently, and will stop doing so in the future.\n",
      "  validate(nb)\n"
     ]
    },
    {
     "name": "stdout",
     "output_type": "stream",
     "text": [
      "ADS: frdp_c --> AMOR + ppi_c\n",
      "CPR1_CYP71AV1: AMOR + h_c + nadph_c + o2_c --> AAOH + h2o_c + nadp_c\n",
      "ADH1: AAOH + nad_c --> AAld + h_c + nadh_c\n",
      "ALDH1: AAld + h2o_c + nadp_c --> AA + h_c + nadph_c\n"
     ]
    }
   ],
   "source": [
    "%run Model_CFE.ipynb"
   ]
  },
  {
   "cell_type": "markdown",
   "metadata": {},
   "source": [
    "Adding reaction for the extraction of AA."
   ]
  },
  {
   "cell_type": "code",
   "execution_count": 49,
   "metadata": {},
   "outputs": [
    {
     "name": "stdout",
     "output_type": "stream",
     "text": [
      "AA --> \n"
     ]
    },
    {
     "data": {
      "text/html": [
       "\n",
       "        <table>\n",
       "            <tr>\n",
       "                <td><strong>Reaction identifier</strong></td><td>EXT_AA</td>\n",
       "            </tr><tr>\n",
       "                <td><strong>Name</strong></td><td></td>\n",
       "            </tr><tr>\n",
       "                <td><strong>Memory address</strong></td>\n",
       "                <td>0x28f491100</td>\n",
       "            </tr><tr>\n",
       "                <td><strong>Stoichiometry</strong></td>\n",
       "                <td>\n",
       "                    <p style='text-align:right'>AA --></p>\n",
       "                    <p style='text-align:right'>artemisinic_acid --></p>\n",
       "                </td>\n",
       "            </tr><tr>\n",
       "                <td><strong>GPR</strong></td><td></td>\n",
       "            </tr><tr>\n",
       "                <td><strong>Lower bound</strong></td><td>0.0</td>\n",
       "            </tr><tr>\n",
       "                <td><strong>Upper bound</strong></td><td>1000.0</td>\n",
       "            </tr>\n",
       "        </table>\n",
       "        "
      ],
      "text/plain": [
       "<Reaction EXT_AA at 0x28f491100>"
      ]
     },
     "execution_count": 49,
     "metadata": {},
     "output_type": "execute_result"
    }
   ],
   "source": [
    "new_reaction5 = Reaction('EXT_AA')\n",
    "new_reaction5.add_metabolites({artemisinic_acid: -1})\n",
    "print(new_reaction5.build_reaction_string())\n",
    "\n",
    "iMM904.add_reactions([new_reaction5])\n",
    "iMM904.reactions.EXT_AA  "
   ]
  },
  {
   "cell_type": "markdown",
   "metadata": {},
   "source": [
    "Calculating the weigths of the relevant metabolites biomas, AA and glucose"
   ]
  },
  {
   "cell_type": "code",
   "execution_count": 50,
   "metadata": {},
   "outputs": [],
   "source": [
    "from cobra.flux_analysis import production_envelope\n",
    "with iMM904:\n",
    "#Calculate weights of the metabolites\n",
    "    C = 12\n",
    "    H = 1\n",
    "    N = 14\n",
    "    O = 16\n",
    "    biomass_weight = C*47.5+H*7+N*9.25 #g/mol, this is the median measurement of S. cerevisiae composition. ##Check source\n",
    "    AA_weight = iMM904.metabolites.AA.elements['C']*C+iMM904.metabolites.AA.elements['H']*H #g/mol\n",
    "    glucose_weight = iMM904.metabolites.glc__D_c.elements['C']*C+iMM904.metabolites.glc__D_c.elements['H']*H+iMM904.metabolites.glc__D_c.elements['O']*O"
   ]
  },
  {
   "cell_type": "markdown",
   "metadata": {},
   "source": [
    "Finding maximum growth:"
   ]
  },
  {
   "cell_type": "code",
   "execution_count": 51,
   "metadata": {},
   "outputs": [],
   "source": [
    "solution = iMM904.optimize()\n",
    "initial_growth = iMM904.optimize().objective_value"
   ]
  },
  {
   "cell_type": "markdown",
   "metadata": {},
   "source": [
    "Calculating and printing yields of biomass"
   ]
  },
  {
   "cell_type": "code",
   "execution_count": 52,
   "metadata": {},
   "outputs": [
    {
     "name": "stdout",
     "output_type": "stream",
     "text": [
      "Max growth flux on glucose: 0.288 \tmmol*gDW^1*h^-1\n",
      "Yield biomass/glc:\t\t 0.029 \tmol/mol\n",
      "Yield biomass/glc:\t\t 112.987 mg/g\n"
     ]
    }
   ],
   "source": [
    "yield_X_glc_g = (initial_growth/abs(solution.fluxes[\"EX_glc__D_e\"]))*(biomass_weight/glucose_weight)\n",
    "yield_X_glc_mol = initial_growth/abs(solution.fluxes[\"EX_glc__D_e\"])\n",
    "print(\"Max growth flux on glucose:\",round(initial_growth,3), \"\\tmmol*gDW^1*h^-1\")\n",
    "print(\"Yield biomass/glc:\\t\\t\", round(yield_X_glc_mol,3),\"\\tmol/mol\")\n",
    "print(\"Yield biomass/glc:\\t\\t\", round(yield_X_glc_g*1000,3), \"mg/g\")"
   ]
  },
  {
   "cell_type": "markdown",
   "metadata": {},
   "source": [
    "1. Find max production at at least 1 % growth flux.\n",
    "2. Find max amounts of extracted AA and max  artemisinic acidflux"
   ]
  },
  {
   "cell_type": "code",
   "execution_count": 53,
   "metadata": {},
   "outputs": [
    {
     "name": "stdout",
     "output_type": "stream",
     "text": [
      "\n",
      "Investigation of maximum artemisinic acid yield with a min growth flux of 1 % of the max growth flux: 0.002879\n"
     ]
    }
   ],
   "source": [
    "#1:\n",
    "iMM904.reactions.BIOMASS_SC5_notrace.bounds = initial_growth*0.01, 100\n",
    "print('\\nInvestigation of maximum artemisinic acid yield with a min growth flux of 1 % of the max growth flux:', round(initial_growth*0.01,6))\n",
    "#2:\n",
    "iMM904.objective = iMM904.reactions.EXT_AA\n",
    "solution = iMM904.optimize()\n",
    "initial_AA_flow = iMM904.optimize().objective_value "
   ]
  },
  {
   "cell_type": "markdown",
   "metadata": {},
   "source": [
    "Yield calculations of artemisinic acid at min 1% growth flux"
   ]
  },
  {
   "cell_type": "code",
   "execution_count": 54,
   "metadata": {},
   "outputs": [
    {
     "name": "stdout",
     "output_type": "stream",
     "text": [
      "Max artemisinic acid flux on glucose:\t 0.83\n",
      "Yield AA/glc:\t\t 0.083 \t\tmol/mol\n",
      "Yield AA/glc:\t\t 92.628 \tmg/g\n",
      "\n",
      "Yield AA/biomass:\t 286.729 \tmol/mol\n",
      "Yield AA/biomass:\t 81980.679 \tmg/g\n",
      "\n"
     ]
    }
   ],
   "source": [
    "yield_b_glc_g = (initial_AA_flow/abs(solution.fluxes[\"EX_glc__D_e\"]))*(AA_weight/glucose_weight)\n",
    "yield_b_glc_mol = initial_AA_flow/abs(solution.fluxes[\"EX_glc__D_e\"])\n",
    "yield_b_X_g = (initial_AA_flow/abs(solution.fluxes[\"BIOMASS_SC5_notrace\"]))*(AA_weight/biomass_weight)\n",
    "yield_b_X_mol = initial_AA_flow/abs(solution.fluxes[\"BIOMASS_SC5_notrace\"])\n",
    "    \n",
    "print(\"Max artemisinic acid flux on glucose:\\t\",round(initial_AA_flow,2))\n",
    "print(\"Yield AA/glc:\\t\\t\", round(yield_b_glc_mol,3), \"\\t\\tmol/mol\")\n",
    "print(\"Yield AA/glc:\\t\\t\", round(yield_b_glc_g*1000,3), \"\\tmg/g\\n\")    \n",
    "print(\"Yield AA/biomass:\\t\", round(yield_b_X_mol,3), \"\\tmol/mol\")\n",
    "print(\"Yield AA/biomass:\\t\", round(yield_b_X_g*1000,3), \"\\tmg/g\\n\")"
   ]
  },
  {
   "cell_type": "markdown",
   "metadata": {},
   "source": [
    "Finding max production at at least 99.9 % growth flux."
   ]
  },
  {
   "cell_type": "code",
   "execution_count": 55,
   "metadata": {},
   "outputs": [
    {
     "name": "stdout",
     "output_type": "stream",
     "text": [
      "\n",
      "Investigation of maximum artemisinic acid yield with a min growth flux of 99.9 % of the max growth flux: 0.287578\n"
     ]
    }
   ],
   "source": [
    "print('\\nInvestigation of maximum artemisinic acid yield with a min growth flux of 99.9 % of the max growth flux:', round(initial_growth*0.999,6))\n",
    "iMM904.reactions.BIOMASS_SC5_notrace.bounds = initial_growth*0.999, 100\n",
    "solution = iMM904.optimize()\n",
    "AA_flow_maxgrowth = iMM904.optimize().objective_value "
   ]
  },
  {
   "cell_type": "markdown",
   "metadata": {},
   "source": [
    "Calculate yields of artemisinic acid"
   ]
  },
  {
   "cell_type": "code",
   "execution_count": 56,
   "metadata": {},
   "outputs": [],
   "source": [
    "yield_b_glc_g = (AA_flow_maxgrowth /abs(solution.fluxes[\"EX_glc__D_e\"]))*(AA_weight/glucose_weight)\n",
    "yield_b_glc_mol =AA_flow_maxgrowth /abs(solution.fluxes[\"EX_glc__D_e\"])\n",
    "yield_b_X_g = (AA_flow_maxgrowth /abs(solution.fluxes[\"BIOMASS_SC5_notrace\"]))*(AA_weight/biomass_weight)\n",
    "yield_b_X_mol = AA_flow_maxgrowth /abs(solution.fluxes[\"BIOMASS_SC5_notrace\"])"
   ]
  },
  {
   "cell_type": "markdown",
   "metadata": {},
   "source": [
    "The yields"
   ]
  },
  {
   "cell_type": "code",
   "execution_count": 57,
   "metadata": {},
   "outputs": [
    {
     "name": "stdout",
     "output_type": "stream",
     "text": [
      "Max artemisinic acid flux on glucose:\t 0.83\n",
      "Yield AA/glc:\t\t 0.000144 \tmol/mol\n",
      "Yield AA/glc:\t\t 0.161 \t\tmg/g\n",
      "\n",
      "Yield AA/biomass:\t 0.005001 \tmol/mol\n",
      "Yield AA/biomass:\t 1.43 \t\tmg/g\n"
     ]
    }
   ],
   "source": [
    "print(\"Max artemisinic acid flux on glucose:\\t\",round(initial_AA_flow,2))\n",
    "print(\"Yield AA/glc:\\t\\t\", round(yield_b_glc_mol,6), \"\\tmol/mol\")\n",
    "print(\"Yield AA/glc:\\t\\t\", round(yield_b_glc_g*1000,3), \"\\t\\tmg/g\\n\")\n",
    "print(\"Yield AA/biomass:\\t\", round(yield_b_X_mol,6), \"\\tmol/mol\")\n",
    "print(\"Yield AA/biomass:\\t\", round(yield_b_X_g*1000,3), \"\\t\\tmg/g\")"
   ]
  },
  {
   "cell_type": "code",
   "execution_count": 58,
   "metadata": {},
   "outputs": [
    {
     "name": "stdout",
     "output_type": "stream",
     "text": [
      "Maximum artemisinic acid flux:  0.0014381800197799193\n",
      "Growth rate at maximum artemisinic acid flux:  0.2875778380003134\n"
     ]
    }
   ],
   "source": [
    "with iMM904:\n",
    "    iMM904.objective = iMM904.reactions.EXT_AA \n",
    "    print(\"Maximum artemisinic acid flux: \",iMM904.optimize().objective_value)\n",
    "    solution = iMM904.optimize()\n",
    "    print(\"Growth rate at maximum artemisinic acid flux: \", solution.fluxes['BIOMASS_SC5_notrace'])"
   ]
  },
  {
   "cell_type": "markdown",
   "metadata": {},
   "source": [
    "Plotting the growthrate in relation to artemisinic acid production on glucose. "
   ]
  },
  {
   "cell_type": "code",
   "execution_count": 59,
   "metadata": {},
   "outputs": [],
   "source": [
    "with iMM904:\n",
    "    medium=iMM904.medium                             #Resets medium to standard\n",
    "    medium['EX_o2_e']= 2.0                           #Reset the oxygen level\n",
    "    iMM904.medium = medium \n",
    "    solution_growth = iMM904.slim_optimize(error_value=0.)"
   ]
  },
  {
   "cell_type": "markdown",
   "metadata": {},
   "source": [
    "Plot the relation between growth and artemisinic acid produciton "
   ]
  },
  {
   "cell_type": "code",
   "execution_count": 60,
   "metadata": {},
   "outputs": [
    {
     "name": "stdout",
     "output_type": "stream",
     "text": [
      "EX_glc__D_e plot, where x is artemisinic acid flux, y is biomass flux: \n"
     ]
    },
    {
     "data": {
      "text/plain": [
       "<Axes: xlabel='EXT_AA'>"
      ]
     },
     "execution_count": 60,
     "metadata": {},
     "output_type": "execute_result"
    },
    {
     "data": {
      "image/png": "[encoded data removed]",
      "text/plain": [
       "<Figure size 640x480 with 1 Axes>"
      ]
     },
     "metadata": {},
     "output_type": "display_data"
    }
   ],
   "source": [
    "print(\"EX_glc__D_e plot, where x is artemisinic acid flux, y is biomass flux: \")\n",
    "max_AA =production_envelope(iMM904,reactions=[iMM904.reactions.EXT_AA], objective=iMM904.reactions.BIOMASS_SC5_notrace) \n",
    "max_AA.plot(x='EXT_AA', y='flux_maximum')"
   ]
  },
  {
   "cell_type": "markdown",
   "metadata": {},
   "source": []
  },
  {
   "cell_type": "code",
   "execution_count": 61,
   "metadata": {},
   "outputs": [
    {
     "name": "stdout",
     "output_type": "stream",
     "text": [
      "\u001b[1mYield of artemisinic acid on carbon sources with higher og equal flows as from glucose:\u001b[0m\n",
      "\n",
      "The yield AA/glc on 99.9% growth flow:\t\t 0.000144 \tmol/mol\n",
      "\n"
     ]
    }
   ],
   "source": [
    "carbon_source_exchanges=[]                                    #Creates list to save carbon sources\n",
    "for exchange in iMM904.exchanges:                             #Iterate through all exchange reactions\n",
    "    for metabolite in exchange.metabolites:                   #Iterate through metabolites\n",
    "        if \"C\" in metabolite.elements:                        #Save all reactions that contains carbon\n",
    "            carbon_source_exchanges.append(exchange.id) \n",
    "\n",
    "print(\"\\033[1mYield of artemisinic acid on carbon sources with higher og equal flows as from glucose:\\033[0m\\n\")\n",
    "print(\"The yield AA/glc on 99.9% growth flow:\\t\\t\", round(yield_b_glc_mol,6), \"\\tmol/mol\\n\")"
   ]
  },
  {
   "cell_type": "markdown",
   "metadata": {},
   "source": [
    "Investigate growth rates and artemisinic acid for different carbon sources."
   ]
  },
  {
   "cell_type": "code",
   "execution_count": 62,
   "metadata": {},
   "outputs": [
    {
     "name": "stdout",
     "output_type": "stream",
     "text": [
      "\u001b[1mGrowth and production at different carbon sources: \u001b[0m\n",
      "\n"
     ]
    }
   ],
   "source": [
    "print(\"\\033[1mGrowth and production at different carbon sources: \\033[0m\\n\")\n",
    "potential_better_Csources = []                                 \n",
    "yeild_dict = dict()"
   ]
  },
  {
   "cell_type": "markdown",
   "metadata": {},
   "source": [
    "Rotatating through carbon sources to determine relevant candidates."
   ]
  },
  {
   "cell_type": "code",
   "execution_count": 63,
   "metadata": {},
   "outputs": [
    {
     "name": "stdout",
     "output_type": "stream",
     "text": [
      "D-Glucosamine 6-phosphate exchange:\n",
      "Yield AA/carbon: 0.019042 mol/mol\n",
      "Yield AA/carbon increase: 13140.54 %\n",
      "Yield AA/biomass: 0.555076 mol/mol\n",
      "Yield AA/biomass increase: 10999.274595601673 %\n",
      "\n"
     ]
    },
    {
     "name": "stderr",
     "output_type": "stream",
     "text": [
      "/Users/emillundquist/Library/Python/3.9/lib/python/site-packages/cobra/util/solver.py:554: UserWarning: Solver status is 'infeasible'.\n",
      "  warn(f\"Solver status is '{status}'.\", UserWarning)\n",
      "/Users/emillundquist/Library/Python/3.9/lib/python/site-packages/cobra/util/solver.py:554: UserWarning: Solver status is 'infeasible'.\n",
      "  warn(f\"Solver status is '{status}'.\", UserWarning)\n",
      "/Users/emillundquist/Library/Python/3.9/lib/python/site-packages/cobra/util/solver.py:554: UserWarning: Solver status is 'infeasible'.\n",
      "  warn(f\"Solver status is '{status}'.\", UserWarning)\n",
      "/Users/emillundquist/Library/Python/3.9/lib/python/site-packages/cobra/util/solver.py:554: UserWarning: Solver status is 'infeasible'.\n",
      "  warn(f\"Solver status is '{status}'.\", UserWarning)\n"
     ]
    },
    {
     "name": "stdout",
     "output_type": "stream",
     "text": [
      "There are 1 exchange reactions that can give a equal or higher growth rate and artemisinic acid production compared to glucose.\n"
     ]
    }
   ],
   "source": [
    "for i in range (0,len(carbon_source_exchanges)):               \n",
    "    with iMM904:                                       \n",
    "        #Change medium\n",
    "        medium=iMM904.medium                                               #Resets medium to standard\n",
    "        medium['EX_glc__D_e']= 0                                                 #sets glucose level to 0\n",
    "        medium[carbon_source_exchanges[i]]= 10                                   #sets level of carbon source to 10\n",
    "        iMM904.medium = medium                           \n",
    "        \n",
    "        #Save max growth floux\n",
    "        solution_growth = iMM904.slim_optimize(error_value=0.)\n",
    "\n",
    "        #growth flux equal or higher than on glucose\n",
    "        if round(solution_growth,5) >= round(initial_growth,5): \n",
    "            #Find yields of artemisinic acid at 99.9 % max growth flux\n",
    "            iMM904.reactions.BIOMASS_SC5_notrace.bounds = solution_growth*0.999, 100\n",
    "            solution = iMM904.optimize()\n",
    "            iMM904.objective = iMM904.reactions.EXT_AA               \n",
    "            solution_AA = iMM904.optimize().objective_value               \n",
    "            yield_b_carbon_mol = solution_AA /abs(solution.fluxes[carbon_source_exchanges[i]])\n",
    "            \n",
    "            #artemisinic acid yield is equal or higher than at glucose\n",
    "            if round(yield_b_carbon_mol,5) > round(yield_b_glc_mol,5):\n",
    "                #Save carbon source and caluclate yields.\n",
    "                potential_better_Csources.append(carbon_source_exchanges[i])      \n",
    "                name=iMM904.reactions.get_by_id(carbon_source_exchanges[i]) #Get reaction name\n",
    "                yield_AA_x_mol = solution_AA / abs(solution.fluxes['BIOMASS_SC5_notrace'])\n",
    "                yeild_dict[yield_AA_x_mol] = carbon_source_exchanges[i]\n",
    "                \n",
    "                #Print yields: \n",
    "                solution = iMM904.optimize()\n",
    "                print(name.name+\":\")   #print name \n",
    "                print('Yield AA/carbon:', round(yield_b_carbon_mol,6), \"mol/mol\") #mol product / mol carbon source\n",
    "                print('Yield AA/carbon increase:',round((yield_b_carbon_mol/yield_b_glc_mol)*100-100,2), \"%\")\n",
    "                print('Yield AA/biomass:', round(yield_AA_x_mol,6), \"mol/mol\") #mol product / mol biomass\n",
    "                print('Yield AA/biomass increase:', (yield_AA_x_mol/yield_b_X_mol)*100-100, \"%\\n\")\n",
    "print(\"There are \"+ str(len(potential_better_Csources)) + \" exchange reactions that can give a equal or higher growth rate and artemisinic acid production compared to glucose.\")\n"
   ]
  },
  {
   "cell_type": "markdown",
   "metadata": {},
   "source": [
    "Finding the best carbon source according to the model"
   ]
  },
  {
   "cell_type": "code",
   "execution_count": 64,
   "metadata": {},
   "outputs": [
    {
     "name": "stdout",
     "output_type": "stream",
     "text": [
      "EX_gam6p_e\n"
     ]
    },
    {
     "data": {
      "text/html": [
       "\n",
       "        <table>\n",
       "            <tr>\n",
       "                <td><strong>Metabolite identifier</strong></td><td>xtsn_e</td>\n",
       "            </tr><tr>\n",
       "                <td><strong>Name</strong></td><td>Xanthosine</td>\n",
       "            </tr><tr>\n",
       "                <td><strong>Memory address</strong></td>\n",
       "                <td>0x28af2f940</td>\n",
       "            </tr><tr>\n",
       "                <td><strong>Formula</strong></td><td>C10H12N4O6</td>\n",
       "            </tr><tr>\n",
       "                <td><strong>Compartment</strong></td><td>e</td>\n",
       "            </tr><tr>\n",
       "                <td><strong>In 2 reaction(s)</strong></td><td>\n",
       "                    XTSNt2, EX_xtsn_e\n",
       "                    </td>\n",
       "            </tr>\n",
       "        </table>"
      ],
      "text/plain": [
       "<Metabolite xtsn_e at 0x28af2f940>"
      ]
     },
     "execution_count": 64,
     "metadata": {},
     "output_type": "execute_result"
    }
   ],
   "source": [
    "import operator\n",
    "max_exchange = max(yeild_dict.items(), key=operator.itemgetter(0))[1]\n",
    "print(max_exchange)\n",
    "\n",
    "iMM904.reactions.EX_xtsn_e\n",
    "\n",
    "iMM904.metabolites.xtsn_e"
   ]
  },
  {
   "cell_type": "markdown",
   "metadata": {},
   "source": [
    "Find the max growth rate of S. cerevisiae on glucose with the standard medium settings with glucose"
   ]
  },
  {
   "cell_type": "code",
   "execution_count": 65,
   "metadata": {},
   "outputs": [
    {
     "name": "stdout",
     "output_type": "stream",
     "text": [
      "\u001b[1mMax growth and production in Xanthosine exchange:\u001b[0m\n",
      "\n",
      "Max growth flux on xtsn: 0.343 \tmmol*gDW^1*h^-1\n",
      "Yield biomass/xtsn:\t\t inf \tmol/mol\n",
      "Yield biomass/xtsn:\t\t inf mg/g\n",
      "\n",
      "Investigation of maximum artemisinic acid yield with a min growth flux of 1 % of the max growth flux: 0.003434\n",
      "Max artemisinic acid flux on xtsn:\t 1.09\n",
      "Yield AA/xtsn:\t\t inf \t\tmol/mol\n",
      "Yield AA/xtsn:\t\t inf \tmg/g\n",
      "\n",
      "Yield AA/biomass:\t 316.196 \tmol/mol\n",
      "Yield AA/biomass:\t 90405.629 \tmg/g\n",
      "\n",
      "\n",
      "Investigation of maximum artemisinic acid yield with a min growth flux of 99.9 % of the max growth flux: 0.343057\n",
      "Max artemisinic acid flux on xtsn:\t 1.09\n",
      "Yield AA/xtsn:\t\t inf \tmol/mol\n",
      "Yield AA/xtsn:\t\t inf \t\tmg/g\n",
      "\n",
      "Yield AA/biomass:\t 0.555076 \tmol/mol\n",
      "Yield AA/biomass:\t 158.705 \t\tmg/g\n"
     ]
    },
    {
     "name": "stderr",
     "output_type": "stream",
     "text": [
      "/var/folders/19/ppddxzvd2gn2d1ccsz0nt9sm0000gn/T/ipykernel_50147/681108247.py:25: RuntimeWarning: divide by zero encountered in scalar divide\n",
      "  yield_X_xtsn_g = (initial_growth/abs(solution.fluxes[\"EX_xtsn_e\"]))*(biomass_weight/gxtsn_e_weight)\n",
      "/var/folders/19/ppddxzvd2gn2d1ccsz0nt9sm0000gn/T/ipykernel_50147/681108247.py:26: RuntimeWarning: divide by zero encountered in scalar divide\n",
      "  yield_X_xtsn_mol = initial_growth/abs(solution.fluxes[\"EX_xtsn_e\"])\n",
      "/var/folders/19/ppddxzvd2gn2d1ccsz0nt9sm0000gn/T/ipykernel_50147/681108247.py:40: RuntimeWarning: divide by zero encountered in scalar divide\n",
      "  yield_b_xtsn_g = (initial_AA_flow/abs(solution.fluxes[\"EX_xtsn_e\"]))*(AA_weight/gxtsn_e_weight)\n",
      "/var/folders/19/ppddxzvd2gn2d1ccsz0nt9sm0000gn/T/ipykernel_50147/681108247.py:41: RuntimeWarning: divide by zero encountered in scalar divide\n",
      "  yield_b_xtsn_mol = initial_AA_flow/abs(solution.fluxes[\"EX_xtsn_e\"])\n",
      "/var/folders/19/ppddxzvd2gn2d1ccsz0nt9sm0000gn/T/ipykernel_50147/681108247.py:59: RuntimeWarning: divide by zero encountered in scalar divide\n",
      "  yield_b_xtsn_g = (AA_flow_maxgrowth /abs(solution.fluxes[\"EX_xtsn_e\"]))*(AA_weight/gxtsn_e_weight)\n",
      "/var/folders/19/ppddxzvd2gn2d1ccsz0nt9sm0000gn/T/ipykernel_50147/681108247.py:60: RuntimeWarning: divide by zero encountered in scalar divide\n",
      "  yield_b_xtsn_mol =AA_flow_maxgrowth /abs(solution.fluxes[\"EX_xtsn_e\"])\n"
     ]
    }
   ],
   "source": [
    "print(\"\\033[1mMax growth and production in Xanthosine exchange:\\033[0m\\n\")\n",
    "with iMM904: \n",
    "    #Change the medium to max exhcange carbon source. \n",
    "    medium=iMM904.medium                                   #Resets medium to standard\n",
    "    medium['EX_glc__D_e']= 0                               #sets glucose level to 0\n",
    "    medium[max_exchange]= 10                               #sets level of carbon source to 10\n",
    "    iMM904.medium = medium \n",
    "    \n",
    "    #Calculate weights of the metabolites\n",
    "    C = 12\n",
    "    H = 1\n",
    "    N = 14\n",
    "    O = 16\n",
    "    \n",
    "    biomass_weight = C*47.5+H*7+N*9.25 #g/mol, this is the median measurement of S. cerevisiae composition.\n",
    "    AA_weight = iMM904.metabolites.AA.elements['C']*C+iMM904.metabolites.AA.elements['H']*H #g/mol\n",
    "    gxtsn_e_weight = iMM904.metabolites.xtsn_e.elements['C']*C+iMM904.metabolites.xtsn_e.elements['H']*H+iMM904.metabolites.xtsn_e.elements['O']*O+iMM904.metabolites.xtsn_e.elements['N']*N\n",
    "    \n",
    "    \n",
    "    #Find max growth\n",
    "    solution = iMM904.optimize()\n",
    "    initial_growth = iMM904.optimize().objective_value\n",
    "    \n",
    "    #Calculate and print yields of biomass\n",
    "    yield_X_xtsn_g = (initial_growth/abs(solution.fluxes[\"EX_xtsn_e\"]))*(biomass_weight/gxtsn_e_weight)\n",
    "    yield_X_xtsn_mol = initial_growth/abs(solution.fluxes[\"EX_xtsn_e\"])\n",
    "    print(\"Max growth flux on xtsn:\",round(initial_growth,3), \"\\tmmol*gDW^1*h^-1\")\n",
    "    print(\"Yield biomass/xtsn:\\t\\t\", round(yield_X_xtsn_mol,3),\"\\tmol/mol\")\n",
    "    print(\"Yield biomass/xtsn:\\t\\t\", round(yield_X_xtsn_g*1000,3), \"mg/g\")\n",
    "    \n",
    "     #Find max production at at least 1 % growth flux.\n",
    "    iMM904.reactions.BIOMASS_SC5_notrace.bounds = initial_growth*0.01, 100\n",
    "    print('\\nInvestigation of maximum artemisinic acid yield with a min growth flux of 1 % of the max growth flux:', round(initial_growth*0.01,6))\n",
    "    #Change objective to max EXTRACTED AA and find max  artemisinic acidflux\n",
    "    iMM904.objective = iMM904.reactions.EXT_AA\n",
    "    solution = iMM904.optimize()\n",
    "    initial_AA_flow = iMM904.optimize().objective_value \n",
    "    \n",
    "    #Yield calculations of artemisinic acid at min 1% growth flux\n",
    "    yield_b_xtsn_g = (initial_AA_flow/abs(solution.fluxes[\"EX_xtsn_e\"]))*(AA_weight/gxtsn_e_weight)\n",
    "    yield_b_xtsn_mol = initial_AA_flow/abs(solution.fluxes[\"EX_xtsn_e\"])\n",
    "    yield_b_X_g = (initial_AA_flow/abs(solution.fluxes[\"BIOMASS_SC5_notrace\"]))*(AA_weight/biomass_weight)\n",
    "    yield_b_X_mol = initial_AA_flow/abs(solution.fluxes[\"BIOMASS_SC5_notrace\"])\n",
    "    \n",
    "    print(\"Max artemisinic acid flux on xtsn:\\t\",round(initial_AA_flow,2))\n",
    "    print(\"Yield AA/xtsn:\\t\\t\", round(yield_b_xtsn_mol,3), \"\\t\\tmol/mol\")\n",
    "    print(\"Yield AA/xtsn:\\t\\t\", round(yield_b_xtsn_g*1000,3), \"\\tmg/g\\n\")\n",
    "    print(\"Yield AA/biomass:\\t\", round(yield_b_X_mol,3), \"\\tmol/mol\")\n",
    "    print(\"Yield AA/biomass:\\t\", round(yield_b_X_g*1000,3), \"\\tmg/g\\n\")\n",
    "    \n",
    "    \n",
    "    #Find max production at at least 99.9 % growth flux.\n",
    "    print('\\nInvestigation of maximum artemisinic acid yield with a min growth flux of 99.9 % of the max growth flux:', round(initial_growth*0.999,6))\n",
    "    iMM904.reactions.BIOMASS_SC5_notrace.bounds = initial_growth*0.999, 100\n",
    "    solution = iMM904.optimize()\n",
    "    AA_flow_maxgrowth = iMM904.optimize().objective_value \n",
    "    \n",
    "    #Calculate yields of artemisinic acid\n",
    "    yield_b_xtsn_g = (AA_flow_maxgrowth /abs(solution.fluxes[\"EX_xtsn_e\"]))*(AA_weight/gxtsn_e_weight)\n",
    "    yield_b_xtsn_mol =AA_flow_maxgrowth /abs(solution.fluxes[\"EX_xtsn_e\"])\n",
    "    yield_b_X_g = (AA_flow_maxgrowth /abs(solution.fluxes[\"BIOMASS_SC5_notrace\"]))*(AA_weight/biomass_weight)\n",
    "    yield_b_X_mol = AA_flow_maxgrowth /abs(solution.fluxes[\"BIOMASS_SC5_notrace\"])\n",
    "    \n",
    "    #Print yieldss \n",
    "    print(\"Max artemisinic acid flux on xtsn:\\t\",round(initial_AA_flow,2))\n",
    "    print(\"Yield AA/xtsn:\\t\\t\", round(yield_b_xtsn_mol,6), \"\\tmol/mol\")\n",
    "    print(\"Yield AA/xtsn:\\t\\t\", round(yield_b_xtsn_g*1000,3), \"\\t\\tmg/g\\n\")\n",
    "    print(\"Yield AA/biomass:\\t\", round(yield_b_X_mol,6), \"\\tmol/mol\")\n",
    "    print(\"Yield AA/biomass:\\t\", round(yield_b_X_g*1000,3), \"\\t\\tmg/g\")\n"
   ]
  },
  {
   "cell_type": "markdown",
   "metadata": {},
   "source": [
    "Plotting yields"
   ]
  },
  {
   "cell_type": "code",
   "execution_count": 66,
   "metadata": {},
   "outputs": [
    {
     "name": "stdout",
     "output_type": "stream",
     "text": [
      "EX_gam6p_e plot, where x is artemisinic acid flux, y is biomass flux: \n"
     ]
    },
    {
     "data": {
      "image/png": "[encoded data removed]",
      "text/plain": [
       "<Figure size 640x480 with 1 Axes>"
      ]
     },
     "metadata": {},
     "output_type": "display_data"
    }
   ],
   "source": [
    "with iMM904:\n",
    "    #Make changes in the medium\n",
    "    medium=iMM904.medium                             #Resets medium to standard\n",
    "    medium['EX_glc__D_e']= 0                               #sets glucose level to 0\n",
    "    medium[max_exchange]= 10                               #sets level of carbon source to 10\n",
    "    iMM904.medium = medium \n",
    "    solution_growth = iMM904.slim_optimize(error_value=0.)\n",
    "\n",
    "    #Plot the relation between growth and artemisinic acid produciton \n",
    "    print(max_exchange, \"plot, where x is artemisinic acid flux, y is biomass flux: \")\n",
    "    max_AA = production_envelope(\n",
    "            iMM904,\n",
    "            reactions=[iMM904.reactions.EXT_AA],\n",
    "            objective=iMM904.reactions.BIOMASS_SC5_notrace\n",
    "            )\n",
    "    max_AA.plot(x='EXT_AA', y='flux_maximum')"
   ]
  },
  {
   "cell_type": "markdown",
   "metadata": {},
   "source": [
    "Testing yields under anaerobic conditions"
   ]
  },
  {
   "cell_type": "code",
   "execution_count": 68,
   "metadata": {},
   "outputs": [
    {
     "name": "stdout",
     "output_type": "stream",
     "text": [
      "The max growth in anaerobic conditions: nan\n",
      "The max artemisinic acid flux in anaerobic conditions: 0.0\n"
     ]
    },
    {
     "name": "stderr",
     "output_type": "stream",
     "text": [
      "/Users/emillundquist/Library/Python/3.9/lib/python/site-packages/cobra/util/solver.py:554: UserWarning: Solver status is 'infeasible'.\n",
      "  warn(f\"Solver status is '{status}'.\", UserWarning)\n"
     ]
    }
   ],
   "source": [
    "with iMM904:\n",
    "    #Remove oxygen from the medium\n",
    "    medium=iMM904.medium                             \n",
    "    medium['EX_o2_e']= 0.                               \n",
    "    iMM904.medium = medium \n",
    "    \n",
    "    #investigate the growth flux \n",
    "    growth = iMM904.slim_optimize()\n",
    "    iMM904.objective = iMM904.reactions.EXT_AA\n",
    "    artemisinic__acid =iMM904.optimize().objective_value\n",
    "    print(\"The max growth in anaerobic conditions:\", round(growth,6))\n",
    "    print(\"The max artemisinic acid flux in anaerobic conditions:\", round(artemisinic__acid,6))"
   ]
  }
 ],
 "metadata": {
  "kernelspec": {
   "display_name": "Python 3 (ipykernel)",
   "language": "python",
   "name": "python3"
  },
  "language_info": {
   "codemirror_mode": {
    "name": "ipython",
    "version": 3
   },
   "file_extension": ".py",
   "mimetype": "text/x-python",
   "name": "python",
   "nbconvert_exporter": "python",
   "pygments_lexer": "ipython3",
   "version": "3.9.6"
  }
 },
 "nbformat": 4,
 "nbformat_minor": 5
}
