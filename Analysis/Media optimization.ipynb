{
 "cells": [
  {
   "cell_type": "code",
   "execution_count": 1,
   "id": "122c1369",
   "metadata": {},
   "outputs": [
    {
     "name": "stderr",
     "output_type": "stream",
     "text": [
      "/Users/emillundquist/Library/Python/3.9/lib/python/site-packages/nbformat/__init__.py:93: MissingIDFieldWarning: Code cell is missing an id field, this will become a hard error in future nbformat versions. You may want to use `normalize()` on your notebooks before validations (available since nbformat 5.1.4). Previous versions of nbformat are fixing this issue transparently, and will stop doing so in the future.\n",
      "  validate(nb)\n"
     ]
    },
    {
     "name": "stdout",
     "output_type": "stream",
     "text": [
      "ADS: frdp_c --> AMOR + ppi_c\n",
      "CPR1_CYP71AV1: AMOR + h_c + nadph_c + o2_c --> AAOH + h2o_c + nadp_c\n",
      "ADH1: AAOH + nad_c --> AAld + h_c + nadh_c\n",
      "ALDH1: AAld + h2o_c + nadp_c --> AA + h_c + nadph_c\n"
     ]
    }
   ],
   "source": [
    "%run Model_CFE.ipynb"
   ]
  },
  {
   "cell_type": "markdown",
   "metadata": {},
   "source": [
    "Productivity calcualted using the model standard media:"
   ]
  },
  {
   "cell_type": "code",
   "execution_count": 2,
   "metadata": {},
   "outputs": [
    {
     "name": "stdout",
     "output_type": "stream",
     "text": [
      "Maximum theoretical biomass productivity: 0.2878657037040178 /h\n",
      "Maximum theoretical productivity of Aldehyde_dehydrogenase_1 reaction: 0.8333333333333346 mmol/gDW*h\n"
     ]
    }
   ],
   "source": [
    "# Make a copy of the medium dictionary\n",
    "mediumS = iMM904.medium.copy()\n",
    "with iMM904:\n",
    "    iMM904.medium = mediumS\n",
    "    # Optimize the model for maximum biomass productivity\n",
    "    solution = iMM904.optimize()\n",
    "    print('Maximum theoretical biomass productivity:', solution.fluxes['BIOMASS_SC5_notrace'], '/h')\n",
    "\n",
    "    # Change the objective function to ALDH1 and optimize again\n",
    "    iMM904.objective = iMM904.reactions.ALDH1\n",
    "    AA_production = iMM904.optimize().objective_value\n",
    "    print('Maximum theoretical productivity of Aldehyde_dehydrogenase_1 reaction:', AA_production, 'mmol/gDW*h')"
   ]
  },
  {
   "cell_type": "markdown",
   "metadata": {},
   "source": [
    "Productivity calcualted using diffrent carbon sources:"
   ]
  },
  {
   "cell_type": "markdown",
   "metadata": {},
   "source": [
    "Galactose:"
   ]
  },
  {
   "cell_type": "code",
   "execution_count": 3,
   "metadata": {},
   "outputs": [
    {
     "name": "stdout",
     "output_type": "stream",
     "text": [
      "Maximum theoretical biomass productivity: 0.2878657037040107 /h\n",
      "Maximum theoretical productivity of Aldehyde_dehydrogenase_1 reaction: 0.8333333333333313 mmol/gDW*h\n"
     ]
    }
   ],
   "source": [
    "# Make a copy of the medium dictionary\n",
    "medium0 = iMM904.medium.copy()\n",
    "\n",
    "with iMM904:\n",
    "    \n",
    "    # Modify the medium dictionary for the first set of simulations\n",
    "    medium0['EX_glc__D_e'] = 0\n",
    "    medium0['EX_gal_e'] = 10\n",
    "    iMM904.medium = medium0\n",
    "    \n",
    "    # Optimize the model for maximum biomass productivity\n",
    "    solution2 = iMM904.optimize()\n",
    "    print('Maximum theoretical biomass productivity:', solution2.fluxes['BIOMASS_SC5_notrace'], '/h')\n",
    "\n",
    "    # Change the objective function to ALDH1 and optimize again\n",
    "    iMM904.objective = iMM904.reactions.ALDH1\n",
    "    AA_production2 = iMM904.optimize().objective_value\n",
    "    print('Maximum theoretical productivity of Aldehyde_dehydrogenase_1 reaction:', AA_production2, 'mmol/gDW*h')"
   ]
  },
  {
   "cell_type": "markdown",
   "metadata": {},
   "source": [
    "Xanthosine:"
   ]
  },
  {
   "cell_type": "code",
   "execution_count": 4,
   "metadata": {},
   "outputs": [
    {
     "name": "stdout",
     "output_type": "stream",
     "text": [
      "Maximum theoretical biomass productivity: 0.3684979717761066 /h\n",
      "Maximum theoretical productivity of Aldehyde_dehydrogenase_1 reaction: 0.9798426745329538 mmol/gDW*h\n"
     ]
    }
   ],
   "source": [
    "# Make a copy of the medium dictionary\n",
    "medium1 = iMM904.medium.copy()\n",
    "\n",
    "with iMM904:\n",
    "    # Modify the medium dictionary for the second set of simulations\n",
    "    medium1['EX_glc__D_e'] = 0\n",
    "    medium1['EX_xtsn_e'] = 10\n",
    "    iMM904.medium = medium1\n",
    "    \n",
    "    # Optimize the model for maximum biomass productivity\n",
    "    solution3 = iMM904.optimize()\n",
    "    print('Maximum theoretical biomass productivity:', solution3.fluxes['BIOMASS_SC5_notrace'], '/h')\n",
    "\n",
    "    # Change the objective function to ALDH1 and optimize again\n",
    "    iMM904.objective = iMM904.reactions.ALDH1\n",
    "    AA_production3 = iMM904.optimize().objective_value\n",
    "    print('Maximum theoretical productivity of Aldehyde_dehydrogenase_1 reaction:', AA_production3, 'mmol/gDW*h')"
   ]
  },
  {
   "cell_type": "markdown",
   "metadata": {},
   "source": [
    "Guanosine:"
   ]
  },
  {
   "cell_type": "code",
   "execution_count": 5,
   "metadata": {},
   "outputs": [
    {
     "name": "stdout",
     "output_type": "stream",
     "text": [
      "Maximum theoretical biomass productivity: 0.36936259449404696 /h\n",
      "Maximum theoretical productivity of Aldehyde_dehydrogenase_1 reaction: 0.9798426745329474 mmol/gDW*h\n"
     ]
    }
   ],
   "source": [
    "# Make a copy of the medium dictionary\n",
    "medium2 = iMM904.medium.copy()\n",
    "\n",
    "with iMM904:\n",
    "    # Modify the medium dictionary for the third set of simulations\n",
    "    medium2['EX_glc__D_e'] = 0\n",
    "    medium2['EX_gsn_e'] = 10\n",
    "    iMM904.medium = medium2\n",
    "    solution4 = iMM904.optimize()\n",
    "    print('Maximum theoretical biomass productivity:', solution4.fluxes['BIOMASS_SC5_notrace'], '/h')\n",
    "\n",
    "    # Change objective and optimize\n",
    "    iMM904.objective = iMM904.reactions.ALDH1\n",
    "    AA_production4 = iMM904.optimize().objective_value\n",
    "    print('Maximum theoretical productivity of Aldehyde_dehydrogenase_1 reaction:', AA_production4, 'mmol/gDW*h')"
   ]
  },
  {
   "cell_type": "markdown",
   "metadata": {},
   "source": [
    "Succrose:"
   ]
  },
  {
   "cell_type": "code",
   "execution_count": 6,
   "metadata": {},
   "outputs": [
    {
     "name": "stdout",
     "output_type": "stream",
     "text": [
      "Maximum theoretical biomass productivity: 0.5179192885639738 /h\n",
      "Maximum theoretical productivity of Aldehyde_dehydrogenase_1 reaction: 1.4393939393938238 mmol/gDW*h\n"
     ]
    }
   ],
   "source": [
    "# Make a copy of the medium dictionary\n",
    "medium3 = iMM904.medium.copy()\n",
    "\n",
    "# Optimize and print results for the first set of simulations\n",
    "with iMM904:\n",
    "    # Modify the medium dictionary for the fourth set of simulations\n",
    "    medium3['EX_glc__D_e'] = 0\n",
    "    medium3['EX_sucr_e'] = 10\n",
    "    iMM904.medium = medium3\n",
    "    solution5 = iMM904.optimize()\n",
    "    print('Maximum theoretical biomass productivity:', solution5.fluxes['BIOMASS_SC5_notrace'], '/h')\n",
    "\n",
    "    # Change objective and optimize\n",
    "    iMM904.objective = iMM904.reactions.ALDH1\n",
    "    AA_production5 = iMM904.optimize().objective_value\n",
    "    print('Maximum theoretical productivity of Aldehyde_dehydrogenase_1 reaction:', AA_production5, 'mmol/gDW*h')\n",
    "\n"
   ]
  },
  {
   "cell_type": "markdown",
   "metadata": {},
   "source": [
    "Trehalose:"
   ]
  },
  {
   "cell_type": "code",
   "execution_count": 7,
   "metadata": {},
   "outputs": [
    {
     "name": "stdout",
     "output_type": "stream",
     "text": [
      "Maximum theoretical biomass productivity: 0.5183216751536776 /h\n",
      "Maximum theoretical productivity of Aldehyde_dehydrogenase_1 reaction: 1.4393939393939634 mmol/gDW*h\n"
     ]
    }
   ],
   "source": [
    "# Make a copy of the medium dictionary\n",
    "medium4 = iMM904.medium.copy()\n",
    "\n",
    "# Optimize and print results for the second set of simulations\n",
    "with iMM904:\n",
    "    # Modify the medium dictionary for the fifth set of simulations\n",
    "    medium4['EX_glc__D_e'] = 0\n",
    "    medium4['EX_tre_e'] = 10\n",
    "    iMM904.medium = medium4\n",
    "    solution6 = iMM904.optimize()\n",
    "    print('Maximum theoretical biomass productivity:', solution6.fluxes['BIOMASS_SC5_notrace'], '/h')\n",
    "\n",
    "    # Change objective and optimize\n",
    "    iMM904.objective = iMM904.reactions.ALDH1\n",
    "    AA_production6 = iMM904.optimize().objective_value\n",
    "    print('Maximum theoretical productivity of Aldehyde_dehydrogenase_1 reaction:', AA_production6, 'mmol/gDW*h')"
   ]
  },
  {
   "cell_type": "code",
   "execution_count": 8,
   "metadata": {},
   "outputs": [
    {
     "name": "stdout",
     "output_type": "stream",
     "text": [
      "Maximum theoretical biomass productivity: 0.7683044232397639 /h\n",
      "Maximum theoretical productivity of Aldehyde_dehydrogenase_1 reaction: 2.0 mmol/gDW*h\n"
     ]
    }
   ],
   "source": [
    "# Make a copy of the medium dictionary\n",
    "YEPDmedium = iMM904.medium.copy()\n",
    "\n",
    "# Optimize the model for maximum biomass productivity\n",
    "with iMM904:\n",
    "    # Define YEPDmedium\n",
    "    YEPDmedium[\"EX_glc__D_e\"] = 20\n",
    "    YEPDmedium['EX_ala__L_e'] = 10\n",
    "    YEPDmedium['EX_arg__L_e'] = 10\n",
    "    YEPDmedium['EX_asp__L_e'] = 10\n",
    "    YEPDmedium['EX_cys__L_e'] = 10\n",
    "    YEPDmedium['EX_glu__L_e'] = 10\n",
    "    YEPDmedium['EX_gly_e'] = 10\n",
    "    YEPDmedium['EX_his__L_e'] = 10\n",
    "    YEPDmedium['EX_ile__L_e'] = 10\n",
    "    YEPDmedium['EX_leu__L_e'] = 10\n",
    "    YEPDmedium['EX_lys__L_e'] = 10\n",
    "    YEPDmedium['EX_met__L_e'] = 10\n",
    "    YEPDmedium['EX_phe__L_e'] = 10\n",
    "    YEPDmedium['EX_pro__L_e'] = 10\n",
    "    YEPDmedium['EX_ser__L_e'] = 10\n",
    "    YEPDmedium['EX_thr__L_e'] = 10\n",
    "    YEPDmedium['EX_trp__L_e'] = 10\n",
    "    YEPDmedium['EX_tyr__L_e'] = 10\n",
    "    YEPDmedium['EX_val__L_e'] = 10\n",
    "    YEPDmedium['EX_fe2_e'] = 10\n",
    "    # Set YEPDmedium as the medium for the model\n",
    "    iMM904.medium = YEPDmedium\n",
    "    solutionY = iMM904.optimize()\n",
    "    print('Maximum theoretical biomass productivity:', solutionY.fluxes['BIOMASS_SC5_notrace'], '/h')\n",
    "\n",
    "    # Change the objective function to ALDH1 and optimize again\n",
    "    iMM904.objective = iMM904.reactions.ALDH1\n",
    "    AA_productionY = iMM904.optimize().objective_value\n",
    "    print('Maximum theoretical productivity of Aldehyde_dehydrogenase_1 reaction:', AA_productionY, 'mmol/gDW*h')\n"
   ]
  }
 ],
 "metadata": {
  "kernelspec": {
   "display_name": "Python 3 (ipykernel)",
   "language": "python",
   "name": "python3"
  },
  "language_info": {
   "codemirror_mode": {
    "name": "ipython",
    "version": 3
   },
   "file_extension": ".py",
   "mimetype": "text/x-python",
   "name": "python",
   "nbconvert_exporter": "python",
   "pygments_lexer": "ipython3",
   "version": "3.9.6"
  }
 },
 "nbformat": 4,
 "nbformat_minor": 5
}
