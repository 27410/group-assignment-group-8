{
 "cells": [
  {
   "cell_type": "code",
   "execution_count": 4,
   "id": "122c1369",
   "metadata": {},
   "outputs": [
    {
     "ename": "OSError",
     "evalue": "The file with 'data/iMM904.xml' does not exist, or is not an SBML string. Provide the path to an existing SBML file or a valid SBML string representation:\n",
     "output_type": "error",
     "traceback": [
      "\u001b[0;31m---------------------------------------------------------------------------\u001b[0m",
      "\u001b[0;31mOSError\u001b[0m                                   Traceback (most recent call last)",
      "File \u001b[0;32m~/github-classroom/27410/group-assignment-group-8/Analysis/Model_CFE.py:19\u001b[0m\n\u001b[1;32m     16\u001b[0m \u001b[39mfrom\u001b[39;00m \u001b[39mcobra\u001b[39;00m \u001b[39mimport\u001b[39;00m Reaction, Metabolite\n\u001b[1;32m     18\u001b[0m \u001b[39m#Reading the model\u001b[39;00m\n\u001b[0;32m---> 19\u001b[0m iMM904\u001b[39m=\u001b[39mread_sbml_model(\u001b[39m\"\u001b[39;49m\u001b[39mdata/iMM904.xml\u001b[39;49m\u001b[39m\"\u001b[39;49m)\n\u001b[1;32m     21\u001b[0m \u001b[39m#Adding the metabolites from the heterologous \u001b[39;00m\n\u001b[1;32m     22\u001b[0m \n\u001b[1;32m     23\u001b[0m \u001b[39m#AMOR =amorphadiene\u001b[39;00m\n\u001b[1;32m     24\u001b[0m amorphadiene \u001b[39m=\u001b[39m Metabolite(\u001b[39mid\u001b[39m \u001b[39m=\u001b[39m \u001b[39m'\u001b[39m\u001b[39mAMOR\u001b[39m\u001b[39m'\u001b[39m, compartment\u001b[39m=\u001b[39m\u001b[39m'\u001b[39m\u001b[39mc\u001b[39m\u001b[39m'\u001b[39m, name\u001b[39m=\u001b[39m\u001b[39m'\u001b[39m\u001b[39mamorphadiene\u001b[39m\u001b[39m'\u001b[39m, formula\u001b[39m=\u001b[39m\u001b[39m'\u001b[39m\u001b[39mC15H24\u001b[39m\u001b[39m'\u001b[39m)\n",
      "File \u001b[0;32m~/Library/Python/3.9/lib/python/site-packages/cobra/io/sbml.py:460\u001b[0m, in \u001b[0;36mread_sbml_model\u001b[0;34m(filename, number, f_replace, **kwargs)\u001b[0m\n\u001b[1;32m    458\u001b[0m     \u001b[39mreturn\u001b[39;00m _sbml_to_model(doc, number\u001b[39m=\u001b[39mnumber, f_replace\u001b[39m=\u001b[39mf_replace, \u001b[39m*\u001b[39m\u001b[39m*\u001b[39mkwargs)\n\u001b[1;32m    459\u001b[0m \u001b[39mexcept\u001b[39;00m \u001b[39mIOError\u001b[39;00m \u001b[39mas\u001b[39;00m e:\n\u001b[0;32m--> 460\u001b[0m     \u001b[39mraise\u001b[39;00m e\n\u001b[1;32m    462\u001b[0m \u001b[39mexcept\u001b[39;00m \u001b[39mException\u001b[39;00m \u001b[39mas\u001b[39;00m original_error:\n\u001b[1;32m    463\u001b[0m     cobra_error \u001b[39m=\u001b[39m CobraSBMLError(\n\u001b[1;32m    464\u001b[0m         \u001b[39m\"\u001b[39m\u001b[39mSomething went wrong reading the SBML model. Most likely the SBML\u001b[39m\u001b[39m\"\u001b[39m\n\u001b[1;32m    465\u001b[0m         \u001b[39m\"\u001b[39m\u001b[39m model is not valid. Please check that your model is valid using \u001b[39m\u001b[39m\"\u001b[39m\n\u001b[0;32m   (...)\u001b[0m\n\u001b[1;32m    470\u001b[0m         \u001b[39m\"\u001b[39m\u001b[39mat https://github.com/opencobra/cobrapy/issues .\u001b[39m\u001b[39m\"\u001b[39m\n\u001b[1;32m    471\u001b[0m     )\n",
      "File \u001b[0;32m~/Library/Python/3.9/lib/python/site-packages/cobra/io/sbml.py:457\u001b[0m, in \u001b[0;36mread_sbml_model\u001b[0;34m(filename, number, f_replace, **kwargs)\u001b[0m\n\u001b[1;32m    402\u001b[0m \u001b[39m\u001b[39m\u001b[39m\"\"\"Read SBML model from given filename.\u001b[39;00m\n\u001b[1;32m    403\u001b[0m \n\u001b[1;32m    404\u001b[0m \u001b[39mIf the given filename ends with the suffix ''.gz'' (for example,\u001b[39;00m\n\u001b[0;32m   (...)\u001b[0m\n\u001b[1;32m    454\u001b[0m \u001b[39mFile handles to compressed files are not supported yet.\u001b[39;00m\n\u001b[1;32m    455\u001b[0m \u001b[39m\"\"\"\u001b[39;00m\n\u001b[1;32m    456\u001b[0m \u001b[39mtry\u001b[39;00m:\n\u001b[0;32m--> 457\u001b[0m     doc \u001b[39m=\u001b[39m _get_doc_from_filename(filename)\n\u001b[1;32m    458\u001b[0m     \u001b[39mreturn\u001b[39;00m _sbml_to_model(doc, number\u001b[39m=\u001b[39mnumber, f_replace\u001b[39m=\u001b[39mf_replace, \u001b[39m*\u001b[39m\u001b[39m*\u001b[39mkwargs)\n\u001b[1;32m    459\u001b[0m \u001b[39mexcept\u001b[39;00m \u001b[39mIOError\u001b[39;00m \u001b[39mas\u001b[39;00m e:\n",
      "File \u001b[0;32m~/Library/Python/3.9/lib/python/site-packages/cobra/io/sbml.py:504\u001b[0m, in \u001b[0;36m_get_doc_from_filename\u001b[0;34m(filename)\u001b[0m\n\u001b[1;32m    501\u001b[0m         doc: libsbml\u001b[39m.\u001b[39mSBMLDocument \u001b[39m=\u001b[39m libsbml\u001b[39m.\u001b[39mreadSBMLFromFile(filename)\n\u001b[1;32m    502\u001b[0m     \u001b[39melse\u001b[39;00m:\n\u001b[1;32m    503\u001b[0m         \u001b[39m# string representation\u001b[39;00m\n\u001b[0;32m--> 504\u001b[0m         \u001b[39mraise\u001b[39;00m \u001b[39mIOError\u001b[39;00m(\n\u001b[1;32m    505\u001b[0m             \u001b[39mf\u001b[39m\u001b[39m\"\u001b[39m\u001b[39mThe file with \u001b[39m\u001b[39m'\u001b[39m\u001b[39m{\u001b[39;00mfilename\u001b[39m}\u001b[39;00m\u001b[39m'\u001b[39m\u001b[39m does not exist, \u001b[39m\u001b[39m\"\u001b[39m\n\u001b[1;32m    506\u001b[0m             \u001b[39mf\u001b[39m\u001b[39m\"\u001b[39m\u001b[39mor is not an SBML string. Provide the path to \u001b[39m\u001b[39m\"\u001b[39m\n\u001b[1;32m    507\u001b[0m             \u001b[39mf\u001b[39m\u001b[39m\"\u001b[39m\u001b[39man existing SBML file or a valid SBML string representation:\u001b[39m\u001b[39m\\n\u001b[39;00m\u001b[39m\"\u001b[39m\n\u001b[1;32m    508\u001b[0m         )\n\u001b[1;32m    509\u001b[0m \u001b[39melif\u001b[39;00m \u001b[39mhasattr\u001b[39m(filename, \u001b[39m\"\u001b[39m\u001b[39mread\u001b[39m\u001b[39m\"\u001b[39m):\n\u001b[1;32m    510\u001b[0m     \u001b[39m# file handle\u001b[39;00m\n\u001b[1;32m    511\u001b[0m     doc: libsbml\u001b[39m.\u001b[39mSBMLDocument \u001b[39m=\u001b[39m libsbml\u001b[39m.\u001b[39mreadSBMLFromString(filename\u001b[39m.\u001b[39mread())\n",
      "\u001b[0;31mOSError\u001b[0m: The file with 'data/iMM904.xml' does not exist, or is not an SBML string. Provide the path to an existing SBML file or a valid SBML string representation:\n"
     ]
    }
   ],
   "source": [
    "%run Model_CFE.py"
   ]
  },
  {
   "cell_type": "code",
   "execution_count": 3,
   "metadata": {},
   "outputs": [
    {
     "name": "stdout",
     "output_type": "stream",
     "text": [
      "Defaulting to user installation because normal site-packages is not writeable\n",
      "Collecting cobra\n",
      "  Downloading cobra-0.29.0-py2.py3-none-any.whl (1.2 MB)\n",
      "\u001b[K     |████████████████████████████████| 1.2 MB 6.2 MB/s eta 0:00:01\n",
      "\u001b[?25hCollecting pydantic>=1.6\n",
      "  Downloading pydantic-2.4.2-py3-none-any.whl (395 kB)\n",
      "\u001b[K     |████████████████████████████████| 395 kB 8.7 MB/s eta 0:00:01\n",
      "\u001b[?25hCollecting appdirs~=1.4\n",
      "  Downloading appdirs-1.4.4-py2.py3-none-any.whl (9.6 kB)\n",
      "Collecting importlib-resources\n",
      "  Downloading importlib_resources-6.1.1-py3-none-any.whl (33 kB)\n",
      "Collecting ruamel.yaml~=0.16\n",
      "  Downloading ruamel.yaml-0.18.5-py3-none-any.whl (116 kB)\n",
      "\u001b[K     |████████████████████████████████| 116 kB 9.9 MB/s eta 0:00:01\n",
      "\u001b[?25hCollecting rich>=8.0\n",
      "  Downloading rich-13.6.0-py3-none-any.whl (239 kB)\n",
      "\u001b[K     |████████████████████████████████| 239 kB 9.6 MB/s eta 0:00:01\n",
      "\u001b[?25hCollecting httpx~=0.24\n",
      "  Downloading httpx-0.25.1-py3-none-any.whl (75 kB)\n",
      "\u001b[K     |████████████████████████████████| 75 kB 8.5 MB/s  eta 0:00:01\n",
      "\u001b[?25hRequirement already satisfied: future in /Library/Developer/CommandLineTools/Library/Frameworks/Python3.framework/Versions/3.9/lib/python3.9/site-packages (from cobra) (0.18.2)\n",
      "Collecting python-libsbml~=5.19\n",
      "  Downloading python_libsbml-5.20.2-cp39-cp39-macosx_11_0_arm64.whl (5.7 MB)\n",
      "\u001b[K     |████████████████████████████████| 5.7 MB 8.1 MB/s eta 0:00:01\n",
      "\u001b[?25hCollecting pandas<3.0,>=1.0\n",
      "  Downloading pandas-2.1.2-cp39-cp39-macosx_11_0_arm64.whl (11.0 MB)\n",
      "\u001b[K     |████████████████████████████████| 11.0 MB 8.3 MB/s eta 0:00:01\n",
      "\u001b[?25hCollecting optlang~=1.8\n",
      "  Downloading optlang-1.8.1-py2.py3-none-any.whl (142 kB)\n",
      "\u001b[K     |████████████████████████████████| 142 kB 9.8 MB/s eta 0:00:01\n",
      "\u001b[?25hCollecting swiglpk\n",
      "  Downloading swiglpk-5.0.8-cp39-cp39-macosx_11_0_arm64.whl (737 kB)\n",
      "\u001b[K     |████████████████████████████████| 737 kB 9.8 MB/s eta 0:00:01\n",
      "\u001b[?25hCollecting depinfo~=2.2\n",
      "  Downloading depinfo-2.2.0-py3-none-any.whl (24 kB)\n",
      "Collecting diskcache~=5.0\n",
      "  Using cached diskcache-5.6.3-py3-none-any.whl (45 kB)\n",
      "Collecting numpy>=1.13\n",
      "  Downloading numpy-1.26.1-cp39-cp39-macosx_11_0_arm64.whl (14.0 MB)\n",
      "\u001b[K     |████████████████████████████████| 14.0 MB 9.3 MB/s eta 0:00:01\n",
      "\u001b[?25hCollecting idna\n",
      "  Downloading idna-3.4-py3-none-any.whl (61 kB)\n",
      "\u001b[K     |████████████████████████████████| 61 kB 836 kB/s eta 0:00:01\n",
      "\u001b[?25hCollecting certifi\n",
      "  Downloading certifi-2023.7.22-py3-none-any.whl (158 kB)\n",
      "\u001b[K     |████████████████████████████████| 158 kB 9.6 MB/s eta 0:00:01\n",
      "\u001b[?25hCollecting httpcore\n",
      "  Downloading httpcore-1.0.2-py3-none-any.whl (76 kB)\n",
      "\u001b[K     |████████████████████████████████| 76 kB 8.5 MB/s eta 0:00:01\n",
      "\u001b[?25hCollecting sniffio\n",
      "  Downloading sniffio-1.3.0-py3-none-any.whl (10 kB)\n",
      "Collecting anyio\n",
      "  Downloading anyio-4.0.0-py3-none-any.whl (83 kB)\n",
      "\u001b[K     |████████████████████████████████| 83 kB 6.1 MB/s eta 0:00:01\n",
      "\u001b[?25hCollecting sympy>=1.12.0\n",
      "  Using cached sympy-1.12-py3-none-any.whl (5.7 MB)\n",
      "Requirement already satisfied: six>=1.9 in /Library/Developer/CommandLineTools/Library/Frameworks/Python3.framework/Versions/3.9/lib/python3.9/site-packages (from optlang~=1.8->cobra) (1.15.0)\n",
      "Collecting tzdata>=2022.1\n",
      "  Downloading tzdata-2023.3-py2.py3-none-any.whl (341 kB)\n",
      "\u001b[K     |████████████████████████████████| 341 kB 9.8 MB/s eta 0:00:01\n",
      "\u001b[?25hCollecting pytz>=2020.1\n",
      "  Downloading pytz-2023.3.post1-py2.py3-none-any.whl (502 kB)\n",
      "\u001b[K     |████████████████████████████████| 502 kB 8.7 MB/s eta 0:00:01\n",
      "\u001b[?25hRequirement already satisfied: python-dateutil>=2.8.2 in /Users/emillundquist/Library/Python/3.9/lib/python/site-packages (from pandas<3.0,>=1.0->cobra) (2.8.2)\n",
      "Collecting annotated-types>=0.4.0\n",
      "  Downloading annotated_types-0.6.0-py3-none-any.whl (12 kB)\n",
      "Collecting pydantic-core==2.10.1\n",
      "  Downloading pydantic_core-2.10.1-cp39-cp39-macosx_11_0_arm64.whl (1.7 MB)\n",
      "\u001b[K     |████████████████████████████████| 1.7 MB 8.7 MB/s eta 0:00:01\n",
      "\u001b[?25hRequirement already satisfied: typing-extensions>=4.6.1 in /Users/emillundquist/Library/Python/3.9/lib/python/site-packages (from pydantic>=1.6->cobra) (4.8.0)\n",
      "Requirement already satisfied: pygments<3.0.0,>=2.13.0 in /Users/emillundquist/Library/Python/3.9/lib/python/site-packages (from rich>=8.0->cobra) (2.16.1)\n",
      "Collecting markdown-it-py>=2.2.0\n",
      "  Downloading markdown_it_py-3.0.0-py3-none-any.whl (87 kB)\n",
      "\u001b[K     |████████████████████████████████| 87 kB 9.4 MB/s  eta 0:00:01\n",
      "\u001b[?25hCollecting mdurl~=0.1\n",
      "  Downloading mdurl-0.1.2-py3-none-any.whl (10.0 kB)\n",
      "Collecting ruamel.yaml.clib>=0.2.7\n",
      "  Downloading ruamel.yaml.clib-0.2.8-cp39-cp39-macosx_12_0_arm64.whl (134 kB)\n",
      "\u001b[K     |████████████████████████████████| 134 kB 9.3 MB/s eta 0:00:01\n",
      "\u001b[?25hCollecting mpmath>=0.19\n",
      "  Downloading mpmath-1.3.0-py3-none-any.whl (536 kB)\n",
      "\u001b[K     |████████████████████████████████| 536 kB 9.4 MB/s eta 0:00:01\n",
      "\u001b[?25hRequirement already satisfied: exceptiongroup>=1.0.2 in /Users/emillundquist/Library/Python/3.9/lib/python/site-packages (from anyio->httpx~=0.24->cobra) (1.1.3)\n",
      "Collecting h11<0.15,>=0.13\n",
      "  Using cached h11-0.14.0-py3-none-any.whl (58 kB)\n",
      "Requirement already satisfied: zipp>=3.1.0 in /Users/emillundquist/Library/Python/3.9/lib/python/site-packages (from importlib-resources->cobra) (3.17.0)\n",
      "Installing collected packages: sniffio, mpmath, mdurl, idna, h11, certifi, tzdata, sympy, swiglpk, ruamel.yaml.clib, pytz, pydantic-core, numpy, markdown-it-py, httpcore, anyio, annotated-types, ruamel.yaml, rich, python-libsbml, pydantic, pandas, optlang, importlib-resources, httpx, diskcache, depinfo, appdirs, cobra\n",
      "Successfully installed annotated-types-0.6.0 anyio-4.0.0 appdirs-1.4.4 certifi-2023.7.22 cobra-0.29.0 depinfo-2.2.0 diskcache-5.6.3 h11-0.14.0 httpcore-1.0.2 httpx-0.25.1 idna-3.4 importlib-resources-6.1.1 markdown-it-py-3.0.0 mdurl-0.1.2 mpmath-1.3.0 numpy-1.26.1 optlang-1.8.1 pandas-2.1.2 pydantic-2.4.2 pydantic-core-2.10.1 python-libsbml-5.20.2 pytz-2023.3.post1 rich-13.6.0 ruamel.yaml-0.18.5 ruamel.yaml.clib-0.2.8 sniffio-1.3.0 swiglpk-5.0.8 sympy-1.12 tzdata-2023.3\n",
      "\u001b[33mWARNING: You are using pip version 21.2.4; however, version 23.3.1 is available.\n",
      "You should consider upgrading via the '/Library/Developer/CommandLineTools/usr/bin/python3 -m pip install --upgrade pip' command.\u001b[0m\n",
      "Note: you may need to restart the kernel to use updated packages.\n"
     ]
    }
   ],
   "source": [
    "pip install cobra "
   ]
  }
 ],
 "metadata": {
  "kernelspec": {
   "display_name": "Python 3 (ipykernel)",
   "language": "python",
   "name": "python3"
  },
  "language_info": {
   "codemirror_mode": {
    "name": "ipython",
    "version": 3
   },
   "file_extension": ".py",
   "mimetype": "text/x-python",
   "name": "python",
   "nbconvert_exporter": "python",
   "pygments_lexer": "ipython3",
   "version": "3.9.6"
  }
 },
 "nbformat": 4,
 "nbformat_minor": 5
}
