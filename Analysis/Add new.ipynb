{
 "cells": [
  {
   "cell_type": "code",
   "execution_count": 2,
   "id": "122c1369",
   "metadata": {},
   "outputs": [
    {
     "name": "stdout",
     "output_type": "stream",
     "text": [
      "ADS: frdp_c --> AMOR + ppi_c\n",
      "CPR1_CYP71AV1: AMOR + h_c + nadph_c + o2_c --> AAOH + h2o_c + nadp_c\n",
      "ADH1: AAOH + nad_c --> AAld + h_c + nadh_c\n",
      "ALDH1: AAld + h2o_c + nadp_c --> AA + h_c + nadph_c\n"
     ]
    }
   ],
   "source": [
    "%run Model_CFE.py"
   ]
  },
  {
   "cell_type": "code",
   "execution_count": 4,
   "metadata": {},
   "outputs": [
    {
     "name": "stdout",
     "output_type": "stream",
     "text": [
      "Requirement already satisfied: nbformat in c:\\users\\driton\\anaconda3\\lib\\site-packages (5.1.3)Note: you may need to restart the kernel to use updated packages.\n",
      "Requirement already satisfied: jsonschema!=2.5.0,>=2.4 in c:\\users\\driton\\anaconda3\\lib\\site-packages (from nbformat) (3.2.0)\n",
      "Requirement already satisfied: traitlets>=4.1 in c:\\users\\driton\\anaconda3\\lib\\site-packages (from nbformat) (5.0.5)\n",
      "Requirement already satisfied: jupyter-core in c:\\users\\driton\\anaconda3\\lib\\site-packages (from nbformat) (4.7.1)\n",
      "Requirement already satisfied: ipython-genutils in c:\\users\\driton\\anaconda3\\lib\\site-packages (from nbformat) (0.2.0)\n",
      "Requirement already satisfied: setuptools in c:\\users\\driton\\appdata\\roaming\\python\\python38\\site-packages (from jsonschema!=2.5.0,>=2.4->nbformat) (68.2.2)\n",
      "Requirement already satisfied: attrs>=17.4.0 in c:\\users\\driton\\anaconda3\\lib\\site-packages (from jsonschema!=2.5.0,>=2.4->nbformat) (20.3.0)\n",
      "Requirement already satisfied: pyrsistent>=0.14.0 in c:\\users\\driton\\anaconda3\\lib\\site-packages (from jsonschema!=2.5.0,>=2.4->nbformat) (0.17.3)\n",
      "Requirement already satisfied: six>=1.11.0 in c:\\users\\driton\\anaconda3\\lib\\site-packages (from jsonschema!=2.5.0,>=2.4->nbformat) (1.15.0)\n",
      "Requirement already satisfied: pywin32>=1.0 in c:\\users\\driton\\anaconda3\\lib\\site-packages (from jupyter-core->nbformat) (227)\n",
      "\n"
     ]
    }
   ],
   "source": [
    "pip install nbformat"
   ]
  }
 ],
 "metadata": {
  "kernelspec": {
   "display_name": "Python 3 (ipykernel)",
   "language": "python",
   "name": "python3"
  },
  "language_info": {
   "codemirror_mode": {
    "name": "ipython",
    "version": 3
   },
   "file_extension": ".py",
   "mimetype": "text/x-python",
   "name": "python",
   "nbconvert_exporter": "python",
   "pygments_lexer": "ipython3",
   "version": "3.8.8"
  }
 },
 "nbformat": 4,
 "nbformat_minor": 5
}
