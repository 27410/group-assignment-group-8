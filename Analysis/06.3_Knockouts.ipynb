{
 "cells": [
  {
   "cell_type": "code",
   "execution_count": 1,
   "id": "122c1369",
   "metadata": {},
   "outputs": [
    {
     "name": "stdout",
     "output_type": "stream",
     "text": [
      "ADS: frdp_c --> AMOR + ppi_c\n",
      "CPR1_CYP71AV1: AMOR + h_c + nadph_c + o2_c --> AAOH + h2o_c + nadp_c\n",
      "ADH1: AAOH + nad_c --> AAld + h_c + nadh_c\n",
      "ALDH1: AAld + h2o_c + nadp_c --> AA + h_c + nadph_c\n"
     ]
    }
   ],
   "source": [
    "%run 01_Model_CFE.ipynb"
   ]
  },
  {
   "cell_type": "markdown",
   "metadata": {},
   "source": [
    "Knocking out the genes for different model simmulations\n",
    "\n",
    "Knockout for HEX1"
   ]
  },
  {
   "cell_type": "code",
   "execution_count": 2,
   "metadata": {},
   "outputs": [
    {
     "data": {
      "text/html": [
       "\n",
       "        <table>\n",
       "            <tr>\n",
       "                <td><strong>Reaction identifier</strong></td><td>HEX1</td>\n",
       "            </tr><tr>\n",
       "                <td><strong>Name</strong></td><td>Hexokinase (D-glucose:ATP)</td>\n",
       "            </tr><tr>\n",
       "                <td><strong>Memory address</strong></td>\n",
       "                <td>0x0162076ef760</td>\n",
       "            </tr><tr>\n",
       "                <td><strong>Stoichiometry</strong></td>\n",
       "                <td>\n",
       "                    <p style='text-align:right'>atp_c + glc__D_c --> adp_c + g6p_c + h_c</p>\n",
       "                    <p style='text-align:right'>ATP C10H12N5O13P3 + D-Glucose --> ADP C10H12N5O10P2 + D-Glucose 6-phosphate + H+</p>\n",
       "                </td>\n",
       "            </tr><tr>\n",
       "                <td><strong>GPR</strong></td><td>YFR053C or YGL253W or YCL040W</td>\n",
       "            </tr><tr>\n",
       "                <td><strong>Lower bound</strong></td><td>0.0</td>\n",
       "            </tr><tr>\n",
       "                <td><strong>Upper bound</strong></td><td>999999.0</td>\n",
       "            </tr>\n",
       "        </table>\n",
       "        "
      ],
      "text/plain": [
       "<Reaction HEX1 at 0x162076ef760>"
      ]
     },
     "execution_count": 2,
     "metadata": {},
     "output_type": "execute_result"
    }
   ],
   "source": [
    "iMM904.reactions.HEX1"
   ]
  },
  {
   "cell_type": "code",
   "execution_count": 3,
   "metadata": {},
   "outputs": [
    {
     "data": {
      "text/html": [
       "\n",
       "        <table>\n",
       "            <tr>\n",
       "                <td><strong>Reaction identifier</strong></td><td>HEX1</td>\n",
       "            </tr><tr>\n",
       "                <td><strong>Name</strong></td><td>Hexokinase (D-glucose:ATP)</td>\n",
       "            </tr><tr>\n",
       "                <td><strong>Memory address</strong></td>\n",
       "                <td>0x016207e742e0</td>\n",
       "            </tr><tr>\n",
       "                <td><strong>Stoichiometry</strong></td>\n",
       "                <td>\n",
       "                    <p style='text-align:right'>atp_c + glc__D_c --> adp_c + g6p_c + h_c</p>\n",
       "                    <p style='text-align:right'>ATP C10H12N5O13P3 + D-Glucose --> ADP C10H12N5O10P2 + D-Glucose 6-phosphate + H+</p>\n",
       "                </td>\n",
       "            </tr><tr>\n",
       "                <td><strong>GPR</strong></td><td>YFR053C or YGL253W or YCL040W</td>\n",
       "            </tr><tr>\n",
       "                <td><strong>Lower bound</strong></td><td>0</td>\n",
       "            </tr><tr>\n",
       "                <td><strong>Upper bound</strong></td><td>0</td>\n",
       "            </tr>\n",
       "        </table>\n",
       "        "
      ],
      "text/plain": [
       "<Reaction HEX1 at 0x16207e742e0>"
      ]
     },
     "execution_count": 3,
     "metadata": {},
     "output_type": "execute_result"
    }
   ],
   "source": [
    "iMM904_Manual_ko_1=iMM904.copy()\n",
    "#changing source to sucrose\n",
    "medium01 = iMM904_Manual_ko_1.medium\n",
    "medium01['EX_sucr_e'] = 10\n",
    "medium01['EX_glc__D_e'] = 0\n",
    "iMM904_Manual_ko_1.medium = medium01\n",
    "#knocing out the specific gene\n",
    "iMM904_Manual_ko_1.reactions.HEX1.knock_out()\n",
    "\n",
    "iMM904_Manual_ko_1.reactions.HEX1"
   ]
  },
  {
   "cell_type": "code",
   "execution_count": null,
   "metadata": {},
   "outputs": [],
   "source": []
  },
  {
   "cell_type": "code",
   "execution_count": 4,
   "metadata": {},
   "outputs": [
    {
     "name": "stdout",
     "output_type": "stream",
     "text": [
      "Maximum AA productivity =  1.4393939393939388 mmol/gDW*h\n",
      "Maximum theoretical yield is =  0.14393939393939387 mmol/gDW*h\n"
     ]
    }
   ],
   "source": [
    "with iMM904_Manual_ko_1:\n",
    "    iMM904_Manual_ko_1.reactions.HEX1.knock_out()\n",
    "    iMM904_Manual_ko_1.objective = iMM904_Manual_ko_1.reactions.ALDH1\n",
    "    \n",
    "    AA_max_production = iMM904_Manual_ko_1.optimize().objective_value\n",
    "    print(\"Maximum AA productivity = \",AA_max_production , \"mmol/gDW*h\")\n",
    "\n",
    "    sucrose_uptake_flux = iMM904_Manual_ko_1.reactions.EX_sucr_e.flux #Glucose exchange reaction\n",
    "    max_yield = AA_max_production/ (-1*sucrose_uptake_flux)\n",
    "    print(\"Maximum theoretical yield is = \", max_yield, \"mmol/gDW*h\")"
   ]
  },
  {
   "cell_type": "markdown",
   "metadata": {},
   "source": [
    "Knockout for SBTR"
   ]
  },
  {
   "cell_type": "code",
   "execution_count": 5,
   "metadata": {},
   "outputs": [
    {
     "data": {
      "text/html": [
       "\n",
       "        <table>\n",
       "            <tr>\n",
       "                <td><strong>Reaction identifier</strong></td><td>SBTR</td>\n",
       "            </tr><tr>\n",
       "                <td><strong>Name</strong></td><td>D sorbitol reductase</td>\n",
       "            </tr><tr>\n",
       "                <td><strong>Memory address</strong></td>\n",
       "                <td>0x0162062b9670</td>\n",
       "            </tr><tr>\n",
       "                <td><strong>Stoichiometry</strong></td>\n",
       "                <td>\n",
       "                    <p style='text-align:right'>glc__D_c + h_c + nadph_c --> nadp_c + sbt__D_c</p>\n",
       "                    <p style='text-align:right'>D-Glucose + H+ + Nicotinamide adenine dinucleotide phosphate - reduced --> Nicotinamide adenine dinucleotide phosphate + D-Sorbitol</p>\n",
       "                </td>\n",
       "            </tr><tr>\n",
       "                <td><strong>GPR</strong></td><td>YHR104W</td>\n",
       "            </tr><tr>\n",
       "                <td><strong>Lower bound</strong></td><td>0.0</td>\n",
       "            </tr><tr>\n",
       "                <td><strong>Upper bound</strong></td><td>999999.0</td>\n",
       "            </tr>\n",
       "        </table>\n",
       "        "
      ],
      "text/plain": [
       "<Reaction SBTR at 0x162062b9670>"
      ]
     },
     "execution_count": 5,
     "metadata": {},
     "output_type": "execute_result"
    }
   ],
   "source": [
    "iMM904.reactions.SBTR"
   ]
  },
  {
   "cell_type": "code",
   "execution_count": 6,
   "metadata": {},
   "outputs": [
    {
     "data": {
      "text/html": [
       "\n",
       "        <table>\n",
       "            <tr>\n",
       "                <td><strong>Reaction identifier</strong></td><td>SBTR</td>\n",
       "            </tr><tr>\n",
       "                <td><strong>Name</strong></td><td>D sorbitol reductase</td>\n",
       "            </tr><tr>\n",
       "                <td><strong>Memory address</strong></td>\n",
       "                <td>0x01620870ab80</td>\n",
       "            </tr><tr>\n",
       "                <td><strong>Stoichiometry</strong></td>\n",
       "                <td>\n",
       "                    <p style='text-align:right'>glc__D_c + h_c + nadph_c --> nadp_c + sbt__D_c</p>\n",
       "                    <p style='text-align:right'>D-Glucose + H+ + Nicotinamide adenine dinucleotide phosphate - reduced --> Nicotinamide adenine dinucleotide phosphate + D-Sorbitol</p>\n",
       "                </td>\n",
       "            </tr><tr>\n",
       "                <td><strong>GPR</strong></td><td>YHR104W</td>\n",
       "            </tr><tr>\n",
       "                <td><strong>Lower bound</strong></td><td>0</td>\n",
       "            </tr><tr>\n",
       "                <td><strong>Upper bound</strong></td><td>0</td>\n",
       "            </tr>\n",
       "        </table>\n",
       "        "
      ],
      "text/plain": [
       "<Reaction SBTR at 0x1620870ab80>"
      ]
     },
     "execution_count": 6,
     "metadata": {},
     "output_type": "execute_result"
    }
   ],
   "source": [
    "iMM904_Manual_ko_2=iMM904.copy()\n",
    "#changing source to sucrose\n",
    "medium02 = iMM904_Manual_ko_2.medium\n",
    "medium02['EX_sucr_e'] = 10\n",
    "medium02['EX_glc__D_e'] = 0\n",
    "iMM904_Manual_ko_2.medium = medium02\n",
    "#knocing out the specific gene\n",
    "iMM904_Manual_ko_2.reactions.SBTR.knock_out()\n",
    "\n",
    "iMM904_Manual_ko_2.reactions.SBTR"
   ]
  },
  {
   "cell_type": "code",
   "execution_count": 7,
   "metadata": {},
   "outputs": [
    {
     "name": "stdout",
     "output_type": "stream",
     "text": [
      "Maximum AA productivity =  1.4393939393939403 mmol/gDW*h\n",
      "Maximum theoretical yield is =  0.14393939393939403 mmol/gDW*h\n"
     ]
    },
    {
     "ename": "ContainerAlreadyContains",
     "evalue": "Container '<optlang.container.Container object at 0x000001620618A490>' already contains an object with name 'BIOMASS_SC5_notrace'.",
     "output_type": "error",
     "traceback": [
      "\u001b[1;31m---------------------------------------------------------------------------\u001b[0m",
      "\u001b[1;31mContainerAlreadyContains\u001b[0m                  Traceback (most recent call last)",
      "\u001b[1;32m<ipython-input-7-d68d8630aa54>\u001b[0m in \u001b[0;36m<module>\u001b[1;34m\u001b[0m\n\u001b[0;32m      8\u001b[0m     \u001b[0msucrose_uptake_flux\u001b[0m \u001b[1;33m=\u001b[0m \u001b[0miMM904_Manual_ko_2\u001b[0m\u001b[1;33m.\u001b[0m\u001b[0mreactions\u001b[0m\u001b[1;33m.\u001b[0m\u001b[0mEX_sucr_e\u001b[0m\u001b[1;33m.\u001b[0m\u001b[0mflux\u001b[0m \u001b[1;31m#Glucose exchange reaction\u001b[0m\u001b[1;33m\u001b[0m\u001b[1;33m\u001b[0m\u001b[0m\n\u001b[0;32m      9\u001b[0m     \u001b[0mmax_yield\u001b[0m \u001b[1;33m=\u001b[0m \u001b[0mAA_max_production\u001b[0m\u001b[1;33m/\u001b[0m \u001b[1;33m(\u001b[0m\u001b[1;33m-\u001b[0m\u001b[1;36m1\u001b[0m\u001b[1;33m*\u001b[0m\u001b[0msucrose_uptake_flux\u001b[0m\u001b[1;33m)\u001b[0m\u001b[1;33m\u001b[0m\u001b[1;33m\u001b[0m\u001b[0m\n\u001b[1;32m---> 10\u001b[1;33m     \u001b[0mprint\u001b[0m\u001b[1;33m(\u001b[0m\u001b[1;34m\"Maximum theoretical yield is = \"\u001b[0m\u001b[1;33m,\u001b[0m \u001b[0mmax_yield\u001b[0m\u001b[1;33m,\u001b[0m \u001b[1;34m\"mmol/gDW*h\"\u001b[0m\u001b[1;33m)\u001b[0m\u001b[1;33m\u001b[0m\u001b[1;33m\u001b[0m\u001b[0m\n\u001b[0m",
      "\u001b[1;32mc:\\Users\\Driton\\anaconda3\\lib\\site-packages\\cobra\\core\\model.py\u001b[0m in \u001b[0;36m__exit__\u001b[1;34m(self, type, value, traceback)\u001b[0m\n\u001b[0;32m   1244\u001b[0m         \u001b[1;34m\"\"\"Pop the top context manager and trigger the undo functions\"\"\"\u001b[0m\u001b[1;33m\u001b[0m\u001b[1;33m\u001b[0m\u001b[0m\n\u001b[0;32m   1245\u001b[0m         \u001b[0mcontext\u001b[0m \u001b[1;33m=\u001b[0m \u001b[0mself\u001b[0m\u001b[1;33m.\u001b[0m\u001b[0m_contexts\u001b[0m\u001b[1;33m.\u001b[0m\u001b[0mpop\u001b[0m\u001b[1;33m(\u001b[0m\u001b[1;33m)\u001b[0m\u001b[1;33m\u001b[0m\u001b[1;33m\u001b[0m\u001b[0m\n\u001b[1;32m-> 1246\u001b[1;33m         \u001b[0mcontext\u001b[0m\u001b[1;33m.\u001b[0m\u001b[0mreset\u001b[0m\u001b[1;33m(\u001b[0m\u001b[1;33m)\u001b[0m\u001b[1;33m\u001b[0m\u001b[1;33m\u001b[0m\u001b[0m\n\u001b[0m\u001b[0;32m   1247\u001b[0m \u001b[1;33m\u001b[0m\u001b[0m\n\u001b[0;32m   1248\u001b[0m     \u001b[1;32mdef\u001b[0m \u001b[0mmerge\u001b[0m\u001b[1;33m(\u001b[0m\u001b[0mself\u001b[0m\u001b[1;33m,\u001b[0m \u001b[0mright\u001b[0m\u001b[1;33m,\u001b[0m \u001b[0mprefix_existing\u001b[0m\u001b[1;33m=\u001b[0m\u001b[1;32mNone\u001b[0m\u001b[1;33m,\u001b[0m \u001b[0minplace\u001b[0m\u001b[1;33m=\u001b[0m\u001b[1;32mTrue\u001b[0m\u001b[1;33m,\u001b[0m \u001b[0mobjective\u001b[0m\u001b[1;33m=\u001b[0m\u001b[1;34m\"left\"\u001b[0m\u001b[1;33m)\u001b[0m\u001b[1;33m:\u001b[0m\u001b[1;33m\u001b[0m\u001b[1;33m\u001b[0m\u001b[0m\n",
      "\u001b[1;32mc:\\Users\\Driton\\anaconda3\\lib\\site-packages\\cobra\\util\\context.py\u001b[0m in \u001b[0;36mreset\u001b[1;34m(self)\u001b[0m\n\u001b[0;32m     40\u001b[0m         \u001b[1;32mwhile\u001b[0m \u001b[0mself\u001b[0m\u001b[1;33m.\u001b[0m\u001b[0m_history\u001b[0m\u001b[1;33m:\u001b[0m\u001b[1;33m\u001b[0m\u001b[1;33m\u001b[0m\u001b[0m\n\u001b[0;32m     41\u001b[0m             \u001b[0mentry\u001b[0m \u001b[1;33m=\u001b[0m \u001b[0mself\u001b[0m\u001b[1;33m.\u001b[0m\u001b[0m_history\u001b[0m\u001b[1;33m.\u001b[0m\u001b[0mpop\u001b[0m\u001b[1;33m(\u001b[0m\u001b[1;33m)\u001b[0m\u001b[1;33m\u001b[0m\u001b[1;33m\u001b[0m\u001b[0m\n\u001b[1;32m---> 42\u001b[1;33m             \u001b[0mentry\u001b[0m\u001b[1;33m(\u001b[0m\u001b[1;33m)\u001b[0m\u001b[1;33m\u001b[0m\u001b[1;33m\u001b[0m\u001b[0m\n\u001b[0m\u001b[0;32m     43\u001b[0m \u001b[1;33m\u001b[0m\u001b[0m\n\u001b[0;32m     44\u001b[0m     \u001b[1;32mdef\u001b[0m \u001b[0msize\u001b[0m\u001b[1;33m(\u001b[0m\u001b[0mself\u001b[0m\u001b[1;33m)\u001b[0m \u001b[1;33m->\u001b[0m \u001b[0mint\u001b[0m\u001b[1;33m:\u001b[0m\u001b[1;33m\u001b[0m\u001b[1;33m\u001b[0m\u001b[0m\n",
      "\u001b[1;32mc:\\Users\\Driton\\anaconda3\\lib\\site-packages\\cobra\\util\\solver.py\u001b[0m in \u001b[0;36mreset\u001b[1;34m()\u001b[0m\n\u001b[0;32m    202\u001b[0m \u001b[1;33m\u001b[0m\u001b[0m\n\u001b[0;32m    203\u001b[0m         \u001b[1;32mdef\u001b[0m \u001b[0mreset\u001b[0m\u001b[1;33m(\u001b[0m\u001b[1;33m)\u001b[0m\u001b[1;33m:\u001b[0m\u001b[1;33m\u001b[0m\u001b[1;33m\u001b[0m\u001b[0m\n\u001b[1;32m--> 204\u001b[1;33m             \u001b[0mmodel\u001b[0m\u001b[1;33m.\u001b[0m\u001b[0msolver\u001b[0m\u001b[1;33m.\u001b[0m\u001b[0mobjective\u001b[0m \u001b[1;33m=\u001b[0m \u001b[0mreverse_value\u001b[0m\u001b[1;33m\u001b[0m\u001b[1;33m\u001b[0m\u001b[0m\n\u001b[0m\u001b[0;32m    205\u001b[0m             \u001b[0mmodel\u001b[0m\u001b[1;33m.\u001b[0m\u001b[0msolver\u001b[0m\u001b[1;33m.\u001b[0m\u001b[0mobjective\u001b[0m\u001b[1;33m.\u001b[0m\u001b[0mdirection\u001b[0m \u001b[1;33m=\u001b[0m \u001b[0mreverse_value\u001b[0m\u001b[1;33m.\u001b[0m\u001b[0mdirection\u001b[0m\u001b[1;33m\u001b[0m\u001b[1;33m\u001b[0m\u001b[0m\n\u001b[0;32m    206\u001b[0m \u001b[1;33m\u001b[0m\u001b[0m\n",
      "\u001b[1;32mc:\\Users\\Driton\\anaconda3\\lib\\site-packages\\optlang\\glpk_interface.py\u001b[0m in \u001b[0;36mobjective\u001b[1;34m(self, value)\u001b[0m\n\u001b[0;32m    621\u001b[0m                 \u001b[1;32mif\u001b[0m \u001b[0mvariable\u001b[0m\u001b[1;33m.\u001b[0m\u001b[0m_index\u001b[0m \u001b[1;32mis\u001b[0m \u001b[1;32mnot\u001b[0m \u001b[1;32mNone\u001b[0m\u001b[1;33m:\u001b[0m\u001b[1;33m\u001b[0m\u001b[1;33m\u001b[0m\u001b[0m\n\u001b[0;32m    622\u001b[0m                     \u001b[0mglp_set_obj_coef\u001b[0m\u001b[1;33m(\u001b[0m\u001b[0mself\u001b[0m\u001b[1;33m.\u001b[0m\u001b[0mproblem\u001b[0m\u001b[1;33m,\u001b[0m \u001b[0mvariable\u001b[0m\u001b[1;33m.\u001b[0m\u001b[0m_index\u001b[0m\u001b[1;33m,\u001b[0m \u001b[1;36m0.\u001b[0m\u001b[1;33m)\u001b[0m\u001b[1;33m\u001b[0m\u001b[1;33m\u001b[0m\u001b[0m\n\u001b[1;32m--> 623\u001b[1;33m         \u001b[0msuper\u001b[0m\u001b[1;33m(\u001b[0m\u001b[0mModel\u001b[0m\u001b[1;33m,\u001b[0m \u001b[0mself\u001b[0m\u001b[1;33m.\u001b[0m\u001b[0m__class__\u001b[0m\u001b[1;33m)\u001b[0m\u001b[1;33m.\u001b[0m\u001b[0mobjective\u001b[0m\u001b[1;33m.\u001b[0m\u001b[0mfset\u001b[0m\u001b[1;33m(\u001b[0m\u001b[0mself\u001b[0m\u001b[1;33m,\u001b[0m \u001b[0mvalue\u001b[0m\u001b[1;33m)\u001b[0m\u001b[1;33m\u001b[0m\u001b[1;33m\u001b[0m\u001b[0m\n\u001b[0m\u001b[0;32m    624\u001b[0m         \u001b[0mself\u001b[0m\u001b[1;33m.\u001b[0m\u001b[0mupdate\u001b[0m\u001b[1;33m(\u001b[0m\u001b[1;33m)\u001b[0m\u001b[1;33m\u001b[0m\u001b[1;33m\u001b[0m\u001b[0m\n\u001b[0;32m    625\u001b[0m \u001b[1;33m\u001b[0m\u001b[0m\n",
      "\u001b[1;32mc:\\Users\\Driton\\anaconda3\\lib\\site-packages\\optlang\\interface.py\u001b[0m in \u001b[0;36mobjective\u001b[1;34m(self, value)\u001b[0m\n\u001b[0;32m   1192\u001b[0m             \u001b[1;32mif\u001b[0m \u001b[0misinstance\u001b[0m\u001b[1;33m(\u001b[0m\u001b[0matom\u001b[0m\u001b[1;33m,\u001b[0m \u001b[0mVariable\u001b[0m\u001b[1;33m)\u001b[0m \u001b[1;32mand\u001b[0m \u001b[1;33m(\u001b[0m\u001b[0matom\u001b[0m\u001b[1;33m.\u001b[0m\u001b[0mproblem\u001b[0m \u001b[1;32mis\u001b[0m \u001b[1;32mNone\u001b[0m \u001b[1;32mor\u001b[0m \u001b[0matom\u001b[0m\u001b[1;33m.\u001b[0m\u001b[0mproblem\u001b[0m \u001b[1;33m!=\u001b[0m \u001b[0mself\u001b[0m\u001b[1;33m)\u001b[0m\u001b[1;33m:\u001b[0m\u001b[1;33m\u001b[0m\u001b[1;33m\u001b[0m\u001b[0m\n\u001b[0;32m   1193\u001b[0m                 \u001b[0mself\u001b[0m\u001b[1;33m.\u001b[0m\u001b[0m_pending_modifications\u001b[0m\u001b[1;33m.\u001b[0m\u001b[0madd_var\u001b[0m\u001b[1;33m.\u001b[0m\u001b[0mappend\u001b[0m\u001b[1;33m(\u001b[0m\u001b[0matom\u001b[0m\u001b[1;33m)\u001b[0m\u001b[1;33m\u001b[0m\u001b[1;33m\u001b[0m\u001b[0m\n\u001b[1;32m-> 1194\u001b[1;33m         \u001b[0mself\u001b[0m\u001b[1;33m.\u001b[0m\u001b[0mupdate\u001b[0m\u001b[1;33m(\u001b[0m\u001b[1;33m)\u001b[0m\u001b[1;33m\u001b[0m\u001b[1;33m\u001b[0m\u001b[0m\n\u001b[0m\u001b[0;32m   1195\u001b[0m         \u001b[1;32mif\u001b[0m \u001b[0mself\u001b[0m\u001b[1;33m.\u001b[0m\u001b[0m_objective\u001b[0m \u001b[1;32mis\u001b[0m \u001b[1;32mnot\u001b[0m \u001b[1;32mNone\u001b[0m\u001b[1;33m:\u001b[0m\u001b[1;33m\u001b[0m\u001b[1;33m\u001b[0m\u001b[0m\n\u001b[0;32m   1196\u001b[0m             \u001b[0mself\u001b[0m\u001b[1;33m.\u001b[0m\u001b[0m_objective\u001b[0m\u001b[1;33m.\u001b[0m\u001b[0mproblem\u001b[0m \u001b[1;33m=\u001b[0m \u001b[1;32mNone\u001b[0m\u001b[1;33m\u001b[0m\u001b[1;33m\u001b[0m\u001b[0m\n",
      "\u001b[1;32mc:\\Users\\Driton\\anaconda3\\lib\\site-packages\\optlang\\interface.py\u001b[0m in \u001b[0;36mupdate\u001b[1;34m(self, callback)\u001b[0m\n\u001b[0;32m   1420\u001b[0m         \u001b[0madd_var\u001b[0m \u001b[1;33m=\u001b[0m \u001b[0mself\u001b[0m\u001b[1;33m.\u001b[0m\u001b[0m_pending_modifications\u001b[0m\u001b[1;33m.\u001b[0m\u001b[0madd_var\u001b[0m\u001b[1;33m\u001b[0m\u001b[1;33m\u001b[0m\u001b[0m\n\u001b[0;32m   1421\u001b[0m         \u001b[1;32mif\u001b[0m \u001b[0mlen\u001b[0m\u001b[1;33m(\u001b[0m\u001b[0madd_var\u001b[0m\u001b[1;33m)\u001b[0m \u001b[1;33m>\u001b[0m \u001b[1;36m0\u001b[0m\u001b[1;33m:\u001b[0m\u001b[1;33m\u001b[0m\u001b[1;33m\u001b[0m\u001b[0m\n\u001b[1;32m-> 1422\u001b[1;33m             \u001b[0mself\u001b[0m\u001b[1;33m.\u001b[0m\u001b[0m_add_variables\u001b[0m\u001b[1;33m(\u001b[0m\u001b[0madd_var\u001b[0m\u001b[1;33m)\u001b[0m\u001b[1;33m\u001b[0m\u001b[1;33m\u001b[0m\u001b[0m\n\u001b[0m\u001b[0;32m   1423\u001b[0m             \u001b[0mself\u001b[0m\u001b[1;33m.\u001b[0m\u001b[0m_pending_modifications\u001b[0m\u001b[1;33m.\u001b[0m\u001b[0madd_var\u001b[0m \u001b[1;33m=\u001b[0m \u001b[1;33m[\u001b[0m\u001b[1;33m]\u001b[0m\u001b[1;33m\u001b[0m\u001b[1;33m\u001b[0m\u001b[0m\n\u001b[0;32m   1424\u001b[0m         \u001b[0mcallback\u001b[0m\u001b[1;33m(\u001b[0m\u001b[1;33m)\u001b[0m\u001b[1;33m\u001b[0m\u001b[1;33m\u001b[0m\u001b[0m\n",
      "\u001b[1;32mc:\\Users\\Driton\\anaconda3\\lib\\site-packages\\optlang\\glpk_interface.py\u001b[0m in \u001b[0;36m_add_variables\u001b[1;34m(self, variables)\u001b[0m\n\u001b[0;32m    730\u001b[0m             \u001b[0mself\u001b[0m\u001b[1;33m.\u001b[0m\u001b[0m_glpk_set_col_bounds\u001b[0m\u001b[1;33m(\u001b[0m\u001b[0mvariable\u001b[0m\u001b[1;33m)\u001b[0m\u001b[1;33m\u001b[0m\u001b[1;33m\u001b[0m\u001b[0m\n\u001b[0;32m    731\u001b[0m             \u001b[0mglp_set_col_kind\u001b[0m\u001b[1;33m(\u001b[0m\u001b[0mself\u001b[0m\u001b[1;33m.\u001b[0m\u001b[0mproblem\u001b[0m\u001b[1;33m,\u001b[0m \u001b[0mvariable\u001b[0m\u001b[1;33m.\u001b[0m\u001b[0m_index\u001b[0m\u001b[1;33m,\u001b[0m \u001b[0m_VTYPE_TO_GLPK_VTYPE\u001b[0m\u001b[1;33m[\u001b[0m\u001b[0mvariable\u001b[0m\u001b[1;33m.\u001b[0m\u001b[0mtype\u001b[0m\u001b[1;33m]\u001b[0m\u001b[1;33m)\u001b[0m\u001b[1;33m\u001b[0m\u001b[1;33m\u001b[0m\u001b[0m\n\u001b[1;32m--> 732\u001b[1;33m         \u001b[0msuper\u001b[0m\u001b[1;33m(\u001b[0m\u001b[0mModel\u001b[0m\u001b[1;33m,\u001b[0m \u001b[0mself\u001b[0m\u001b[1;33m)\u001b[0m\u001b[1;33m.\u001b[0m\u001b[0m_add_variables\u001b[0m\u001b[1;33m(\u001b[0m\u001b[0mvariables\u001b[0m\u001b[1;33m)\u001b[0m\u001b[1;33m\u001b[0m\u001b[1;33m\u001b[0m\u001b[0m\n\u001b[0m\u001b[0;32m    733\u001b[0m \u001b[1;33m\u001b[0m\u001b[0m\n\u001b[0;32m    734\u001b[0m     \u001b[1;32mdef\u001b[0m \u001b[0m_remove_variables\u001b[0m\u001b[1;33m(\u001b[0m\u001b[0mself\u001b[0m\u001b[1;33m,\u001b[0m \u001b[0mvariables\u001b[0m\u001b[1;33m)\u001b[0m\u001b[1;33m:\u001b[0m\u001b[1;33m\u001b[0m\u001b[1;33m\u001b[0m\u001b[0m\n",
      "\u001b[1;32mc:\\Users\\Driton\\anaconda3\\lib\\site-packages\\optlang\\interface.py\u001b[0m in \u001b[0;36m_add_variables\u001b[1;34m(self, variables)\u001b[0m\n\u001b[0;32m   1489\u001b[0m     \u001b[1;32mdef\u001b[0m \u001b[0m_add_variables\u001b[0m\u001b[1;33m(\u001b[0m\u001b[0mself\u001b[0m\u001b[1;33m,\u001b[0m \u001b[0mvariables\u001b[0m\u001b[1;33m)\u001b[0m\u001b[1;33m:\u001b[0m\u001b[1;33m\u001b[0m\u001b[1;33m\u001b[0m\u001b[0m\n\u001b[0;32m   1490\u001b[0m         \u001b[1;32mfor\u001b[0m \u001b[0mvariable\u001b[0m \u001b[1;32min\u001b[0m \u001b[0mvariables\u001b[0m\u001b[1;33m:\u001b[0m\u001b[1;33m\u001b[0m\u001b[1;33m\u001b[0m\u001b[0m\n\u001b[1;32m-> 1491\u001b[1;33m             \u001b[0mself\u001b[0m\u001b[1;33m.\u001b[0m\u001b[0m_variables\u001b[0m\u001b[1;33m.\u001b[0m\u001b[0mappend\u001b[0m\u001b[1;33m(\u001b[0m\u001b[0mvariable\u001b[0m\u001b[1;33m)\u001b[0m\u001b[1;33m\u001b[0m\u001b[1;33m\u001b[0m\u001b[0m\n\u001b[0m\u001b[0;32m   1492\u001b[0m             \u001b[0mself\u001b[0m\u001b[1;33m.\u001b[0m\u001b[0m_variables_to_constraints_mapping\u001b[0m\u001b[1;33m[\u001b[0m\u001b[0mvariable\u001b[0m\u001b[1;33m.\u001b[0m\u001b[0mname\u001b[0m\u001b[1;33m]\u001b[0m \u001b[1;33m=\u001b[0m \u001b[0mset\u001b[0m\u001b[1;33m(\u001b[0m\u001b[1;33m[\u001b[0m\u001b[1;33m]\u001b[0m\u001b[1;33m)\u001b[0m\u001b[1;33m\u001b[0m\u001b[1;33m\u001b[0m\u001b[0m\n\u001b[0;32m   1493\u001b[0m             \u001b[0mvariable\u001b[0m\u001b[1;33m.\u001b[0m\u001b[0mproblem\u001b[0m \u001b[1;33m=\u001b[0m \u001b[0mself\u001b[0m\u001b[1;33m\u001b[0m\u001b[1;33m\u001b[0m\u001b[0m\n",
      "\u001b[1;32mc:\\Users\\Driton\\anaconda3\\lib\\site-packages\\optlang\\container.py\u001b[0m in \u001b[0;36mappend\u001b[1;34m(self, value)\u001b[0m\n\u001b[0;32m    170\u001b[0m         \u001b[0mname\u001b[0m \u001b[1;33m=\u001b[0m \u001b[0mvalue\u001b[0m\u001b[1;33m.\u001b[0m\u001b[0mname\u001b[0m\u001b[1;33m\u001b[0m\u001b[1;33m\u001b[0m\u001b[0m\n\u001b[0;32m    171\u001b[0m         \u001b[1;32mif\u001b[0m \u001b[0mname\u001b[0m \u001b[1;32min\u001b[0m \u001b[0mself\u001b[0m\u001b[1;33m.\u001b[0m\u001b[0m_dict\u001b[0m\u001b[1;33m:\u001b[0m\u001b[1;33m\u001b[0m\u001b[1;33m\u001b[0m\u001b[0m\n\u001b[1;32m--> 172\u001b[1;33m             \u001b[1;32mraise\u001b[0m \u001b[0mContainerAlreadyContains\u001b[0m\u001b[1;33m(\u001b[0m\u001b[1;34m\"Container '%s' already contains an object with name '%s'.\"\u001b[0m \u001b[1;33m%\u001b[0m \u001b[1;33m(\u001b[0m\u001b[0mself\u001b[0m\u001b[1;33m,\u001b[0m \u001b[0mvalue\u001b[0m\u001b[1;33m.\u001b[0m\u001b[0mname\u001b[0m\u001b[1;33m)\u001b[0m\u001b[1;33m)\u001b[0m\u001b[1;33m\u001b[0m\u001b[1;33m\u001b[0m\u001b[0m\n\u001b[0m\u001b[0;32m    173\u001b[0m         \u001b[0mself\u001b[0m\u001b[1;33m.\u001b[0m\u001b[0m_indices\u001b[0m\u001b[1;33m[\u001b[0m\u001b[0mname\u001b[0m\u001b[1;33m]\u001b[0m \u001b[1;33m=\u001b[0m \u001b[0mlen\u001b[0m\u001b[1;33m(\u001b[0m\u001b[0mself\u001b[0m\u001b[1;33m)\u001b[0m\u001b[1;33m\u001b[0m\u001b[1;33m\u001b[0m\u001b[0m\n\u001b[0;32m    174\u001b[0m         \u001b[0mself\u001b[0m\u001b[1;33m.\u001b[0m\u001b[0m_object_list\u001b[0m\u001b[1;33m.\u001b[0m\u001b[0mappend\u001b[0m\u001b[1;33m(\u001b[0m\u001b[0mvalue\u001b[0m\u001b[1;33m)\u001b[0m\u001b[1;33m\u001b[0m\u001b[1;33m\u001b[0m\u001b[0m\n",
      "\u001b[1;31mContainerAlreadyContains\u001b[0m: Container '<optlang.container.Container object at 0x000001620618A490>' already contains an object with name 'BIOMASS_SC5_notrace'."
     ]
    }
   ],
   "source": [
    "with iMM904_Manual_ko_2:\n",
    "    iMM904_Manual_ko_2.reactions.SBTR.knock_out()\n",
    "    iMM904_Manual_ko_2.objective = iMM904_Manual_ko_2.reactions.ALDH1\n",
    "    \n",
    "    AA_max_production = iMM904_Manual_ko_2.optimize().objective_value\n",
    "    print(\"Maximum AA productivity = \",AA_max_production , \"mmol/gDW*h\")\n",
    "\n",
    "    sucrose_uptake_flux = iMM904_Manual_ko_2.reactions.EX_sucr_e.flux #Glucose exchange reaction\n",
    "    max_yield = AA_max_production/ (-1*sucrose_uptake_flux)\n",
    "    print(\"Maximum theoretical yield is = \", max_yield, \"mmol/gDW*h\")"
   ]
  },
  {
   "cell_type": "markdown",
   "metadata": {},
   "source": [
    "Knocking out SBTD_D2"
   ]
  },
  {
   "cell_type": "code",
   "execution_count": null,
   "metadata": {},
   "outputs": [
    {
     "data": {
      "text/html": [
       "\n",
       "        <table>\n",
       "            <tr>\n",
       "                <td><strong>Reaction identifier</strong></td><td>SBTD_D2</td>\n",
       "            </tr><tr>\n",
       "                <td><strong>Name</strong></td><td>D sorbitol dehydrogenase D fructose producing</td>\n",
       "            </tr><tr>\n",
       "                <td><strong>Memory address</strong></td>\n",
       "                <td>0x026fa63d7848</td>\n",
       "            </tr><tr>\n",
       "                <td><strong>Stoichiometry</strong></td>\n",
       "                <td>\n",
       "                    <p style='text-align:right'>nad_c + sbt__D_c --> fru_c + h_c + nadh_c</p>\n",
       "                    <p style='text-align:right'>Nicotinamide adenine dinucleotide + D-Sorbitol --> D-Fructose + H+ + Nicotinamide adenine dinucleotide - reduced</p>\n",
       "                </td>\n",
       "            </tr><tr>\n",
       "                <td><strong>GPR</strong></td><td>YJR159W</td>\n",
       "            </tr><tr>\n",
       "                <td><strong>Lower bound</strong></td><td>0.0</td>\n",
       "            </tr><tr>\n",
       "                <td><strong>Upper bound</strong></td><td>999999.0</td>\n",
       "            </tr>\n",
       "        </table>\n",
       "        "
      ],
      "text/plain": [
       "<Reaction SBTD_D2 at 0x26fa63d7848>"
      ]
     },
     "execution_count": 8,
     "metadata": {},
     "output_type": "execute_result"
    }
   ],
   "source": [
    "iMM904.reactions.SBTD_D2"
   ]
  },
  {
   "cell_type": "code",
   "execution_count": null,
   "metadata": {},
   "outputs": [
    {
     "data": {
      "text/html": [
       "\n",
       "        <table>\n",
       "            <tr>\n",
       "                <td><strong>Reaction identifier</strong></td><td>SBTD_D2</td>\n",
       "            </tr><tr>\n",
       "                <td><strong>Name</strong></td><td>D sorbitol dehydrogenase D fructose producing</td>\n",
       "            </tr><tr>\n",
       "                <td><strong>Memory address</strong></td>\n",
       "                <td>0x026fa76b9488</td>\n",
       "            </tr><tr>\n",
       "                <td><strong>Stoichiometry</strong></td>\n",
       "                <td>\n",
       "                    <p style='text-align:right'>nad_c + sbt__D_c --> fru_c + h_c + nadh_c</p>\n",
       "                    <p style='text-align:right'>Nicotinamide adenine dinucleotide + D-Sorbitol --> D-Fructose + H+ + Nicotinamide adenine dinucleotide - reduced</p>\n",
       "                </td>\n",
       "            </tr><tr>\n",
       "                <td><strong>GPR</strong></td><td>YJR159W</td>\n",
       "            </tr><tr>\n",
       "                <td><strong>Lower bound</strong></td><td>0</td>\n",
       "            </tr><tr>\n",
       "                <td><strong>Upper bound</strong></td><td>0</td>\n",
       "            </tr>\n",
       "        </table>\n",
       "        "
      ],
      "text/plain": [
       "<Reaction SBTD_D2 at 0x26fa76b9488>"
      ]
     },
     "execution_count": 9,
     "metadata": {},
     "output_type": "execute_result"
    }
   ],
   "source": [
    "iMM904_Manual_ko_3=iMM904.copy()\n",
    "#changing source to sucrose\n",
    "medium03 = iMM904_Manual_ko_3.medium\n",
    "medium03['EX_sucr_e'] = 10\n",
    "medium03['EX_glc__D_e'] = 0\n",
    "iMM904_Manual_ko_3.medium = medium03\n",
    "#knocing out the specific gene\n",
    "iMM904_Manual_ko_3.reactions.SBTD_D2.knock_out()\n",
    "\n",
    "iMM904_Manual_ko_3.reactions.SBTD_D2"
   ]
  },
  {
   "cell_type": "code",
   "execution_count": null,
   "metadata": {},
   "outputs": [
    {
     "name": "stdout",
     "output_type": "stream",
     "text": [
      "Maximum AA productivity =  1.439393939393937 mmol/gDW*h\n",
      "Maximum theoretical yield is =  0.1439393939393937 mmol/gDW*h\n"
     ]
    }
   ],
   "source": [
    "with iMM904_Manual_ko_3:\n",
    "    iMM904_Manual_ko_3.reactions.SBTD_D2.knock_out()\n",
    "    iMM904_Manual_ko_3.objective = iMM904_Manual_ko_3.reactions.ALDH1\n",
    "    \n",
    "    AA_max_production = iMM904_Manual_ko_3.optimize().objective_value\n",
    "    print(\"Maximum AA productivity = \",AA_max_production , \"mmol/gDW*h\")\n",
    "\n",
    "    sucrose_uptake_flux = iMM904_Manual_ko_3.reactions.EX_sucr_e.flux #Glucose exchange reaction\n",
    "    max_yield = AA_max_production/ (-1*sucrose_uptake_flux)\n",
    "    print(\"Maximum theoretical yield is = \", max_yield, \"mmol/gDW*h\")"
   ]
  },
  {
   "cell_type": "markdown",
   "metadata": {},
   "source": [
    "Knocking out PGCD"
   ]
  },
  {
   "cell_type": "code",
   "execution_count": null,
   "metadata": {},
   "outputs": [
    {
     "data": {
      "text/html": [
       "\n",
       "        <table>\n",
       "            <tr>\n",
       "                <td><strong>Reaction identifier</strong></td><td>PGCD</td>\n",
       "            </tr><tr>\n",
       "                <td><strong>Name</strong></td><td>Phosphoglycerate dehydrogenase</td>\n",
       "            </tr><tr>\n",
       "                <td><strong>Memory address</strong></td>\n",
       "                <td>0x025f69eca520</td>\n",
       "            </tr><tr>\n",
       "                <td><strong>Stoichiometry</strong></td>\n",
       "                <td>\n",
       "                    <p style='text-align:right'>3pg_c + nad_c --> 3php_c + h_c + nadh_c</p>\n",
       "                    <p style='text-align:right'>3-Phospho-D-glycerate + Nicotinamide adenine dinucleotide --> 3-Phosphohydroxypyruvate + H+ + Nicotinamide adenine dinucleotide - reduced</p>\n",
       "                </td>\n",
       "            </tr><tr>\n",
       "                <td><strong>GPR</strong></td><td>YER081W or YIL074C</td>\n",
       "            </tr><tr>\n",
       "                <td><strong>Lower bound</strong></td><td>0.0</td>\n",
       "            </tr><tr>\n",
       "                <td><strong>Upper bound</strong></td><td>999999.0</td>\n",
       "            </tr>\n",
       "        </table>\n",
       "        "
      ],
      "text/plain": [
       "<Reaction PGCD at 0x25f69eca520>"
      ]
     },
     "execution_count": 2,
     "metadata": {},
     "output_type": "execute_result"
    }
   ],
   "source": [
    "iMM904.reactions.PGCD"
   ]
  },
  {
   "cell_type": "code",
   "execution_count": null,
   "metadata": {},
   "outputs": [
    {
     "data": {
      "text/html": [
       "\n",
       "        <table>\n",
       "            <tr>\n",
       "                <td><strong>Reaction identifier</strong></td><td>PGCD</td>\n",
       "            </tr><tr>\n",
       "                <td><strong>Name</strong></td><td>Phosphoglycerate dehydrogenase</td>\n",
       "            </tr><tr>\n",
       "                <td><strong>Memory address</strong></td>\n",
       "                <td>0x025f6a410a30</td>\n",
       "            </tr><tr>\n",
       "                <td><strong>Stoichiometry</strong></td>\n",
       "                <td>\n",
       "                    <p style='text-align:right'>3pg_c + nad_c --> 3php_c + h_c + nadh_c</p>\n",
       "                    <p style='text-align:right'>3-Phospho-D-glycerate + Nicotinamide adenine dinucleotide --> 3-Phosphohydroxypyruvate + H+ + Nicotinamide adenine dinucleotide - reduced</p>\n",
       "                </td>\n",
       "            </tr><tr>\n",
       "                <td><strong>GPR</strong></td><td>YER081W or YIL074C</td>\n",
       "            </tr><tr>\n",
       "                <td><strong>Lower bound</strong></td><td>0</td>\n",
       "            </tr><tr>\n",
       "                <td><strong>Upper bound</strong></td><td>0</td>\n",
       "            </tr>\n",
       "        </table>\n",
       "        "
      ],
      "text/plain": [
       "<Reaction PGCD at 0x25f6a410a30>"
      ]
     },
     "execution_count": 3,
     "metadata": {},
     "output_type": "execute_result"
    }
   ],
   "source": [
    "iMM904_Manual_ko_4=iMM904.copy()\n",
    "#changing source to sucrose\n",
    "medium04 = iMM904_Manual_ko_4.medium\n",
    "medium04['EX_sucr_e'] = 10\n",
    "medium04['EX_glc__D_e'] = 0\n",
    "iMM904_Manual_ko_4.medium = medium04\n",
    "#knocing out the specific gene\n",
    "iMM904_Manual_ko_4.reactions.PGCD.knock_out()\n",
    "\n",
    "iMM904_Manual_ko_4.reactions.PGCD"
   ]
  },
  {
   "cell_type": "code",
   "execution_count": null,
   "metadata": {},
   "outputs": [
    {
     "name": "stdout",
     "output_type": "stream",
     "text": [
      "Maximum AA productivity =  1.4393939393939392 mmol/gDW*h\n",
      "Maximum theoretical yield is =  0.14393939393939392 mmol/gDW*h\n"
     ]
    }
   ],
   "source": [
    "with iMM904_Manual_ko_4:\n",
    "    iMM904_Manual_ko_4.reactions.PGCD.knock_out()\n",
    "    iMM904_Manual_ko_4.objective = iMM904_Manual_ko_4.reactions.ALDH1\n",
    "    \n",
    "    AA_max_production = iMM904_Manual_ko_4.optimize().objective_value\n",
    "    print(\"Maximum AA productivity = \",AA_max_production , \"mmol/gDW*h\")\n",
    "\n",
    "    sucrose_uptake_flux = iMM904_Manual_ko_4.reactions.EX_sucr_e.flux #Glucose exchange reaction\n",
    "    max_yield = AA_max_production/ (-1*sucrose_uptake_flux)\n",
    "    print(\"Maximum theoretical yield is = \", max_yield, \"mmol/gDW*h\")"
   ]
  },
  {
   "cell_type": "markdown",
   "metadata": {},
   "source": [
    "Knocking out PSP_L"
   ]
  },
  {
   "cell_type": "code",
   "execution_count": null,
   "metadata": {},
   "outputs": [
    {
     "data": {
      "text/html": [
       "\n",
       "        <table>\n",
       "            <tr>\n",
       "                <td><strong>Reaction identifier</strong></td><td>PSP_L</td>\n",
       "            </tr><tr>\n",
       "                <td><strong>Name</strong></td><td>Phosphoserine phosphatase (L-serine)</td>\n",
       "            </tr><tr>\n",
       "                <td><strong>Memory address</strong></td>\n",
       "                <td>0x026fa6558e88</td>\n",
       "            </tr><tr>\n",
       "                <td><strong>Stoichiometry</strong></td>\n",
       "                <td>\n",
       "                    <p style='text-align:right'>h2o_c + pser__L_c --> pi_c + ser__L_c</p>\n",
       "                    <p style='text-align:right'>H2O H2O + O-Phospho-L-serine --> Phosphate + L-Serine</p>\n",
       "                </td>\n",
       "            </tr><tr>\n",
       "                <td><strong>GPR</strong></td><td>YGR208W</td>\n",
       "            </tr><tr>\n",
       "                <td><strong>Lower bound</strong></td><td>0.0</td>\n",
       "            </tr><tr>\n",
       "                <td><strong>Upper bound</strong></td><td>999999.0</td>\n",
       "            </tr>\n",
       "        </table>\n",
       "        "
      ],
      "text/plain": [
       "<Reaction PSP_L at 0x26fa6558e88>"
      ]
     },
     "execution_count": 14,
     "metadata": {},
     "output_type": "execute_result"
    }
   ],
   "source": [
    "iMM904.reactions.PSP_L"
   ]
  },
  {
   "cell_type": "code",
   "execution_count": null,
   "metadata": {},
   "outputs": [
    {
     "data": {
      "text/html": [
       "\n",
       "        <table>\n",
       "            <tr>\n",
       "                <td><strong>Reaction identifier</strong></td><td>PSP_L</td>\n",
       "            </tr><tr>\n",
       "                <td><strong>Name</strong></td><td>Phosphoserine phosphatase (L-serine)</td>\n",
       "            </tr><tr>\n",
       "                <td><strong>Memory address</strong></td>\n",
       "                <td>0x026fa8862088</td>\n",
       "            </tr><tr>\n",
       "                <td><strong>Stoichiometry</strong></td>\n",
       "                <td>\n",
       "                    <p style='text-align:right'>h2o_c + pser__L_c --> pi_c + ser__L_c</p>\n",
       "                    <p style='text-align:right'>H2O H2O + O-Phospho-L-serine --> Phosphate + L-Serine</p>\n",
       "                </td>\n",
       "            </tr><tr>\n",
       "                <td><strong>GPR</strong></td><td>YGR208W</td>\n",
       "            </tr><tr>\n",
       "                <td><strong>Lower bound</strong></td><td>0</td>\n",
       "            </tr><tr>\n",
       "                <td><strong>Upper bound</strong></td><td>0</td>\n",
       "            </tr>\n",
       "        </table>\n",
       "        "
      ],
      "text/plain": [
       "<Reaction PSP_L at 0x26fa8862088>"
      ]
     },
     "execution_count": 15,
     "metadata": {},
     "output_type": "execute_result"
    }
   ],
   "source": [
    "iMM904_Manual_ko_5=iMM904.copy()\n",
    "#changing source to sucrose\n",
    "medium05= iMM904_Manual_ko_5.medium\n",
    "medium05['EX_sucr_e'] = 10\n",
    "medium05['EX_glc__D_e'] = 0\n",
    "iMM904_Manual_ko_5.medium = medium05\n",
    "#knocing out the specific gene\n",
    "iMM904_Manual_ko_5.reactions.PSP_L.knock_out()\n",
    "\n",
    "iMM904_Manual_ko_5.reactions.PSP_L"
   ]
  },
  {
   "cell_type": "code",
   "execution_count": null,
   "metadata": {},
   "outputs": [
    {
     "name": "stdout",
     "output_type": "stream",
     "text": [
      "Maximum AA productivity =  1.4393939393939381 mmol/gDW*h\n",
      "Maximum theoretical yield is =  0.1439393939393938 mmol/gDW*h\n"
     ]
    }
   ],
   "source": [
    "with iMM904_Manual_ko_5:\n",
    "    iMM904_Manual_ko_5.reactions.PSP_L.knock_out()\n",
    "    iMM904_Manual_ko_5.objective = iMM904_Manual_ko_5.reactions.ALDH1\n",
    "    \n",
    "    AA_max_production = iMM904_Manual_ko_5.optimize().objective_value\n",
    "    print(\"Maximum AA productivity = \",AA_max_production , \"mmol/gDW*h\")\n",
    "\n",
    "    sucrose_uptake_flux = iMM904_Manual_ko_5.reactions.EX_sucr_e.flux #Glucose exchange reaction\n",
    "    max_yield = AA_max_production/ (-1*sucrose_uptake_flux)\n",
    "    print(\"Maximum theoretical yield is = \", max_yield, \"mmol/gDW*h\")"
   ]
  },
  {
   "cell_type": "markdown",
   "metadata": {},
   "source": [
    "Knocking out ALATA_L"
   ]
  },
  {
   "cell_type": "code",
   "execution_count": null,
   "metadata": {},
   "outputs": [
    {
     "data": {
      "text/html": [
       "\n",
       "        <table>\n",
       "            <tr>\n",
       "                <td><strong>Reaction identifier</strong></td><td>ALATA_L</td>\n",
       "            </tr><tr>\n",
       "                <td><strong>Name</strong></td><td>L-alanine transaminase</td>\n",
       "            </tr><tr>\n",
       "                <td><strong>Memory address</strong></td>\n",
       "                <td>0x026fa5801108</td>\n",
       "            </tr><tr>\n",
       "                <td><strong>Stoichiometry</strong></td>\n",
       "                <td>\n",
       "                    <p style='text-align:right'>akg_c + ala__L_c <=> glu__L_c + pyr_c</p>\n",
       "                    <p style='text-align:right'>2-Oxoglutarate + L-Alanine <=> L-Glutamate + Pyruvate</p>\n",
       "                </td>\n",
       "            </tr><tr>\n",
       "                <td><strong>GPR</strong></td><td>YDR111C</td>\n",
       "            </tr><tr>\n",
       "                <td><strong>Lower bound</strong></td><td>-999999.0</td>\n",
       "            </tr><tr>\n",
       "                <td><strong>Upper bound</strong></td><td>999999.0</td>\n",
       "            </tr>\n",
       "        </table>\n",
       "        "
      ],
      "text/plain": [
       "<Reaction ALATA_L at 0x26fa5801108>"
      ]
     },
     "execution_count": 17,
     "metadata": {},
     "output_type": "execute_result"
    }
   ],
   "source": [
    "iMM904.reactions.ALATA_L"
   ]
  },
  {
   "cell_type": "code",
   "execution_count": null,
   "metadata": {},
   "outputs": [
    {
     "data": {
      "text/html": [
       "\n",
       "        <table>\n",
       "            <tr>\n",
       "                <td><strong>Reaction identifier</strong></td><td>ALATA_L</td>\n",
       "            </tr><tr>\n",
       "                <td><strong>Name</strong></td><td>L-alanine transaminase</td>\n",
       "            </tr><tr>\n",
       "                <td><strong>Memory address</strong></td>\n",
       "                <td>0x026fa8ed1d88</td>\n",
       "            </tr><tr>\n",
       "                <td><strong>Stoichiometry</strong></td>\n",
       "                <td>\n",
       "                    <p style='text-align:right'>akg_c + ala__L_c --> glu__L_c + pyr_c</p>\n",
       "                    <p style='text-align:right'>2-Oxoglutarate + L-Alanine --> L-Glutamate + Pyruvate</p>\n",
       "                </td>\n",
       "            </tr><tr>\n",
       "                <td><strong>GPR</strong></td><td>YDR111C</td>\n",
       "            </tr><tr>\n",
       "                <td><strong>Lower bound</strong></td><td>0</td>\n",
       "            </tr><tr>\n",
       "                <td><strong>Upper bound</strong></td><td>0</td>\n",
       "            </tr>\n",
       "        </table>\n",
       "        "
      ],
      "text/plain": [
       "<Reaction ALATA_L at 0x26fa8ed1d88>"
      ]
     },
     "execution_count": 18,
     "metadata": {},
     "output_type": "execute_result"
    }
   ],
   "source": [
    "iMM904_Manual_ko_6=iMM904.copy()\n",
    "#changing source to sucrose\n",
    "medium06= iMM904_Manual_ko_6.medium\n",
    "medium06['EX_sucr_e'] = 10\n",
    "medium06['EX_glc__D_e'] = 0\n",
    "iMM904_Manual_ko_6.medium = medium06\n",
    "#knocing out the specific gene\n",
    "iMM904_Manual_ko_6.reactions.ALATA_L.knock_out()\n",
    "\n",
    "iMM904_Manual_ko_6.reactions.ALATA_L"
   ]
  },
  {
   "cell_type": "code",
   "execution_count": null,
   "metadata": {},
   "outputs": [
    {
     "name": "stdout",
     "output_type": "stream",
     "text": [
      "Maximum AA productivity =  1.439393939393934 mmol/gDW*h\n",
      "Maximum theoretical yield is =  0.1439393939393934 mmol/gDW*h\n"
     ]
    }
   ],
   "source": [
    "with iMM904_Manual_ko_6:\n",
    "    iMM904_Manual_ko_6.reactions.ALATA_L.knock_out()\n",
    "    iMM904_Manual_ko_6.objective = iMM904_Manual_ko_6.reactions.ALDH1\n",
    "    \n",
    "    AA_max_production = iMM904_Manual_ko_6.optimize().objective_value\n",
    "    print(\"Maximum AA productivity = \",AA_max_production , \"mmol/gDW*h\")\n",
    "\n",
    "    sucrose_uptake_flux = iMM904_Manual_ko_6.reactions.EX_sucr_e.flux #Glucose exchange reaction\n",
    "    max_yield = AA_max_production/ (-1*sucrose_uptake_flux)\n",
    "    print(\"Maximum theoretical yield is = \", max_yield, \"mmol/gDW*h\")"
   ]
  },
  {
   "cell_type": "markdown",
   "metadata": {},
   "source": [
    "Knocking out CITtcm"
   ]
  },
  {
   "cell_type": "code",
   "execution_count": null,
   "metadata": {},
   "outputs": [
    {
     "data": {
      "text/html": [
       "\n",
       "        <table>\n",
       "            <tr>\n",
       "                <td><strong>Reaction identifier</strong></td><td>CITtcm</td>\n",
       "            </tr><tr>\n",
       "                <td><strong>Name</strong></td><td>Citrate transport mitochondrial</td>\n",
       "            </tr><tr>\n",
       "                <td><strong>Memory address</strong></td>\n",
       "                <td>0x026fa5a2ae08</td>\n",
       "            </tr><tr>\n",
       "                <td><strong>Stoichiometry</strong></td>\n",
       "                <td>\n",
       "                    <p style='text-align:right'>cit_c + icit_m <=> cit_m + icit_c</p>\n",
       "                    <p style='text-align:right'>Citrate + Isocitrate <=> Citrate + Isocitrate</p>\n",
       "                </td>\n",
       "            </tr><tr>\n",
       "                <td><strong>GPR</strong></td><td>YBR291C</td>\n",
       "            </tr><tr>\n",
       "                <td><strong>Lower bound</strong></td><td>-999999.0</td>\n",
       "            </tr><tr>\n",
       "                <td><strong>Upper bound</strong></td><td>999999.0</td>\n",
       "            </tr>\n",
       "        </table>\n",
       "        "
      ],
      "text/plain": [
       "<Reaction CITtcm at 0x26fa5a2ae08>"
      ]
     },
     "execution_count": 20,
     "metadata": {},
     "output_type": "execute_result"
    }
   ],
   "source": [
    "iMM904.reactions.CITtcm"
   ]
  },
  {
   "cell_type": "code",
   "execution_count": null,
   "metadata": {},
   "outputs": [
    {
     "data": {
      "text/html": [
       "\n",
       "        <table>\n",
       "            <tr>\n",
       "                <td><strong>Reaction identifier</strong></td><td>CITtcm</td>\n",
       "            </tr><tr>\n",
       "                <td><strong>Name</strong></td><td>Citrate transport mitochondrial</td>\n",
       "            </tr><tr>\n",
       "                <td><strong>Memory address</strong></td>\n",
       "                <td>0x026fa97e7348</td>\n",
       "            </tr><tr>\n",
       "                <td><strong>Stoichiometry</strong></td>\n",
       "                <td>\n",
       "                    <p style='text-align:right'>cit_c + icit_m --> cit_m + icit_c</p>\n",
       "                    <p style='text-align:right'>Citrate + Isocitrate --> Citrate + Isocitrate</p>\n",
       "                </td>\n",
       "            </tr><tr>\n",
       "                <td><strong>GPR</strong></td><td>YBR291C</td>\n",
       "            </tr><tr>\n",
       "                <td><strong>Lower bound</strong></td><td>0</td>\n",
       "            </tr><tr>\n",
       "                <td><strong>Upper bound</strong></td><td>0</td>\n",
       "            </tr>\n",
       "        </table>\n",
       "        "
      ],
      "text/plain": [
       "<Reaction CITtcm at 0x26fa97e7348>"
      ]
     },
     "execution_count": 21,
     "metadata": {},
     "output_type": "execute_result"
    }
   ],
   "source": [
    "iMM904_Manual_ko_7=iMM904.copy()\n",
    "#changing source to sucrose\n",
    "medium07= iMM904_Manual_ko_7.medium\n",
    "medium07['EX_sucr_e'] = 10\n",
    "medium07['EX_glc__D_e'] = 0\n",
    "iMM904_Manual_ko_7.medium = medium07\n",
    "#knocing out the specific gene\n",
    "iMM904_Manual_ko_7.reactions.CITtcm.knock_out()\n",
    "\n",
    "iMM904_Manual_ko_7.reactions.CITtcm"
   ]
  },
  {
   "cell_type": "code",
   "execution_count": null,
   "metadata": {},
   "outputs": [
    {
     "name": "stdout",
     "output_type": "stream",
     "text": [
      "Maximum AA productivity =  1.4393939393939403 mmol/gDW*h\n",
      "Maximum theoretical yield is =  0.14393939393939403 mmol/gDW*h\n"
     ]
    }
   ],
   "source": [
    "with iMM904_Manual_ko_7:\n",
    "    iMM904_Manual_ko_7.reactions.CITtcm.knock_out()\n",
    "    iMM904_Manual_ko_7.objective = iMM904_Manual_ko_7.reactions.ALDH1\n",
    "    \n",
    "    AA_max_production = iMM904_Manual_ko_7.optimize().objective_value\n",
    "    print(\"Maximum AA productivity = \",AA_max_production , \"mmol/gDW*h\")\n",
    "\n",
    "    sucrose_uptake_flux = iMM904_Manual_ko_7.reactions.EX_sucr_e.flux #Glucose exchange reaction\n",
    "    max_yield = AA_max_production/ (-1*sucrose_uptake_flux)\n",
    "    print(\"Maximum theoretical yield is = \", max_yield, \"mmol/gDW*h\")"
   ]
  },
  {
   "cell_type": "markdown",
   "metadata": {},
   "source": [
    "Knocking out ICDHxm"
   ]
  },
  {
   "cell_type": "code",
   "execution_count": null,
   "metadata": {},
   "outputs": [
    {
     "data": {
      "text/html": [
       "\n",
       "        <table>\n",
       "            <tr>\n",
       "                <td><strong>Reaction identifier</strong></td><td>ICDHxm</td>\n",
       "            </tr><tr>\n",
       "                <td><strong>Name</strong></td><td>Isocitrate dehydrogenase NAD</td>\n",
       "            </tr><tr>\n",
       "                <td><strong>Memory address</strong></td>\n",
       "                <td>0x026fa5fe6d08</td>\n",
       "            </tr><tr>\n",
       "                <td><strong>Stoichiometry</strong></td>\n",
       "                <td>\n",
       "                    <p style='text-align:right'>icit_m + nad_m --> akg_m + co2_m + nadh_m</p>\n",
       "                    <p style='text-align:right'>Isocitrate + Nicotinamide adenine dinucleotide --> 2-Oxoglutarate + CO2 CO2 + Nicotinamide adenine dinucleotide - reduced</p>\n",
       "                </td>\n",
       "            </tr><tr>\n",
       "                <td><strong>GPR</strong></td><td>YNL037C and YOR136W</td>\n",
       "            </tr><tr>\n",
       "                <td><strong>Lower bound</strong></td><td>0.0</td>\n",
       "            </tr><tr>\n",
       "                <td><strong>Upper bound</strong></td><td>999999.0</td>\n",
       "            </tr>\n",
       "        </table>\n",
       "        "
      ],
      "text/plain": [
       "<Reaction ICDHxm at 0x26fa5fe6d08>"
      ]
     },
     "execution_count": 23,
     "metadata": {},
     "output_type": "execute_result"
    }
   ],
   "source": [
    "iMM904.reactions.ICDHxm"
   ]
  },
  {
   "cell_type": "code",
   "execution_count": null,
   "metadata": {},
   "outputs": [
    {
     "data": {
      "text/html": [
       "\n",
       "        <table>\n",
       "            <tr>\n",
       "                <td><strong>Reaction identifier</strong></td><td>ICDHxm</td>\n",
       "            </tr><tr>\n",
       "                <td><strong>Name</strong></td><td>Isocitrate dehydrogenase NAD</td>\n",
       "            </tr><tr>\n",
       "                <td><strong>Memory address</strong></td>\n",
       "                <td>0x026faa18ec88</td>\n",
       "            </tr><tr>\n",
       "                <td><strong>Stoichiometry</strong></td>\n",
       "                <td>\n",
       "                    <p style='text-align:right'>icit_m + nad_m --> akg_m + co2_m + nadh_m</p>\n",
       "                    <p style='text-align:right'>Isocitrate + Nicotinamide adenine dinucleotide --> 2-Oxoglutarate + CO2 CO2 + Nicotinamide adenine dinucleotide - reduced</p>\n",
       "                </td>\n",
       "            </tr><tr>\n",
       "                <td><strong>GPR</strong></td><td>YNL037C and YOR136W</td>\n",
       "            </tr><tr>\n",
       "                <td><strong>Lower bound</strong></td><td>0</td>\n",
       "            </tr><tr>\n",
       "                <td><strong>Upper bound</strong></td><td>0</td>\n",
       "            </tr>\n",
       "        </table>\n",
       "        "
      ],
      "text/plain": [
       "<Reaction ICDHxm at 0x26faa18ec88>"
      ]
     },
     "execution_count": 24,
     "metadata": {},
     "output_type": "execute_result"
    }
   ],
   "source": [
    "iMM904_Manual_ko_8=iMM904.copy()\n",
    "#changing source to sucrose\n",
    "medium08= iMM904_Manual_ko_8.medium\n",
    "medium08['EX_sucr_e'] = 10\n",
    "medium08['EX_glc__D_e'] = 0\n",
    "iMM904_Manual_ko_8.medium = medium08\n",
    "#knocing out the specific gene\n",
    "iMM904_Manual_ko_8.reactions.ICDHxm.knock_out()\n",
    "\n",
    "iMM904_Manual_ko_8.reactions.ICDHxm"
   ]
  },
  {
   "cell_type": "code",
   "execution_count": null,
   "metadata": {},
   "outputs": [
    {
     "name": "stdout",
     "output_type": "stream",
     "text": [
      "Maximum AA productivity =  1.4393939393939403 mmol/gDW*h\n",
      "Maximum theoretical yield is =  0.14393939393939403 mmol/gDW*h\n"
     ]
    }
   ],
   "source": [
    "with iMM904_Manual_ko_8:\n",
    "    iMM904_Manual_ko_8.reactions.ICDHxm.knock_out()\n",
    "    iMM904_Manual_ko_8.objective = iMM904_Manual_ko_8.reactions.ALDH1\n",
    "    \n",
    "    AA_max_production = iMM904_Manual_ko_8.optimize().objective_value\n",
    "    print(\"Maximum AA productivity = \",AA_max_production , \"mmol/gDW*h\")\n",
    "\n",
    "    sucrose_uptake_flux = iMM904_Manual_ko_8.reactions.EX_sucr_e.flux #Glucose exchange reaction\n",
    "    max_yield = AA_max_production/ (-1*sucrose_uptake_flux)\n",
    "    print(\"Maximum theoretical yield is = \", max_yield, \"mmol/gDW*h\")"
   ]
  },
  {
   "cell_type": "markdown",
   "metadata": {},
   "source": [
    "DELETIONS BASED ON Cobra Flux Analysis"
   ]
  },
  {
   "cell_type": "code",
   "execution_count": null,
   "metadata": {},
   "outputs": [],
   "source": [
    "from cobra.flux_analysis import (\n",
    "    single_gene_deletion, single_reaction_deletion, double_gene_deletion,\n",
    "    double_reaction_deletion)\n",
    "model_single_deletions = iMM904_Manual_ko_1"
   ]
  },
  {
   "cell_type": "code",
   "execution_count": null,
   "metadata": {},
   "outputs": [
    {
     "data": {
      "text/html": [
       "\n",
       "        <table>\n",
       "            <tr>\n",
       "                <td><strong>Name</strong></td>\n",
       "                <td>iMM904</td>\n",
       "            </tr><tr>\n",
       "                <td><strong>Memory address</strong></td>\n",
       "                <td>0x026ffcd49188</td>\n",
       "            </tr><tr>\n",
       "                <td><strong>Number of metabolites</strong></td>\n",
       "                <td>1230</td>\n",
       "            </tr><tr>\n",
       "                <td><strong>Number of reactions</strong></td>\n",
       "                <td>1585</td>\n",
       "            </tr><tr>\n",
       "                <td><strong>Number of groups</strong></td>\n",
       "                <td>0</td>\n",
       "            </tr><tr>\n",
       "                <td><strong>Objective expression</strong></td>\n",
       "                <td>1.0*BIOMASS_SC5_notrace - 1.0*BIOMASS_SC5_notrace_reverse_93090</td>\n",
       "            </tr><tr>\n",
       "                <td><strong>Compartments</strong></td>\n",
       "                <td>cytosol, extracellular space, mitochondria, peroxisome/glyoxysome, endoplasmic reticulum, vacuole, golgi apparatus, nucleus</td>\n",
       "            </tr>\n",
       "          </table>"
      ],
      "text/plain": [
       "<Model iMM904 at 0x26ffcd49188>"
      ]
     },
     "execution_count": 27,
     "metadata": {},
     "output_type": "execute_result"
    }
   ],
   "source": [
    "model_single_deletions"
   ]
  },
  {
   "cell_type": "code",
   "execution_count": null,
   "metadata": {},
   "outputs": [
    {
     "data": {
      "text/html": [
       "<div>\n",
       "<style scoped>\n",
       "    .dataframe tbody tr th:only-of-type {\n",
       "        vertical-align: middle;\n",
       "    }\n",
       "\n",
       "    .dataframe tbody tr th {\n",
       "        vertical-align: top;\n",
       "    }\n",
       "\n",
       "    .dataframe thead th {\n",
       "        text-align: right;\n",
       "    }\n",
       "</style>\n",
       "<table border=\"1\" class=\"dataframe\">\n",
       "  <thead>\n",
       "    <tr style=\"text-align: right;\">\n",
       "      <th></th>\n",
       "      <th>ids</th>\n",
       "      <th>growth</th>\n",
       "      <th>status</th>\n",
       "    </tr>\n",
       "  </thead>\n",
       "  <tbody>\n",
       "    <tr>\n",
       "      <th>0</th>\n",
       "      <td>{AHCYStm}</td>\n",
       "      <td>1.439394</td>\n",
       "      <td>optimal</td>\n",
       "    </tr>\n",
       "    <tr>\n",
       "      <th>1</th>\n",
       "      <td>{ACCOACrm}</td>\n",
       "      <td>1.439394</td>\n",
       "      <td>optimal</td>\n",
       "    </tr>\n",
       "    <tr>\n",
       "      <th>2</th>\n",
       "      <td>{AGAT_SC}</td>\n",
       "      <td>1.439394</td>\n",
       "      <td>optimal</td>\n",
       "    </tr>\n",
       "    <tr>\n",
       "      <th>3</th>\n",
       "      <td>{ACGSm}</td>\n",
       "      <td>1.439394</td>\n",
       "      <td>optimal</td>\n",
       "    </tr>\n",
       "    <tr>\n",
       "      <th>4</th>\n",
       "      <td>{16GS}</td>\n",
       "      <td>1.439394</td>\n",
       "      <td>optimal</td>\n",
       "    </tr>\n",
       "    <tr>\n",
       "      <th>5</th>\n",
       "      <td>{CITtcp}</td>\n",
       "      <td>1.439394</td>\n",
       "      <td>optimal</td>\n",
       "    </tr>\n",
       "    <tr>\n",
       "      <th>6</th>\n",
       "      <td>{ACACT8p}</td>\n",
       "      <td>1.439394</td>\n",
       "      <td>optimal</td>\n",
       "    </tr>\n",
       "    <tr>\n",
       "      <th>7</th>\n",
       "      <td>{ACCOAC}</td>\n",
       "      <td>1.439394</td>\n",
       "      <td>optimal</td>\n",
       "    </tr>\n",
       "    <tr>\n",
       "      <th>8</th>\n",
       "      <td>{2MBALDt}</td>\n",
       "      <td>1.439394</td>\n",
       "      <td>optimal</td>\n",
       "    </tr>\n",
       "    <tr>\n",
       "      <th>9</th>\n",
       "      <td>{ACGKm}</td>\n",
       "      <td>1.439394</td>\n",
       "      <td>optimal</td>\n",
       "    </tr>\n",
       "    <tr>\n",
       "      <th>10</th>\n",
       "      <td>{ACGAMPM}</td>\n",
       "      <td>1.439394</td>\n",
       "      <td>optimal</td>\n",
       "    </tr>\n",
       "    <tr>\n",
       "      <th>11</th>\n",
       "      <td>{2DHPtm}</td>\n",
       "      <td>1.439394</td>\n",
       "      <td>optimal</td>\n",
       "    </tr>\n",
       "    <tr>\n",
       "      <th>12</th>\n",
       "      <td>{2OBUTtm}</td>\n",
       "      <td>1.439394</td>\n",
       "      <td>optimal</td>\n",
       "    </tr>\n",
       "    <tr>\n",
       "      <th>13</th>\n",
       "      <td>{2DDA7Ptm}</td>\n",
       "      <td>1.439394</td>\n",
       "      <td>optimal</td>\n",
       "    </tr>\n",
       "    <tr>\n",
       "      <th>14</th>\n",
       "      <td>{ACHBSm}</td>\n",
       "      <td>1.439394</td>\n",
       "      <td>optimal</td>\n",
       "    </tr>\n",
       "    <tr>\n",
       "      <th>15</th>\n",
       "      <td>{2DOXG6PP}</td>\n",
       "      <td>1.439394</td>\n",
       "      <td>optimal</td>\n",
       "    </tr>\n",
       "    <tr>\n",
       "      <th>16</th>\n",
       "      <td>{AHCi}</td>\n",
       "      <td>1.439394</td>\n",
       "      <td>optimal</td>\n",
       "    </tr>\n",
       "    <tr>\n",
       "      <th>17</th>\n",
       "      <td>{2HPMMBQMOm}</td>\n",
       "      <td>1.439394</td>\n",
       "      <td>optimal</td>\n",
       "    </tr>\n",
       "    <tr>\n",
       "      <th>18</th>\n",
       "      <td>{AGPRim}</td>\n",
       "      <td>1.439394</td>\n",
       "      <td>optimal</td>\n",
       "    </tr>\n",
       "    <tr>\n",
       "      <th>19</th>\n",
       "      <td>{13GS}</td>\n",
       "      <td>1.439394</td>\n",
       "      <td>optimal</td>\n",
       "    </tr>\n",
       "    <tr>\n",
       "      <th>20</th>\n",
       "      <td>{2OXOADPtim}</td>\n",
       "      <td>1.439394</td>\n",
       "      <td>optimal</td>\n",
       "    </tr>\n",
       "    <tr>\n",
       "      <th>21</th>\n",
       "      <td>{23CAPPD}</td>\n",
       "      <td>1.439394</td>\n",
       "      <td>optimal</td>\n",
       "    </tr>\n",
       "    <tr>\n",
       "      <th>22</th>\n",
       "      <td>{ACESt}</td>\n",
       "      <td>1.439394</td>\n",
       "      <td>optimal</td>\n",
       "    </tr>\n",
       "    <tr>\n",
       "      <th>23</th>\n",
       "      <td>{ACALDtm}</td>\n",
       "      <td>1.439394</td>\n",
       "      <td>optimal</td>\n",
       "    </tr>\n",
       "    <tr>\n",
       "      <th>24</th>\n",
       "      <td>{2MBTOHt}</td>\n",
       "      <td>1.439394</td>\n",
       "      <td>optimal</td>\n",
       "    </tr>\n",
       "    <tr>\n",
       "      <th>25</th>\n",
       "      <td>{ACALDt}</td>\n",
       "      <td>1.439394</td>\n",
       "      <td>optimal</td>\n",
       "    </tr>\n",
       "    <tr>\n",
       "      <th>26</th>\n",
       "      <td>{2HPMBQMTm}</td>\n",
       "      <td>1.439394</td>\n",
       "      <td>optimal</td>\n",
       "    </tr>\n",
       "    <tr>\n",
       "      <th>27</th>\n",
       "      <td>{2MPPALt}</td>\n",
       "      <td>1.439394</td>\n",
       "      <td>optimal</td>\n",
       "    </tr>\n",
       "    <tr>\n",
       "      <th>28</th>\n",
       "      <td>{AHSERL2}</td>\n",
       "      <td>1.439394</td>\n",
       "      <td>optimal</td>\n",
       "    </tr>\n",
       "    <tr>\n",
       "      <th>29</th>\n",
       "      <td>{13BGH}</td>\n",
       "      <td>1.439394</td>\n",
       "      <td>optimal</td>\n",
       "    </tr>\n",
       "    <tr>\n",
       "      <th>30</th>\n",
       "      <td>{EX_epistest_SC_e}</td>\n",
       "      <td>1.439394</td>\n",
       "      <td>optimal</td>\n",
       "    </tr>\n",
       "    <tr>\n",
       "      <th>31</th>\n",
       "      <td>{ACACT6p}</td>\n",
       "      <td>1.439394</td>\n",
       "      <td>optimal</td>\n",
       "    </tr>\n",
       "    <tr>\n",
       "      <th>32</th>\n",
       "      <td>{ACALDCD}</td>\n",
       "      <td>1.439394</td>\n",
       "      <td>optimal</td>\n",
       "    </tr>\n",
       "    <tr>\n",
       "      <th>33</th>\n",
       "      <td>{2HBt2}</td>\n",
       "      <td>1.439394</td>\n",
       "      <td>optimal</td>\n",
       "    </tr>\n",
       "    <tr>\n",
       "      <th>34</th>\n",
       "      <td>{2MBACt}</td>\n",
       "      <td>1.439394</td>\n",
       "      <td>optimal</td>\n",
       "    </tr>\n",
       "    <tr>\n",
       "      <th>35</th>\n",
       "      <td>{AHSERL}</td>\n",
       "      <td>1.439394</td>\n",
       "      <td>optimal</td>\n",
       "    </tr>\n",
       "    <tr>\n",
       "      <th>36</th>\n",
       "      <td>{ACACT7p}</td>\n",
       "      <td>1.439394</td>\n",
       "      <td>optimal</td>\n",
       "    </tr>\n",
       "    <tr>\n",
       "      <th>37</th>\n",
       "      <td>{ACGAM6PS}</td>\n",
       "      <td>1.439394</td>\n",
       "      <td>optimal</td>\n",
       "    </tr>\n",
       "    <tr>\n",
       "      <th>38</th>\n",
       "      <td>{13BGHe}</td>\n",
       "      <td>1.439394</td>\n",
       "      <td>optimal</td>\n",
       "    </tr>\n",
       "    <tr>\n",
       "      <th>39</th>\n",
       "      <td>{EX_epist_e}</td>\n",
       "      <td>1.439394</td>\n",
       "      <td>optimal</td>\n",
       "    </tr>\n",
       "    <tr>\n",
       "      <th>40</th>\n",
       "      <td>{ACCOAtn}</td>\n",
       "      <td>1.439394</td>\n",
       "      <td>optimal</td>\n",
       "    </tr>\n",
       "    <tr>\n",
       "      <th>41</th>\n",
       "      <td>{2MBTOHtm}</td>\n",
       "      <td>1.439394</td>\n",
       "      <td>optimal</td>\n",
       "    </tr>\n",
       "    <tr>\n",
       "      <th>42</th>\n",
       "      <td>{2HMHMBQMTm}</td>\n",
       "      <td>1.439394</td>\n",
       "      <td>optimal</td>\n",
       "    </tr>\n",
       "    <tr>\n",
       "      <th>43</th>\n",
       "      <td>{2MBALDtm}</td>\n",
       "      <td>1.439394</td>\n",
       "      <td>optimal</td>\n",
       "    </tr>\n",
       "    <tr>\n",
       "      <th>44</th>\n",
       "      <td>{2HBO}</td>\n",
       "      <td>1.439394</td>\n",
       "      <td>optimal</td>\n",
       "    </tr>\n",
       "    <tr>\n",
       "      <th>45</th>\n",
       "      <td>{2MPPALtm}</td>\n",
       "      <td>1.439394</td>\n",
       "      <td>optimal</td>\n",
       "    </tr>\n",
       "    <tr>\n",
       "      <th>46</th>\n",
       "      <td>{ACACT9p}</td>\n",
       "      <td>1.439394</td>\n",
       "      <td>optimal</td>\n",
       "    </tr>\n",
       "    <tr>\n",
       "      <th>47</th>\n",
       "      <td>{AGTi}</td>\n",
       "      <td>1.439394</td>\n",
       "      <td>optimal</td>\n",
       "    </tr>\n",
       "    <tr>\n",
       "      <th>48</th>\n",
       "      <td>{2HP6MPMOm}</td>\n",
       "      <td>1.439394</td>\n",
       "      <td>optimal</td>\n",
       "    </tr>\n",
       "    <tr>\n",
       "      <th>49</th>\n",
       "      <td>{AHMMPS}</td>\n",
       "      <td>1.439394</td>\n",
       "      <td>optimal</td>\n",
       "    </tr>\n",
       "  </tbody>\n",
       "</table>\n",
       "</div>"
      ],
      "text/plain": [
       "                   ids    growth   status\n",
       "0            {AHCYStm}  1.439394  optimal\n",
       "1           {ACCOACrm}  1.439394  optimal\n",
       "2            {AGAT_SC}  1.439394  optimal\n",
       "3              {ACGSm}  1.439394  optimal\n",
       "4               {16GS}  1.439394  optimal\n",
       "5             {CITtcp}  1.439394  optimal\n",
       "6            {ACACT8p}  1.439394  optimal\n",
       "7             {ACCOAC}  1.439394  optimal\n",
       "8            {2MBALDt}  1.439394  optimal\n",
       "9              {ACGKm}  1.439394  optimal\n",
       "10           {ACGAMPM}  1.439394  optimal\n",
       "11            {2DHPtm}  1.439394  optimal\n",
       "12           {2OBUTtm}  1.439394  optimal\n",
       "13          {2DDA7Ptm}  1.439394  optimal\n",
       "14            {ACHBSm}  1.439394  optimal\n",
       "15          {2DOXG6PP}  1.439394  optimal\n",
       "16              {AHCi}  1.439394  optimal\n",
       "17        {2HPMMBQMOm}  1.439394  optimal\n",
       "18            {AGPRim}  1.439394  optimal\n",
       "19              {13GS}  1.439394  optimal\n",
       "20        {2OXOADPtim}  1.439394  optimal\n",
       "21           {23CAPPD}  1.439394  optimal\n",
       "22             {ACESt}  1.439394  optimal\n",
       "23           {ACALDtm}  1.439394  optimal\n",
       "24           {2MBTOHt}  1.439394  optimal\n",
       "25            {ACALDt}  1.439394  optimal\n",
       "26         {2HPMBQMTm}  1.439394  optimal\n",
       "27           {2MPPALt}  1.439394  optimal\n",
       "28           {AHSERL2}  1.439394  optimal\n",
       "29             {13BGH}  1.439394  optimal\n",
       "30  {EX_epistest_SC_e}  1.439394  optimal\n",
       "31           {ACACT6p}  1.439394  optimal\n",
       "32           {ACALDCD}  1.439394  optimal\n",
       "33             {2HBt2}  1.439394  optimal\n",
       "34            {2MBACt}  1.439394  optimal\n",
       "35            {AHSERL}  1.439394  optimal\n",
       "36           {ACACT7p}  1.439394  optimal\n",
       "37          {ACGAM6PS}  1.439394  optimal\n",
       "38            {13BGHe}  1.439394  optimal\n",
       "39        {EX_epist_e}  1.439394  optimal\n",
       "40           {ACCOAtn}  1.439394  optimal\n",
       "41          {2MBTOHtm}  1.439394  optimal\n",
       "42        {2HMHMBQMTm}  1.439394  optimal\n",
       "43          {2MBALDtm}  1.439394  optimal\n",
       "44              {2HBO}  1.439394  optimal\n",
       "45          {2MPPALtm}  1.439394  optimal\n",
       "46           {ACACT9p}  1.439394  optimal\n",
       "47              {AGTi}  1.439394  optimal\n",
       "48         {2HP6MPMOm}  1.439394  optimal\n",
       "49            {AHMMPS}  1.439394  optimal"
      ]
     },
     "execution_count": 28,
     "metadata": {},
     "output_type": "execute_result"
    }
   ],
   "source": [
    "model_single_deletions.objective  = model_single_deletions.reactions.ALDH1\n",
    "single_reaction_deletion(model_single_deletions, model_single_deletions.reactions[:50])"
   ]
  },
  {
   "cell_type": "code",
   "execution_count": null,
   "metadata": {},
   "outputs": [
    {
     "name": "stdout",
     "output_type": "stream",
     "text": [
      "                 ids    growth   status\n",
      "962           {ATPM}  1.469697  optimal\n",
      "1454  {MIP2CS224_SC}  1.439394  optimal\n",
      "1458        {LYSt2m}  1.439394  optimal\n",
      "1450       {CBASPtn}  1.439394  optimal\n",
      "1451        {PLD_SC}  1.439394  optimal\n",
      "1452      {ALCD23yi}  1.439394  optimal\n",
      "1453         {OBDHm}  1.439394  optimal\n",
      "1455    {FACOAL260p}  1.439394  optimal\n",
      "1456         {ADNK1}  1.439394  optimal\n",
      "1457         {ACP1e}  1.439394  optimal\n"
     ]
    }
   ],
   "source": [
    "deletions=single_reaction_deletion(model_single_deletions, model_single_deletions.reactions)\n",
    "deletions = deletions.sort_values(by='growth', ascending=False)\n",
    "print(deletions.head(10))"
   ]
  },
  {
   "cell_type": "code",
   "execution_count": 22,
   "metadata": {},
   "outputs": [
    {
     "data": {
      "text/html": [
       "\n",
       "        <table>\n",
       "            <tr>\n",
       "                <td><strong>Reaction identifier</strong></td><td>ATPM</td>\n",
       "            </tr><tr>\n",
       "                <td><strong>Name</strong></td><td>ATP maintenance requirement</td>\n",
       "            </tr><tr>\n",
       "                <td><strong>Memory address</strong></td>\n",
       "                <td>0x0162062ccc40</td>\n",
       "            </tr><tr>\n",
       "                <td><strong>Stoichiometry</strong></td>\n",
       "                <td>\n",
       "                    <p style='text-align:right'>atp_c + h2o_c --> adp_c + h_c + pi_c</p>\n",
       "                    <p style='text-align:right'>ATP C10H12N5O13P3 + H2O H2O --> ADP C10H12N5O10P2 + H+ + Phosphate</p>\n",
       "                </td>\n",
       "            </tr><tr>\n",
       "                <td><strong>GPR</strong></td><td></td>\n",
       "            </tr><tr>\n",
       "                <td><strong>Lower bound</strong></td><td>1.0</td>\n",
       "            </tr><tr>\n",
       "                <td><strong>Upper bound</strong></td><td>1.0</td>\n",
       "            </tr>\n",
       "        </table>\n",
       "        "
      ],
      "text/plain": [
       "<Reaction ATPM at 0x162062ccc40>"
      ]
     },
     "execution_count": 22,
     "metadata": {},
     "output_type": "execute_result"
    }
   ],
   "source": [
    "iMM904.reactions.ATPM"
   ]
  },
  {
   "cell_type": "code",
   "execution_count": null,
   "metadata": {},
   "outputs": [
    {
     "data": {
      "text/plain": [
       "962    1.469697\n",
       "Name: growth, dtype: float64"
      ]
     },
     "execution_count": 30,
     "metadata": {},
     "output_type": "execute_result"
    }
   ],
   "source": [
    "max_fluxes_deletion = deletions.growth[deletions.growth == max(deletions.growth)]\n",
    "max_fluxes_deletion"
   ]
  },
  {
   "cell_type": "markdown",
   "metadata": {},
   "source": [
    "Knocing out ATPM"
   ]
  },
  {
   "cell_type": "code",
   "execution_count": null,
   "metadata": {},
   "outputs": [
    {
     "data": {
      "text/html": [
       "\n",
       "        <table>\n",
       "            <tr>\n",
       "                <td><strong>Reaction identifier</strong></td><td>ATPM</td>\n",
       "            </tr><tr>\n",
       "                <td><strong>Name</strong></td><td>ATP maintenance requirement</td>\n",
       "            </tr><tr>\n",
       "                <td><strong>Memory address</strong></td>\n",
       "                <td>0x026fa59e9708</td>\n",
       "            </tr><tr>\n",
       "                <td><strong>Stoichiometry</strong></td>\n",
       "                <td>\n",
       "                    <p style='text-align:right'>atp_c + h2o_c --> adp_c + h_c + pi_c</p>\n",
       "                    <p style='text-align:right'>ATP C10H12N5O13P3 + H2O H2O --> ADP C10H12N5O10P2 + H+ + Phosphate</p>\n",
       "                </td>\n",
       "            </tr><tr>\n",
       "                <td><strong>GPR</strong></td><td></td>\n",
       "            </tr><tr>\n",
       "                <td><strong>Lower bound</strong></td><td>1.0</td>\n",
       "            </tr><tr>\n",
       "                <td><strong>Upper bound</strong></td><td>1.0</td>\n",
       "            </tr>\n",
       "        </table>\n",
       "        "
      ],
      "text/plain": [
       "<Reaction ATPM at 0x26fa59e9708>"
      ]
     },
     "execution_count": 31,
     "metadata": {},
     "output_type": "execute_result"
    }
   ],
   "source": [
    "iMM904.reactions.ATPM"
   ]
  },
  {
   "cell_type": "code",
   "execution_count": 17,
   "metadata": {},
   "outputs": [
    {
     "data": {
      "text/html": [
       "\n",
       "        <table>\n",
       "            <tr>\n",
       "                <td><strong>Reaction identifier</strong></td><td>ATPM</td>\n",
       "            </tr><tr>\n",
       "                <td><strong>Name</strong></td><td>ATP maintenance requirement</td>\n",
       "            </tr><tr>\n",
       "                <td><strong>Memory address</strong></td>\n",
       "                <td>0x016209bf38b0</td>\n",
       "            </tr><tr>\n",
       "                <td><strong>Stoichiometry</strong></td>\n",
       "                <td>\n",
       "                    <p style='text-align:right'>atp_c + h2o_c --> adp_c + h_c + pi_c</p>\n",
       "                    <p style='text-align:right'>ATP C10H12N5O13P3 + H2O H2O --> ADP C10H12N5O10P2 + H+ + Phosphate</p>\n",
       "                </td>\n",
       "            </tr><tr>\n",
       "                <td><strong>GPR</strong></td><td></td>\n",
       "            </tr><tr>\n",
       "                <td><strong>Lower bound</strong></td><td>0</td>\n",
       "            </tr><tr>\n",
       "                <td><strong>Upper bound</strong></td><td>0</td>\n",
       "            </tr>\n",
       "        </table>\n",
       "        "
      ],
      "text/plain": [
       "<Reaction ATPM at 0x16209bf38b0>"
      ]
     },
     "execution_count": 17,
     "metadata": {},
     "output_type": "execute_result"
    }
   ],
   "source": [
    "iMM904_Manual_ko_9=iMM904.copy()\n",
    "#changing source to sucrose\n",
    "medium09 = iMM904_Manual_ko_9.medium\n",
    "medium09['EX_sucr_e'] = 10\n",
    "medium09['EX_glc__D_e'] = 0\n",
    "iMM904_Manual_ko_9.medium = medium09\n",
    "#knocing out the specific gene\n",
    "iMM904_Manual_ko_9.reactions.ATPM.knock_out()\n",
    "\n",
    "iMM904_Manual_ko_9.reactions.ATPM"
   ]
  },
  {
   "cell_type": "code",
   "execution_count": 19,
   "metadata": {},
   "outputs": [
    {
     "name": "stdout",
     "output_type": "stream",
     "text": [
      "Maximum AA productivity =  1.4696969696969708 mmol/gDW*h\n",
      "Maximum theoretical yield is =  0.14696969696969708 mmol/gDW*h\n"
     ]
    }
   ],
   "source": [
    "with iMM904_Manual_ko_9:\n",
    "    iMM904_Manual_ko_9.reactions.ATPM.knock_out()\n",
    "    iMM904_Manual_ko_9.objective = iMM904_Manual_ko_9.reactions.ALDH1\n",
    "    \n",
    "    AA_max_production = iMM904_Manual_ko_9.optimize().objective_value\n",
    "    print(\"Maximum AA productivity = \",AA_max_production , \"mmol/gDW*h\")\n",
    "\n",
    "    sucrose_uptake_flux = iMM904_Manual_ko_9.reactions.EX_sucr_e.flux #Glucose exchange reaction\n",
    "    max_yield = AA_max_production/ (-1*sucrose_uptake_flux)\n",
    "    print(\"Maximum theoretical yield is = \", max_yield, \"mmol/gDW*h\")\n",
    "   "
   ]
  },
  {
   "cell_type": "markdown",
   "metadata": {},
   "source": [
    "Double knockout "
   ]
  },
  {
   "cell_type": "code",
   "execution_count": null,
   "metadata": {},
   "outputs": [],
   "source": [
    "import pandas\n",
    "from time import time\n",
    "\n",
    "from cobra.io import load_model\n",
    "from cobra.flux_analysis import (\n",
    "    single_gene_deletion, single_reaction_deletion, double_gene_deletion,\n",
    "    double_reaction_deletion)\n"
   ]
  },
  {
   "cell_type": "code",
   "execution_count": null,
   "metadata": {},
   "outputs": [
    {
     "data": {
      "text/html": [
       "<div>\n",
       "<style scoped>\n",
       "    .dataframe tbody tr th:only-of-type {\n",
       "        vertical-align: middle;\n",
       "    }\n",
       "\n",
       "    .dataframe tbody tr th {\n",
       "        vertical-align: top;\n",
       "    }\n",
       "\n",
       "    .dataframe thead th {\n",
       "        text-align: right;\n",
       "    }\n",
       "</style>\n",
       "<table border=\"1\" class=\"dataframe\">\n",
       "  <thead>\n",
       "    <tr style=\"text-align: right;\">\n",
       "      <th></th>\n",
       "      <th>ids</th>\n",
       "      <th>growth</th>\n",
       "      <th>status</th>\n",
       "    </tr>\n",
       "  </thead>\n",
       "  <tbody>\n",
       "    <tr>\n",
       "      <th>0</th>\n",
       "      <td>{YOR377W}</td>\n",
       "      <td>0.2879</td>\n",
       "      <td>optimal</td>\n",
       "    </tr>\n",
       "    <tr>\n",
       "      <th>1</th>\n",
       "      <td>{YGR177C, YEL021W}</td>\n",
       "      <td>0.0000</td>\n",
       "      <td>optimal</td>\n",
       "    </tr>\n",
       "    <tr>\n",
       "      <th>2</th>\n",
       "      <td>{YKL184W, YEL021W}</td>\n",
       "      <td>0.0000</td>\n",
       "      <td>optimal</td>\n",
       "    </tr>\n",
       "    <tr>\n",
       "      <th>3</th>\n",
       "      <td>{YGR177C, YOR377W}</td>\n",
       "      <td>0.2879</td>\n",
       "      <td>optimal</td>\n",
       "    </tr>\n",
       "    <tr>\n",
       "      <th>4</th>\n",
       "      <td>{YOR377W, YEL021W}</td>\n",
       "      <td>0.0000</td>\n",
       "      <td>optimal</td>\n",
       "    </tr>\n",
       "    <tr>\n",
       "      <th>5</th>\n",
       "      <td>{YOR377W, YOR184W}</td>\n",
       "      <td>0.2856</td>\n",
       "      <td>optimal</td>\n",
       "    </tr>\n",
       "    <tr>\n",
       "      <th>6</th>\n",
       "      <td>{YOR184W, YKL184W}</td>\n",
       "      <td>0.2856</td>\n",
       "      <td>optimal</td>\n",
       "    </tr>\n",
       "    <tr>\n",
       "      <th>7</th>\n",
       "      <td>{YKL184W}</td>\n",
       "      <td>0.2879</td>\n",
       "      <td>optimal</td>\n",
       "    </tr>\n",
       "    <tr>\n",
       "      <th>8</th>\n",
       "      <td>{YOR184W}</td>\n",
       "      <td>0.2856</td>\n",
       "      <td>optimal</td>\n",
       "    </tr>\n",
       "    <tr>\n",
       "      <th>9</th>\n",
       "      <td>{YGR177C, YOR184W}</td>\n",
       "      <td>0.2856</td>\n",
       "      <td>optimal</td>\n",
       "    </tr>\n",
       "    <tr>\n",
       "      <th>10</th>\n",
       "      <td>{YEL021W}</td>\n",
       "      <td>0.0000</td>\n",
       "      <td>optimal</td>\n",
       "    </tr>\n",
       "    <tr>\n",
       "      <th>11</th>\n",
       "      <td>{YGR177C, YKL184W}</td>\n",
       "      <td>0.2879</td>\n",
       "      <td>optimal</td>\n",
       "    </tr>\n",
       "    <tr>\n",
       "      <th>12</th>\n",
       "      <td>{YOR184W, YEL021W}</td>\n",
       "      <td>-0.0000</td>\n",
       "      <td>optimal</td>\n",
       "    </tr>\n",
       "    <tr>\n",
       "      <th>13</th>\n",
       "      <td>{YOR377W, YKL184W}</td>\n",
       "      <td>0.2879</td>\n",
       "      <td>optimal</td>\n",
       "    </tr>\n",
       "    <tr>\n",
       "      <th>14</th>\n",
       "      <td>{YGR177C}</td>\n",
       "      <td>0.2879</td>\n",
       "      <td>optimal</td>\n",
       "    </tr>\n",
       "  </tbody>\n",
       "</table>\n",
       "</div>"
      ],
      "text/plain": [
       "                   ids  growth   status\n",
       "0            {YOR377W}  0.2879  optimal\n",
       "1   {YGR177C, YEL021W}  0.0000  optimal\n",
       "2   {YKL184W, YEL021W}  0.0000  optimal\n",
       "3   {YGR177C, YOR377W}  0.2879  optimal\n",
       "4   {YOR377W, YEL021W}  0.0000  optimal\n",
       "5   {YOR377W, YOR184W}  0.2856  optimal\n",
       "6   {YOR184W, YKL184W}  0.2856  optimal\n",
       "7            {YKL184W}  0.2879  optimal\n",
       "8            {YOR184W}  0.2856  optimal\n",
       "9   {YGR177C, YOR184W}  0.2856  optimal\n",
       "10           {YEL021W}  0.0000  optimal\n",
       "11  {YGR177C, YKL184W}  0.2879  optimal\n",
       "12  {YOR184W, YEL021W} -0.0000  optimal\n",
       "13  {YOR377W, YKL184W}  0.2879  optimal\n",
       "14           {YGR177C}  0.2879  optimal"
      ]
     },
     "execution_count": 5,
     "metadata": {},
     "output_type": "execute_result"
    }
   ],
   "source": [
    "double_gene_deletion(\n",
    "    iMM904, iMM904.genes[-5:]).round(4)\n"
   ]
  },
  {
   "cell_type": "code",
   "execution_count": null,
   "metadata": {},
   "outputs": [
    {
     "name": "stdout",
     "output_type": "stream",
     "text": [
      "Double gene deletions for 200 genes completed in 15.31 sec with 2 cores\n",
      "Double gene deletions for 200 genes completed in 2.23 sec with 1 core\n",
      "Speedup of 0.15x\n"
     ]
    }
   ],
   "source": [
    "start = time()  # start timer()\n",
    "double_gene_deletion(\n",
    "    iMM904, iMM904.genes[:25], processes=2)\n",
    "t1 = time() - start\n",
    "print(\"Double gene deletions for 200 genes completed in \"\n",
    "      \"%.2f sec with 2 cores\" % t1)\n",
    "\n",
    "start = time()  # start timer()\n",
    "double_gene_deletion(\n",
    "    iMM904, iMM904.genes[:25], processes=1)\n",
    "t2 = time() - start\n",
    "print(\"Double gene deletions for 200 genes completed in \"\n",
    "      \"%.2f sec with 1 core\" % t2)\n",
    "\n",
    "print(\"Speedup of %.2fx\" % (t2 / t1))\n"
   ]
  },
  {
   "cell_type": "code",
   "execution_count": null,
   "metadata": {},
   "outputs": [
    {
     "data": {
      "text/html": [
       "<div>\n",
       "<style scoped>\n",
       "    .dataframe tbody tr th:only-of-type {\n",
       "        vertical-align: middle;\n",
       "    }\n",
       "\n",
       "    .dataframe tbody tr th {\n",
       "        vertical-align: top;\n",
       "    }\n",
       "\n",
       "    .dataframe thead th {\n",
       "        text-align: right;\n",
       "    }\n",
       "</style>\n",
       "<table border=\"1\" class=\"dataframe\">\n",
       "  <thead>\n",
       "    <tr style=\"text-align: right;\">\n",
       "      <th></th>\n",
       "      <th>ids</th>\n",
       "      <th>growth</th>\n",
       "      <th>status</th>\n",
       "    </tr>\n",
       "  </thead>\n",
       "  <tbody>\n",
       "    <tr>\n",
       "      <th>0</th>\n",
       "      <td>{23CAPPD}</td>\n",
       "      <td>0.2879</td>\n",
       "      <td>optimal</td>\n",
       "    </tr>\n",
       "    <tr>\n",
       "      <th>1</th>\n",
       "      <td>{2DDA7Ptm, 23CAPPD}</td>\n",
       "      <td>0.2879</td>\n",
       "      <td>optimal</td>\n",
       "    </tr>\n",
       "    <tr>\n",
       "      <th>2</th>\n",
       "      <td>{2DDA7Ptm, 13BGHe}</td>\n",
       "      <td>0.2879</td>\n",
       "      <td>optimal</td>\n",
       "    </tr>\n",
       "    <tr>\n",
       "      <th>3</th>\n",
       "      <td>{16GS, 23CAPPD}</td>\n",
       "      <td>0.2879</td>\n",
       "      <td>optimal</td>\n",
       "    </tr>\n",
       "    <tr>\n",
       "      <th>4</th>\n",
       "      <td>{16GS}</td>\n",
       "      <td>0.2879</td>\n",
       "      <td>optimal</td>\n",
       "    </tr>\n",
       "    <tr>\n",
       "      <th>5</th>\n",
       "      <td>{16GS, 13BGHe}</td>\n",
       "      <td>0.2879</td>\n",
       "      <td>optimal</td>\n",
       "    </tr>\n",
       "    <tr>\n",
       "      <th>6</th>\n",
       "      <td>{13BGHe}</td>\n",
       "      <td>0.2879</td>\n",
       "      <td>optimal</td>\n",
       "    </tr>\n",
       "    <tr>\n",
       "      <th>7</th>\n",
       "      <td>{23CAPPD, 13GS}</td>\n",
       "      <td>0.0000</td>\n",
       "      <td>optimal</td>\n",
       "    </tr>\n",
       "    <tr>\n",
       "      <th>8</th>\n",
       "      <td>{13GS}</td>\n",
       "      <td>0.0000</td>\n",
       "      <td>optimal</td>\n",
       "    </tr>\n",
       "    <tr>\n",
       "      <th>9</th>\n",
       "      <td>{2DDA7Ptm, 13GS}</td>\n",
       "      <td>0.0000</td>\n",
       "      <td>optimal</td>\n",
       "    </tr>\n",
       "    <tr>\n",
       "      <th>10</th>\n",
       "      <td>{13GS, 13BGHe}</td>\n",
       "      <td>0.0000</td>\n",
       "      <td>optimal</td>\n",
       "    </tr>\n",
       "    <tr>\n",
       "      <th>11</th>\n",
       "      <td>{16GS, 13GS}</td>\n",
       "      <td>0.0000</td>\n",
       "      <td>optimal</td>\n",
       "    </tr>\n",
       "    <tr>\n",
       "      <th>12</th>\n",
       "      <td>{2DDA7Ptm}</td>\n",
       "      <td>0.2879</td>\n",
       "      <td>optimal</td>\n",
       "    </tr>\n",
       "    <tr>\n",
       "      <th>13</th>\n",
       "      <td>{23CAPPD, 13BGHe}</td>\n",
       "      <td>0.2879</td>\n",
       "      <td>optimal</td>\n",
       "    </tr>\n",
       "    <tr>\n",
       "      <th>14</th>\n",
       "      <td>{16GS, 2DDA7Ptm}</td>\n",
       "      <td>0.2879</td>\n",
       "      <td>optimal</td>\n",
       "    </tr>\n",
       "  </tbody>\n",
       "</table>\n",
       "</div>"
      ],
      "text/plain": [
       "                    ids  growth   status\n",
       "0             {23CAPPD}  0.2879  optimal\n",
       "1   {2DDA7Ptm, 23CAPPD}  0.2879  optimal\n",
       "2    {2DDA7Ptm, 13BGHe}  0.2879  optimal\n",
       "3       {16GS, 23CAPPD}  0.2879  optimal\n",
       "4                {16GS}  0.2879  optimal\n",
       "5        {16GS, 13BGHe}  0.2879  optimal\n",
       "6              {13BGHe}  0.2879  optimal\n",
       "7       {23CAPPD, 13GS}  0.0000  optimal\n",
       "8                {13GS}  0.0000  optimal\n",
       "9      {2DDA7Ptm, 13GS}  0.0000  optimal\n",
       "10       {13GS, 13BGHe}  0.0000  optimal\n",
       "11         {16GS, 13GS}  0.0000  optimal\n",
       "12           {2DDA7Ptm}  0.2879  optimal\n",
       "13    {23CAPPD, 13BGHe}  0.2879  optimal\n",
       "14     {16GS, 2DDA7Ptm}  0.2879  optimal"
      ]
     },
     "execution_count": 7,
     "metadata": {},
     "output_type": "execute_result"
    }
   ],
   "source": [
    "double_reaction_deletion(\n",
    "    iMM904, iMM904.reactions[2:7]).round(4)\n"
   ]
  }
 ],
 "metadata": {
  "kernelspec": {
   "display_name": "Python 3 (ipykernel)",
   "language": "python",
   "name": "python3"
  },
  "language_info": {
   "codemirror_mode": {
    "name": "ipython",
    "version": 3
   },
   "file_extension": ".py",
   "mimetype": "text/x-python",
   "name": "python",
   "nbconvert_exporter": "python",
   "pygments_lexer": "ipython3",
   "version": "3.8.8"
  }
 },
 "nbformat": 4,
 "nbformat_minor": 5
}
