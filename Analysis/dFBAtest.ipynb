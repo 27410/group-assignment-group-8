{
 "cells": [
  {
   "cell_type": "code",
   "execution_count": 1,
   "id": "122c1369",
   "metadata": {},
   "outputs": [
    {
     "name": "stderr",
     "output_type": "stream",
     "text": [
      "/Library/Frameworks/Python.framework/Versions/3.7/lib/python3.7/site-packages/nbformat/__init__.py:93: MissingIDFieldWarning: Code cell is missing an id field, this will become a hard error in future nbformat versions. You may want to use `normalize()` on your notebooks before validations (available since nbformat 5.1.4). Previous versions of nbformat are fixing this issue transparently, and will stop doing so in the future.\n",
      "  validate(nb)\n"
     ]
    },
    {
     "name": "stdout",
     "output_type": "stream",
     "text": [
      "ADS: frdp_c --> AMOR + ppi_c\n",
      "CPR1_CYP71AV1: AMOR + h_c + nadph_c + o2_c --> AAOH + h2o_c + nadp_c\n",
      "ADH1: AAOH + nad_c --> AAld + h_c + nadh_c\n",
      "ALDH1: AAld + h2o_c + nadp_c --> AA + h_c + nadph_c\n"
     ]
    }
   ],
   "source": [
    "%run 01_Model_CFE.ipynb\n"
   ]
  },
  {
   "cell_type": "code",
   "execution_count": 2,
   "metadata": {},
   "outputs": [],
   "source": [
    "import numpy as np\n",
    "from tqdm import tqdm\n",
    "\n",
    "from scipy.integrate import solve_ivp\n",
    "\n",
    "import matplotlib.pyplot as plt\n",
    "%matplotlib inline"
   ]
  },
  {
   "cell_type": "code",
   "execution_count": 3,
   "metadata": {},
   "outputs": [
    {
     "data": {
      "application/vnd.jupyter.widget-view+json": {
       "model_id": "24d7d79d2b404af6a7d330efebc5d229",
       "version_major": 2,
       "version_minor": 0
      },
      "text/plain": [
       "Output()"
      ]
     },
     "metadata": {},
     "output_type": "display_data"
    }
   ],
   "source": [
    "import cobra\n",
    "from cobra.io import load_model\n",
    "iMM904 = load_model('iMM904')"
   ]
  },
  {
   "cell_type": "code",
   "execution_count": 4,
   "metadata": {},
   "outputs": [],
   "source": [
    "def add_dynamic_bounds(iMM904, y):\n",
    "    \"\"\"Use external concentrations to bound the uptake flux of glucose.\"\"\"\n",
    "    biomass, glucose = y  # expand the boundary species\n",
    "    glucose_max_import = -10 * glucose / (5 + glucose)\n",
    "    iMM904.reactions.EX_glc__D_e.lower_bound = glucose_max_import\n",
    "\n",
    "\n",
    "def dynamic_system(t, y):\n",
    "    \"\"\"Calculate the time derivative of external species.\"\"\"\n",
    "\n",
    "    biomass, glucose = y  # expand the boundary species\n",
    "\n",
    "    # Calculate the specific exchanges fluxes at the given external concentrations.\n",
    "    with iMM904:\n",
    "        add_dynamic_bounds(iMM904, y)\n",
    "\n",
    "        cobra.util.add_lp_feasibility(iMM904)\n",
    "        feasibility = cobra.util.fix_objective_as_constraint(iMM904)\n",
    "        lex_constraints = cobra.util.add_lexicographic_constraints(\n",
    "            iMM904, ['BIOMASS_SC5_notrace', 'EX_glc__D_e'], ['max', 'max'])\n",
    "    fluxes = lex_constraints.values\n",
    "    fluxes *= biomass\n",
    "    if dynamic_system.pbar is not None:\n",
    "        dynamic_system.pbar.update(1)\n",
    "        dynamic_system.pbar.set_description('t = {:.3f}'.format(t))\n",
    "\n",
    "    return fluxes\n"
   ]
  },
  {
   "cell_type": "code",
   "execution_count": 5,
   "metadata": {},
   "outputs": [],
   "source": [
    "dynamic_system.pbar = None"
   ]
  },
  {
   "cell_type": "code",
   "execution_count": 6,
   "metadata": {},
   "outputs": [],
   "source": [
    "\n",
    "def infeasible_event(t, y):\n",
    "    with iMM904:\n",
    "\n",
    "        add_dynamic_bounds(iMM904, y)\n",
    "\n",
    "        cobra.util.add_lp_feasibility(iMM904)\n",
    "        feasibility = cobra.util.fix_objective_as_constraint(iMM904)\n",
    "\n",
    "    return feasibility - infeasible_event.epsilon\n",
    "\n",
    "infeasible_event.epsilon = 1E-6\n",
    "infeasible_event.direction = 1\n",
    "infeasible_event.terminal = True"
   ]
  },
  {
   "cell_type": "code",
   "execution_count": 7,
   "metadata": {},
   "outputs": [
    {
     "name": "stderr",
     "output_type": "stream",
     "text": [
      "t = 12.513: : 244it [08:48,  2.17s/it]\n"
     ]
    }
   ],
   "source": [
    "ts = np.linspace(0, 15, 100)  # Desired integration resolution and interval\n",
    "y0 = [0.1, 10]\n",
    "\n",
    "with tqdm() as pbar:\n",
    "    dynamic_system.pbar = pbar\n",
    "\n",
    "    sol = solve_ivp(\n",
    "        fun=dynamic_system,\n",
    "        events=[infeasible_event],\n",
    "        t_span=(ts.min(), ts.max()),\n",
    "        y0=y0,\n",
    "        t_eval=ts,\n",
    "        rtol=1e-6,\n",
    "        atol=1e-8,\n",
    "        method='BDF'\n",
    "    )"
   ]
  },
  {
   "cell_type": "code",
   "execution_count": 8,
   "metadata": {},
   "outputs": [
    {
     "data": {
      "text/plain": [
       "  message: 'A termination event occurred.'\n",
       "     nfev: 232\n",
       "     njev: 4\n",
       "      nlu: 20\n",
       "      sol: None\n",
       "   status: 1\n",
       "  success: True\n",
       "        t: array([ 0.        ,  0.15151515,  0.3030303 ,  0.45454545,  0.60606061,\n",
       "        0.75757576,  0.90909091,  1.06060606,  1.21212121,  1.36363636,\n",
       "        1.51515152,  1.66666667,  1.81818182,  1.96969697,  2.12121212,\n",
       "        2.27272727,  2.42424242,  2.57575758,  2.72727273,  2.87878788,\n",
       "        3.03030303,  3.18181818,  3.33333333,  3.48484848,  3.63636364,\n",
       "        3.78787879,  3.93939394,  4.09090909,  4.24242424,  4.39393939,\n",
       "        4.54545455,  4.6969697 ,  4.84848485,  5.        ,  5.15151515,\n",
       "        5.3030303 ,  5.45454545,  5.60606061,  5.75757576,  5.90909091,\n",
       "        6.06060606,  6.21212121,  6.36363636,  6.51515152,  6.66666667,\n",
       "        6.81818182,  6.96969697,  7.12121212,  7.27272727,  7.42424242,\n",
       "        7.57575758,  7.72727273,  7.87878788,  8.03030303,  8.18181818,\n",
       "        8.33333333,  8.48484848,  8.63636364,  8.78787879,  8.93939394,\n",
       "        9.09090909,  9.24242424,  9.39393939,  9.54545455,  9.6969697 ,\n",
       "        9.84848485, 10.        , 10.15151515, 10.3030303 , 10.45454545,\n",
       "       10.60606061, 10.75757576, 10.90909091, 11.06060606, 11.21212121,\n",
       "       11.36363636, 11.51515152, 11.66666667, 11.81818182, 11.96969697,\n",
       "       12.12121212, 12.27272727, 12.42424242])\n",
       " t_events: [array([12.47694809])]\n",
       "        y: array([[ 0.1       ,  0.10320807,  0.10651001,  0.10990793,  0.11340384,\n",
       "         0.11699975,  0.12069762,  0.12449939,  0.1284069 ,  0.13242201,\n",
       "         0.1365464 ,  0.14078178,  0.14512967,  0.14959152,  0.15416866,\n",
       "         0.15886221,  0.16367324,  0.16860247,  0.17365055,  0.17881784,\n",
       "         0.18410447,  0.18951027,  0.19503473,  0.20067705,  0.20643601,\n",
       "         0.21230999,  0.21829696,  0.22439438,  0.23059921,  0.23690788,\n",
       "         0.2433162 ,  0.24981941,  0.25641207,  0.26308805,  0.26984053,\n",
       "         0.27666198,  0.28354409,  0.29047788,  0.29745352,  0.30446059,\n",
       "         0.31148795,  0.31852387,  0.32555609,  0.33257192,  0.33955831,\n",
       "         0.34650211,  0.35339014,  0.36020943,  0.36694744,  0.37359224,\n",
       "         0.38013277,  0.38655905,  0.39286239,  0.39903555,  0.4050729 ,\n",
       "         0.41096995,  0.41672136,  0.42232393,  0.42777859,  0.43308907,\n",
       "         0.43826018,  0.44329766,  0.44820857,  0.45300107,  0.45767702,\n",
       "         0.46196277,  0.46574178,  0.4690521 ,  0.47193399,  0.47442686,\n",
       "         0.47656869,  0.47839566,  0.47994172,  0.48123835,  0.48231435,\n",
       "         0.48319591,  0.48390667,  0.4844678 ,  0.48489814,  0.48521442,\n",
       "         0.48543139,  0.48556211,  0.48561862],\n",
       "       [10.        ,  9.89755157,  9.79219484,  9.68387302,  9.57253163,\n",
       "         9.45811847,  9.34058261,  9.2198767 ,  9.09595556,  8.9687761 ,\n",
       "         8.83830185,  8.70449625,  8.56733146,  8.42678239,  8.28282989,\n",
       "         8.13546435,  7.98467781,  7.83047771,  7.67287511,  7.51189286,\n",
       "         7.34756399,  7.17993327,  7.00906084,  6.83501845,  6.65789472,\n",
       "         6.47779482,  6.29484108,  6.10917651,  5.92096327,  5.73038621,\n",
       "         5.53765371,  5.34299803,  5.14667749,  4.94897751,  4.75021102,\n",
       "         4.55071853,  4.35087042,  4.15106301,  3.95172416,  3.75330539,\n",
       "         3.55628336,  3.36115621,  3.16844103,  2.97866904,  2.79238131,\n",
       "         2.61012086,  2.43242592,  2.25982274,  2.09281537,  1.93187741,\n",
       "         1.77744273,  1.62989651,  1.4895668 ,  1.35671703,  1.23154025,\n",
       "         1.11415549,  1.00460617,  0.90286073,  0.80881519,  0.72229695,\n",
       "         0.6430714 ,  0.57085056,  0.50530251,  0.44606103,  0.39273532,\n",
       "         0.34493091,  0.30226467,  0.2643412 ,  0.23075922,  0.20112113,\n",
       "         0.17504206,  0.15215596,  0.13211943,  0.11461384,  0.09934746,\n",
       "         0.08605509,  0.0744974 ,  0.06445995,  0.05575172,  0.04820332,\n",
       "         0.04166518,  0.03600564,  0.03110924]])\n",
       " y_events: [array([[0.48562422, 0.02956596]])]"
      ]
     },
     "execution_count": 8,
     "metadata": {},
     "output_type": "execute_result"
    }
   ],
   "source": [
    "sol"
   ]
  },
  {
   "cell_type": "code",
   "execution_count": 9,
   "metadata": {},
   "outputs": [
    {
     "data": {
      "text/plain": [
       "Text(0, 0.5, 'Glucose')"
      ]
     },
     "execution_count": 9,
     "metadata": {},
     "output_type": "execute_result"
    },
    {
     "data": {
      "image/png": "[encoded data removed]",
      "text/plain": [
       "<Figure size 640x480 with 2 Axes>"
      ]
     },
     "metadata": {},
     "output_type": "display_data"
    }
   ],
   "source": [
    "ax = plt.subplot(111)\n",
    "ax.plot(sol.t, sol.y.T[:, 0])\n",
    "ax2 = plt.twinx(ax)\n",
    "ax2.plot(sol.t, sol.y.T[:, 1], color='r')\n",
    "\n",
    "ax.set_ylabel('Biomass', color='b')\n",
    "ax2.set_ylabel('Glucose', color='r')"
   ]
  },
  {
   "cell_type": "code",
   "execution_count": null,
   "metadata": {},
   "outputs": [],
   "source": []
  },
  {
   "cell_type": "code",
   "execution_count": null,
   "metadata": {},
   "outputs": [],
   "source": []
  },
  {
   "cell_type": "code",
   "execution_count": null,
   "metadata": {},
   "outputs": [],
   "source": []
  },
  {
   "cell_type": "code",
   "execution_count": null,
   "metadata": {},
   "outputs": [],
   "source": []
  },
  {
   "cell_type": "code",
   "execution_count": null,
   "metadata": {},
   "outputs": [],
   "source": []
  }
 ],
 "metadata": {
  "kernelspec": {
   "display_name": "Python 3 (ipykernel)",
   "language": "python",
   "name": "python3"
  },
  "language_info": {
   "codemirror_mode": {
    "name": "ipython",
    "version": 3
   },
   "file_extension": ".py",
   "mimetype": "text/x-python",
   "name": "python",
   "nbconvert_exporter": "python",
   "pygments_lexer": "ipython3",
   "version": "3.7.4"
  }
 },
 "nbformat": 4,
 "nbformat_minor": 5
}
