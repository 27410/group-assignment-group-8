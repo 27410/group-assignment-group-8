{
 "cells": [
  {
   "cell_type": "code",
   "execution_count": 11,
   "id": "122c1369",
   "metadata": {},
   "outputs": [
    {
     "name": "stderr",
     "output_type": "stream",
     "text": [
      "c:\\Users\\Skole\\AppData\\Local\\Programs\\Python\\Python39\\lib\\site-packages\\nbformat\\__init__.py:93: MissingIDFieldWarning: Code cell is missing an id field, this will become a hard error in future nbformat versions. You may want to use `normalize()` on your notebooks before validations (available since nbformat 5.1.4). Previous versions of nbformat are fixing this issue transparently, and will stop doing so in the future.\n",
      "  validate(nb)\n"
     ]
    },
    {
     "name": "stdout",
     "output_type": "stream",
     "text": [
      "ADS: frdp_c --> AMOR + ppi_c\n",
      "CPR1_CYP71AV1: AMOR + h_c + nadph_c + o2_c --> AAOH + h2o_c + nadp_c\n",
      "ADH1: AAOH + nad_c --> AAld + h_c + nadh_c\n",
      "ALDH1: AAld + h2o_c + nadp_c --> AA + h_c + nadph_c\n"
     ]
    }
   ],
   "source": [
    "%run 01_Model_CFE.ipynb\n"
   ]
  },
  {
   "cell_type": "code",
   "execution_count": 12,
   "metadata": {},
   "outputs": [],
   "source": [
    "import numpy as np\n",
    "from tqdm import tqdm\n",
    "\n",
    "from scipy.integrate import solve_ivp\n",
    "\n",
    "import matplotlib.pyplot as plt\n",
    "%matplotlib inline"
   ]
  },
  {
   "cell_type": "code",
   "execution_count": 13,
   "metadata": {},
   "outputs": [],
   "source": [
    "import cobra\n",
    "from cobra.io import load_model\n",
    "iMM904 = load_model('iMM904')"
   ]
  },
  {
   "cell_type": "code",
   "execution_count": 14,
   "metadata": {},
   "outputs": [],
   "source": [
    "def add_dynamic_bounds(iMM904, y):\n",
    "    \"\"\"Use external concentrations to bound the uptake flux of sucrose.\"\"\"\n",
    "    biomass, sucrose = y  # expand the boundary species\n",
    "    sucrose_max_import = -10 * sucrose / (5 + sucrose)\n",
    "    iMM904.reactions.EX_sucr__D_e.lower_bound = sucrose_max_import\n",
    "\n",
    "\n",
    "def dynamic_system(t, y):\n",
    "    \"\"\"Calculate the time derivative of external species.\"\"\"\n",
    "\n",
    "    biomass, sucrose = y  # expand the boundary species\n",
    "\n",
    "    # Calculate the specific exchanges fluxes at the given external concentrations.\n",
    "    with iMM904:\n",
    "        add_dynamic_bounds(iMM904, y)\n",
    "\n",
    "        cobra.util.add_lp_feasibility(iMM904)\n",
    "        feasibility = cobra.util.fix_objective_as_constraint(iMM904)\n",
    "        lex_constraints = cobra.util.add_lexicographic_constraints(\n",
    "            iMM904, ['BIOMASS_SC5_notrace', 'EX_sucr_e'], ['max', 'max'])\n",
    "    fluxes = lex_constraints.values\n",
    "    fluxes *= biomass\n",
    "    if dynamic_system.pbar is not None:\n",
    "        dynamic_system.pbar.update(1)\n",
    "        dynamic_system.pbar.set_description('t = {:.3f}'.format(t))\n",
    "\n",
    "    return fluxes\n"
   ]
  },
  {
   "cell_type": "code",
   "execution_count": 15,
   "metadata": {},
   "outputs": [],
   "source": [
    "dynamic_system.pbar = None"
   ]
  },
  {
   "cell_type": "code",
   "execution_count": 16,
   "metadata": {},
   "outputs": [],
   "source": [
    "\n",
    "def infeasible_event(t, y):\n",
    "    with iMM904:\n",
    "\n",
    "        add_dynamic_bounds(iMM904, y)\n",
    "\n",
    "        cobra.util.add_lp_feasibility(iMM904)\n",
    "        feasibility = cobra.util.fix_objective_as_constraint(iMM904)\n",
    "\n",
    "    return feasibility - infeasible_event.epsilon\n",
    "\n",
    "infeasible_event.epsilon = 1E-6\n",
    "infeasible_event.direction = 1\n",
    "infeasible_event.terminal = True"
   ]
  },
  {
   "cell_type": "code",
   "execution_count": 17,
   "metadata": {},
   "outputs": [
    {
     "name": "stderr",
     "output_type": "stream",
     "text": [
      "0it [00:00, ?it/s]\n"
     ]
    }
   ],
   "source": [
    "ts = np.linspace(0, 15, 100)  # Desired integration resolution and interval\n",
    "y0 = [0.1, 10]\n",
    "\n",
    "with tqdm() as pbar:\n",
    "    dynamic_system.pbar = pbar\n",
    "\n",
    "    sol = solve_ivp(\n",
    "        fun=dynamic_system,\n",
    "        events=[infeasible_event],\n",
    "        t_span=(ts.min(), ts.max()),\n",
    "        y0=y0,\n",
    "        t_eval=ts,\n",
    "        rtol=1e-6,\n",
    "        atol=1e-8,\n",
    "        method='BDF'\n",
    "    )"
   ]
  },
  {
   "cell_type": "code",
   "execution_count": null,
   "metadata": {},
   "outputs": [
    {
     "data": {
      "text/plain": [
       "  message: 'The solver successfully reached the end of the integration interval.'\n",
       "     nfev: 84\n",
       "     njev: 1\n",
       "      nlu: 11\n",
       "      sol: None\n",
       "   status: 0\n",
       "  success: True\n",
       "        t: array([ 0.        ,  0.15151515,  0.3030303 ,  0.45454545,  0.60606061,\n",
       "        0.75757576,  0.90909091,  1.06060606,  1.21212121,  1.36363636,\n",
       "        1.51515152,  1.66666667,  1.81818182,  1.96969697,  2.12121212,\n",
       "        2.27272727,  2.42424242,  2.57575758,  2.72727273,  2.87878788,\n",
       "        3.03030303,  3.18181818,  3.33333333,  3.48484848,  3.63636364,\n",
       "        3.78787879,  3.93939394,  4.09090909,  4.24242424,  4.39393939,\n",
       "        4.54545455,  4.6969697 ,  4.84848485,  5.        ,  5.15151515,\n",
       "        5.3030303 ,  5.45454545,  5.60606061,  5.75757576,  5.90909091,\n",
       "        6.06060606,  6.21212121,  6.36363636,  6.51515152,  6.66666667,\n",
       "        6.81818182,  6.96969697,  7.12121212,  7.27272727,  7.42424242,\n",
       "        7.57575758,  7.72727273,  7.87878788,  8.03030303,  8.18181818,\n",
       "        8.33333333,  8.48484848,  8.63636364,  8.78787879,  8.93939394,\n",
       "        9.09090909,  9.24242424,  9.39393939,  9.54545455,  9.6969697 ,\n",
       "        9.84848485, 10.        , 10.15151515, 10.3030303 , 10.45454545,\n",
       "       10.60606061, 10.75757576, 10.90909091, 11.06060606, 11.21212121,\n",
       "       11.36363636, 11.51515152, 11.66666667, 11.81818182, 11.96969697,\n",
       "       12.12121212, 12.27272727, 12.42424242, 12.57575758, 12.72727273,\n",
       "       12.87878788, 13.03030303, 13.18181818, 13.33333333, 13.48484848,\n",
       "       13.63636364, 13.78787879, 13.93939394, 14.09090909, 14.24242424,\n",
       "       14.39393939, 14.54545455, 14.6969697 , 14.84848485, 15.        ])\n",
       " t_events: [array([], dtype=float64)]\n",
       "        y: array([[ 0.1       ,  0.10321231,  0.10652777,  0.10994972,  0.11348158,\n",
       "         0.11712691,  0.1208893 ,  0.12477257,  0.12878057,  0.13291731,\n",
       "         0.13718693,  0.1415937 ,  0.14614202,  0.15083644,  0.15568166,\n",
       "         0.16068252,  0.16584401,  0.17117131,  0.17666973,  0.18234478,\n",
       "         0.18820213,  0.19424762,  0.2004873 ,  0.20692742,  0.21357442,\n",
       "         0.22043492,  0.2275158 ,  0.23482414,  0.24236724,  0.25015264,\n",
       "         0.25818812,  0.26648173,  0.27504175,  0.28387672,  0.29299551,\n",
       "         0.30240721,  0.31212123,  0.32214729,  0.33249542,  0.34317595,\n",
       "         0.35419955,  0.36557727,  0.37732048,  0.38944091,  0.40195064,\n",
       "         0.41486226,  0.42818862,  0.44194305,  0.45613928,  0.47079157,\n",
       "         0.48591452,  0.50152324,  0.51763332,  0.53426094,  0.55142268,\n",
       "         0.56913567,  0.58741763,  0.60628689,  0.62576226,  0.64586321,\n",
       "         0.66660984,  0.68802294,  0.71012388,  0.73293472,  0.75647829,\n",
       "         0.78077818,  0.80585864,  0.83174469,  0.85846228,  0.88603815,\n",
       "         0.9144998 ,  0.94387566,  0.97419517,  1.00548865,  1.03778733,\n",
       "         1.07112346,  1.10553048,  1.14104277,  1.17769577,  1.21552607,\n",
       "         1.25457166,  1.29487151,  1.33646584,  1.3793962 ,  1.4237057 ,\n",
       "         1.46943854,  1.51664037,  1.56535835,  1.61564141,  1.66753967,\n",
       "         1.72110498,  1.77639084,  1.83345277,  1.89234765,  1.9531343 ,\n",
       "         2.0158735 ,  2.08062818,  2.14746292,  2.21644446,  2.28764166],\n",
       "       [10.        , 10.        , 10.        , 10.        , 10.        ,\n",
       "        10.        , 10.        , 10.        , 10.        , 10.        ,\n",
       "        10.        , 10.        , 10.        , 10.        , 10.        ,\n",
       "        10.        , 10.        , 10.        , 10.        , 10.        ,\n",
       "        10.        , 10.        , 10.        , 10.        , 10.        ,\n",
       "        10.        , 10.        , 10.        , 10.        , 10.        ,\n",
       "        10.        , 10.        , 10.        , 10.        , 10.        ,\n",
       "        10.        , 10.        , 10.        , 10.        , 10.        ,\n",
       "        10.        , 10.        , 10.        , 10.        , 10.        ,\n",
       "        10.        , 10.        , 10.        , 10.        , 10.        ,\n",
       "        10.        , 10.        , 10.        , 10.        , 10.        ,\n",
       "        10.        , 10.        , 10.        , 10.        , 10.        ,\n",
       "        10.        , 10.        , 10.        , 10.        , 10.        ,\n",
       "        10.        , 10.        , 10.        , 10.        , 10.        ,\n",
       "        10.        , 10.        , 10.        , 10.        , 10.        ,\n",
       "        10.        , 10.        , 10.        , 10.        , 10.        ,\n",
       "        10.        , 10.        , 10.        , 10.        , 10.        ,\n",
       "        10.        , 10.        , 10.        , 10.        , 10.        ,\n",
       "        10.        , 10.        , 10.        , 10.        , 10.        ,\n",
       "        10.        , 10.        , 10.        , 10.        , 10.        ]])\n",
       " y_events: [array([], dtype=float64)]"
      ]
     },
     "execution_count": 9,
     "metadata": {},
     "output_type": "execute_result"
    }
   ],
   "source": [
    "sol"
   ]
  },
  {
   "cell_type": "code",
   "execution_count": null,
   "metadata": {},
   "outputs": [
    {
     "data": {
      "text/plain": [
       "Text(0, 0.5, 'Sucrose')"
      ]
     },
     "execution_count": 10,
     "metadata": {},
     "output_type": "execute_result"
    },
    {
     "data": {
      "image/png": "[encoded data removed]",
      "text/plain": [
       "<Figure size 640x480 with 2 Axes>"
      ]
     },
     "metadata": {},
     "output_type": "display_data"
    }
   ],
   "source": [
    "ax = plt.subplot(111)\n",
    "ax.plot(sol.t, sol.y.T[:, 0])\n",
    "ax2 = plt.twinx(ax)\n",
    "ax2.plot(sol.t, sol.y.T[:, 1], color='r')\n",
    "\n",
    "ax.set_ylabel('Biomass', color='b')\n",
    "ax2.set_ylabel('Sucrose', color='r')"
   ]
  },
  {
   "cell_type": "code",
   "execution_count": null,
   "metadata": {},
   "outputs": [],
   "source": []
  },
  {
   "cell_type": "code",
   "execution_count": null,
   "metadata": {},
   "outputs": [],
   "source": []
  },
  {
   "cell_type": "code",
   "execution_count": null,
   "metadata": {},
   "outputs": [],
   "source": []
  },
  {
   "cell_type": "code",
   "execution_count": null,
   "metadata": {},
   "outputs": [],
   "source": []
  },
  {
   "cell_type": "code",
   "execution_count": null,
   "metadata": {},
   "outputs": [],
   "source": []
  }
 ],
 "metadata": {
  "kernelspec": {
   "display_name": "Python 3 (ipykernel)",
   "language": "python",
   "name": "python3"
  },
  "language_info": {
   "codemirror_mode": {
    "name": "ipython",
    "version": 3
   },
   "file_extension": ".py",
   "mimetype": "text/x-python",
   "name": "python",
   "nbconvert_exporter": "python",
   "pygments_lexer": "ipython3",
   "version": "3.9.5"
  }
 },
 "nbformat": 4,
 "nbformat_minor": 5
}
