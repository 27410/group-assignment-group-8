{
 "cells": [
  {
   "cell_type": "markdown",
   "metadata": {},
   "source": [
    "## Apendix 1"
   ]
  },
  {
   "cell_type": "markdown",
   "metadata": {},
   "source": [
    "# Maximum therotical yield:\n",
    "0.0465 mmol_AA/mmol_sucr_e <=> 0.0465 mmol_AA pr 1 mmol_sucr_e\n",
    "\n",
    "\n",
    "# Artemisicnic acid: \n",
    "0.046 mmol = 0.000046 mol \n",
    "MW_Artemisicnic acid = 0.000046 mol * 243.33 gr/mol = 0.01077918 gr = 10.77918 mg\n",
    "\n",
    "Profit: 10.77918 mg* 9 $USD/mg = 97 $USD = 664.15 kr\n",
    "\n",
    "Source:\n",
    "- https://aobious.com/aobious/inducer/13049-artemisinic-acid.html \n",
    "\n",
    "# YEPD (Glucose exchanged for succrose)\n",
    "MW_Yeast_Extract = 274.313 g/mol / prencentile composition 20%\n",
    "MW_Peptone = 244.327 g/mol  / prencentile composition 40%\n",
    "MW_Succrose = 342.296 g/mol  / prencentile composition 40%\n",
    "\n",
    "MW_YEPD_(sucr_e) = 274.313 g/mol + 2 * 244.327 g/mol + 2 * 342.296 g/mol = 1447.56 g/mol\n",
    "\n",
    "1 mmol = 0.001 mol * 1447.56 g/mol = 1.44756 g * (1 kg/1000g) = 0.00144756 kg\n",
    "\n",
    "Prize for medium 2000 kr/kg ≈ 193 $USD/kg \n",
    "\n",
    "Cost: 0.00144756 kg * 193 $USD/kg ≈ 0.28 $USD ≈ 1.92 kr\n",
    "\n",
    "Sources:\n",
    "- https://www.sigmaaldrich.com/DK/en/product/sigma/y1375\n",
    "- https://shop.skolebutik.dk/shop/d--sucrose-ph-5238p.html?CookieConsentChanged=1\n",
    "\n",
    "\n",
    "For every  0.28 $USD 97 $USD is generated."
   ]
  }
 ],
 "metadata": {
  "language_info": {
   "name": "python"
  }
 },
 "nbformat": 4,
 "nbformat_minor": 2
}
