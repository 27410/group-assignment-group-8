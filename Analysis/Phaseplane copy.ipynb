{
 "cells": [
  {
   "cell_type": "code",
   "execution_count": 8,
   "id": "122c1369",
   "metadata": {},
   "outputs": [
    {
     "name": "stdout",
     "output_type": "stream",
     "text": [
      "ADS: frdp_c --> AMOR + ppi_c\n",
      "CPR1_CYP71AV1: AMOR + h_c + nadph_c + o2_c --> AAOH + h2o_c + nadp_c\n",
      "ADH1: AAOH + nad_c --> AAld + h_c + nadh_c\n",
      "ALDH1: AAld + h2o_c + nadp_c --> AA + h_c + nadph_c\n"
     ]
    }
   ],
   "source": [
    "%run 01_Model_CFE.ipynb"
   ]
  },
  {
   "cell_type": "code",
   "execution_count": 4,
   "metadata": {},
   "outputs": [
    {
     "name": "stdout",
     "output_type": "stream",
     "text": [
      "Collecting dfba\n",
      "  Using cached dfba-0.1.8.tar.gz (63 kB)\n",
      "  Installing build dependencies: started\n",
      "  Installing build dependencies: finished with status 'done'\n",
      "  Getting requirements to build wheel: started\n",
      "  Getting requirements to build wheel: finished with status 'done'\n",
      "    Preparing wheel metadata: started\n",
      "    Preparing wheel metadata: finished with status 'done'\n",
      "Collecting symengine\n",
      "  Using cached symengine-0.10.0-cp38-cp38-win_amd64.whl (15.7 MB)\n",
      "Requirement already satisfied: sympy in c:\\users\\driton\\anaconda3\\lib\\site-packages (from dfba) (1.12)\n",
      "Requirement already satisfied: cobra in c:\\users\\driton\\anaconda3\\lib\\site-packages (from dfba) (0.26.3)\n",
      "Requirement already satisfied: optlang in c:\\users\\driton\\anaconda3\\lib\\site-packages (from dfba) (1.7.0)\n",
      "Requirement already satisfied: pandas in c:\\users\\driton\\anaconda3\\lib\\site-packages (from dfba) (1.2.4)\n",
      "Requirement already satisfied: depinfo in c:\\users\\driton\\anaconda3\\lib\\site-packages (from dfba) (1.7.0)\n",
      "Requirement already satisfied: future in c:\\users\\driton\\anaconda3\\lib\\site-packages (from cobra->dfba) (0.18.2)\n",
      "Requirement already satisfied: importlib-resources in c:\\users\\driton\\anaconda3\\lib\\site-packages (from cobra->dfba) (6.0.1)\n",
      "Requirement already satisfied: rich>=8.0 in c:\\users\\driton\\anaconda3\\lib\\site-packages (from cobra->dfba) (13.5.2)\n",
      "Requirement already satisfied: httpx~=0.24 in c:\\users\\driton\\anaconda3\\lib\\site-packages (from cobra->dfba) (0.25.0)\n",
      "Requirement already satisfied: pydantic~=1.6 in c:\\users\\driton\\anaconda3\\lib\\site-packages (from cobra->dfba) (1.10.12)\n",
      "Requirement already satisfied: swiglpk in c:\\users\\driton\\anaconda3\\lib\\site-packages (from cobra->dfba) (5.0.8)\n",
      "Requirement already satisfied: python-libsbml~=5.19 in c:\\users\\driton\\anaconda3\\lib\\site-packages (from cobra->dfba) (5.20.1)\n",
      "Requirement already satisfied: appdirs~=1.4 in c:\\users\\driton\\anaconda3\\lib\\site-packages (from cobra->dfba) (1.4.4)\n",
      "Requirement already satisfied: numpy<1.24,>=1.13 in c:\\users\\driton\\anaconda3\\lib\\site-packages (from cobra->dfba) (1.20.1)\n",
      "Requirement already satisfied: diskcache~=5.0 in c:\\users\\driton\\anaconda3\\lib\\site-packages (from cobra->dfba) (5.6.3)\n",
      "Requirement already satisfied: ruamel.yaml~=0.16 in c:\\users\\driton\\anaconda3\\lib\\site-packages (from cobra->dfba) (0.17.32)\n",
      "Requirement already satisfied: idna in c:\\users\\driton\\anaconda3\\lib\\site-packages (from httpx~=0.24->cobra->dfba) (2.10)\n",
      "Requirement already satisfied: httpcore<0.19.0,>=0.18.0 in c:\\users\\driton\\anaconda3\\lib\\site-packages (from httpx~=0.24->cobra->dfba) (0.18.0)\n",
      "Requirement already satisfied: certifi in c:\\users\\driton\\anaconda3\\lib\\site-packages (from httpx~=0.24->cobra->dfba) (2020.12.5)\n",
      "Requirement already satisfied: sniffio in c:\\users\\driton\\anaconda3\\lib\\site-packages (from httpx~=0.24->cobra->dfba) (1.2.0)\n",
      "Requirement already satisfied: anyio<5.0,>=3.0 in c:\\users\\driton\\anaconda3\\lib\\site-packages (from httpcore<0.19.0,>=0.18.0->httpx~=0.24->cobra->dfba) (4.0.0)\n",
      "Requirement already satisfied: h11<0.15,>=0.13 in c:\\users\\driton\\anaconda3\\lib\\site-packages (from httpcore<0.19.0,>=0.18.0->httpx~=0.24->cobra->dfba) (0.14.0)\n",
      "Requirement already satisfied: exceptiongroup>=1.0.2 in c:\\users\\driton\\anaconda3\\lib\\site-packages (from anyio<5.0,>=3.0->httpcore<0.19.0,>=0.18.0->httpx~=0.24->cobra->dfba) (1.1.3)\n",
      "Requirement already satisfied: six>=1.9 in c:\\users\\driton\\anaconda3\\lib\\site-packages (from optlang->dfba) (1.15.0)\n",
      "Requirement already satisfied: pytz>=2017.3 in c:\\users\\driton\\anaconda3\\lib\\site-packages (from pandas->dfba) (2021.1)\n",
      "Requirement already satisfied: python-dateutil>=2.7.3 in c:\\users\\driton\\anaconda3\\lib\\site-packages (from pandas->dfba) (2.8.1)\n",
      "Requirement already satisfied: typing-extensions>=4.2.0 in c:\\users\\driton\\anaconda3\\lib\\site-packages (from pydantic~=1.6->cobra->dfba) (4.7.1)\n",
      "Requirement already satisfied: markdown-it-py>=2.2.0 in c:\\users\\driton\\anaconda3\\lib\\site-packages (from rich>=8.0->cobra->dfba) (3.0.0)\n",
      "Requirement already satisfied: pygments<3.0.0,>=2.13.0 in c:\\users\\driton\\anaconda3\\lib\\site-packages (from rich>=8.0->cobra->dfba) (2.16.1)\n",
      "Requirement already satisfied: mdurl~=0.1 in c:\\users\\driton\\anaconda3\\lib\\site-packages (from markdown-it-py>=2.2.0->rich>=8.0->cobra->dfba) (0.1.2)\n",
      "Requirement already satisfied: ruamel.yaml.clib>=0.2.7 in c:\\users\\driton\\anaconda3\\lib\\site-packages (from ruamel.yaml~=0.16->cobra->dfba) (0.2.7)\n",
      "Requirement already satisfied: mpmath>=0.19 in c:\\users\\driton\\anaconda3\\lib\\site-packages (from sympy->dfba) (1.2.1)\n",
      "Requirement already satisfied: zipp>=3.1.0 in c:\\users\\driton\\anaconda3\\lib\\site-packages (from importlib-resources->cobra->dfba) (3.4.1)\n",
      "Building wheels for collected packages: dfba\n",
      "  Building wheel for dfba (PEP 517): started\n",
      "  Building wheel for dfba (PEP 517): finished with status 'error'\n",
      "Failed to build dfba\n",
      "Note: you may need to restart the kernel to use updated packages.\n"
     ]
    },
    {
     "name": "stderr",
     "output_type": "stream",
     "text": [
      "  ERROR: Command errored out with exit status 1:\n",
      "   command: 'c:\\Users\\Driton\\anaconda3\\python.exe' 'c:\\Users\\Driton\\anaconda3\\lib\\site-packages\\pip\\_vendor\\pep517\\_in_process.py' build_wheel 'C:\\Users\\Driton\\AppData\\Local\\Temp\\tmp8rvuek04'\n",
      "       cwd: C:\\Users\\Driton\\AppData\\Local\\Temp\\pip-install-p7sisym_\\dfba_707a88bd8798424d99eb2db8b263aff5\n",
      "  Complete output (40 lines):\n",
      "  C:\\Users\\Driton\\AppData\\Local\\Temp\\pip-build-env-dpqwhd6n\\overlay\\Lib\\site-packages\\setuptools\\config\\setupcfg.py:293: _DeprecatedConfig: Deprecated config in `setup.cfg`\n",
      "  !!\n",
      "  \n",
      "          ********************************************************************************\n",
      "          The license_file parameter is deprecated, use license_files instead.\n",
      "  \n",
      "          This deprecation is overdue, please update your project and remove deprecated\n",
      "          calls to avoid build errors in the future.\n",
      "  \n",
      "          See https://setuptools.pypa.io/en/latest/userguide/declarative_config.html for details.\n",
      "          ********************************************************************************\n",
      "  \n",
      "  !!\n",
      "    parsed = self.parsers.get(option_name, lambda x: x)(value)\n",
      "  running bdist_wheel\n",
      "  running build\n",
      "  running build_py\n",
      "  creating build\n",
      "  creating build\\lib.win-amd64-cpython-38\n",
      "  creating build\\lib.win-amd64-cpython-38\\dfba\n",
      "  copying src\\dfba\\control.py -> build\\lib.win-amd64-cpython-38\\dfba\n",
      "  copying src\\dfba\\exchange.py -> build\\lib.win-amd64-cpython-38\\dfba\n",
      "  copying src\\dfba\\helpers.py -> build\\lib.win-amd64-cpython-38\\dfba\n",
      "  copying src\\dfba\\jit.py -> build\\lib.win-amd64-cpython-38\\dfba\n",
      "  copying src\\dfba\\library.py -> build\\lib.win-amd64-cpython-38\\dfba\n",
      "  copying src\\dfba\\model.py -> build\\lib.win-amd64-cpython-38\\dfba\n",
      "  copying src\\dfba\\types.py -> build\\lib.win-amd64-cpython-38\\dfba\n",
      "  copying src\\dfba\\variable.py -> build\\lib.win-amd64-cpython-38\\dfba\n",
      "  copying src\\dfba\\_version.py -> build\\lib.win-amd64-cpython-38\\dfba\n",
      "  copying src\\dfba\\__init__.py -> build\\lib.win-amd64-cpython-38\\dfba\n",
      "  creating build\\lib.win-amd64-cpython-38\\dfba\\plot\n",
      "  copying src\\dfba\\plot\\matplotlib.py -> build\\lib.win-amd64-cpython-38\\dfba\\plot\n",
      "  copying src\\dfba\\plot\\plotly.py -> build\\lib.win-amd64-cpython-38\\dfba\\plot\n",
      "  copying src\\dfba\\plot\\__init__.py -> build\\lib.win-amd64-cpython-38\\dfba\\plot\n",
      "  UPDATING build\\lib.win-amd64-cpython-38\\dfba/_version.py\n",
      "  set build\\lib.win-amd64-cpython-38\\dfba/_version.py to '0.1.8'\n",
      "  running build_ext\n",
      "  *******************************************************************************\n",
      "  cmake C:\\Users\\Driton\\AppData\\Local\\Temp\\pip-install-p7sisym_\\dfba_707a88bd8798424d99eb2db8b263aff5 -DCMAKE_LIBRARY_OUTPUT_DIRECTORY=C:\\Users\\Driton\\AppData\\Local\\Temp\\pip-install-p7sisym_\\dfba_707a88bd8798424d99eb2db8b263aff5\\build\\lib.win-amd64-cpython-38\\dfba -DCMAKE_BUILD_TYPE=Release\n",
      "  error: command 'cmake' failed: None\n",
      "  ----------------------------------------\n",
      "  ERROR: Failed building wheel for dfba\n",
      "ERROR: Could not build wheels for dfba which use PEP 517 and cannot be installed directly\n"
     ]
    }
   ],
   "source": [
    "pip install dfba"
   ]
  },
  {
   "cell_type": "code",
   "execution_count": 5,
   "metadata": {},
   "outputs": [
    {
     "ename": "ModuleNotFoundError",
     "evalue": "No module named 'dfba'",
     "output_type": "error",
     "traceback": [
      "\u001b[1;31m---------------------------------------------------------------------------\u001b[0m",
      "\u001b[1;31mModuleNotFoundError\u001b[0m                       Traceback (most recent call last)",
      "\u001b[1;32m<ipython-input-5-e41ed8302154>\u001b[0m in \u001b[0;36m<module>\u001b[1;34m\u001b[0m\n\u001b[1;32m----> 1\u001b[1;33m \u001b[1;32mfrom\u001b[0m \u001b[0mdfba\u001b[0m \u001b[1;32mimport\u001b[0m \u001b[0mDfbaModel\u001b[0m\u001b[1;33m,\u001b[0m \u001b[0mExchangeFlux\u001b[0m\u001b[1;33m,\u001b[0m \u001b[0mKineticVariable\u001b[0m\u001b[1;33m\u001b[0m\u001b[1;33m\u001b[0m\u001b[0m\n\u001b[0m\u001b[0;32m      2\u001b[0m \u001b[1;32mfrom\u001b[0m \u001b[0mdfba\u001b[0m\u001b[1;33m.\u001b[0m\u001b[0mplot\u001b[0m\u001b[1;33m.\u001b[0m\u001b[0mmatplotlib\u001b[0m \u001b[1;32mimport\u001b[0m \u001b[1;33m*\u001b[0m\u001b[1;33m\u001b[0m\u001b[1;33m\u001b[0m\u001b[0m\n",
      "\u001b[1;31mModuleNotFoundError\u001b[0m: No module named 'dfba'"
     ]
    }
   ],
   "source": [
    "from dfba import DfbaModel, ExchangeFlux, KineticVariable\n",
    "from dfba.plot.matplotlib import *"
   ]
  },
  {
   "cell_type": "code",
   "execution_count": null,
   "metadata": {},
   "outputs": [],
   "source": [
    "\n",
    "import cameo\n",
    "from cameo.strain_design.heuristic.evolutionary_based import OptGene\n",
    "\n",
    "optgene = OptGene(iMM904)\n",
    "result = optgene.run(target=iMM904.reactions.ALDH1, \n",
    "                     biomass=iMM904.reactions.BIOMASS_SC5_notrace,\n",
    "                     substrate=iMM904.metabolites.EX_glc__D_e,\n",
    "                     max_evaluations=200, population_size=2, max_knockouts=3,\n",
    "                     plot=False, growth_coupled=True)\n",
    "    "
   ]
  }
 ],
 "metadata": {
  "kernelspec": {
   "display_name": "Python 3 (ipykernel)",
   "language": "python",
   "name": "python3"
  },
  "language_info": {
   "codemirror_mode": {
    "name": "ipython",
    "version": 3
   },
   "file_extension": ".py",
   "mimetype": "text/x-python",
   "name": "python",
   "nbconvert_exporter": "python",
   "pygments_lexer": "ipython3",
   "version": "3.7.0"
  }
 },
 "nbformat": 4,
 "nbformat_minor": 5
}
