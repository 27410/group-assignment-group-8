{
 "cells": [
  {
   "cell_type": "markdown",
   "metadata": {},
   "source": [
    "Article with pathway steps https://www.frontiersin.org/articles/10.3389/fpls.2018.00087/full https://www.sciencedirect.com/science/article/pii/B9780444639318000059 \n",
    "ADS: https://www.uniprot.org/uniprotkb/Q9AR04/entry\n",
    "CPR: https://www.uniprot.org/uniprotkb/A0A2U1LIM9/entry\n",
    "CYP71AV1: https://www.uniprot.org/uniprotkb/Q1PS23/entry\n",
    "ADH1: https://www.uniprot.org/uniprotkb/A0A2U1Q018/entry \n",
    "ALDH1:https://www.uniprot.org/uniprotkb/C5I9X1/entry"
   ]
  },
  {
   "cell_type": "code",
   "execution_count": null,
   "metadata": {
    "vscode": {
     "languageId": "plaintext"
    }
   },
   "outputs": [],
   "source": [
    "#Package\n",
    "from cobra.io import read_sbml_model\n",
    "from cobra import Reaction, Metabolite"
   ]
  },
  {
   "cell_type": "code",
   "execution_count": null,
   "metadata": {
    "vscode": {
     "languageId": "plaintext"
    }
   },
   "outputs": [],
   "source": [
    "#Reading the model\n",
    "iMM904=read_sbml_model(\"iMM904.xml\")"
   ]
  },
  {
   "cell_type": "markdown",
   "metadata": {},
   "source": [
    "Adding the metabolites from the heterologous "
   ]
  },
  {
   "cell_type": "code",
   "execution_count": null,
   "metadata": {
    "vscode": {
     "languageId": "plaintext"
    }
   },
   "outputs": [],
   "source": [
    "#AMOR =amorphadiene\n",
    "amorphadiene = Metabolite(id = 'AMOR', compartment='c', name='amorphadiene', formula='C15H24')\n",
    "#AAOH= artemisinic alcohol\n",
    "artemisinic_alcohol= Metabolite(id = 'AAOH', compartment='c', name='artemisinic_alcohol', formula='C15H24O')\n",
    "#AAld=artemisinic_aldehyde\n",
    "artemisinic_aldehyde= Metabolite(id = 'AAld', compartment='c', name='artemisinic_aldehyde', formula='C15H22O')\n",
    "#AA=artemisinic_acid\n",
    "artemisinic_acid= Metabolite(id = 'AA', compartment='c', name='artemisinic_acid', formula='C15H22O2')\n",
    "\n",
    "#Notenotes\n",
    "#From the nature article, they have added a homolougues Cyb5 enzymatic reaction.\n",
    "#We will look apart from this since it is not a part of the heterologues pathway.\n",
    "#If reactions are not coupled:\n",
    "#cytochrome_P450_enzyme_oxidation= Reaction('CYP71AV1')\n",
    "#CPR1_Oxidation=Reaction('CPR')"
   ]
  },
  {
   "cell_type": "code",
   "execution_count": null,
   "metadata": {
    "vscode": {
     "languageId": "plaintext"
    }
   },
   "outputs": [],
   "source": [
    "#Defining the reactions\n",
    "Amorpha_synthase=Reaction('ADS')\n",
    "CPR_CYP = Reaction(\"CPR1_CYP71AV1\")\n",
    "Alcohol_dehydrogenase_1=Reaction('ADH1')\n",
    "Aldehyde_dehydrogenase_1=Reaction('ALDH1')"
   ]
  },
  {
   "cell_type": "code",
   "execution_count": null,
   "metadata": {
    "vscode": {
     "languageId": "plaintext"
    }
   },
   "outputs": [],
   "source": [
    "#insert metabolic components to each reaction\n",
    "\n",
    "Amorpha_synthase.add_metabolites(({iMM904.metabolites.frdp_c:-1,amorphadiene:1,iMM904.metabolites.ppi_c:1}))\n",
    "CPR_CYP.add_metabolites(({amorphadiene: -1,iMM904.metabolites.o2_c: -1,iMM904.metabolites.nadph_c:-1,iMM904.metabolites.h_c: -1,iMM904.metabolites.h2o_c: 1,iMM904.metabolites.nadp_c:1,artemisinic_alcohol:1}))\n",
    "Alcohol_dehydrogenase_1.add_metabolites(({artemisinic_alcohol:-1,iMM904.metabolites.nad_c:-1,iMM904.metabolites.nadh_c:1,iMM904.metabolites.h_c:1,artemisinic_aldehyde:1}))\n",
    "Aldehyde_dehydrogenase_1.add_metabolites(({artemisinic_aldehyde:-1,iMM904.metabolites.h2o_c:-1,iMM904.metabolites.nadp_c:-1,artemisinic_acid:1,iMM904.metabolites.h_c:1,iMM904.metabolites.nadph_c:1}))\n"
   ]
  },
  {
   "cell_type": "code",
   "execution_count": null,
   "metadata": {
    "vscode": {
     "languageId": "plaintext"
    }
   },
   "outputs": [],
   "source": [
    "#insert reactions into model\n",
    "iMM904.add_reactions([Amorpha_synthase])\n",
    "iMM904.add_reactions([CPR_CYP])\n",
    "iMM904.add_reactions([Alcohol_dehydrogenase_1])\n",
    "iMM904.add_reactions([Aldehyde_dehydrogenase_1])"
   ]
  },
  {
   "cell_type": "code",
   "execution_count": null,
   "metadata": {
    "vscode": {
     "languageId": "plaintext"
    }
   },
   "outputs": [],
   "source": [
    "print(Amorpha_synthase)\n",
    "print(CPR_CYP)\n",
    "print(Alcohol_dehydrogenase_1)\n",
    "print(Aldehyde_dehydrogenase_1)"
   ]
  }
 ],
 "metadata": {
  "kernelspec": {
   "display_name": "Python 3 (ipykernel)",
   "language": "python",
   "name": "python3"
  },
  "language_info": {
   "codemirror_mode": {
    "name": "ipython",
    "version": 3
   },
   "file_extension": ".py",
   "mimetype": "text/x-python",
   "name": "python",
   "nbconvert_exporter": "python",
   "pygments_lexer": "ipython3",
   "version": "3.11.4"
  }
 },
 "nbformat": 4,
 "nbformat_minor": 5
}
