{
 "cells": [
  {
   "cell_type": "markdown",
   "metadata": {},
   "source": [
    "Article with pathway steps https://www.frontiersin.org/articles/10.3389/fpls.2018.00087/full https://www.sciencedirect.com/science/article/pii/B9780444639318000059 \n",
    "ADS: https://www.uniprot.org/uniprotkb/Q9AR04/entry\n",
    "CPR: https://www.uniprot.org/uniprotkb/A0A2U1LIM9/entry\n",
    "CYP71AV1: https://www.uniprot.org/uniprotkb/Q1PS23/entry\n",
    "ADH1: https://www.uniprot.org/uniprotkb/A0A2U1Q018/entry \n",
    "ALDH1:https://www.uniprot.org/uniprotkb/C5I9X1/entry"
   ]
  },
  {
   "cell_type": "code",
   "execution_count": null,
   "metadata": {
    "vscode": {
     "languageId": "plaintext"
    }
   },
   "outputs": [],
   "source": [
    "from cobra.io import read_sbml_model\n",
    "from cobra import Reaction, Metabolite"
   ]
  }
 ],
 "metadata": {
  "kernelspec": {
   "display_name": "Python 3 (ipykernel)",
   "language": "python",
   "name": "python3"
  },
  "language_info": {
   "codemirror_mode": {
    "name": "ipython",
    "version": 3
   },
   "file_extension": ".py",
   "mimetype": "text/x-python",
   "name": "python",
   "nbconvert_exporter": "python",
   "pygments_lexer": "ipython3",
   "version": "3.11.4"
  }
 },
 "nbformat": 4,
 "nbformat_minor": 5
}
