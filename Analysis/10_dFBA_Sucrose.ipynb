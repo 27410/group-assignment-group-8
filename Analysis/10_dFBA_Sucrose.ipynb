{
 "cells": [
  {
   "cell_type": "markdown",
   "metadata": {},
   "source": [
    "Cofactor swap targets for sucrose\n"
   ]
  },
  {
   "cell_type": "code",
   "execution_count": 9,
   "id": "122c1369",
   "metadata": {},
   "outputs": [
    {
     "name": "stderr",
     "output_type": "stream",
     "text": [
      "c:\\Users\\Skole\\AppData\\Local\\Programs\\Python\\Python39\\lib\\site-packages\\nbformat\\__init__.py:93: MissingIDFieldWarning: Code cell is missing an id field, this will become a hard error in future nbformat versions. You may want to use `normalize()` on your notebooks before validations (available since nbformat 5.1.4). Previous versions of nbformat are fixing this issue transparently, and will stop doing so in the future.\n",
      "  validate(nb)\n"
     ]
    },
    {
     "name": "stdout",
     "output_type": "stream",
     "text": [
      "ADS: frdp_c --> AMOR + ppi_c\n",
      "CPR1_CYP71AV1: AMOR + h_c + nadph_c + o2_c --> AAOH + h2o_c + nadp_c\n",
      "ADH1: AAOH + nad_c --> AAld + h_c + nadh_c\n",
      "ALDH1: AAld + h2o_c + nadp_c --> AA + h_c + nadph_c\n"
     ]
    }
   ],
   "source": [
    "%run 01_Model_CFE.ipynb\n"
   ]
  },
  {
   "cell_type": "code",
   "execution_count": 10,
   "metadata": {},
   "outputs": [],
   "source": [
    "import numpy as np\n",
    "from tqdm import tqdm\n",
    "\n",
    "from scipy.integrate import solve_ivp\n",
    "\n",
    "import matplotlib.pyplot as plt\n",
    "%matplotlib inline"
   ]
  },
  {
   "cell_type": "code",
   "execution_count": 11,
   "metadata": {},
   "outputs": [],
   "source": [
    "import cobra\n",
    "from cobra.io import load_model\n",
    "iMM904 = load_model('iMM904')"
   ]
  },
  {
   "cell_type": "code",
   "execution_count": 13,
   "metadata": {},
   "outputs": [],
   "source": [
    "def add_dynamic_bounds(iMM904, y):\n",
    "    \"\"\"Use external concentrations to bound the uptake flux of sucrose.\"\"\"\n",
    "    biomass, sucrose = y  # expand the boundary species\n",
    "    sucrose_max_import = -10 * sucrose / (5 + sucrose)\n",
    "    iMM904.reactions.EX_sucr_e.lower_bound = sucrose_max_import\n",
    "\n",
    "\n",
    "def dynamic_system(t, y):\n",
    "    \"\"\"Calculate the time derivative of external species.\"\"\"\n",
    "\n",
    "    biomass, sucrose = y  # expand the boundary species\n",
    "\n",
    "    # Calculate the specific exchanges fluxes at the given external concentrations.\n",
    "    with iMM904:\n",
    "        add_dynamic_bounds(iMM904, y)\n",
    "\n",
    "        cobra.util.add_lp_feasibility(iMM904)\n",
    "        feasibility = cobra.util.fix_objective_as_constraint(iMM904)\n",
    "        lex_constraints = cobra.util.add_lexicographic_constraints(\n",
    "            iMM904, ['BIOMASS_SC5_notrace', 'EX_sucr_e'], ['max', 'max'])\n",
    "    fluxes = lex_constraints.values\n",
    "    fluxes *= biomass\n",
    "    if dynamic_system.pbar is not None:\n",
    "        dynamic_system.pbar.update(1)\n",
    "        dynamic_system.pbar.set_description('t = {:.3f}'.format(t))\n",
    "\n",
    "    return fluxes\n"
   ]
  },
  {
   "cell_type": "code",
   "execution_count": 14,
   "metadata": {},
   "outputs": [],
   "source": [
    "dynamic_system.pbar = None"
   ]
  },
  {
   "cell_type": "code",
   "execution_count": 15,
   "metadata": {},
   "outputs": [],
   "source": [
    "\n",
    "def infeasible_event(t, y):\n",
    "    with iMM904:\n",
    "\n",
    "        add_dynamic_bounds(iMM904, y)\n",
    "\n",
    "        cobra.util.add_lp_feasibility(iMM904)\n",
    "        feasibility = cobra.util.fix_objective_as_constraint(iMM904)\n",
    "\n",
    "    return feasibility - infeasible_event.epsilon\n",
    "\n",
    "infeasible_event.epsilon = 1E-6\n",
    "infeasible_event.direction = 1\n",
    "infeasible_event.terminal = True"
   ]
  },
  {
   "cell_type": "code",
   "execution_count": 16,
   "metadata": {},
   "outputs": [
    {
     "name": "stderr",
     "output_type": "stream",
     "text": [
      "0it [00:00, ?it/s]"
     ]
    },
    {
     "name": "stderr",
     "output_type": "stream",
     "text": [
      "t = 9.406: : 369it [30:12,  4.91s/it]\n"
     ]
    }
   ],
   "source": [
    "ts = np.linspace(0, 15, 100)  # Desired integration resolution and interval\n",
    "y0 = [0.1, 10]\n",
    "\n",
    "with tqdm() as pbar:\n",
    "    dynamic_system.pbar = pbar\n",
    "\n",
    "    sol = solve_ivp(\n",
    "        fun=dynamic_system,\n",
    "        events=[infeasible_event],\n",
    "        t_span=(ts.min(), ts.max()),\n",
    "        y0=y0,\n",
    "        t_eval=ts,\n",
    "        rtol=1e-6,\n",
    "        atol=1e-8,\n",
    "        method='BDF'\n",
    "    )"
   ]
  },
  {
   "cell_type": "code",
   "execution_count": 17,
   "metadata": {},
   "outputs": [
    {
     "data": {
      "text/plain": [
       "  message: 'A termination event occurred.'\n",
       "     nfev: 345\n",
       "     njev: 8\n",
       "      nlu: 50\n",
       "      sol: None\n",
       "   status: 1\n",
       "  success: True\n",
       "        t: array([0.        , 0.15151515, 0.3030303 , 0.45454545, 0.60606061,\n",
       "       0.75757576, 0.90909091, 1.06060606, 1.21212121, 1.36363636,\n",
       "       1.51515152, 1.66666667, 1.81818182, 1.96969697, 2.12121212,\n",
       "       2.27272727, 2.42424242, 2.57575758, 2.72727273, 2.87878788,\n",
       "       3.03030303, 3.18181818, 3.33333333, 3.48484848, 3.63636364,\n",
       "       3.78787879, 3.93939394, 4.09090909, 4.24242424, 4.39393939,\n",
       "       4.54545455, 4.6969697 , 4.84848485, 5.        , 5.15151515,\n",
       "       5.3030303 , 5.45454545, 5.60606061, 5.75757576, 5.90909091,\n",
       "       6.06060606, 6.21212121, 6.36363636, 6.51515152, 6.66666667,\n",
       "       6.81818182, 6.96969697, 7.12121212, 7.27272727, 7.42424242,\n",
       "       7.57575758, 7.72727273, 7.87878788, 8.03030303, 8.18181818,\n",
       "       8.33333333, 8.48484848, 8.63636364, 8.78787879, 8.93939394,\n",
       "       9.09090909, 9.24242424, 9.39393939])\n",
       " t_events: [array([9.4060399])]\n",
       "        y: array([[ 0.1       ,  0.10570532,  0.11171688,  0.11804869,  0.12471493,\n",
       "         0.13173   ,  0.13910844,  0.14686493,  0.15501399,  0.16357026,\n",
       "         0.17254786,  0.18196062,  0.19182164,  0.20214317,  0.21293653,\n",
       "         0.22421163,  0.23597656,  0.24823758,  0.26099843,  0.27425985,\n",
       "         0.28801878,  0.30226795,  0.31699534,  0.33218395,  0.34781092,\n",
       "         0.363847  ,  0.38025551,  0.39699197,  0.41400343,  0.43122829,\n",
       "         0.44859632,  0.46602868,  0.48343913,  0.50073509,  0.51781945,\n",
       "         0.53459319,  0.5509586 ,  0.56682306,  0.58210297,  0.59672766,\n",
       "         0.61064278,  0.6238129 ,  0.63622277,  0.64787717,  0.65879939,\n",
       "         0.6690285 ,  0.67861233,  0.68759496,  0.69603851,  0.70401227,\n",
       "         0.71158077,  0.71857128,  0.72427311,  0.72881853,  0.73239717,\n",
       "         0.73517476,  0.7372939 ,  0.73887511,  0.74001911,  0.74080922,\n",
       "         0.74131382,  0.74158867,  0.74167969],\n",
       "       [10.        ,  9.89631191,  9.78711462,  9.67216403,  9.55121447,\n",
       "         9.42401791,  9.29032608,  9.14988999,  9.00246642,  8.84781219,\n",
       "         8.68569766,  8.51590126,  8.33821948,  8.15246907,  7.95848838,\n",
       "         7.75614744,  7.54535602,  7.32606463,  7.09827733,  6.86206288,\n",
       "         6.6175624 ,  6.36500107,  6.1047    ,  5.8370893 ,  5.56272084,\n",
       "         5.28228165,  4.99660683,  4.70668986,  4.41369246,  4.11894956,\n",
       "         3.82396773,  3.530423  ,  3.24013407,  2.95503874,  2.67715448,\n",
       "         2.40852349,  2.15114412,  1.90689316,  1.67744229,  1.46417949,\n",
       "         1.26813907,  1.08994962,  0.92981108,  0.78750109,  0.6624099 ,\n",
       "         0.55360078,  0.45988786,  0.37991991,  0.31226053,  0.25545806,\n",
       "         0.20810352,  0.16887574,  0.13658914,  0.11017508,  0.08867276,\n",
       "         0.07124048,  0.05715465,  0.04580328,  0.03667504,  0.02934688,\n",
       "         0.02347163,  0.01876602,  0.01500348]])\n",
       " y_events: [array([[0.74168015, 0.0147394 ]])]"
      ]
     },
     "execution_count": 17,
     "metadata": {},
     "output_type": "execute_result"
    }
   ],
   "source": [
    "sol"
   ]
  },
  {
   "cell_type": "code",
   "execution_count": 18,
   "metadata": {},
   "outputs": [
    {
     "data": {
      "text/plain": [
       "Text(0, 0.5, 'Sucrose')"
      ]
     },
     "execution_count": 18,
     "metadata": {},
     "output_type": "execute_result"
    },
    {
     "data": {
      "image/png": "[encoded data removed]",
      "text/plain": [
       "<Figure size 640x480 with 2 Axes>"
      ]
     },
     "metadata": {},
     "output_type": "display_data"
    }
   ],
   "source": [
    "ax = plt.subplot(111)\n",
    "ax.plot(sol.t, sol.y.T[:, 0])\n",
    "ax2 = plt.twinx(ax)\n",
    "ax2.plot(sol.t, sol.y.T[:, 1], color='r')\n",
    "\n",
    "ax.set_ylabel('Biomass', color='b')\n",
    "ax2.set_ylabel('Sucrose', color='r')"
   ]
  },
  {
   "cell_type": "code",
   "execution_count": null,
   "metadata": {},
   "outputs": [],
   "source": []
  },
  {
   "cell_type": "code",
   "execution_count": null,
   "metadata": {},
   "outputs": [],
   "source": []
  },
  {
   "cell_type": "code",
   "execution_count": null,
   "metadata": {},
   "outputs": [],
   "source": []
  },
  {
   "cell_type": "code",
   "execution_count": null,
   "metadata": {},
   "outputs": [],
   "source": []
  },
  {
   "cell_type": "code",
   "execution_count": null,
   "metadata": {},
   "outputs": [],
   "source": []
  }
 ],
 "metadata": {
  "kernelspec": {
   "display_name": "Python 3 (ipykernel)",
   "language": "python",
   "name": "python3"
  },
  "language_info": {
   "codemirror_mode": {
    "name": "ipython",
    "version": 3
   },
   "file_extension": ".py",
   "mimetype": "text/x-python",
   "name": "python",
   "nbconvert_exporter": "python",
   "pygments_lexer": "ipython3",
   "version": "3.9.5"
  }
 },
 "nbformat": 4,
 "nbformat_minor": 5
}
