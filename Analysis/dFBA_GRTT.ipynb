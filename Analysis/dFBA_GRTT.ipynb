{
 "cells": [
  {
   "cell_type": "code",
   "execution_count": 1,
   "id": "122c1369",
   "metadata": {},
   "outputs": [
    {
     "name": "stderr",
     "output_type": "stream",
     "text": [
      "c:\\Users\\Skole\\AppData\\Local\\Programs\\Python\\Python39\\lib\\site-packages\\nbformat\\__init__.py:93: MissingIDFieldWarning: Code cell is missing an id field, this will become a hard error in future nbformat versions. You may want to use `normalize()` on your notebooks before validations (available since nbformat 5.1.4). Previous versions of nbformat are fixing this issue transparently, and will stop doing so in the future.\n",
      "  validate(nb)\n"
     ]
    },
    {
     "name": "stdout",
     "output_type": "stream",
     "text": [
      "ADS: frdp_c --> AMOR + ppi_c\n",
      "CPR1_CYP71AV1: AMOR + h_c + nadph_c + o2_c --> AAOH + h2o_c + nadp_c\n",
      "ADH1: AAOH + nad_c --> AAld + h_c + nadh_c\n",
      "ALDH1: AAld + h2o_c + nadp_c --> AA + h_c + nadph_c\n"
     ]
    }
   ],
   "source": [
    "%run 01_Model_CFE.ipynb\n"
   ]
  },
  {
   "cell_type": "code",
   "execution_count": 2,
   "metadata": {},
   "outputs": [],
   "source": [
    "import numpy as np\n",
    "from tqdm import tqdm\n",
    "\n",
    "from scipy.integrate import solve_ivp\n",
    "\n",
    "import matplotlib.pyplot as plt\n",
    "%matplotlib inline"
   ]
  },
  {
   "cell_type": "code",
   "execution_count": 3,
   "metadata": {},
   "outputs": [],
   "source": [
    "import cobra\n",
    "from cobra.io import load_model\n",
    "iMM904 = load_model('iMM904')"
   ]
  },
  {
   "cell_type": "code",
   "execution_count": 4,
   "metadata": {},
   "outputs": [],
   "source": [
    "def add_dynamic_bounds(iMM904, y):\n",
    "    \"\"\"Use external concentrations to bound the uptake flux of sucrose.\"\"\"\n",
    "    biomass, GRTT = y  # expand the boundary species\n",
    "    GRTT_max_import = -10 * GRTT / (5 + GRTT)\n",
    "    iMM904.reactions.GRTT.lower_bound = GRTT_max_import\n",
    "\n",
    "\n",
    "def dynamic_system(t, y):\n",
    "    \"\"\"Calculate the time derivative of external species.\"\"\"\n",
    "\n",
    "    biomass, oxygen = y  # expand the boundary species\n",
    "\n",
    "    # Calculate the specific exchanges fluxes at the given external concentrations.\n",
    "    with iMM904:\n",
    "        add_dynamic_bounds(iMM904, y)\n",
    "\n",
    "        cobra.util.add_lp_feasibility(iMM904)\n",
    "        feasibility = cobra.util.fix_objective_as_constraint(iMM904)\n",
    "        lex_constraints = cobra.util.add_lexicographic_constraints(\n",
    "            iMM904, ['BIOMASS_SC5_notrace', 'GRTT'], ['max', 'max'])\n",
    "    fluxes = lex_constraints.values\n",
    "    fluxes *= biomass\n",
    "    if dynamic_system.pbar is not None:\n",
    "        dynamic_system.pbar.update(1)\n",
    "        dynamic_system.pbar.set_description('t = {:.3f}'.format(t))\n",
    "\n",
    "    return fluxes\n"
   ]
  },
  {
   "cell_type": "code",
   "execution_count": 5,
   "metadata": {},
   "outputs": [],
   "source": [
    "dynamic_system.pbar = None"
   ]
  },
  {
   "cell_type": "code",
   "execution_count": 6,
   "metadata": {},
   "outputs": [],
   "source": [
    "\n",
    "def infeasible_event(t, y):\n",
    "    with iMM904:\n",
    "\n",
    "        add_dynamic_bounds(iMM904, y)\n",
    "\n",
    "        cobra.util.add_lp_feasibility(iMM904)\n",
    "        feasibility = cobra.util.fix_objective_as_constraint(iMM904)\n",
    "\n",
    "    return feasibility - infeasible_event.epsilon\n",
    "\n",
    "infeasible_event.epsilon = 1E-6\n",
    "infeasible_event.direction = 1\n",
    "infeasible_event.terminal = True"
   ]
  },
  {
   "cell_type": "code",
   "execution_count": 7,
   "metadata": {},
   "outputs": [
    {
     "name": "stderr",
     "output_type": "stream",
     "text": [
      "0it [00:00, ?it/s]"
     ]
    },
    {
     "name": "stderr",
     "output_type": "stream",
     "text": [
      "t = 15.000: : 106it [16:26,  9.30s/it]\n"
     ]
    }
   ],
   "source": [
    "ts = np.linspace(0, 15, 100)  # Desired integration resolution and interval\n",
    "y0 = [0.1, 10]\n",
    "\n",
    "with tqdm() as pbar:\n",
    "    dynamic_system.pbar = pbar\n",
    "\n",
    "    sol = solve_ivp(\n",
    "        fun=dynamic_system,\n",
    "        events=[infeasible_event],\n",
    "        t_span=(ts.min(), ts.max()),\n",
    "        y0=y0,\n",
    "        t_eval=ts,\n",
    "        rtol=1e-6,\n",
    "        atol=1e-8,\n",
    "        method='BDF'\n",
    "    )\n",
    "\n",
    "    "
   ]
  },
  {
   "cell_type": "code",
   "execution_count": 8,
   "metadata": {},
   "outputs": [
    {
     "data": {
      "text/plain": [
       "  message: 'The solver successfully reached the end of the integration interval.'\n",
       "     nfev: 102\n",
       "     njev: 1\n",
       "      nlu: 12\n",
       "      sol: None\n",
       "   status: 0\n",
       "  success: True\n",
       "        t: array([ 0.        ,  0.15151515,  0.3030303 ,  0.45454545,  0.60606061,\n",
       "        0.75757576,  0.90909091,  1.06060606,  1.21212121,  1.36363636,\n",
       "        1.51515152,  1.66666667,  1.81818182,  1.96969697,  2.12121212,\n",
       "        2.27272727,  2.42424242,  2.57575758,  2.72727273,  2.87878788,\n",
       "        3.03030303,  3.18181818,  3.33333333,  3.48484848,  3.63636364,\n",
       "        3.78787879,  3.93939394,  4.09090909,  4.24242424,  4.39393939,\n",
       "        4.54545455,  4.6969697 ,  4.84848485,  5.        ,  5.15151515,\n",
       "        5.3030303 ,  5.45454545,  5.60606061,  5.75757576,  5.90909091,\n",
       "        6.06060606,  6.21212121,  6.36363636,  6.51515152,  6.66666667,\n",
       "        6.81818182,  6.96969697,  7.12121212,  7.27272727,  7.42424242,\n",
       "        7.57575758,  7.72727273,  7.87878788,  8.03030303,  8.18181818,\n",
       "        8.33333333,  8.48484848,  8.63636364,  8.78787879,  8.93939394,\n",
       "        9.09090909,  9.24242424,  9.39393939,  9.54545455,  9.6969697 ,\n",
       "        9.84848485, 10.        , 10.15151515, 10.3030303 , 10.45454545,\n",
       "       10.60606061, 10.75757576, 10.90909091, 11.06060606, 11.21212121,\n",
       "       11.36363636, 11.51515152, 11.66666667, 11.81818182, 11.96969697,\n",
       "       12.12121212, 12.27272727, 12.42424242, 12.57575758, 12.72727273,\n",
       "       12.87878788, 13.03030303, 13.18181818, 13.33333333, 13.48484848,\n",
       "       13.63636364, 13.78787879, 13.93939394, 14.09090909, 14.24242424,\n",
       "       14.39393939, 14.54545455, 14.6969697 , 14.84848485, 15.        ])\n",
       " t_events: [array([], dtype=float64)]\n",
       "        y: array([[ 0.1       ,  0.10445825,  0.10911529,  0.11397992,  0.11906144,\n",
       "         0.12436953,  0.12991419,  0.135706  ,  0.14175608,  0.14807588,\n",
       "         0.1546774 ,  0.16157317,  0.16877638,  0.17630067,  0.18416044,\n",
       "         0.19237056,  0.20094676,  0.20990523,  0.21926313,  0.22903821,\n",
       "         0.23924909,  0.24991516,  0.26105671,  0.27269498,  0.28485208,\n",
       "         0.29755115,  0.31081637,  0.32467295,  0.3391473 ,  0.35426693,\n",
       "         0.3700606 ,  0.3865584 ,  0.40379169,  0.42179324,  0.44059735,\n",
       "         0.46023975,  0.48075785,  0.50219069,  0.52457899,  0.54796543,\n",
       "         0.57239447,  0.59791255,  0.62456831,  0.65241241,  0.68149779,\n",
       "         0.7118799 ,  0.74361645,  0.77676784,  0.81139722,  0.84757036,\n",
       "         0.88535618,  0.92482656,  0.96605651,  1.00912464,  1.05411279,\n",
       "         1.10110648,  1.15019534,  1.2014726 ,  1.2550358 ,  1.31098704,\n",
       "         1.36943259,  1.43048369,  1.49425663,  1.56087256,  1.63045834,\n",
       "         1.70314641,  1.77907488,  1.85838846,  1.94123796,  2.02778082,\n",
       "         2.1181821 ,  2.21261354,  2.31125469,  2.41429363,  2.52192609,\n",
       "         2.63435683,  2.7518001 ,  2.87447901,  3.00262706,  3.13648832,\n",
       "         3.27631708,  3.42237968,  3.57495408,  3.73433011,  3.90081167,\n",
       "         4.07471519,  4.25637119,  4.44612612,  4.64434044,  4.85139112,\n",
       "         5.06767285,  5.2935965 ,  5.52959193,  5.77610878,  6.03361534,\n",
       "         6.3026019 ,  6.58358058,  6.87708514,  7.18367408,  7.50393087],\n",
       "       [10.        , 10.00001962, 10.00004011, 10.00006151, 10.00008387,\n",
       "        10.00010723, 10.00013162, 10.00015711, 10.00018373, 10.00021153,\n",
       "        10.00024058, 10.00027092, 10.00030262, 10.00033572, 10.00037031,\n",
       "        10.00040643, 10.00044417, 10.00048358, 10.00052476, 10.00056777,\n",
       "        10.0006127 , 10.00065963, 10.00070865, 10.00075986, 10.00081335,\n",
       "        10.00086923, 10.00092759, 10.00098856, 10.00105225, 10.00111877,\n",
       "        10.00118827, 10.00126086, 10.00133668, 10.00141589, 10.00149863,\n",
       "        10.00158505, 10.00167533, 10.00176964, 10.00186815, 10.00197105,\n",
       "        10.00207854, 10.00219082, 10.0023081 , 10.00243061, 10.00255859,\n",
       "        10.00269227, 10.00283191, 10.00297778, 10.00313015, 10.00328931,\n",
       "        10.00345557, 10.00362924, 10.00381065, 10.00400015, 10.0041981 ,\n",
       "        10.00440487, 10.00462086, 10.00484648, 10.00508216, 10.00532834,\n",
       "        10.0055855 , 10.00585413, 10.00613473, 10.00642784, 10.00673402,\n",
       "        10.00705384, 10.00738793, 10.00773691, 10.00810145, 10.00848224,\n",
       "        10.00888   , 10.0092955 , 10.00972952, 10.01018289, 10.01065647,\n",
       "        10.01115117, 10.01166792, 10.01220771, 10.01277156, 10.01336055,\n",
       "        10.0139758 , 10.01461847, 10.0152898 , 10.01599105, 10.01672357,\n",
       "        10.01748875, 10.01828803, 10.01912295, 10.0199951 , 10.02090612,\n",
       "        10.02185776, 10.02285182, 10.0238902 , 10.02497488, 10.02610791,\n",
       "        10.02729145, 10.02852775, 10.02981917, 10.03116817, 10.0325773 ]])\n",
       " y_events: [array([], dtype=float64)]"
      ]
     },
     "execution_count": 8,
     "metadata": {},
     "output_type": "execute_result"
    }
   ],
   "source": [
    "sol"
   ]
  },
  {
   "cell_type": "code",
   "execution_count": 9,
   "metadata": {},
   "outputs": [
    {
     "data": {
      "text/plain": [
       "Text(0, 0.5, 'Artemisinic Acid')"
      ]
     },
     "execution_count": 9,
     "metadata": {},
     "output_type": "execute_result"
    },
    {
     "data": {
      "image/png": "[encoded data removed]",
      "text/plain": [
       "<Figure size 640x480 with 2 Axes>"
      ]
     },
     "metadata": {},
     "output_type": "display_data"
    }
   ],
   "source": [
    "ax = plt.subplot(111)\n",
    "ax.plot(sol.t, sol.y.T[:, 0])\n",
    "ax2 = plt.twinx(ax)\n",
    "ax2.plot(sol.t, sol.y.T[:, 1], color='r')\n",
    "\n",
    "ax.set_ylabel('Biomass', color='b')\n",
    "ax2.set_ylabel('Artemisinic Acid', color='r')\n"
   ]
  },
  {
   "cell_type": "code",
   "execution_count": null,
   "metadata": {},
   "outputs": [],
   "source": []
  },
  {
   "cell_type": "code",
   "execution_count": null,
   "metadata": {},
   "outputs": [],
   "source": []
  },
  {
   "cell_type": "code",
   "execution_count": null,
   "metadata": {},
   "outputs": [],
   "source": []
  },
  {
   "cell_type": "code",
   "execution_count": null,
   "metadata": {},
   "outputs": [],
   "source": []
  },
  {
   "cell_type": "code",
   "execution_count": null,
   "metadata": {},
   "outputs": [],
   "source": []
  }
 ],
 "metadata": {
  "kernelspec": {
   "display_name": "Python 3 (ipykernel)",
   "language": "python",
   "name": "python3"
  },
  "language_info": {
   "codemirror_mode": {
    "name": "ipython",
    "version": 3
   },
   "file_extension": ".py",
   "mimetype": "text/x-python",
   "name": "python",
   "nbconvert_exporter": "python",
   "pygments_lexer": "ipython3",
   "version": "3.9.5"
  }
 },
 "nbformat": 4,
 "nbformat_minor": 5
}
