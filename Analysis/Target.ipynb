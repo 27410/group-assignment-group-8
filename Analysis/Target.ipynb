{
 "cells": [
  {
   "cell_type": "code",
   "execution_count": 5,
   "id": "122c1369",
   "metadata": {},
   "outputs": [
    {
     "name": "stdout",
     "output_type": "stream",
     "text": [
      "ADS: frdp_c --> AMOR + ppi_c\n",
      "CPR1_CYP71AV1: AMOR + h_c + nadph_c + o2_c --> AAOH + h2o_c + nadp_c\n",
      "ADH1: AAOH + nad_c --> AAld + h_c + nadh_c\n",
      "ALDH1: AAld + h2o_c + nadp_c --> AA + h_c + nadph_c\n"
     ]
    }
   ],
   "source": [
    "%run Model_CFE.ipynb\n",
    "import numpy as np"
   ]
  },
  {
   "cell_type": "markdown",
   "metadata": {},
   "source": [
    "Intro to gene prediction targetsProductivity calcualted using the model standard media:"
   ]
  },
  {
   "cell_type": "code",
   "execution_count": 7,
   "metadata": {},
   "outputs": [
    {
     "ename": "ModuleNotFoundError",
     "evalue": "No module named 'cameo'",
     "output_type": "error",
     "traceback": [
      "\u001b[1;31m---------------------------------------------------------------------------\u001b[0m",
      "\u001b[1;31mModuleNotFoundError\u001b[0m                       Traceback (most recent call last)",
      "\u001b[1;32mc:\\Users\\Skole\\github-classroom\\27410\\group-assignment-group-8\\Analysis\\Target.ipynb Cell 3\u001b[0m line \u001b[0;36m1\n\u001b[1;32m----> <a href='vscode-notebook-cell:/c%3A/Users/Skole/github-classroom/27410/group-assignment-group-8/Analysis/Target.ipynb#W2sZmlsZQ%3D%3D?line=0'>1</a>\u001b[0m \u001b[39mfrom\u001b[39;00m \u001b[39mcameo\u001b[39;00m\u001b[39m.\u001b[39;00m\u001b[39mstrain_design\u001b[39;00m\u001b[39m.\u001b[39;00m\u001b[39mdeterministic\u001b[39;00m\u001b[39m.\u001b[39;00m\u001b[39mflux_variability_based\u001b[39;00m \u001b[39mimport\u001b[39;00m FSEOF\n\u001b[0;32m      <a href='vscode-notebook-cell:/c%3A/Users/Skole/github-classroom/27410/group-assignment-group-8/Analysis/Target.ipynb#W2sZmlsZQ%3D%3D?line=1'>2</a>\u001b[0m fseof \u001b[39m=\u001b[39m FSEOF(iMM904)\n\u001b[0;32m      <a href='vscode-notebook-cell:/c%3A/Users/Skole/github-classroom/27410/group-assignment-group-8/Analysis/Target.ipynb#W2sZmlsZQ%3D%3D?line=2'>3</a>\u001b[0m result \u001b[39m=\u001b[39m fseof\u001b[39m.\u001b[39mrun(target \u001b[39m=\u001b[39m iMM904\u001b[39m.\u001b[39mreactions\u001b[39m.\u001b[39mALDH1)\n",
      "\u001b[1;31mModuleNotFoundError\u001b[0m: No module named 'cameo'"
     ]
    }
   ],
   "source": [
    "from cameo.strain_design.deterministic.flux_variability_based import FSEOF\n",
    "fseof = FSEOF(iMM904)\n",
    "result = fseof.run(target = iMM904.reactions.ALDH1)\n",
    "df = result.data_frame"
   ]
  },
  {
   "cell_type": "code",
   "execution_count": null,
   "metadata": {},
   "outputs": [],
   "source": [
    "from matplotlib import pyplot as plt\n",
    "result.data_frame.T.plot()\n",
    "plt.legend(loc='center left', bbox_to_anchor=(1, 0.5))\n",
    "plt.show()"
   ]
  },
  {
   "cell_type": "code",
   "execution_count": null,
   "metadata": {},
   "outputs": [],
   "source": [
    "# sorting the dataframe\n",
    "df= df.sort_values([1], ascending = False)\n",
    " \n",
    "from pytest import approx\n",
    "# removing genes from dataframe \n",
    "removed_zero = (df != approx(0.0)).all(axis=1)\n",
    "df = df.loc[removed_zero]\n",
    "df.head()"
   ]
  },
  {
   "cell_type": "code",
   "execution_count": null,
   "metadata": {},
   "outputs": [],
   "source": [
    "def bar_color(df,color1,color2):\n",
    "    return np.where(df.values >=0,color1,color2).T\n",
    "\n",
    "fig = df.plot(legend=None, kind='bar',figsize=(20, 4), grid =False)\n",
    "fig.set_ylabel('Change in flux')\n",
    "fig.set_xlabel('Gene names')\n",
    "fig.set_title('Flux scanning based on Enforced Objective Flux', size=30)"
   ]
  },
  {
   "cell_type": "code",
   "execution_count": null,
   "metadata": {},
   "outputs": [],
   "source": [
    "df['relative_change_in_flux'] = (df[10]-df[1])/df[10] +1\n"
   ]
  },
  {
   "cell_type": "code",
   "execution_count": null,
   "metadata": {},
   "outputs": [],
   "source": [
    "target_reactions_df = df[df['relative_change_in_flux'] > 1.8]\n"
   ]
  },
  {
   "cell_type": "code",
   "execution_count": null,
   "metadata": {},
   "outputs": [],
   "source": [
    "target_reactions_df\n"
   ]
  },
  {
   "cell_type": "code",
   "execution_count": null,
   "metadata": {},
   "outputs": [],
   "source": [
    "df = target_reactions_df.drop(labels='relative_change_in_flux', axis=1)\n"
   ]
  },
  {
   "cell_type": "code",
   "execution_count": null,
   "metadata": {},
   "outputs": [],
   "source": [
    "fig = df.T.plot(cmap=\"viridis\",figsize=(8, 8), grid =True, linewidth=3);\n",
    "fig.set_ylabel('Flux')\n",
    "fig.set_title('Reactions with a relative change in Flux > 80%', size=20)"
   ]
  },
  {
   "cell_type": "code",
   "execution_count": null,
   "metadata": {},
   "outputs": [],
   "source": [
    "#lowest flux reactions\n",
    "target_reactions_df.tail()\n"
   ]
  },
  {
   "cell_type": "code",
   "execution_count": null,
   "metadata": {},
   "outputs": [],
   "source": [
    "#higest flux reactions\n",
    "target_reactions_df.head()\n"
   ]
  },
  {
   "cell_type": "code",
   "execution_count": 8,
   "metadata": {},
   "outputs": [],
   "source": []
  },
  {
   "cell_type": "code",
   "execution_count": null,
   "metadata": {},
   "outputs": [],
   "source": [
    "pip install --upgrade pip"
   ]
  }
 ],
 "metadata": {
  "kernelspec": {
   "display_name": "Python 3 (ipykernel)",
   "language": "python",
   "name": "python3"
  },
  "language_info": {
   "codemirror_mode": {
    "name": "ipython",
    "version": 3
   },
   "file_extension": ".py",
   "mimetype": "text/x-python",
   "name": "python",
   "nbconvert_exporter": "python",
   "pygments_lexer": "ipython3",
   "version": "3.9.5"
  }
 },
 "nbformat": 4,
 "nbformat_minor": 5
}
