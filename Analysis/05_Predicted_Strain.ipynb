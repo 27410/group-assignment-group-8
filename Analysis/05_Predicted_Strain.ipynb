{
 "cells": [
  {
   "cell_type": "markdown",
   "metadata": {},
   "source": [
    "Predicted strain"
   ]
  },
  {
   "cell_type": "code",
   "execution_count": 1,
   "id": "122c1369",
   "metadata": {},
   "outputs": [
    {
     "name": "stderr",
     "output_type": "stream",
     "text": [
      "c:\\Users\\Driton\\anaconda3\\envs\\python3716\\lib\\site-packages\\nbformat\\__init__.py:92: MissingIDFieldWarning: Code cell is missing an id field, this will become a hard error in future nbformat versions. You may want to use `normalize()` on your notebooks before validations (available since nbformat 5.1.4). Previous versions of nbformat are fixing this issue transparently, and will stop doing so in the future.\n",
      "  validate(nb)\n"
     ]
    },
    {
     "name": "stdout",
     "output_type": "stream",
     "text": [
      "ADS: frdp_c --> AMOR + ppi_c\n",
      "CPR1_CYP71AV1: AMOR + h_c + nadph_c + o2_c --> AAOH + h2o_c + nadp_c\n",
      "ADH1: AAOH + nad_c --> AAld + h_c + nadh_c\n",
      "ALDH1: AAld + h2o_c + nadp_c --> AA + h_c + nadph_c\n"
     ]
    }
   ],
   "source": [
    "%run 01_Model_CFE.ipynb\n",
    "from IPython.display import display\n",
    "from cameo.strain_design import pathway_prediction"
   ]
  },
  {
   "cell_type": "code",
   "execution_count": 2,
   "metadata": {},
   "outputs": [],
   "source": [
    "predictor = pathway_prediction.PathwayPredictor(iMM904)"
   ]
  },
  {
   "cell_type": "code",
   "execution_count": 3,
   "metadata": {},
   "outputs": [
    {
     "data": {
      "text/html": [
       "<span>Pathway 1</span>"
      ],
      "text/plain": [
       "<IPython.core.display.HTML object>"
      ]
     },
     "metadata": {},
     "output_type": "display_data"
    },
    {
     "data": {
      "text/html": [
       "<div>\n",
       "<style scoped>\n",
       "    .dataframe tbody tr th:only-of-type {\n",
       "        vertical-align: middle;\n",
       "    }\n",
       "\n",
       "    .dataframe tbody tr th {\n",
       "        vertical-align: top;\n",
       "    }\n",
       "\n",
       "    .dataframe thead th {\n",
       "        text-align: right;\n",
       "    }\n",
       "</style>\n",
       "<table border=\"1\" class=\"dataframe\">\n",
       "  <thead>\n",
       "    <tr style=\"text-align: right;\">\n",
       "      <th></th>\n",
       "      <th>equation</th>\n",
       "      <th>lower_bound</th>\n",
       "      <th>upper_bound</th>\n",
       "    </tr>\n",
       "  </thead>\n",
       "  <tbody>\n",
       "    <tr>\n",
       "      <th>MNXR55919</th>\n",
       "      <td>2.0 diphosphate + squalene + NADP(+) &lt;=&gt; H(+) ...</td>\n",
       "      <td>-1000.0</td>\n",
       "      <td>1000.0</td>\n",
       "    </tr>\n",
       "  </tbody>\n",
       "</table>\n",
       "</div>"
      ],
      "text/plain": [
       "                                                    equation  lower_bound  \\\n",
       "MNXR55919  2.0 diphosphate + squalene + NADP(+) <=> H(+) ...      -1000.0   \n",
       "\n",
       "           upper_bound  \n",
       "MNXR55919       1000.0  "
      ]
     },
     "metadata": {},
     "output_type": "display_data"
    },
    {
     "data": {
      "text/html": [
       "<span>Pathway 2</span>"
      ],
      "text/plain": [
       "<IPython.core.display.HTML object>"
      ]
     },
     "metadata": {},
     "output_type": "display_data"
    },
    {
     "data": {
      "text/html": [
       "<div>\n",
       "<style scoped>\n",
       "    .dataframe tbody tr th:only-of-type {\n",
       "        vertical-align: middle;\n",
       "    }\n",
       "\n",
       "    .dataframe tbody tr th {\n",
       "        vertical-align: top;\n",
       "    }\n",
       "\n",
       "    .dataframe thead th {\n",
       "        text-align: right;\n",
       "    }\n",
       "</style>\n",
       "<table border=\"1\" class=\"dataframe\">\n",
       "  <thead>\n",
       "    <tr style=\"text-align: right;\">\n",
       "      <th></th>\n",
       "      <th>equation</th>\n",
       "      <th>lower_bound</th>\n",
       "      <th>upper_bound</th>\n",
       "    </tr>\n",
       "  </thead>\n",
       "  <tbody>\n",
       "    <tr>\n",
       "      <th>MNXR69185</th>\n",
       "      <td>geranyl diphosphate + isopentenyl diphosphate ...</td>\n",
       "      <td>-1000.0</td>\n",
       "      <td>1000.0</td>\n",
       "    </tr>\n",
       "  </tbody>\n",
       "</table>\n",
       "</div>"
      ],
      "text/plain": [
       "                                                    equation  lower_bound  \\\n",
       "MNXR69185  geranyl diphosphate + isopentenyl diphosphate ...      -1000.0   \n",
       "\n",
       "           upper_bound  \n",
       "MNXR69185       1000.0  "
      ]
     },
     "metadata": {},
     "output_type": "display_data"
    },
    {
     "data": {
      "text/html": [
       "<span>Pathway 3</span>"
      ],
      "text/plain": [
       "<IPython.core.display.HTML object>"
      ]
     },
     "metadata": {},
     "output_type": "display_data"
    },
    {
     "data": {
      "text/html": [
       "<div>\n",
       "<style scoped>\n",
       "    .dataframe tbody tr th:only-of-type {\n",
       "        vertical-align: middle;\n",
       "    }\n",
       "\n",
       "    .dataframe tbody tr th {\n",
       "        vertical-align: top;\n",
       "    }\n",
       "\n",
       "    .dataframe thead th {\n",
       "        text-align: right;\n",
       "    }\n",
       "</style>\n",
       "<table border=\"1\" class=\"dataframe\">\n",
       "  <thead>\n",
       "    <tr style=\"text-align: right;\">\n",
       "      <th></th>\n",
       "      <th>equation</th>\n",
       "      <th>lower_bound</th>\n",
       "      <th>upper_bound</th>\n",
       "    </tr>\n",
       "  </thead>\n",
       "  <tbody>\n",
       "    <tr>\n",
       "      <th>MNXR55435</th>\n",
       "      <td>diphosphate + geranylgeranyl diphosphate &lt;=&gt; (...</td>\n",
       "      <td>-1000.0</td>\n",
       "      <td>1000.0</td>\n",
       "    </tr>\n",
       "  </tbody>\n",
       "</table>\n",
       "</div>"
      ],
      "text/plain": [
       "                                                    equation  lower_bound  \\\n",
       "MNXR55435  diphosphate + geranylgeranyl diphosphate <=> (...      -1000.0   \n",
       "\n",
       "           upper_bound  \n",
       "MNXR55435       1000.0  "
      ]
     },
     "metadata": {},
     "output_type": "display_data"
    },
    {
     "data": {
      "text/html": [
       "<span>Pathway 4</span>"
      ],
      "text/plain": [
       "<IPython.core.display.HTML object>"
      ]
     },
     "metadata": {},
     "output_type": "display_data"
    },
    {
     "data": {
      "text/html": [
       "<div>\n",
       "<style scoped>\n",
       "    .dataframe tbody tr th:only-of-type {\n",
       "        vertical-align: middle;\n",
       "    }\n",
       "\n",
       "    .dataframe tbody tr th {\n",
       "        vertical-align: top;\n",
       "    }\n",
       "\n",
       "    .dataframe thead th {\n",
       "        text-align: right;\n",
       "    }\n",
       "</style>\n",
       "<table border=\"1\" class=\"dataframe\">\n",
       "  <thead>\n",
       "    <tr style=\"text-align: right;\">\n",
       "      <th></th>\n",
       "      <th>equation</th>\n",
       "      <th>lower_bound</th>\n",
       "      <th>upper_bound</th>\n",
       "    </tr>\n",
       "  </thead>\n",
       "  <tbody>\n",
       "    <tr>\n",
       "      <th>MNXR8602</th>\n",
       "      <td>diphosphate + squalene + NADP(+) &lt;=&gt; H(+) + pr...</td>\n",
       "      <td>-1000.0</td>\n",
       "      <td>1000.0</td>\n",
       "    </tr>\n",
       "    <tr>\n",
       "      <th>MNXR59177</th>\n",
       "      <td>diphosphate + presqualene diphosphate &lt;=&gt; 2.0 ...</td>\n",
       "      <td>-1000.0</td>\n",
       "      <td>1000.0</td>\n",
       "    </tr>\n",
       "  </tbody>\n",
       "</table>\n",
       "</div>"
      ],
      "text/plain": [
       "                                                    equation  lower_bound  \\\n",
       "MNXR8602   diphosphate + squalene + NADP(+) <=> H(+) + pr...      -1000.0   \n",
       "MNXR59177  diphosphate + presqualene diphosphate <=> 2.0 ...      -1000.0   \n",
       "\n",
       "           upper_bound  \n",
       "MNXR8602        1000.0  \n",
       "MNXR59177       1000.0  "
      ]
     },
     "metadata": {},
     "output_type": "display_data"
    },
    {
     "name": "stderr",
     "output_type": "stream",
     "text": [
      "No pathway could be predicted. Terminating pathway predictions.\n",
      "None (infeasible).\n"
     ]
    }
   ],
   "source": [
    "pathways1=predictor.run(product='(2E,6E)-farnesyl diphosphate',max_predictions=6) "
   ]
  },
  {
   "cell_type": "code",
   "execution_count": 4,
   "metadata": {},
   "outputs": [
    {
     "name": "stdout",
     "output_type": "stream",
     "text": [
      "Pathway No. 1MNXR55919, rhea:32295: 2.0 diphosphate + squalene + NADP(+) <=> H(+) + 2.0 (2E,6E)-farnesyl diphosphate + NADPHPathway No. 2MNXR69185, rhea:19361: geranyl diphosphate + isopentenyl diphosphate <=> diphosphate + (2E,6E)-farnesyl diphosphatePathway No. 3MNXR55435, rhea:17653: diphosphate + geranylgeranyl diphosphate <=> (2E,6E)-farnesyl diphosphate + isopentenyl diphosphatePathway No. 4MNXR8602, rhea:22232: diphosphate + squalene + NADP(+) <=> H(+) + presqualene diphosphate + NADPHMNXR59177, rhea:22672: diphosphate + presqualene diphosphate <=> 2.0 (2E,6E)-farnesyl diphosphate\n"
     ]
    }
   ],
   "source": [
    "print(pathways1)"
   ]
  },
  {
   "cell_type": "markdown",
   "metadata": {},
   "source": [
    "Testing whether pathway 4 increases AA production or biomass yield  "
   ]
  },
  {
   "cell_type": "code",
   "execution_count": 5,
   "metadata": {},
   "outputs": [],
   "source": [
    "from cobra.io import read_sbml_model\n",
    "from cobra import Reaction, Metabolite"
   ]
  },
  {
   "cell_type": "code",
   "execution_count": 6,
   "metadata": {},
   "outputs": [],
   "source": [
    "PS_iMM904=iMM904.copy()\n"
   ]
  },
  {
   "cell_type": "code",
   "execution_count": 7,
   "metadata": {},
   "outputs": [],
   "source": [
    "presqualene_diphosphate = Metabolite(id = 'psqldp', compartment='c', name='presqualene_diphosphate', formula='C30H52O7P2')\n"
   ]
  },
  {
   "cell_type": "code",
   "execution_count": 8,
   "metadata": {},
   "outputs": [],
   "source": [
    "presqualene_diphosphate_synthase=Reaction('PSPPS')\n",
    "presqualene_diphosphate_synthase_FDF=Reaction('r0575')"
   ]
  },
  {
   "cell_type": "code",
   "execution_count": 9,
   "metadata": {},
   "outputs": [],
   "source": [
    "presqualene_diphosphate_synthase.add_metabolites(({PS_iMM904.metabolites.sql_c:-1,PS_iMM904.metabolites.ppi_c:-1,PS_iMM904.metabolites.nadp_c:-1,PS_iMM904.metabolites.h_c:1,presqualene_diphosphate:1,PS_iMM904.metabolites.nadph_c:1}))\n",
    "\n",
    "presqualene_diphosphate_synthase_FDF.add_metabolites(({PS_iMM904.metabolites.ppi_c:-1,presqualene_diphosphate:-1,PS_iMM904.metabolites.frdp_c:2}))\n"
   ]
  },
  {
   "cell_type": "code",
   "execution_count": 10,
   "metadata": {},
   "outputs": [],
   "source": [
    "PS_iMM904.add_reactions([presqualene_diphosphate_synthase])\n",
    "PS_iMM904.add_reactions([presqualene_diphosphate_synthase_FDF])"
   ]
  },
  {
   "cell_type": "code",
   "execution_count": 11,
   "metadata": {},
   "outputs": [
    {
     "name": "stdout",
     "output_type": "stream",
     "text": [
      "Maximum theoretical biomass productivity: 1.3074654220045194 /h\n",
      "Maximum theoretical productivity of Aldehyde_dehydrogenase_1 reaction: 2.000000000000001 mmol/gDW*h\n"
     ]
    }
   ],
   "source": [
    "# Make a copy of the medium dictionary\n",
    "YEPDmediumSuc = PS_iMM904.medium.copy()\n",
    "\n",
    "# Optimize the model for maximum biomass productivity\n",
    "with PS_iMM904:\n",
    "    # Define YEPDmedium\n",
    "    YEPDmediumSuc[\"EX_glc__D_e\"] = 0\n",
    "    YEPDmediumSuc[\"EX_sucr_e\"] = 20\n",
    "    YEPDmediumSuc['EX_ala__L_e'] = 10\n",
    "    YEPDmediumSuc['EX_arg__L_e'] = 10\n",
    "    YEPDmediumSuc['EX_asp__L_e'] = 10\n",
    "    YEPDmediumSuc['EX_cys__L_e'] = 10\n",
    "    YEPDmediumSuc['EX_glu__L_e'] = 10\n",
    "    YEPDmediumSuc['EX_gly_e'] = 10\n",
    "    YEPDmediumSuc['EX_his__L_e'] = 10\n",
    "    YEPDmediumSuc['EX_ile__L_e'] = 10\n",
    "    YEPDmediumSuc['EX_leu__L_e'] = 10\n",
    "    YEPDmediumSuc['EX_lys__L_e'] = 10\n",
    "    YEPDmediumSuc['EX_met__L_e'] = 10\n",
    "    YEPDmediumSuc['EX_phe__L_e'] = 10\n",
    "    YEPDmediumSuc['EX_pro__L_e'] = 10\n",
    "    YEPDmediumSuc['EX_ser__L_e'] = 10\n",
    "    YEPDmediumSuc['EX_thr__L_e'] = 10\n",
    "    YEPDmediumSuc['EX_trp__L_e'] = 10\n",
    "    YEPDmediumSuc['EX_tyr__L_e'] = 10\n",
    "    YEPDmediumSuc['EX_val__L_e'] = 10\n",
    "    YEPDmediumSuc['EX_fe2_e'] = 10\n",
    "    # Set YEPDmedium as the medium for the model\n",
    "    PS_iMM904.medium = YEPDmediumSuc\n",
    "    solutionSuc = PS_iMM904.optimize()\n",
    "    print('Maximum theoretical biomass productivity:', solutionSuc.fluxes['BIOMASS_SC5_notrace'], '/h')\n",
    "\n",
    "    # Change the objective function to ALDH1 and optimize again\n",
    "    PS_iMM904.objective = PS_iMM904.reactions.ALDH1\n",
    "    AA_productionSuc = PS_iMM904.optimize().objective_value\n",
    "    print('Maximum theoretical productivity of Aldehyde_dehydrogenase_1 reaction:', AA_productionSuc, 'mmol/gDW*h')"
   ]
  },
  {
   "cell_type": "markdown",
   "metadata": {},
   "source": [
    "No change in productivity or biomass  yield is seen from adding pathway 4 to the model. The comparison was to the yields seen in YEPD succrose in 03_Media_optimization.ipynb"
   ]
  }
 ],
 "metadata": {
  "kernelspec": {
   "display_name": "Python 3 (ipykernel)",
   "language": "python",
   "name": "python3"
  },
  "language_info": {
   "codemirror_mode": {
    "name": "ipython",
    "version": 3
   },
   "file_extension": ".py",
   "mimetype": "text/x-python",
   "name": "python",
   "nbconvert_exporter": "python",
   "pygments_lexer": "ipython3",
   "version": "3.9.5"
  }
 },
 "nbformat": 4,
 "nbformat_minor": 5
}
