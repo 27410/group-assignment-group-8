{
 "cells": [
  {
   "cell_type": "code",
   "execution_count": 1,
   "id": "122c1369",
   "metadata": {},
   "outputs": [
    {
     "name": "stderr",
     "output_type": "stream",
     "text": [
      "c:\\Users\\Skole\\AppData\\Local\\Programs\\Python\\Python39\\lib\\site-packages\\nbformat\\__init__.py:93: MissingIDFieldWarning: Code cell is missing an id field, this will become a hard error in future nbformat versions. You may want to use `normalize()` on your notebooks before validations (available since nbformat 5.1.4). Previous versions of nbformat are fixing this issue transparently, and will stop doing so in the future.\n",
      "  validate(nb)\n"
     ]
    },
    {
     "name": "stdout",
     "output_type": "stream",
     "text": [
      "ADS: frdp_c --> AMOR + ppi_c\n",
      "CPR1_CYP71AV1: AMOR + h_c + nadph_c + o2_c --> AAOH + h2o_c + nadp_c\n",
      "ADH1: AAOH + nad_c --> AAld + h_c + nadh_c\n",
      "ALDH1: AAld + h2o_c + nadp_c --> AA + h_c + nadph_c\n"
     ]
    }
   ],
   "source": [
    "%run Model_CFE.ipynb"
   ]
  },
  {
   "cell_type": "markdown",
   "metadata": {},
   "source": [
    "Maximum theoretical yield using default media"
   ]
  },
  {
   "cell_type": "code",
   "execution_count": 2,
   "metadata": {},
   "outputs": [
    {
     "name": "stdout",
     "output_type": "stream",
     "text": [
      "Maximum productivity = 0.8333333333333333 mmol/gDW*h\n",
      "Maximum theoretical yield = 0.08333333333333333 mmol-ALDH1/mmol-glc\n"
     ]
    }
   ],
   "source": [
    "iMM904.objective = iMM904.reactions.ALDH1\n",
    "AA_production = iMM904.optimize().objective_value\n",
    "print('Maximum productivity =', AA_production, 'mmol/gDW*h')\n",
    "\n",
    "maximum_yield = AA_production / (-1*(iMM904.reactions.EX_glc__D_e.flux))\n",
    "print('Maximum theoretical yield =', maximum_yield, 'mmol-AA/mmol-glc')"
   ]
  },
  {
   "cell_type": "markdown",
   "metadata": {},
   "source": [
    "In cmol/cmol:"
   ]
  },
  {
   "cell_type": "code",
   "execution_count": 3,
   "metadata": {},
   "outputs": [
    {
     "name": "stdout",
     "output_type": "stream",
     "text": [
      "Maximum theoretical yield = 0.20833333333333334 cmol-AA/cmol-glc\n"
     ]
    }
   ],
   "source": [
    "CV_AA = 15 # Cmol/mol conversion factor for artemisinic acid\n",
    "CV_glc = 6 # Cmol/mol conversion factor for glucose\n",
    "\n",
    "AA_production_cmol = (maximum_yield*CV_AA)/(1*CV_glc)\n",
    "print('Maximum theoretical yield =', AA_production_cmol, 'cmol-AA/cmol-glc')\n"
   ]
  },
  {
   "cell_type": "markdown",
   "metadata": {},
   "source": [
    "Maximum theoretical yield using YEPD media"
   ]
  },
  {
   "cell_type": "markdown",
   "metadata": {},
   "source": [
    "Creating the YEPD media:"
   ]
  },
  {
   "cell_type": "code",
   "execution_count": 4,
   "metadata": {},
   "outputs": [],
   "source": [
    "\n",
    "YEPDmedium = iMM904.medium\n",
    "YEPDmedium[\"EX_glc__D_e\"] = 20\n",
    "YEPDmedium['EX_ala__L_e'] = 10\n",
    "YEPDmedium['EX_arg__L_e'] = 10\n",
    "YEPDmedium['EX_asp__L_e'] = 10\n",
    "YEPDmedium['EX_cys__L_e'] = 10\n",
    "YEPDmedium['EX_glu__L_e'] = 10\n",
    "YEPDmedium['EX_gly_e'] = 10\n",
    "YEPDmedium['EX_his__L_e'] = 10\n",
    "YEPDmedium['EX_ile__L_e'] = 10\n",
    "YEPDmedium['EX_leu__L_e'] = 10\n",
    "YEPDmedium['EX_lys__L_e'] = 10\n",
    "YEPDmedium['EX_met__L_e'] = 10\n",
    "YEPDmedium['EX_phe__L_e'] = 10\n",
    "YEPDmedium['EX_pro__L_e'] = 10\n",
    "YEPDmedium['EX_ser__L_e'] = 10\n",
    "YEPDmedium['EX_thr__L_e'] = 10\n",
    "YEPDmedium['EX_trp__L_e'] = 10\n",
    "YEPDmedium['EX_tyr__L_e'] = 10\n",
    "YEPDmedium['EX_val__L_e'] = 10\n",
    "YEPDmedium['EX_fe2_e'] = 10"
   ]
  },
  {
   "cell_type": "markdown",
   "metadata": {},
   "source": [
    "Setting the bounds of the exchange reactions in order to create the fluxes:"
   ]
  },
  {
   "cell_type": "code",
   "execution_count": 5,
   "metadata": {},
   "outputs": [],
   "source": [
    "iMM904.reactions.EX_glc__D_e.bounds = -20, 1000\n",
    "iMM904.reactions.EX_ala__L_e.bounds = -10, 0\n",
    "iMM904.reactions.EX_arg__L_e.bounds = -10, 0\n",
    "iMM904.reactions.EX_asp__L_e.bounds = -10, 0\n",
    "iMM904.reactions.EX_cys__L_e.bounds = -10, 0\n",
    "iMM904.reactions.EX_glu__L_e.bounds = -10, 0\n",
    "iMM904.reactions.EX_his__L_e.bounds = -10, 0\n",
    "iMM904.reactions.EX_ile__L_e.bounds = -10, 0\n",
    "iMM904.reactions.EX_leu__L_e.bounds = -10, 0\n",
    "iMM904.reactions.EX_lys__L_e.bounds = -10, 0\n",
    "iMM904.reactions.EX_met__L_e.bounds = -10, 0\n",
    "iMM904.reactions.EX_phe__L_e.bounds = -10, 0\n",
    "iMM904.reactions.EX_pro__L_e.bounds = -10, 0\n",
    "iMM904.reactions.EX_ser__L_e.bounds = -10, 0\n",
    "iMM904.reactions.EX_thr__L_e.bounds = -10, 0\n",
    "iMM904.reactions.EX_trp__L_e.bounds = -10, 0\n",
    "iMM904.reactions.EX_tyr__L_e.bounds = -10, 0\n",
    "iMM904.reactions.EX_val__L_e.bounds = -10, 0\n",
    "iMM904.reactions.EX_fe2_e.bounds = -10, 0"
   ]
  },
  {
   "cell_type": "code",
   "execution_count": 6,
   "metadata": {},
   "outputs": [
    {
     "data": {
      "text/html": [
       "<strong><em>Optimal</em> solution with objective value 2.000</strong><br><div>\n",
       "<style scoped>\n",
       "    .dataframe tbody tr th:only-of-type {\n",
       "        vertical-align: middle;\n",
       "    }\n",
       "\n",
       "    .dataframe tbody tr th {\n",
       "        vertical-align: top;\n",
       "    }\n",
       "\n",
       "    .dataframe thead th {\n",
       "        text-align: right;\n",
       "    }\n",
       "</style>\n",
       "<table border=\"1\" class=\"dataframe\">\n",
       "  <thead>\n",
       "    <tr style=\"text-align: right;\">\n",
       "      <th></th>\n",
       "      <th>fluxes</th>\n",
       "      <th>reduced_costs</th>\n",
       "    </tr>\n",
       "  </thead>\n",
       "  <tbody>\n",
       "    <tr>\n",
       "      <th>CITtcp</th>\n",
       "      <td>0.000000e+00</td>\n",
       "      <td>0.000000e+00</td>\n",
       "    </tr>\n",
       "    <tr>\n",
       "      <th>13BGH</th>\n",
       "      <td>0.000000e+00</td>\n",
       "      <td>2.678569e-16</td>\n",
       "    </tr>\n",
       "    <tr>\n",
       "      <th>13BGHe</th>\n",
       "      <td>0.000000e+00</td>\n",
       "      <td>0.000000e+00</td>\n",
       "    </tr>\n",
       "    <tr>\n",
       "      <th>13GS</th>\n",
       "      <td>6.354092e-16</td>\n",
       "      <td>-2.943437e-29</td>\n",
       "    </tr>\n",
       "    <tr>\n",
       "      <th>16GS</th>\n",
       "      <td>0.000000e+00</td>\n",
       "      <td>5.357138e-16</td>\n",
       "    </tr>\n",
       "    <tr>\n",
       "      <th>...</th>\n",
       "      <td>...</td>\n",
       "      <td>...</td>\n",
       "    </tr>\n",
       "    <tr>\n",
       "      <th>ALDH1</th>\n",
       "      <td>2.000000e+00</td>\n",
       "      <td>4.058515e-17</td>\n",
       "    </tr>\n",
       "    <tr>\n",
       "      <th>DM_AMOR</th>\n",
       "      <td>0.000000e+00</td>\n",
       "      <td>3.871201e-15</td>\n",
       "    </tr>\n",
       "    <tr>\n",
       "      <th>DM_AAOH</th>\n",
       "      <td>0.000000e+00</td>\n",
       "      <td>-2.000000e+00</td>\n",
       "    </tr>\n",
       "    <tr>\n",
       "      <th>DM_AAld</th>\n",
       "      <td>0.000000e+00</td>\n",
       "      <td>-2.000000e+00</td>\n",
       "    </tr>\n",
       "    <tr>\n",
       "      <th>DM_AA</th>\n",
       "      <td>2.000000e+00</td>\n",
       "      <td>0.000000e+00</td>\n",
       "    </tr>\n",
       "  </tbody>\n",
       "</table>\n",
       "<p>1585 rows × 2 columns</p>\n",
       "</div>"
      ],
      "text/plain": [
       "<Solution 2.000 at 0x1c819baec40>"
      ]
     },
     "execution_count": 6,
     "metadata": {},
     "output_type": "execute_result"
    }
   ],
   "source": [
    "iMM904.optimize() "
   ]
  },
  {
   "cell_type": "markdown",
   "metadata": {},
   "source": [
    "Computing the summed carbon source fluxes:"
   ]
  },
  {
   "cell_type": "code",
   "execution_count": 7,
   "metadata": {},
   "outputs": [],
   "source": [
    "CSource_fluxes = [iMM904.reactions.EX_glc__D_e.flux,\n",
    "       iMM904.reactions.EX_ala__L_e.flux,\n",
    "       iMM904.reactions.EX_arg__L_e.flux,\n",
    "       iMM904.reactions.EX_asp__L_e.flux,\n",
    "       iMM904.reactions.EX_cys__L_e.flux,\n",
    "       iMM904.reactions.EX_glu__L_e.flux,\n",
    "       iMM904.reactions.EX_his__L_e.flux,\n",
    "       iMM904.reactions.EX_ile__L_e.flux,\n",
    "       iMM904.reactions.EX_leu__L_e.flux,\n",
    "       iMM904.reactions.EX_lys__L_e.flux,\n",
    "       iMM904.reactions.EX_met__L_e.flux,\n",
    "       iMM904.reactions.EX_phe__L_e.flux,\n",
    "       iMM904.reactions.EX_pro__L_e.flux,\n",
    "       iMM904.reactions.EX_ser__L_e.flux,\n",
    "       iMM904.reactions.EX_thr__L_e.flux,\n",
    "       iMM904.reactions.EX_trp__L_e.flux,\n",
    "       iMM904.reactions.EX_tyr__L_e.flux,\n",
    "       iMM904.reactions.EX_val__L_e.flux,\n",
    "       iMM904.reactions.EX_pro__L_e.flux,\n",
    "       iMM904.reactions.EX_fe2_e.flux ]"
   ]
  },
  {
   "cell_type": "code",
   "execution_count": 8,
   "metadata": {},
   "outputs": [],
   "source": [
    "\n",
    "sum_CSource_fluxes = sum(CSource_fluxes)"
   ]
  },
  {
   "cell_type": "markdown",
   "metadata": {},
   "source": [
    "Computing the maximum theoretical yield using YEPD media (mmol/mmol):"
   ]
  },
  {
   "cell_type": "code",
   "execution_count": 9,
   "metadata": {},
   "outputs": [
    {
     "name": "stdout",
     "output_type": "stream",
     "text": [
      "Maximum productivity = 1.9999999999999993 mmol/gDW*h\n",
      "Maximum theoretical yield = 0.04651162790697671 mmol-AA/mmol-Csources\n"
     ]
    }
   ],
   "source": [
    "with iMM904:\n",
    "    iMM904.objective = iMM904.reactions.ALDH1\n",
    "    AA_production = iMM904.optimize().objective_value\n",
    "    print('Maximum productivity =', AA_production, 'mmol/gDW*h')\n",
    "   \n",
    "    maximum_yield2 = AA_production / (-1*(sum_CSource_fluxes))\n",
    "    print('Maximum theoretical yield =', maximum_yield2, 'mmol-AA/mmol-Csources')\n",
    "    \n",
    "    \n"
   ]
  }
 ],
 "metadata": {
  "kernelspec": {
   "display_name": "Python 3 (ipykernel)",
   "language": "python",
   "name": "python3"
  },
  "language_info": {
   "codemirror_mode": {
    "name": "ipython",
    "version": 3
   },
   "file_extension": ".py",
   "mimetype": "text/x-python",
   "name": "python",
   "nbconvert_exporter": "python",
   "pygments_lexer": "ipython3",
   "version": "3.9.5"
  }
 },
 "nbformat": 4,
 "nbformat_minor": 5
}
