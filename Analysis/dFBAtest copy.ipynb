{
 "cells": [
  {
   "cell_type": "code",
   "execution_count": 1,
   "id": "122c1369",
   "metadata": {},
   "outputs": [
    {
     "name": "stderr",
     "output_type": "stream",
     "text": [
      "c:\\Users\\Emil\\anaconda3\\envs\\Backup_PY-Opt_I_Hope\\lib\\site-packages\\nbformat\\__init__.py:93: MissingIDFieldWarning: Code cell is missing an id field, this will become a hard error in future nbformat versions. You may want to use `normalize()` on your notebooks before validations (available since nbformat 5.1.4). Previous versions of nbformat are fixing this issue transparently, and will stop doing so in the future.\n",
      "  validate(nb)\n"
     ]
    },
    {
     "name": "stdout",
     "output_type": "stream",
     "text": [
      "ADS: frdp_c --> AMOR + ppi_c\n",
      "CPR1_CYP71AV1: AMOR + h_c + nadph_c + o2_c --> AAOH + h2o_c + nadp_c\n",
      "ADH1: AAOH + nad_c --> AAld + h_c + nadh_c\n",
      "ALDH1: AAld + h2o_c + nadp_c --> AA + h_c + nadph_c\n"
     ]
    }
   ],
   "source": [
    "%run 01_Model_CFE.ipynb\n"
   ]
  },
  {
   "cell_type": "code",
   "execution_count": 2,
   "metadata": {},
   "outputs": [],
   "source": [
    "import numpy as np\n",
    "from tqdm import tqdm\n",
    "\n",
    "from scipy.integrate import solve_ivp\n",
    "\n",
    "import matplotlib.pyplot as plt\n",
    "%matplotlib inline"
   ]
  },
  {
   "cell_type": "code",
   "execution_count": 3,
   "metadata": {},
   "outputs": [],
   "source": [
    "import cobra\n"
   ]
  },
  {
   "cell_type": "code",
   "execution_count": 4,
   "metadata": {},
   "outputs": [],
   "source": [
    "def add_dynamic_bounds(iMM904, y):\n",
    "    \"\"\"Use external concentrations to bound the uptake flux of sucrose.\"\"\"\n",
    "    biomass, sucrose, oxygen = y  # expand the boundary species\n",
    "    sucrose_max_import = -10 * sucrose / (5 + sucrose)\n",
    "   \n",
    "\n",
    "    iMM904.reactions.EX_sucr_e.lower_bound = sucrose_max_import\n",
    "\n",
    "\n",
    "def dynamic_system(t, y):\n",
    "    \"\"\"Calculate the time derivative of external species.\"\"\"\n",
    "\n",
    "    biomass, sucrose, oxygen = y  # expand the boundary species\n",
    "\n",
    "    # Calculate the specific exchanges fluxes at the given external concentrations.\n",
    "    with iMM904:\n",
    "        add_dynamic_bounds(iMM904, y)\n",
    "\n",
    "        cobra.util.add_lp_feasibility(iMM904)\n",
    "        feasibility = cobra.util.fix_objective_as_constraint(iMM904)\n",
    "        lex_constraints = cobra.util.add_lexicographic_constraints(\n",
    "            iMM904, ['BIOMASS_SC5_notrace', 'EX_sucr_e', 'EX_o2_e'], ['max', 'max', 'max'])\n",
    "    fluxes = lex_constraints.values\n",
    "    fluxes *= biomass\n",
    "    if dynamic_system.pbar is not None:\n",
    "        dynamic_system.pbar.update(1)\n",
    "        dynamic_system.pbar.set_description('t = {:.3f}'.format(t))\n",
    "\n",
    "    return fluxes\n"
   ]
  },
  {
   "cell_type": "code",
   "execution_count": 5,
   "metadata": {},
   "outputs": [],
   "source": [
    "dynamic_system.pbar = None"
   ]
  },
  {
   "cell_type": "code",
   "execution_count": 6,
   "metadata": {},
   "outputs": [],
   "source": [
    "\n",
    "def infeasible_event(t, y):\n",
    "    with iMM904:\n",
    "\n",
    "        add_dynamic_bounds(iMM904, y)\n",
    "\n",
    "        cobra.util.add_lp_feasibility(iMM904)\n",
    "        feasibility = cobra.util.fix_objective_as_constraint(iMM904)\n",
    "\n",
    "    return feasibility - infeasible_event.epsilon\n",
    "\n",
    "infeasible_event.epsilon = 1E-6\n",
    "infeasible_event.direction = 1\n",
    "infeasible_event.terminal = True"
   ]
  },
  {
   "cell_type": "code",
   "execution_count": 7,
   "metadata": {},
   "outputs": [
    {
     "name": "stderr",
     "output_type": "stream",
     "text": [
      "t = 7.798: : 329it [10:55,  1.99s/it]\n"
     ]
    },
    {
     "ename": "Infeasible",
     "evalue": "None (infeasible).",
     "output_type": "error",
     "traceback": [
      "\u001b[1;31m---------------------------------------------------------------------------\u001b[0m",
      "\u001b[1;31mInfeasible\u001b[0m                                Traceback (most recent call last)",
      "\u001b[1;32mc:\\Users\\Emil\\Desktop\\CFE\\group-assignment-group-8\\Analysis\\dFBAtest copy.ipynb Cell 7\u001b[0m line \u001b[0;36m7\n\u001b[0;32m      <a href='vscode-notebook-cell:/c%3A/Users/Emil/Desktop/CFE/group-assignment-group-8/Analysis/dFBAtest%20copy.ipynb#W6sZmlsZQ%3D%3D?line=3'>4</a>\u001b[0m \u001b[39mwith\u001b[39;00m tqdm() \u001b[39mas\u001b[39;00m pbar:\n\u001b[0;32m      <a href='vscode-notebook-cell:/c%3A/Users/Emil/Desktop/CFE/group-assignment-group-8/Analysis/dFBAtest%20copy.ipynb#W6sZmlsZQ%3D%3D?line=4'>5</a>\u001b[0m     dynamic_system\u001b[39m.\u001b[39mpbar \u001b[39m=\u001b[39m pbar\n\u001b[1;32m----> <a href='vscode-notebook-cell:/c%3A/Users/Emil/Desktop/CFE/group-assignment-group-8/Analysis/dFBAtest%20copy.ipynb#W6sZmlsZQ%3D%3D?line=6'>7</a>\u001b[0m     sol \u001b[39m=\u001b[39m solve_ivp(\n\u001b[0;32m      <a href='vscode-notebook-cell:/c%3A/Users/Emil/Desktop/CFE/group-assignment-group-8/Analysis/dFBAtest%20copy.ipynb#W6sZmlsZQ%3D%3D?line=7'>8</a>\u001b[0m         fun\u001b[39m=\u001b[39;49mdynamic_system,\n\u001b[0;32m      <a href='vscode-notebook-cell:/c%3A/Users/Emil/Desktop/CFE/group-assignment-group-8/Analysis/dFBAtest%20copy.ipynb#W6sZmlsZQ%3D%3D?line=8'>9</a>\u001b[0m         events\u001b[39m=\u001b[39;49m[infeasible_event],\n\u001b[0;32m     <a href='vscode-notebook-cell:/c%3A/Users/Emil/Desktop/CFE/group-assignment-group-8/Analysis/dFBAtest%20copy.ipynb#W6sZmlsZQ%3D%3D?line=9'>10</a>\u001b[0m         t_span\u001b[39m=\u001b[39;49m(ts\u001b[39m.\u001b[39;49mmin(), ts\u001b[39m.\u001b[39;49mmax()),\n\u001b[0;32m     <a href='vscode-notebook-cell:/c%3A/Users/Emil/Desktop/CFE/group-assignment-group-8/Analysis/dFBAtest%20copy.ipynb#W6sZmlsZQ%3D%3D?line=10'>11</a>\u001b[0m         y0\u001b[39m=\u001b[39;49my0,\n\u001b[0;32m     <a href='vscode-notebook-cell:/c%3A/Users/Emil/Desktop/CFE/group-assignment-group-8/Analysis/dFBAtest%20copy.ipynb#W6sZmlsZQ%3D%3D?line=11'>12</a>\u001b[0m         t_eval\u001b[39m=\u001b[39;49mts,\n\u001b[0;32m     <a href='vscode-notebook-cell:/c%3A/Users/Emil/Desktop/CFE/group-assignment-group-8/Analysis/dFBAtest%20copy.ipynb#W6sZmlsZQ%3D%3D?line=12'>13</a>\u001b[0m         rtol\u001b[39m=\u001b[39;49m\u001b[39m1e-6\u001b[39;49m,\n\u001b[0;32m     <a href='vscode-notebook-cell:/c%3A/Users/Emil/Desktop/CFE/group-assignment-group-8/Analysis/dFBAtest%20copy.ipynb#W6sZmlsZQ%3D%3D?line=13'>14</a>\u001b[0m         atol\u001b[39m=\u001b[39;49m\u001b[39m1e-8\u001b[39;49m,\n\u001b[0;32m     <a href='vscode-notebook-cell:/c%3A/Users/Emil/Desktop/CFE/group-assignment-group-8/Analysis/dFBAtest%20copy.ipynb#W6sZmlsZQ%3D%3D?line=14'>15</a>\u001b[0m         method\u001b[39m=\u001b[39;49m\u001b[39m'\u001b[39;49m\u001b[39mBDF\u001b[39;49m\u001b[39m'\u001b[39;49m\n\u001b[0;32m     <a href='vscode-notebook-cell:/c%3A/Users/Emil/Desktop/CFE/group-assignment-group-8/Analysis/dFBAtest%20copy.ipynb#W6sZmlsZQ%3D%3D?line=15'>16</a>\u001b[0m     )\n",
      "File \u001b[1;32m~\\AppData\\Roaming\\Python\\Python39\\site-packages\\scipy\\integrate\\_ivp\\ivp.py:602\u001b[0m, in \u001b[0;36msolve_ivp\u001b[1;34m(fun, t_span, y0, method, t_eval, dense_output, events, vectorized, args, **options)\u001b[0m\n\u001b[0;32m    600\u001b[0m status \u001b[39m=\u001b[39m \u001b[39mNone\u001b[39;00m\n\u001b[0;32m    601\u001b[0m \u001b[39mwhile\u001b[39;00m status \u001b[39mis\u001b[39;00m \u001b[39mNone\u001b[39;00m:\n\u001b[1;32m--> 602\u001b[0m     message \u001b[39m=\u001b[39m solver\u001b[39m.\u001b[39;49mstep()\n\u001b[0;32m    604\u001b[0m     \u001b[39mif\u001b[39;00m solver\u001b[39m.\u001b[39mstatus \u001b[39m==\u001b[39m \u001b[39m'\u001b[39m\u001b[39mfinished\u001b[39m\u001b[39m'\u001b[39m:\n\u001b[0;32m    605\u001b[0m         status \u001b[39m=\u001b[39m \u001b[39m0\u001b[39m\n",
      "File \u001b[1;32m~\\AppData\\Roaming\\Python\\Python39\\site-packages\\scipy\\integrate\\_ivp\\base.py:197\u001b[0m, in \u001b[0;36mOdeSolver.step\u001b[1;34m(self)\u001b[0m\n\u001b[0;32m    195\u001b[0m \u001b[39melse\u001b[39;00m:\n\u001b[0;32m    196\u001b[0m     t \u001b[39m=\u001b[39m \u001b[39mself\u001b[39m\u001b[39m.\u001b[39mt\n\u001b[1;32m--> 197\u001b[0m     success, message \u001b[39m=\u001b[39m \u001b[39mself\u001b[39;49m\u001b[39m.\u001b[39;49m_step_impl()\n\u001b[0;32m    199\u001b[0m     \u001b[39mif\u001b[39;00m \u001b[39mnot\u001b[39;00m success:\n\u001b[0;32m    200\u001b[0m         \u001b[39mself\u001b[39m\u001b[39m.\u001b[39mstatus \u001b[39m=\u001b[39m \u001b[39m'\u001b[39m\u001b[39mfailed\u001b[39m\u001b[39m'\u001b[39m\n",
      "File \u001b[1;32m~\\AppData\\Roaming\\Python\\Python39\\site-packages\\scipy\\integrate\\_ivp\\bdf.py:366\u001b[0m, in \u001b[0;36mBDF._step_impl\u001b[1;34m(self)\u001b[0m\n\u001b[0;32m    363\u001b[0m \u001b[39mif\u001b[39;00m LU \u001b[39mis\u001b[39;00m \u001b[39mNone\u001b[39;00m:\n\u001b[0;32m    364\u001b[0m     LU \u001b[39m=\u001b[39m \u001b[39mself\u001b[39m\u001b[39m.\u001b[39mlu(\u001b[39mself\u001b[39m\u001b[39m.\u001b[39mI \u001b[39m-\u001b[39m c \u001b[39m*\u001b[39m J)\n\u001b[1;32m--> 366\u001b[0m converged, n_iter, y_new, d \u001b[39m=\u001b[39m solve_bdf_system(\n\u001b[0;32m    367\u001b[0m     \u001b[39mself\u001b[39;49m\u001b[39m.\u001b[39;49mfun, t_new, y_predict, c, psi, LU, \u001b[39mself\u001b[39;49m\u001b[39m.\u001b[39;49msolve_lu,\n\u001b[0;32m    368\u001b[0m     scale, \u001b[39mself\u001b[39;49m\u001b[39m.\u001b[39;49mnewton_tol)\n\u001b[0;32m    370\u001b[0m \u001b[39mif\u001b[39;00m \u001b[39mnot\u001b[39;00m converged:\n\u001b[0;32m    371\u001b[0m     \u001b[39mif\u001b[39;00m current_jac:\n",
      "File \u001b[1;32m~\\AppData\\Roaming\\Python\\Python39\\site-packages\\scipy\\integrate\\_ivp\\bdf.py:43\u001b[0m, in \u001b[0;36msolve_bdf_system\u001b[1;34m(fun, t_new, y_predict, c, psi, LU, solve_lu, scale, tol)\u001b[0m\n\u001b[0;32m     41\u001b[0m converged \u001b[39m=\u001b[39m \u001b[39mFalse\u001b[39;00m\n\u001b[0;32m     42\u001b[0m \u001b[39mfor\u001b[39;00m k \u001b[39min\u001b[39;00m \u001b[39mrange\u001b[39m(NEWTON_MAXITER):\n\u001b[1;32m---> 43\u001b[0m     f \u001b[39m=\u001b[39m fun(t_new, y)\n\u001b[0;32m     44\u001b[0m     \u001b[39mif\u001b[39;00m \u001b[39mnot\u001b[39;00m np\u001b[39m.\u001b[39mall(np\u001b[39m.\u001b[39misfinite(f)):\n\u001b[0;32m     45\u001b[0m         \u001b[39mbreak\u001b[39;00m\n",
      "File \u001b[1;32m~\\AppData\\Roaming\\Python\\Python39\\site-packages\\scipy\\integrate\\_ivp\\base.py:154\u001b[0m, in \u001b[0;36mOdeSolver.__init__.<locals>.fun\u001b[1;34m(t, y)\u001b[0m\n\u001b[0;32m    152\u001b[0m \u001b[39mdef\u001b[39;00m \u001b[39mfun\u001b[39m(t, y):\n\u001b[0;32m    153\u001b[0m     \u001b[39mself\u001b[39m\u001b[39m.\u001b[39mnfev \u001b[39m+\u001b[39m\u001b[39m=\u001b[39m \u001b[39m1\u001b[39m\n\u001b[1;32m--> 154\u001b[0m     \u001b[39mreturn\u001b[39;00m \u001b[39mself\u001b[39;49m\u001b[39m.\u001b[39;49mfun_single(t, y)\n",
      "File \u001b[1;32m~\\AppData\\Roaming\\Python\\Python39\\site-packages\\scipy\\integrate\\_ivp\\base.py:23\u001b[0m, in \u001b[0;36mcheck_arguments.<locals>.fun_wrapped\u001b[1;34m(t, y)\u001b[0m\n\u001b[0;32m     22\u001b[0m \u001b[39mdef\u001b[39;00m \u001b[39mfun_wrapped\u001b[39m(t, y):\n\u001b[1;32m---> 23\u001b[0m     \u001b[39mreturn\u001b[39;00m np\u001b[39m.\u001b[39masarray(fun(t, y), dtype\u001b[39m=\u001b[39mdtype)\n",
      "\u001b[1;32mc:\\Users\\Emil\\Desktop\\CFE\\group-assignment-group-8\\Analysis\\dFBAtest copy.ipynb Cell 7\u001b[0m line \u001b[0;36m2\n\u001b[0;32m     <a href='vscode-notebook-cell:/c%3A/Users/Emil/Desktop/CFE/group-assignment-group-8/Analysis/dFBAtest%20copy.ipynb#W6sZmlsZQ%3D%3D?line=18'>19</a>\u001b[0m     cobra\u001b[39m.\u001b[39mutil\u001b[39m.\u001b[39madd_lp_feasibility(iMM904)\n\u001b[0;32m     <a href='vscode-notebook-cell:/c%3A/Users/Emil/Desktop/CFE/group-assignment-group-8/Analysis/dFBAtest%20copy.ipynb#W6sZmlsZQ%3D%3D?line=19'>20</a>\u001b[0m     feasibility \u001b[39m=\u001b[39m cobra\u001b[39m.\u001b[39mutil\u001b[39m.\u001b[39mfix_objective_as_constraint(iMM904)\n\u001b[1;32m---> <a href='vscode-notebook-cell:/c%3A/Users/Emil/Desktop/CFE/group-assignment-group-8/Analysis/dFBAtest%20copy.ipynb#W6sZmlsZQ%3D%3D?line=20'>21</a>\u001b[0m     lex_constraints \u001b[39m=\u001b[39m cobra\u001b[39m.\u001b[39;49mutil\u001b[39m.\u001b[39;49madd_lexicographic_constraints(\n\u001b[0;32m     <a href='vscode-notebook-cell:/c%3A/Users/Emil/Desktop/CFE/group-assignment-group-8/Analysis/dFBAtest%20copy.ipynb#W6sZmlsZQ%3D%3D?line=21'>22</a>\u001b[0m         iMM904, [\u001b[39m'\u001b[39;49m\u001b[39mBIOMASS_SC5_notrace\u001b[39;49m\u001b[39m'\u001b[39;49m, \u001b[39m'\u001b[39;49m\u001b[39mEX_sucr_e\u001b[39;49m\u001b[39m'\u001b[39;49m, \u001b[39m'\u001b[39;49m\u001b[39mEX_o2_e\u001b[39;49m\u001b[39m'\u001b[39;49m], [\u001b[39m'\u001b[39;49m\u001b[39mmax\u001b[39;49m\u001b[39m'\u001b[39;49m, \u001b[39m'\u001b[39;49m\u001b[39mmax\u001b[39;49m\u001b[39m'\u001b[39;49m, \u001b[39m'\u001b[39;49m\u001b[39mmax\u001b[39;49m\u001b[39m'\u001b[39;49m])\n\u001b[0;32m     <a href='vscode-notebook-cell:/c%3A/Users/Emil/Desktop/CFE/group-assignment-group-8/Analysis/dFBAtest%20copy.ipynb#W6sZmlsZQ%3D%3D?line=22'>23</a>\u001b[0m fluxes \u001b[39m=\u001b[39m lex_constraints\u001b[39m.\u001b[39mvalues\n\u001b[0;32m     <a href='vscode-notebook-cell:/c%3A/Users/Emil/Desktop/CFE/group-assignment-group-8/Analysis/dFBAtest%20copy.ipynb#W6sZmlsZQ%3D%3D?line=23'>24</a>\u001b[0m fluxes \u001b[39m*\u001b[39m\u001b[39m=\u001b[39m biomass\n",
      "File \u001b[1;32m~\\AppData\\Roaming\\Python\\Python39\\site-packages\\cobra\\util\\solver.py:679\u001b[0m, in \u001b[0;36madd_lexicographic_constraints\u001b[1;34m(model, objectives, objective_direction)\u001b[0m\n\u001b[0;32m    677\u001b[0m     model\u001b[39m.\u001b[39mobjective \u001b[39m=\u001b[39m model\u001b[39m.\u001b[39mreactions\u001b[39m.\u001b[39mget_by_id(rxn_id)\n\u001b[0;32m    678\u001b[0m     model\u001b[39m.\u001b[39mobjective_direction \u001b[39m=\u001b[39m obj_dir\n\u001b[1;32m--> 679\u001b[0m     constraints\u001b[39m.\u001b[39mappend(fix_objective_as_constraint(model))\n\u001b[0;32m    681\u001b[0m \u001b[39mreturn\u001b[39;00m pd\u001b[39m.\u001b[39mSeries(constraints, index\u001b[39m=\u001b[39mobjectives)\n",
      "File \u001b[1;32m~\\AppData\\Roaming\\Python\\Python39\\site-packages\\cobra\\util\\solver.py:513\u001b[0m, in \u001b[0;36mfix_objective_as_constraint\u001b[1;34m(model, fraction, bound, name)\u001b[0m\n\u001b[0;32m    511\u001b[0m     model\u001b[39m.\u001b[39msolver\u001b[39m.\u001b[39mremove(fix_objective_name)\n\u001b[0;32m    512\u001b[0m \u001b[39mif\u001b[39;00m bound \u001b[39mis\u001b[39;00m \u001b[39mNone\u001b[39;00m:\n\u001b[1;32m--> 513\u001b[0m     bound \u001b[39m=\u001b[39m model\u001b[39m.\u001b[39;49mslim_optimize(error_value\u001b[39m=\u001b[39;49m\u001b[39mNone\u001b[39;49;00m) \u001b[39m*\u001b[39m fraction\n\u001b[0;32m    514\u001b[0m \u001b[39mif\u001b[39;00m model\u001b[39m.\u001b[39mobjective\u001b[39m.\u001b[39mdirection \u001b[39m==\u001b[39m \u001b[39m\"\u001b[39m\u001b[39mmax\u001b[39m\u001b[39m\"\u001b[39m:\n\u001b[0;32m    515\u001b[0m     ub, lb \u001b[39m=\u001b[39m \u001b[39mNone\u001b[39;00m, bound\n",
      "File \u001b[1;32m~\\AppData\\Roaming\\Python\\Python39\\site-packages\\cobra\\core\\model.py:1064\u001b[0m, in \u001b[0;36mModel.slim_optimize\u001b[1;34m(self, error_value, message)\u001b[0m\n\u001b[0;32m   1062\u001b[0m     \u001b[39mreturn\u001b[39;00m error_value\n\u001b[0;32m   1063\u001b[0m \u001b[39melse\u001b[39;00m:\n\u001b[1;32m-> 1064\u001b[0m     assert_optimal(\u001b[39mself\u001b[39;49m, message)\n",
      "File \u001b[1;32m~\\AppData\\Roaming\\Python\\Python39\\site-packages\\cobra\\util\\solver.py:590\u001b[0m, in \u001b[0;36massert_optimal\u001b[1;34m(model, message)\u001b[0m\n\u001b[0;32m    588\u001b[0m \u001b[39mif\u001b[39;00m status \u001b[39m!=\u001b[39m OPTIMAL:\n\u001b[0;32m    589\u001b[0m     exception_cls \u001b[39m=\u001b[39m OPTLANG_TO_EXCEPTIONS_DICT\u001b[39m.\u001b[39mget(status, OptimizationError)\n\u001b[1;32m--> 590\u001b[0m     \u001b[39mraise\u001b[39;00m exception_cls(\u001b[39mf\u001b[39m\u001b[39m\"\u001b[39m\u001b[39m{\u001b[39;00mmessage\u001b[39m}\u001b[39;00m\u001b[39m (\u001b[39m\u001b[39m{\u001b[39;00mstatus\u001b[39m}\u001b[39;00m\u001b[39m).\u001b[39m\u001b[39m\"\u001b[39m)\n",
      "\u001b[1;31mInfeasible\u001b[0m: None (infeasible)."
     ]
    }
   ],
   "source": [
    "ts = np.linspace(0, 15, 100)  # Desired integration resolution and interval\n",
    "y0 = [0.1, 10,20]\n",
    "\n",
    "with tqdm() as pbar:\n",
    "    dynamic_system.pbar = pbar\n",
    "\n",
    "    sol = solve_ivp(\n",
    "        fun=dynamic_system,\n",
    "        events=[infeasible_event],\n",
    "        t_span=(ts.min(), ts.max()),\n",
    "        y0=y0,\n",
    "        t_eval=ts,\n",
    "        rtol=1e-6,\n",
    "        atol=1e-8,\n",
    "        method='BDF'\n",
    "    )\n",
    "\n",
    "    "
   ]
  },
  {
   "cell_type": "code",
   "execution_count": null,
   "metadata": {},
   "outputs": [],
   "source": [
    "sol"
   ]
  },
  {
   "cell_type": "code",
   "execution_count": null,
   "metadata": {},
   "outputs": [],
   "source": [
    "ax = plt.subplot(111)\n",
    "ax.plot(sol.t, sol.y.T[:, 0])\n",
    "ax2 = plt.twinx(ax)\n",
    "ax2.plot(sol.t, sol.y.T[:, 1], color='r')\n",
    "ax3 = plt.twinx(ax2)\n",
    "ax3.plot(sol.t, sol.y.T[:, 2], color='g')\n",
    "\n",
    "ax.set_ylabel('Biomass', color='b')\n",
    "ax2.set_ylabel('Sucrose', color='r')\n",
    "ax3.set_ylabel('test', color='g')"
   ]
  },
  {
   "cell_type": "code",
   "execution_count": null,
   "metadata": {},
   "outputs": [],
   "source": []
  },
  {
   "cell_type": "code",
   "execution_count": null,
   "metadata": {},
   "outputs": [],
   "source": []
  },
  {
   "cell_type": "code",
   "execution_count": null,
   "metadata": {},
   "outputs": [],
   "source": []
  },
  {
   "cell_type": "code",
   "execution_count": null,
   "metadata": {},
   "outputs": [],
   "source": []
  },
  {
   "cell_type": "code",
   "execution_count": null,
   "metadata": {},
   "outputs": [],
   "source": []
  }
 ],
 "metadata": {
  "kernelspec": {
   "display_name": "Python 3 (ipykernel)",
   "language": "python",
   "name": "python3"
  },
  "language_info": {
   "codemirror_mode": {
    "name": "ipython",
    "version": 3
   },
   "file_extension": ".py",
   "mimetype": "text/x-python",
   "name": "python",
   "nbconvert_exporter": "python",
   "pygments_lexer": "ipython3",
   "version": "3.9.18"
  }
 },
 "nbformat": 4,
 "nbformat_minor": 5
}
