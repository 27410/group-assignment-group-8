{
 "cells": [
  {
   "cell_type": "code",
   "execution_count": 1,
   "metadata": {},
   "outputs": [
    {
     "name": "stdout",
     "output_type": "stream",
     "text": [
      "Requirement already satisfied: cobra==0.20.0 in c:\\users\\driton\\anaconda3\\envs\\python3716\\lib\\site-packages (0.20.0)Note: you may need to restart the kernel to use updated packages.\n",
      "\n",
      "Requirement already satisfied: appdirs~=1.4 in c:\\users\\driton\\anaconda3\\envs\\python3716\\lib\\site-packages (from cobra==0.20.0) (1.4.4)\n",
      "Requirement already satisfied: depinfo in c:\\users\\driton\\anaconda3\\envs\\python3716\\lib\\site-packages (from cobra==0.20.0) (2.2.0)\n",
      "Requirement already satisfied: diskcache~=5.0 in c:\\users\\driton\\anaconda3\\envs\\python3716\\lib\\site-packages (from cobra==0.20.0) (5.6.3)\n",
      "Requirement already satisfied: future in c:\\users\\driton\\anaconda3\\envs\\python3716\\lib\\site-packages (from cobra==0.20.0) (0.18.3)\n",
      "Requirement already satisfied: httpx~=0.14 in c:\\users\\driton\\anaconda3\\envs\\python3716\\lib\\site-packages (from cobra==0.20.0) (0.24.1)\n",
      "Requirement already satisfied: importlib-resources in c:\\users\\driton\\anaconda3\\envs\\python3716\\lib\\site-packages (from cobra==0.20.0) (5.2.0)\n",
      "Requirement already satisfied: numpy~=1.13 in c:\\users\\driton\\anaconda3\\envs\\python3716\\lib\\site-packages (from cobra==0.20.0) (1.21.6)\n",
      "Requirement already satisfied: optlang<1.4.6 in c:\\users\\driton\\anaconda3\\envs\\python3716\\lib\\site-packages (from cobra==0.20.0) (1.4.4)\n",
      "Requirement already satisfied: pandas~=1.0 in c:\\users\\driton\\anaconda3\\envs\\python3716\\lib\\site-packages (from cobra==0.20.0) (1.3.5)\n",
      "Requirement already satisfied: pydantic~=1.6 in c:\\users\\driton\\anaconda3\\envs\\python3716\\lib\\site-packages (from cobra==0.20.0) (1.9.2)\n",
      "Requirement already satisfied: python-libsbml-experimental==5.18.3 in c:\\users\\driton\\anaconda3\\envs\\python3716\\lib\\site-packages (from cobra==0.20.0) (5.18.3)\n",
      "Requirement already satisfied: rich~=6.0 in c:\\users\\driton\\anaconda3\\envs\\python3716\\lib\\site-packages (from cobra==0.20.0) (6.2.0)\n",
      "Requirement already satisfied: ruamel.yaml~=0.16 in c:\\users\\driton\\anaconda3\\envs\\python3716\\lib\\site-packages (from cobra==0.20.0) (0.18.5)\n",
      "Requirement already satisfied: six in c:\\users\\driton\\anaconda3\\envs\\python3716\\lib\\site-packages (from cobra==0.20.0) (1.16.0)\n",
      "Requirement already satisfied: swiglpk in c:\\users\\driton\\anaconda3\\envs\\python3716\\lib\\site-packages (from cobra==0.20.0) (5.0.10)\n",
      "Requirement already satisfied: certifi in c:\\users\\driton\\anaconda3\\envs\\python3716\\lib\\site-packages (from httpx~=0.14->cobra==0.20.0) (2022.12.7)\n",
      "Requirement already satisfied: httpcore<0.18.0,>=0.15.0 in c:\\users\\driton\\anaconda3\\envs\\python3716\\lib\\site-packages (from httpx~=0.14->cobra==0.20.0) (0.17.3)\n",
      "Requirement already satisfied: idna in c:\\users\\driton\\anaconda3\\envs\\python3716\\lib\\site-packages (from httpx~=0.14->cobra==0.20.0) (3.4)\n",
      "Requirement already satisfied: sniffio in c:\\users\\driton\\anaconda3\\envs\\python3716\\lib\\site-packages (from httpx~=0.14->cobra==0.20.0) (1.3.0)\n",
      "Requirement already satisfied: sympy>=1.0.0 in c:\\users\\driton\\anaconda3\\envs\\python3716\\lib\\site-packages (from optlang<1.4.6->cobra==0.20.0) (1.10.1)\n",
      "Requirement already satisfied: python-dateutil>=2.7.3 in c:\\users\\driton\\anaconda3\\envs\\python3716\\lib\\site-packages (from pandas~=1.0->cobra==0.20.0) (2.8.2)\n",
      "Requirement already satisfied: pytz>=2017.3 in c:\\users\\driton\\anaconda3\\envs\\python3716\\lib\\site-packages (from pandas~=1.0->cobra==0.20.0) (2022.7)\n",
      "Requirement already satisfied: typing-extensions>=3.7.4.3 in c:\\users\\driton\\anaconda3\\envs\\python3716\\lib\\site-packages (from pydantic~=1.6->cobra==0.20.0) (3.10.0.2)\n",
      "Requirement already satisfied: colorama<0.5.0,>=0.4.0 in c:\\users\\driton\\anaconda3\\envs\\python3716\\lib\\site-packages (from rich~=6.0->cobra==0.20.0) (0.4.6)\n",
      "Requirement already satisfied: commonmark<0.10.0,>=0.9.0 in c:\\users\\driton\\anaconda3\\envs\\python3716\\lib\\site-packages (from rich~=6.0->cobra==0.20.0) (0.9.1)\n",
      "Requirement already satisfied: pygments<3.0.0,>=2.6.0 in c:\\users\\driton\\anaconda3\\envs\\python3716\\lib\\site-packages (from rich~=6.0->cobra==0.20.0) (2.11.2)\n",
      "Requirement already satisfied: ruamel.yaml.clib>=0.2.7 in c:\\users\\driton\\anaconda3\\envs\\python3716\\lib\\site-packages (from ruamel.yaml~=0.16->cobra==0.20.0) (0.2.8)\n",
      "Requirement already satisfied: importlib-metadata in c:\\users\\driton\\anaconda3\\envs\\python3716\\lib\\site-packages (from depinfo->cobra==0.20.0) (3.10.0)\n",
      "Requirement already satisfied: zipp>=3.1.0 in c:\\users\\driton\\anaconda3\\envs\\python3716\\lib\\site-packages (from importlib-resources->cobra==0.20.0) (3.11.0)\n",
      "Requirement already satisfied: h11<0.15,>=0.13 in c:\\users\\driton\\anaconda3\\envs\\python3716\\lib\\site-packages (from httpcore<0.18.0,>=0.15.0->httpx~=0.14->cobra==0.20.0) (0.14.0)\n",
      "Requirement already satisfied: anyio<5.0,>=3.0 in c:\\users\\driton\\anaconda3\\envs\\python3716\\lib\\site-packages (from httpcore<0.18.0,>=0.15.0->httpx~=0.14->cobra==0.20.0) (3.7.1)\n",
      "Requirement already satisfied: mpmath>=0.19 in c:\\users\\driton\\anaconda3\\envs\\python3716\\lib\\site-packages (from sympy>=1.0.0->optlang<1.4.6->cobra==0.20.0) (1.3.0)\n",
      "Requirement already satisfied: exceptiongroup in c:\\users\\driton\\anaconda3\\envs\\python3716\\lib\\site-packages (from anyio<5.0,>=3.0->httpcore<0.18.0,>=0.15.0->httpx~=0.14->cobra==0.20.0) (1.2.0)\n"
     ]
    },
    {
     "name": "stderr",
     "output_type": "stream",
     "text": [
      "WARNING: Retrying (Retry(total=4, connect=None, read=None, redirect=None, status=None)) after connection broken by 'NewConnectionError('<pip._vendor.urllib3.connection.HTTPSConnection object at 0x0000018511879AC8>: Failed to establish a new connection: [Errno 11001] getaddrinfo failed')': /simple/cobra/\n",
      "WARNING: Retrying (Retry(total=3, connect=None, read=None, redirect=None, status=None)) after connection broken by 'NewConnectionError('<pip._vendor.urllib3.connection.HTTPSConnection object at 0x00000185118978C8>: Failed to establish a new connection: [Errno 11001] getaddrinfo failed')': /simple/cobra/\n",
      "WARNING: Retrying (Retry(total=2, connect=None, read=None, redirect=None, status=None)) after connection broken by 'NewConnectionError('<pip._vendor.urllib3.connection.HTTPSConnection object at 0x00000185118A7048>: Failed to establish a new connection: [Errno 11001] getaddrinfo failed')': /simple/cobra/\n",
      "WARNING: Retrying (Retry(total=1, connect=None, read=None, redirect=None, status=None)) after connection broken by 'NewConnectionError('<pip._vendor.urllib3.connection.HTTPSConnection object at 0x00000185118A7988>: Failed to establish a new connection: [Errno 11001] getaddrinfo failed')': /simple/cobra/\n",
      "WARNING: Retrying (Retry(total=0, connect=None, read=None, redirect=None, status=None)) after connection broken by 'NewConnectionError('<pip._vendor.urllib3.connection.HTTPSConnection object at 0x00000185118AA288>: Failed to establish a new connection: [Errno 11001] getaddrinfo failed')': /simple/cobra/\n"
     ]
    }
   ],
   "source": [
    "pip install cobra==0.20.0 --upgrade"
   ]
  },
  {
   "cell_type": "code",
   "execution_count": 2,
   "metadata": {},
   "outputs": [],
   "source": [
    "import cameo"
   ]
  },
  {
   "cell_type": "code",
   "execution_count": 3,
   "metadata": {},
   "outputs": [],
   "source": [
    "from cameo.strain_design.heuristic.evolutionary_based import OptGene\n"
   ]
  },
  {
   "cell_type": "code",
   "execution_count": 4,
   "id": "122c1369",
   "metadata": {},
   "outputs": [
    {
     "name": "stderr",
     "output_type": "stream",
     "text": [
      "c:\\Users\\Driton\\anaconda3\\envs\\python3716\\lib\\site-packages\\nbformat\\__init__.py:92: MissingIDFieldWarning: Code cell is missing an id field, this will become a hard error in future nbformat versions. You may want to use `normalize()` on your notebooks before validations (available since nbformat 5.1.4). Previous versions of nbformat are fixing this issue transparently, and will stop doing so in the future.\n",
      "  validate(nb)\n"
     ]
    },
    {
     "name": "stdout",
     "output_type": "stream",
     "text": [
      "ADS: frdp_c --> AMOR + ppi_c\n",
      "CPR1_CYP71AV1: AMOR + h_c + nadph_c + o2_c --> AAOH + h2o_c + nadp_c\n",
      "ADH1: AAOH + nad_c --> AAld + h_c + nadh_c\n",
      "ALDH1: AAld + h2o_c + nadp_c --> AA + h_c + nadph_c\n"
     ]
    }
   ],
   "source": [
    "%run 01_Model_CFE.ipynb\n"
   ]
  },
  {
   "cell_type": "code",
   "execution_count": 5,
   "metadata": {},
   "outputs": [],
   "source": [
    "optgene = OptGene(iMM904)\n"
   ]
  },
  {
   "cell_type": "code",
   "execution_count": 6,
   "metadata": {},
   "outputs": [
    {
     "name": "stdout",
     "output_type": "stream",
     "text": [
      "Starting optimization at Sun, 26 Nov 2023 18:51:36\n"
     ]
    },
    {
     "name": "stderr",
     "output_type": "stream",
     "text": [
      "c:\\Users\\Driton\\anaconda3\\envs\\python3716\\lib\\site-packages\\cameo\\strain_design\\heuristic\\evolutionary\\objective_functions.py:286: RuntimeWarning: invalid value encountered in double_scalars\n",
      "  return (biomass_flux * product_flux) / substrate_flux\n"
     ]
    },
    {
     "data": {
      "application/vnd.jupyter.widget-view+json": {
       "model_id": "22896bc401a94bb5a159b8fde37a5deb",
       "version_major": 2,
       "version_minor": 0
      },
      "text/plain": [
       "HBox()"
      ]
     },
     "metadata": {},
     "output_type": "display_data"
    },
    {
     "name": "stdout",
     "output_type": "stream",
     "text": [
      "Finished after 00:34:54\n"
     ]
    }
   ],
   "source": [
    "\n",
    "result = optgene.run(target=iMM904.reactions.ALDH1, \n",
    "                     biomass=iMM904.reactions.BIOMASS_SC5_notrace,\n",
    "                     substrate=iMM904.metabolites.sucr_e,\n",
    "                     max_evaluations=20000, population_size=200, max_knockouts=3,\n",
    "                     plot=False, growth_coupled=True)"
   ]
  },
  {
   "cell_type": "code",
   "execution_count": 7,
   "metadata": {},
   "outputs": [
    {
     "name": "stderr",
     "output_type": "stream",
     "text": [
      "No solutions found\n"
     ]
    },
    {
     "data": {
      "text/html": [
       "\n",
       "        <h3>OptGene Result</h3>\n",
       "        <ul>\n",
       "            <li>Simulation: fba<br/></li>\n",
       "            <li>Objective Function: $$bpcy = \\frac{(BIOMASS\\_SC5\\_notrace * min(ALDH1))}{EX\\_sucr\\_e}$$<br/></li>\n",
       "        </ul>\n",
       "        <div>\n",
       "<style scoped>\n",
       "    .dataframe tbody tr th:only-of-type {\n",
       "        vertical-align: middle;\n",
       "    }\n",
       "\n",
       "    .dataframe tbody tr th {\n",
       "        vertical-align: top;\n",
       "    }\n",
       "\n",
       "    .dataframe thead th {\n",
       "        text-align: right;\n",
       "    }\n",
       "</style>\n",
       "<table border=\"1\" class=\"dataframe\">\n",
       "  <thead>\n",
       "    <tr style=\"text-align: right;\">\n",
       "      <th></th>\n",
       "      <th>reactions</th>\n",
       "      <th>genes</th>\n",
       "      <th>size</th>\n",
       "      <th>fva_min</th>\n",
       "      <th>fva_max</th>\n",
       "      <th>target_flux</th>\n",
       "      <th>biomass_flux</th>\n",
       "      <th>yield</th>\n",
       "      <th>fitness</th>\n",
       "    </tr>\n",
       "  </thead>\n",
       "  <tbody>\n",
       "  </tbody>\n",
       "</table>\n",
       "</div>\n",
       "        "
      ],
      "text/plain": [
       "<cameo.strain_design.heuristic.evolutionary_based.OptGeneResult at 0x21bd77a7308>"
      ]
     },
     "execution_count": 7,
     "metadata": {},
     "output_type": "execute_result"
    }
   ],
   "source": [
    "result"
   ]
  },
  {
   "cell_type": "markdown",
   "metadata": {},
   "source": [
    "Running optknock showed that no improvvements can be made to increase prodution of artemisinic acid"
   ]
  }
 ],
 "metadata": {
  "kernelspec": {
   "display_name": "Python 3 (ipykernel)",
   "language": "python",
   "name": "python3"
  },
  "language_info": {
   "codemirror_mode": {
    "name": "ipython",
    "version": 3
   },
   "file_extension": ".py",
   "mimetype": "text/x-python",
   "name": "python",
   "nbconvert_exporter": "python",
   "pygments_lexer": "ipython3",
   "version": "3.7.16"
  }
 },
 "nbformat": 4,
 "nbformat_minor": 5
}
