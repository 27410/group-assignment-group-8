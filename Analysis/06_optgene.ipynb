{
 "cells": [
  {
   "cell_type": "markdown",
   "metadata": {},
   "source": [
    "Optgene"
   ]
  },
  {
   "cell_type": "code",
   "execution_count": 2,
   "metadata": {},
   "outputs": [],
   "source": [
    "import cameo"
   ]
  },
  {
   "cell_type": "code",
   "execution_count": 3,
   "metadata": {},
   "outputs": [],
   "source": [
    "from cameo.strain_design.heuristic.evolutionary_based import OptGene\n"
   ]
  },
  {
   "cell_type": "code",
   "execution_count": 4,
   "id": "122c1369",
   "metadata": {},
   "outputs": [
    {
     "name": "stderr",
     "output_type": "stream",
     "text": [
      "c:\\Users\\Driton\\anaconda3\\envs\\python3716\\lib\\site-packages\\nbformat\\__init__.py:92: MissingIDFieldWarning: Code cell is missing an id field, this will become a hard error in future nbformat versions. You may want to use `normalize()` on your notebooks before validations (available since nbformat 5.1.4). Previous versions of nbformat are fixing this issue transparently, and will stop doing so in the future.\n",
      "  validate(nb)\n"
     ]
    },
    {
     "name": "stdout",
     "output_type": "stream",
     "text": [
      "ADS: frdp_c --> AMOR + ppi_c\n",
      "CPR1_CYP71AV1: AMOR + h_c + nadph_c + o2_c --> AAOH + h2o_c + nadp_c\n",
      "ADH1: AAOH + nad_c --> AAld + h_c + nadh_c\n",
      "ALDH1: AAld + h2o_c + nadp_c --> AA + h_c + nadph_c\n"
     ]
    }
   ],
   "source": [
    "%run 01_Model_CFE.ipynb\n"
   ]
  },
  {
   "cell_type": "code",
   "execution_count": 5,
   "metadata": {},
   "outputs": [],
   "source": [
    "optgene = OptGene(iMM904)\n"
   ]
  },
  {
   "cell_type": "code",
   "execution_count": 6,
   "metadata": {},
   "outputs": [
    {
     "name": "stdout",
     "output_type": "stream",
     "text": [
      "Starting optimization at Sun, 26 Nov 2023 18:51:36\n"
     ]
    },
    {
     "name": "stderr",
     "output_type": "stream",
     "text": [
      "c:\\Users\\Driton\\anaconda3\\envs\\python3716\\lib\\site-packages\\cameo\\strain_design\\heuristic\\evolutionary\\objective_functions.py:286: RuntimeWarning: invalid value encountered in double_scalars\n",
      "  return (biomass_flux * product_flux) / substrate_flux\n"
     ]
    },
    {
     "data": {
      "application/vnd.jupyter.widget-view+json": {
       "model_id": "22896bc401a94bb5a159b8fde37a5deb",
       "version_major": 2,
       "version_minor": 0
      },
      "text/plain": [
       "HBox()"
      ]
     },
     "metadata": {},
     "output_type": "display_data"
    },
    {
     "name": "stdout",
     "output_type": "stream",
     "text": [
      "Finished after 00:34:54\n"
     ]
    }
   ],
   "source": [
    "\n",
    "result = optgene.run(target=iMM904.reactions.ALDH1, \n",
    "                     biomass=iMM904.reactions.BIOMASS_SC5_notrace,\n",
    "                     substrate=iMM904.metabolites.sucr_e,\n",
    "                     max_evaluations=20000, population_size=200, max_knockouts=3,\n",
    "                     plot=False, growth_coupled=True)"
   ]
  },
  {
   "cell_type": "code",
   "execution_count": 7,
   "metadata": {},
   "outputs": [
    {
     "name": "stderr",
     "output_type": "stream",
     "text": [
      "No solutions found\n"
     ]
    },
    {
     "data": {
      "text/html": [
       "\n",
       "        <h3>OptGene Result</h3>\n",
       "        <ul>\n",
       "            <li>Simulation: fba<br/></li>\n",
       "            <li>Objective Function: $$bpcy = \\frac{(BIOMASS\\_SC5\\_notrace * min(ALDH1))}{EX\\_sucr\\_e}$$<br/></li>\n",
       "        </ul>\n",
       "        <div>\n",
       "<style scoped>\n",
       "    .dataframe tbody tr th:only-of-type {\n",
       "        vertical-align: middle;\n",
       "    }\n",
       "\n",
       "    .dataframe tbody tr th {\n",
       "        vertical-align: top;\n",
       "    }\n",
       "\n",
       "    .dataframe thead th {\n",
       "        text-align: right;\n",
       "    }\n",
       "</style>\n",
       "<table border=\"1\" class=\"dataframe\">\n",
       "  <thead>\n",
       "    <tr style=\"text-align: right;\">\n",
       "      <th></th>\n",
       "      <th>reactions</th>\n",
       "      <th>genes</th>\n",
       "      <th>size</th>\n",
       "      <th>fva_min</th>\n",
       "      <th>fva_max</th>\n",
       "      <th>target_flux</th>\n",
       "      <th>biomass_flux</th>\n",
       "      <th>yield</th>\n",
       "      <th>fitness</th>\n",
       "    </tr>\n",
       "  </thead>\n",
       "  <tbody>\n",
       "  </tbody>\n",
       "</table>\n",
       "</div>\n",
       "        "
      ],
      "text/plain": [
       "<cameo.strain_design.heuristic.evolutionary_based.OptGeneResult at 0x21bd77a7308>"
      ]
     },
     "execution_count": 7,
     "metadata": {},
     "output_type": "execute_result"
    }
   ],
   "source": [
    "result"
   ]
  },
  {
   "cell_type": "markdown",
   "metadata": {},
   "source": [
    "Running optknock showed that no improvvements can be made to increase prodution of artemisinic acid"
   ]
  }
 ],
 "metadata": {
  "kernelspec": {
   "display_name": "Python 3 (ipykernel)",
   "language": "python",
   "name": "python3"
  },
  "language_info": {
   "codemirror_mode": {
    "name": "ipython",
    "version": 3
   },
   "file_extension": ".py",
   "mimetype": "text/x-python",
   "name": "python",
   "nbconvert_exporter": "python",
   "pygments_lexer": "ipython3",
   "version": "3.9.5"
  }
 },
 "nbformat": 4,
 "nbformat_minor": 5
}
