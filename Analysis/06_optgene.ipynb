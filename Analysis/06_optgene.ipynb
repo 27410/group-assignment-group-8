{
 "cells": [
  {
   "cell_type": "code",
   "execution_count": null,
   "metadata": {},
   "outputs": [],
   "source": [
    "pip install cobra==0.20.0 --upgrade"
   ]
  },
  {
   "cell_type": "code",
   "execution_count": null,
   "metadata": {},
   "outputs": [],
   "source": [
    "import cameo"
   ]
  },
  {
   "cell_type": "code",
   "execution_count": null,
   "metadata": {},
   "outputs": [],
   "source": [
    "from cameo.strain_design.heuristic.evolutionary_based import OptGene\n"
   ]
  },
  {
   "cell_type": "code",
   "execution_count": null,
   "id": "122c1369",
   "metadata": {},
   "outputs": [],
   "source": [
    "%run 01_Model_CFE.ipynb\n"
   ]
  },
  {
   "cell_type": "code",
   "execution_count": null,
   "metadata": {},
   "outputs": [],
   "source": [
    "optgene = OptGene(iMM904)\n"
   ]
  },
  {
   "cell_type": "code",
   "execution_count": 6,
   "metadata": {},
   "outputs": [],
   "source": [
    "\n",
    "result = optgene.run(target=iMM904.reactions.ALDH1, \n",
    "                     biomass=iMM904.reactions.BIOMASS_SC5_notrace,\n",
    "                     substrate=iMM904.metabolites.sucr_e,\n",
    "                     max_evaluations=20000, population_size=200, max_knockouts=3,\n",
    "                     plot=False, growth_coupled=True)"
   ]
  },
  {
   "cell_type": "code",
   "execution_count": null,
   "metadata": {},
   "outputs": [],
   "source": [
    "result"
   ]
  }
 ],
 "metadata": {
  "kernelspec": {
   "display_name": "Python 3 (ipykernel)",
   "language": "python",
   "name": "python3"
  },
  "language_info": {
   "codemirror_mode": {
    "name": "ipython",
    "version": 3
   },
   "file_extension": ".py",
   "mimetype": "text/x-python",
   "name": "python",
   "nbconvert_exporter": "python",
   "pygments_lexer": "ipython3",
   "version": "3.9.6"
  }
 },
 "nbformat": 4,
 "nbformat_minor": 5
}
