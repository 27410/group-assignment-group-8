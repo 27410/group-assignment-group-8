{
 "cells": [
  {
   "cell_type": "code",
   "execution_count": 8,
   "id": "122c1369",
   "metadata": {},
   "outputs": [
    {
     "name": "stderr",
     "output_type": "stream",
     "text": [
      "/Library/Frameworks/Python.framework/Versions/3.7/lib/python3.7/site-packages/nbformat/__init__.py:93: MissingIDFieldWarning: Code cell is missing an id field, this will become a hard error in future nbformat versions. You may want to use `normalize()` on your notebooks before validations (available since nbformat 5.1.4). Previous versions of nbformat are fixing this issue transparently, and will stop doing so in the future.\n",
      "  validate(nb)\n"
     ]
    },
    {
     "name": "stdout",
     "output_type": "stream",
     "text": [
      "ADS: frdp_c --> AMOR + ppi_c\n",
      "CPR1_CYP71AV1: AMOR + h_c + nadph_c + o2_c --> AAOH + h2o_c + nadp_c\n",
      "ADH1: AAOH + nad_c --> AAld + h_c + nadh_c\n",
      "ALDH1: AAld + h2o_c + nadp_c --> AA + h_c + nadph_c\n"
     ]
    }
   ],
   "source": [
    "%run Model_CFE.ipynb\n"
   ]
  },
  {
   "cell_type": "code",
   "execution_count": 9,
   "metadata": {},
   "outputs": [],
   "source": [
    "\n",
    "from cameo.strain_design.heuristic.evolutionary_based import CofactorSwapOptimization\n",
    "from cameo.strain_design.heuristic.evolutionary.objective_functions import product_yield\n",
    "\n",
    "from cameo.strain_design.heuristic.evolutionary.optimization import CofactorSwapOptimization, NADH_NADPH\n",
    "\n",
    "iMM904.solver = \"glpk\" # what is this?\n",
    "biomass = iMM904.reactions.BIOMASS_SC5_notrace\n",
    "biomass.lower_bound = 0.1 # OBS denne skal måske ikke være 0,1 tjek tutorial notebooken og forstå det\n",
    "demand = iMM904.reactions.ALDH1\n",
    "\n",
    "iMM904.objective = demand\n",
    "product_yield = product_yield(demand, iMM904.reactions.EX_glc__D_e)"
   ]
  },
  {
   "cell_type": "code",
   "execution_count": 10,
   "metadata": {},
   "outputs": [
    {
     "name": "stdout",
     "output_type": "stream",
     "text": [
      "\u001b[0;31mInit signature:\u001b[0m\n",
      "\u001b[0mCofactorSwapOptimization\u001b[0m\u001b[0;34m(\u001b[0m\u001b[0;34m\u001b[0m\n",
      "\u001b[0;34m\u001b[0m    \u001b[0mcofactor_id_swaps\u001b[0m\u001b[0;34m=\u001b[0m\u001b[0;34m(\u001b[0m\u001b[0;34m[\u001b[0m\u001b[0;34m'nad_c'\u001b[0m\u001b[0;34m,\u001b[0m \u001b[0;34m'nadh_c'\u001b[0m\u001b[0;34m]\u001b[0m\u001b[0;34m,\u001b[0m \u001b[0;34m[\u001b[0m\u001b[0;34m'nadp_c'\u001b[0m\u001b[0;34m,\u001b[0m \u001b[0;34m'nadph_c'\u001b[0m\u001b[0;34m]\u001b[0m\u001b[0;34m)\u001b[0m\u001b[0;34m,\u001b[0m\u001b[0;34m\u001b[0m\n",
      "\u001b[0;34m\u001b[0m    \u001b[0mcandidate_reactions\u001b[0m\u001b[0;34m=\u001b[0m\u001b[0;32mNone\u001b[0m\u001b[0;34m,\u001b[0m\u001b[0;34m\u001b[0m\n",
      "\u001b[0;34m\u001b[0m    \u001b[0mskip_reactions\u001b[0m\u001b[0;34m=\u001b[0m\u001b[0;32mNone\u001b[0m\u001b[0;34m,\u001b[0m\u001b[0;34m\u001b[0m\n",
      "\u001b[0;34m\u001b[0m    \u001b[0;34m*\u001b[0m\u001b[0margs\u001b[0m\u001b[0;34m,\u001b[0m\u001b[0;34m\u001b[0m\n",
      "\u001b[0;34m\u001b[0m    \u001b[0;34m**\u001b[0m\u001b[0mkwargs\u001b[0m\u001b[0;34m,\u001b[0m\u001b[0;34m\u001b[0m\n",
      "\u001b[0;34m\u001b[0m\u001b[0;34m)\u001b[0m\u001b[0;34m\u001b[0m\u001b[0;34m\u001b[0m\u001b[0m\n",
      "\u001b[0;31mDocstring:\u001b[0m     \n",
      "Optimize co-factor swapping\n",
      "\n",
      "As suggested in [1]_, flux through a given reaction can sometimes be optimized by swapping complementary\n",
      "co-factor. This class implements a search for reactions when swapped improve the given objective. Briefly,\n",
      "the approach is to\n",
      "\n",
      "- find reactions that have all the targeted co-factor pairs e.g. (nad_c -> nadp_c, nadh_c -> nadph_c)\n",
      "\n",
      "- add reactions that have the co-factors swapped and then by a search algorithm switching one off in favor of the\n",
      "  other\n",
      "\n",
      "The implementation here differs from that in [1]_ in that we use a general purpose search algorithm rather than\n",
      "formulating the search as a mixed integer linear programming problem.\n",
      "\n",
      "References\n",
      "----------\n",
      ".. [1] King, Zachary A., and Adam M. Feist. \"Optimizing Cofactor Specificity of Oxidoreductase Enzymes for the\n",
      "  Generation of Microbial Production Strains - OptSwap.\" Industrial Biotechnology 9, no. 4 (August 1,\n",
      "  2013): 236-46. - doi:10.1089/ind.2013.0005.\n",
      "\n",
      "Parameters\n",
      "----------\n",
      "model : cobra.Model\n",
      "   the model to operator on\n",
      "cofactor_id_swaps : tuple\n",
      "   a tuple of length 2 that defines two lists of metabolite identifiers that should be interchanged during the\n",
      "   swap optimization see e.g. `NADH_NADPH` which is also the default.\n",
      "candidate_reactions : list\n",
      "   reactions to consider for co-factor swap - if not given then search for all reactions that include the given\n",
      "   cofactors\n",
      "skip_reactions : list\n",
      "   reactions to not consider for co-factor swap, defaults to the objective function if not provided\n",
      "args, kwargs : keyword arguments\n",
      "   passed on to super-classes, see in particular `objective_function`, `heuristic_method`, `termination`,\n",
      "   `simulation_method`, `wt_reference`, of `HeuristicOptimization` and `max_size` of `HeuristicOptimization.run`\n",
      "\n",
      "Examples\n",
      "--------\n",
      ">>> from cameo import models\n",
      ">>> from cameo.strain_design.heuristic.evolutionary.objective_functions import product_yield\n",
      ">>> model = models.bigg.iJO1366\n",
      ">>> model.objective = model.reactions.EX_thr__L_e\n",
      ">>> model.reactions.BIOMASS_Ec_iJO1366_core_53p95M.lower_bound = 0.1\n",
      ">>> py = product_yield(model.reactions.EX_thr__L_e, model.reactions.EX_glc__D_e)\n",
      ">>> swap_optimization = CofactorSwapOptimization(model=model, objective_function=py)\n",
      ">>> swap_optimization.run(max_evaluations=2000, max_size=2)\n",
      "\u001b[0;31mInit docstring:\u001b[0m\n",
      "Class for generic optimization algorithms for knockout (or similar) strain design methods\n",
      "\n",
      "Attributes\n",
      "----------\n",
      "simulation_method : see flux_analysis.simulation\n",
      "    The method used to simulate the model.\n",
      "wt_reference : dict, cameo.flux_analysis.simulation.FluxDistributionResult\n",
      "    A dict (dict-like) object with flux values from a reference state.\n",
      "simulation_method : method\n",
      "   the simulation method to use for evaluating results\n",
      "evaluator : TargetEvaluator\n",
      "   the class used to evaluate results\n",
      "\u001b[0;31mFile:\u001b[0m           /Library/Frameworks/Python.framework/Versions/3.7/lib/python3.7/site-packages/cameo/strain_design/heuristic/evolutionary/optimization.py\n",
      "\u001b[0;31mType:\u001b[0m           type\n",
      "\u001b[0;31mSubclasses:\u001b[0m     \n"
     ]
    }
   ],
   "source": [
    "CofactorSwapOptimization?"
   ]
  },
  {
   "cell_type": "code",
   "execution_count": 11,
   "metadata": {},
   "outputs": [],
   "source": [
    "swap_opt = CofactorSwapOptimization(model=iMM904, objective_function=product_yield, plot=True, cofactor_id_swaps=(['nad_c', 'nadh_c'], ['nadp_c', 'nadph_c']))\n"
   ]
  },
  {
   "cell_type": "code",
   "execution_count": 12,
   "metadata": {},
   "outputs": [
    {
     "name": "stdout",
     "output_type": "stream",
     "text": [
      "Starting optimization at Wed, 22 Nov 2023 13:38:21\n"
     ]
    },
    {
     "data": {
      "application/vnd.jupyter.widget-view+json": {
       "model_id": "10ed0b3e655e4ccb89183df5f1df3c24",
       "version_major": 2,
       "version_minor": 0
      },
      "text/plain": [
       "HBox()"
      ]
     },
     "metadata": {},
     "output_type": "display_data"
    },
    {
     "name": "stdout",
     "output_type": "stream",
     "text": [
      "Finished after 00:00:36\n",
      "CPU times: user 37.6 s, sys: 253 ms, total: 37.9 s\n",
      "Wall time: 38.3 s\n"
     ]
    }
   ],
   "source": [
    "%%time\n",
    "result = swap_opt.run(max_size=5)"
   ]
  },
  {
   "cell_type": "code",
   "execution_count": 13,
   "metadata": {},
   "outputs": [
    {
     "data": {
      "text/html": [
       "\n",
       "        <h4>Result:</h4>\n",
       "        <ul>\n",
       "            <li>model: iMM904</li>\n",
       "            <li>heuristic: GA</li>\n",
       "            <li>objective function: $$yield = \\frac{ALDH1}{EX\\_glc\\_\\_D\\_e}$$</li>\n",
       "            <li>simulation method: pfba</li>\n",
       "            <li>target type: cofactor-swap</li>\n",
       "        <ul>\n",
       "        <div>\n",
       "<style scoped>\n",
       "    .dataframe tbody tr th:only-of-type {\n",
       "        vertical-align: middle;\n",
       "    }\n",
       "\n",
       "    .dataframe tbody tr th {\n",
       "        vertical-align: top;\n",
       "    }\n",
       "\n",
       "    .dataframe thead th {\n",
       "        text-align: right;\n",
       "    }\n",
       "</style>\n",
       "<table border=\"1\" class=\"dataframe\">\n",
       "  <thead>\n",
       "    <tr style=\"text-align: right;\">\n",
       "      <th></th>\n",
       "      <th>index</th>\n",
       "      <th>targets</th>\n",
       "      <th>fitness</th>\n",
       "    </tr>\n",
       "  </thead>\n",
       "  <tbody>\n",
       "    <tr>\n",
       "      <th>0</th>\n",
       "      <td>0</td>\n",
       "      <td>(ALCD2x_copy1,)</td>\n",
       "      <td>0.423688</td>\n",
       "    </tr>\n",
       "    <tr>\n",
       "      <th>1</th>\n",
       "      <td>1</td>\n",
       "      <td>(GAPD,)</td>\n",
       "      <td>0.423688</td>\n",
       "    </tr>\n",
       "    <tr>\n",
       "      <th>2</th>\n",
       "      <td>2</td>\n",
       "      <td>(ALCD2x_copy2,)</td>\n",
       "      <td>0.423688</td>\n",
       "    </tr>\n",
       "  </tbody>\n",
       "</table>\n",
       "</div>"
      ],
      "text/plain": [
       "<cameo.strain_design.heuristic.evolutionary.optimization.TargetOptimizationResult at 0x7fd538126550>"
      ]
     },
     "execution_count": 13,
     "metadata": {},
     "output_type": "execute_result"
    }
   ],
   "source": [
    "result"
   ]
  },
  {
   "cell_type": "code",
   "execution_count": 14,
   "metadata": {},
   "outputs": [
    {
     "data": {
      "text/html": [
       "\n",
       "        <table>\n",
       "            <tr>\n",
       "                <td><strong>Reaction identifier</strong></td><td>ALCD2x_copy1</td>\n",
       "            </tr><tr>\n",
       "                <td><strong>Name</strong></td><td>Alcohol dehydrogenase (ethanol)</td>\n",
       "            </tr><tr>\n",
       "                <td><strong>Memory address</strong></td>\n",
       "                <td>0x07fd53747a650</td>\n",
       "            </tr><tr>\n",
       "                <td><strong>Stoichiometry</strong></td>\n",
       "                <td>\n",
       "                    <p style='text-align:right'>etoh_c + nad_c --> acald_c + h_c + nadh_c</p>\n",
       "                    <p style='text-align:right'>Ethanol + Nicotinamide adenine dinucleotide --> Acetaldehyde + H+ + Nicotinamide adenine dinucleotide - reduced</p>\n",
       "                </td>\n",
       "            </tr><tr>\n",
       "                <td><strong>GPR</strong></td><td>YMR303C</td>\n",
       "            </tr><tr>\n",
       "                <td><strong>Lower bound</strong></td><td>0.0</td>\n",
       "            </tr><tr>\n",
       "                <td><strong>Upper bound</strong></td><td>999999.0</td>\n",
       "            </tr>\n",
       "        </table>\n",
       "        "
      ],
      "text/plain": [
       "<Reaction ALCD2x_copy1 at 0x7fd53747a650>"
      ]
     },
     "execution_count": 14,
     "metadata": {},
     "output_type": "execute_result"
    }
   ],
   "source": [
    "iMM904.reactions.ALCD2x_copy1"
   ]
  },
  {
   "cell_type": "code",
   "execution_count": null,
   "metadata": {},
   "outputs": [],
   "source": []
  },
  {
   "cell_type": "code",
   "execution_count": null,
   "metadata": {},
   "outputs": [],
   "source": []
  }
 ],
 "metadata": {
  "kernelspec": {
   "display_name": "Python 3 (ipykernel)",
   "language": "python",
   "name": "python3"
  },
  "language_info": {
   "codemirror_mode": {
    "name": "ipython",
    "version": 3
   },
   "file_extension": ".py",
   "mimetype": "text/x-python",
   "name": "python",
   "nbconvert_exporter": "python",
   "pygments_lexer": "ipython3",
   "version": "3.7.4"
  }
 },
 "nbformat": 4,
 "nbformat_minor": 5
}
