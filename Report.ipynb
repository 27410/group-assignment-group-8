{
 "cells": [
  {
   "cell_type": "markdown",
   "metadata": {},
   "source": [
    "# [Title]"
   ]
  },
  {
   "cell_type": "markdown",
   "metadata": {},
   "source": [
    "## 1. Introduction"
   ]
  },
  {
   "cell_type": "code",
   "execution_count": 1,
   "metadata": {},
   "outputs": [],
   "source": [
    "import matplotlib.pyplot as plt\n",
    "#plt.style.use('seaborn')\n",
    "#%matplotlib inline\n",
    "import pandas as pd\n",
    "from cobra.io import read_sbml_model\n",
    "import escher"
   ]
  },
  {
   "cell_type": "code",
   "execution_count": 3,
   "metadata": {},
   "outputs": [
    {
     "name": "stdout",
     "output_type": "stream",
     "text": [
      "Downloading Map from https://escher.github.io/1-0-0/6/maps/Escherichia%20coli/e_coli_core.Core%20metabolism.json\n"
     ]
    },
    {
     "data": {
      "application/vnd.jupyter.widget-view+json": {
       "model_id": "160990c7a5874e58b5aa9b032a94aebc",
       "version_major": 2,
       "version_minor": 0
      },
      "text/plain": [
       "Builder()"
      ]
     },
     "metadata": {},
     "output_type": "display_data"
    }
   ],
   "source": [
    "# A test from assignment 4\n",
    "model = read_sbml_model('data/iML1515.xml')\n",
    "escher.list_available_maps()\n",
    "escher.Builder('e_coli_core.Core metabolism')"
   ]
  },
  {
   "cell_type": "markdown",
   "metadata": {},
   "source": [
    "### 1.1 Literature review of the compound (<500 words)\n",
    "\n",
    "\n",
    "Hej"
   ]
  },
  {
   "cell_type": "markdown",
   "metadata": {},
   "source": [
    "### 1.2 Literature review of the cell factory (<500 words)\n",
    "jenni lugter hallo hAllo"
   ]
  },
  {
   "cell_type": "markdown",
   "metadata": {},
   "source": [
    "## 2. Problem definition (<300 words)\n"
   ]
  },
  {
   "cell_type": "markdown",
   "metadata": {},
   "source": [
    "## 3.  Selection and assessment of existing GSM (<500 words)\n",
    "\n",
    "\n",
    "#### Performance comparison with MEMOTE\n",
    "|S.cerevisiae model|Total reactions|Total metabolites|Total compartments|Total Genes|Metabolic coverage|Total score(%)|Consistency score (%)|Annotation-metabolic score(%)|Annotation-reaction score (%)|\n",
    "|:-:|:-:|:-:|:-:|:-:|:-:|:-:|:-:|:-:|:-:|\n",
    "|iMM904| 1577 | 1226 | 8 | 905 | 1.74 | 81 | 85 | 80 | 82 |\n",
    "|iND750| 1266 | 1059 | 8 | 750 | 1.69 | 81 | 85 | 80 | 83 |\n",
    "\n"
   ]
  },
  {
   "cell_type": "markdown",
   "metadata": {},
   "source": [
    "## 4. Computer-Aided Cell Factory Engineering (<1500 words)"
   ]
  },
  {
   "cell_type": "markdown",
   "metadata": {},
   "source": [
    "<font size=\"5\"> Indtroduction </font>"
   ]
  },
  {
   "cell_type": "markdown",
   "metadata": {},
   "source": [
    "<font size=\"5\"> Media optimization </font>\n",
    "<br>\n",
    "\n",
    "|  | Defualt |YEPD (succrose)|\n",
    "|:-:|:-:|:-:|\n",
    "|Maximum Theoretical Biomass Productivity (h-1)| 0.288 | 1.307 |\n",
    "|Maximum Theoretical Productivity of AA  (mmol * gDW-1 h-1)| 0.833 | 2.000 |\n",
    "| Maximum Theoretical Yield (mmol-AA * mmol-carbon-1) | 0.0833 | 0.0465 |"
   ]
  },
  {
   "cell_type": "markdown",
   "metadata": {},
   "source": [
    "<font size=\"5\"> Regulation targerts </font>\n",
    "\n",
    "A way to optimize a cell factory is to regulate the genes and to do that flux scanning has been done. Flux scanning is based on enforced objective flux (FSEOF), which enables it to identify gene amplification targets. FSEOF found 36 possible targets for gene regulation which are represented by a negative and a positive sign for flux decrease or increase. \n",
    "\n",
    "From the FSEOF analysis a top 15 list of upregulated target genes for artemisinic acid production is shown in the table below.  \n",
    "\n",
    "|Genes|Function|Reaction|\n",
    "|:-:|:-:|:-:|\n",
    "| SPMDtex2 | Spermidine excretion cytosol to extracellular | Spermidine _c ⇌ Spermidine _e |\n",
    "|SPMDt3i| Spermidine transport in via proton antiport | H+_c + Spermidine_e ⇌ Spermidine_c + H+_e |\n",
    "| PYRt2m | Pyruvate mitochondrial transport via proton symport | H+_c + pyruvat_c ⇌ H+_m + pyr_m |\n",
    "| PDHm | Pyruvate dehydrogenase | CoA + NAD + pyruvat ⇌ Acetyl-CoA + co2 + nadh |\n",
    "| HCO3E | HCO3 equilibration reaction | CO2 + H2O ⇌ H+ + HCO3**- |\n",
    "| PC | Pyruvate carboxylase | ATP + HCO3- + Pyruvate ⇌ ADP +  H+ +  Oxaloacetate + phosphate |\n",
    "| OAAt2m | Oxaloacetate transport mitochondrial | H+ + Oxaloacetate ⇌ H+ + Oxaloacetate |\n",
    "| ACACT1m | Acetyl CoA C acetyltransferase mitochondrial | 2.0 Acetyl-CoA ⇌ Acetoacetyl-CoA + CoA |\n",
    "| PMEVK | Phosphomevalonate kinase | ATP + (R)-5-phosphomevalonate⇌ ADP + (R)-5-Diphosphomevalonate |\n",
    "| DPMVD | Diphosphomevalonate decarboxylase | ATP + (R)-5-diphosphomevalonate ⇌ ADP + phosphate + isopentenyl diphosphate + CO2 |\n",
    "| COAtim | CoA transporter mitochondrial irreversible | CoA_c ⇌ CoA_m |\n",
    "| MEVK1 | Mevalonate kinase atp | ATP + (R)-mevalonate ⇌ ADP + H+ + (R)-5-phosphomevalonate |\n",
    "| GRTT | Geranyltranstransferase | Geranyl diphosphate + isopentenyl diphosphate ⇌ diphosphate + farnesyl diphosphate (also known as Farnesyl pyrophosphate (FPP)) |\n",
    "| DMATT | Dimethylallyltranstransferase | Dimethylallyl diphosphate + Isopentenyl diphosphate ⇌ Geranyl diphosphate + diphosphate |\n",
    "| IPDDI | Isopentenyl-diphosphate D-isomerase | Isopentenyl diphosphate ⇌ Dimethylallyl diphosphate |\n",
    "\n",
    "The two first genes of the up-regulation target code are involved in spermindine transport. We could however not find a reason for this upregulation. PYRt2m, PDHm, HCO3E, PC, OAAt2m, ACACT1m and COAtim are involved in increasing the flux to the mitochondria which increase production of Acetyl-CoA through TCA. This in turn increases flux to the mevalonate (MVA) isoprenoid biosynthesis. In this pathway the genes PMEVK, DPMVD, MEVK1, GRTT, DMATT and IPDDI are also targeted for up-regulation. This pathway produces farnesyl diphosphate (also known as Farnesyl pyrophosphate (FPP)), which is the precursor for the heterologous pathway inserted into the organism, so upregulation of these genes makes sense. \n",
    "\n"
   ]
  },
  {
   "cell_type": "markdown",
   "metadata": {},
   "source": [
    "<font size=\"5\"> FBA </font>"
   ]
  },
  {
   "cell_type": "markdown",
   "metadata": {},
   "source": [
    "<font size=\"5\"> Regulation targerts </font>\n",
    "<br>\n",
    "To identify possible knockouts for improving the production of artemisinic acid we used Optgene and Optknock as well as single found from the litterature and double gene knockouts done with cobra flux analysis.   \n",
    "\n",
    "<br><font size=\"3\">The results of Optgene can be seen in file 06_optgene.ipynb and it shows that no knockouts can be made to increase prodution of artemisinic acid. Since running Optgene did not result in any knockouts Optknock is used. After running Optknock multiple times for 8000+ minuts and changing parameters mutiple times and still got no results, we decided to move on to manual knockouts such as single and double knockouts.\n",
    "<br><font size=\"3\"> Single knockouts </font>\n",
    "<br>\n",
    "The single knockouts was found from (https://journals.plos.org/plosone/article?id=10.1371/journal.pone.0112615) and they can be seen in 06.3_Knockouts.ipynb. The table below sumerises the single knocouts made.\n",
    "<br>\n",
    "|Genes|Maximum AA productivity|Maximum theoretical yield|\n",
    "|:-:|:-:|:-:|\n",
    "|HEX|1.4393939393939403|0.14393939393939403|\n",
    "|SBTR|1.4393939393939403|0.14393939393939403|\n",
    "|SBTD_D2|1.4393939393939403|0.14393939393939403|\n",
    "|PGCD|1.4393939393939403|0.14393939393939403|\n",
    "|PSP_L|1.4393939393939403|0.14393939393939403|\n",
    "|ALATA_L|1.4393939393939403|0.14393939393939403|\n",
    "|CITtcm|1.4393939393939403|0.14393939393939403|\n",
    "|ICDHxm|1.4393939393939403|0.14393939393939403|\n",
    "|ATPM|1.4696969696969708|0.14696969696969708|\n",
    "\n",
    "As seen all the single knocouts gotten from the litterature did not result in and increase in production of artesimic acid. However when using cobra.flux_analysis to identify possible single gene knockouts the gene ATPM showed an increase in artesimic aacid productivety when knockout. This it due to ATPM being a futile reaction consuming unesserary ATP, therfor when knocked out the productivety increases due to more ATP being avalible. \n",
    "<br>\n",
    "<br><font size=\"3\"> Double </font>\n",
    "<br>"
   ]
  },
  {
   "cell_type": "markdown",
   "metadata": {},
   "source": [
    "<font size=\"5\"> Cofactor swap </font>"
   ]
  },
  {
   "cell_type": "markdown",
   "metadata": {},
   "source": [
    "## 5. Discussion (<500 words)"
   ]
  },
  {
   "cell_type": "markdown",
   "metadata": {},
   "source": [
    "## 6. Conclusion (<200 words)"
   ]
  },
  {
   "cell_type": "markdown",
   "metadata": {},
   "source": [
    "## References"
   ]
  },
  {
   "cell_type": "code",
   "execution_count": null,
   "metadata": {},
   "outputs": [],
   "source": []
  }
 ],
 "metadata": {
  "kernelspec": {
   "display_name": ".venv",
   "language": "python",
   "name": "python3"
  },
  "language_info": {
   "codemirror_mode": {
    "name": "ipython",
    "version": 3
   },
   "file_extension": ".py",
   "mimetype": "text/x-python",
   "name": "python",
   "nbconvert_exporter": "python",
   "pygments_lexer": "ipython3",
   "version": "3.7.16"
  }
 },
 "nbformat": 4,
 "nbformat_minor": 4
}
