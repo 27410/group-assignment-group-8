{
 "cells": [
  {
   "cell_type": "code",
   "execution_count": 2,
   "metadata": {},
   "outputs": [],
   "source": [
    "import matplotlib.pyplot as plt\n",
    "#plt.style.use('seaborn')\n",
    "%matplotlib inline\n",
    "import pandas as pd"
   ]
  },
  {
   "cell_type": "markdown",
   "metadata": {},
   "source": [
    "# Application of genome-scale metabolic models"
   ]
  },
  {
   "cell_type": "markdown",
   "metadata": {},
   "source": [
    "## Model import"
   ]
  },
  {
   "cell_type": "markdown",
   "metadata": {},
   "source": [
    "You can download a GSM using `cobra.io.read_sbml_model`. Let's load the latest iteration of the *Escherchia coli* GSM iML1515 ([nature.com/articles/nbt.3956](https://www.nature.com/articles/nbt.3956))."
   ]
  },
  {
   "cell_type": "code",
   "execution_count": 3,
   "metadata": {},
   "outputs": [],
   "source": [
    "from cobra.io import read_sbml_model\n",
    "model = read_sbml_model('data/iML1515.xml')"
   ]
  },
  {
   "cell_type": "markdown",
   "metadata": {},
   "source": [
    "## Model content"
   ]
  },
  {
   "cell_type": "markdown",
   "metadata": {},
   "source": [
    "### Metabolites"
   ]
  },
  {
   "cell_type": "markdown",
   "metadata": {},
   "source": [
    "The model contains a list of metabolites. Here are the first ten."
   ]
  },
  {
   "cell_type": "code",
   "execution_count": 4,
   "metadata": {},
   "outputs": [
    {
     "data": {
      "text/plain": [
       "[<Metabolite octapb_c at 0x215a5f06ad0>,\n",
       " <Metabolite cysi__L_e at 0x215a5f06a90>,\n",
       " <Metabolite dhap_c at 0x215a5f06c90>,\n",
       " <Metabolite prbatp_c at 0x215a5f06dd0>,\n",
       " <Metabolite 10fthf_c at 0x215a5f07590>,\n",
       " <Metabolite btal_c at 0x215a5f07ed0>,\n",
       " <Metabolite 6pgg_c at 0x215a60fcd10>,\n",
       " <Metabolite co2_e at 0x215a60fce90>,\n",
       " <Metabolite akg_e at 0x215a60fd590>,\n",
       " <Metabolite gsn_e at 0x215a60fd810>]"
      ]
     },
     "execution_count": 4,
     "metadata": {},
     "output_type": "execute_result"
    }
   ],
   "source": [
    "model.metabolites[0:10]"
   ]
  },
  {
   "cell_type": "markdown",
   "metadata": {},
   "source": [
    "How many metabolites are in the model?"
   ]
  },
  {
   "cell_type": "code",
   "execution_count": 5,
   "metadata": {},
   "outputs": [
    {
     "data": {
      "text/plain": [
       "1877"
      ]
     },
     "execution_count": 5,
     "metadata": {},
     "output_type": "execute_result"
    }
   ],
   "source": [
    "len(model.metabolites)"
   ]
  },
  {
   "cell_type": "markdown",
   "metadata": {},
   "source": [
    "One can access a specific metabolite using dot notation."
   ]
  },
  {
   "cell_type": "code",
   "execution_count": 6,
   "metadata": {},
   "outputs": [
    {
     "data": {
      "text/html": [
       "\n",
       "        <table>\n",
       "            <tr>\n",
       "                <td><strong>Metabolite identifier</strong></td><td>g3p_c</td>\n",
       "            </tr><tr>\n",
       "                <td><strong>Name</strong></td><td>Glyceraldehyde 3-phosphate</td>\n",
       "            </tr><tr>\n",
       "                <td><strong>Memory address</strong></td>\n",
       "                <td>0x215a5ffd150</td>\n",
       "            </tr><tr>\n",
       "                <td><strong>Formula</strong></td><td>C3H5O6P</td>\n",
       "            </tr><tr>\n",
       "                <td><strong>Compartment</strong></td><td>c</td>\n",
       "            </tr><tr>\n",
       "                <td><strong>In 15 reaction(s)</strong></td><td>\n",
       "                    TGBPA, DRPA, TPI, GAPP, EDA, DDPGALA, TKT2, DXPS, TKT1, GAPD, TALA, TRPS3, F6PA, TRPS1, FBA\n",
       "                    </td>\n",
       "            </tr>\n",
       "        </table>"
      ],
      "text/plain": [
       "<Metabolite g3p_c at 0x215a5ffd150>"
      ]
     },
     "execution_count": 6,
     "metadata": {},
     "output_type": "execute_result"
    }
   ],
   "source": [
    "model.metabolites.g3p_c"
   ]
  },
  {
   "cell_type": "markdown",
   "metadata": {},
   "source": [
    "<div class=\"alert alert-warning\">\n",
    "\n",
    "**Warning:** One cannot use dot notation to access metabolites, reactions, or genes if their identifiers do not resemble proper Python variable names.\n",
    "\n",
    "</div>"
   ]
  },
  {
   "cell_type": "code",
   "execution_count": 7,
   "metadata": {},
   "outputs": [],
   "source": [
    "# model.metabolites.10fthf_c  # this won't work, you can try by uncommenting the line"
   ]
  },
  {
   "cell_type": "markdown",
   "metadata": {},
   "source": [
    "<div class=\"alert alert-success\">\n",
    "\n",
    "**Solution:** Use the method `get_by_id` instead!\n",
    "\n",
    "</div>"
   ]
  },
  {
   "cell_type": "code",
   "execution_count": 8,
   "metadata": {},
   "outputs": [
    {
     "data": {
      "text/html": [
       "\n",
       "        <table>\n",
       "            <tr>\n",
       "                <td><strong>Metabolite identifier</strong></td><td>10fthf_c</td>\n",
       "            </tr><tr>\n",
       "                <td><strong>Name</strong></td><td>10-Formyltetrahydrofolate</td>\n",
       "            </tr><tr>\n",
       "                <td><strong>Memory address</strong></td>\n",
       "                <td>0x215a5f07590</td>\n",
       "            </tr><tr>\n",
       "                <td><strong>Formula</strong></td><td>C20H21N7O7</td>\n",
       "            </tr><tr>\n",
       "                <td><strong>Compartment</strong></td><td>c</td>\n",
       "            </tr><tr>\n",
       "                <td><strong>In 8 reaction(s)</strong></td><td>\n",
       "                    MTHFC, FTHFD, BIOMASS_Ec_iML1515_core_75p37M, ULA4NFT, BIOMASS_Ec_iML1515_WT_75p37M, GARFT, AICART, FTHFLi\n",
       "                    </td>\n",
       "            </tr>\n",
       "        </table>"
      ],
      "text/plain": [
       "<Metabolite 10fthf_c at 0x215a5f07590>"
      ]
     },
     "execution_count": 8,
     "metadata": {},
     "output_type": "execute_result"
    }
   ],
   "source": [
    "model.metabolites.get_by_id('10fthf_c')"
   ]
  },
  {
   "cell_type": "markdown",
   "metadata": {},
   "source": [
    "Metabolites are associated with compartments in the cell. Glyceraldehyde 3-phosphate (`g3p_c`) is associated with the `c` (Cytosol) compartment."
   ]
  },
  {
   "cell_type": "code",
   "execution_count": 9,
   "metadata": {},
   "outputs": [
    {
     "data": {
      "text/plain": [
       "'c'"
      ]
     },
     "execution_count": 9,
     "metadata": {},
     "output_type": "execute_result"
    }
   ],
   "source": [
    "model.metabolites.g3p_c.compartment"
   ]
  },
  {
   "cell_type": "markdown",
   "metadata": {},
   "source": [
    "The _E. coli_ model has three compartments."
   ]
  },
  {
   "cell_type": "code",
   "execution_count": 10,
   "metadata": {},
   "outputs": [
    {
     "data": {
      "text/plain": [
       "{'c': 'cytosol', 'e': 'extracellular space', 'p': 'periplasm'}"
      ]
     },
     "execution_count": 10,
     "metadata": {},
     "output_type": "execute_result"
    }
   ],
   "source": [
    "model.compartments"
   ]
  },
  {
   "cell_type": "markdown",
   "metadata": {},
   "source": [
    "Some metabolites (like Glucose for example) can be associated with multiple compartments."
   ]
  },
  {
   "cell_type": "code",
   "execution_count": 11,
   "metadata": {},
   "outputs": [
    {
     "data": {
      "text/plain": [
       "'c'"
      ]
     },
     "execution_count": 11,
     "metadata": {},
     "output_type": "execute_result"
    }
   ],
   "source": [
    "model.metabolites.glc__D_c.compartment"
   ]
  },
  {
   "cell_type": "code",
   "execution_count": 12,
   "metadata": {},
   "outputs": [
    {
     "data": {
      "text/plain": [
       "'p'"
      ]
     },
     "execution_count": 12,
     "metadata": {},
     "output_type": "execute_result"
    }
   ],
   "source": [
    "model.metabolites.glc__D_p.compartment"
   ]
  },
  {
   "cell_type": "markdown",
   "metadata": {},
   "source": [
    "The full name of the metabolite is available via the `.name` attribute. "
   ]
  },
  {
   "cell_type": "code",
   "execution_count": 13,
   "metadata": {},
   "outputs": [
    {
     "data": {
      "text/plain": [
       "'D-Glucose'"
      ]
     },
     "execution_count": 13,
     "metadata": {},
     "output_type": "execute_result"
    }
   ],
   "source": [
    "model.metabolites.glc__D_c.name"
   ]
  },
  {
   "cell_type": "markdown",
   "metadata": {},
   "source": [
    "One can look up the molecular formula of glucose."
   ]
  },
  {
   "cell_type": "code",
   "execution_count": 14,
   "metadata": {},
   "outputs": [
    {
     "data": {
      "text/plain": [
       "'C3H5O6P'"
      ]
     },
     "execution_count": 14,
     "metadata": {},
     "output_type": "execute_result"
    }
   ],
   "source": [
    "model.metabolites.g3p_c.formula"
   ]
  },
  {
   "cell_type": "markdown",
   "metadata": {},
   "source": [
    "The `.elements` attribute returns a dictionary representation of the formula."
   ]
  },
  {
   "cell_type": "code",
   "execution_count": 15,
   "metadata": {},
   "outputs": [
    {
     "data": {
      "text/plain": [
       "{'C': 3, 'H': 5, 'O': 6, 'P': 1}"
      ]
     },
     "execution_count": 15,
     "metadata": {},
     "output_type": "execute_result"
    }
   ],
   "source": [
    "model.metabolites.g3p_c.elements"
   ]
  },
  {
   "cell_type": "markdown",
   "metadata": {},
   "source": [
    "Furthermore, one can look up the molecular weight of a metabolite."
   ]
  },
  {
   "cell_type": "code",
   "execution_count": 16,
   "metadata": {},
   "outputs": [
    {
     "data": {
      "text/plain": [
       "168.041961"
      ]
     },
     "execution_count": 16,
     "metadata": {},
     "output_type": "execute_result"
    }
   ],
   "source": [
    "model.metabolites.g3p_c.formula_weight"
   ]
  },
  {
   "cell_type": "markdown",
   "metadata": {},
   "source": [
    "One can gather additional information (like references to external datbases) about the metabolite through the annotation attribute."
   ]
  },
  {
   "cell_type": "code",
   "execution_count": 17,
   "metadata": {},
   "outputs": [
    {
     "data": {
      "text/plain": [
       "{'sbo': 'SBO:0000247',\n",
       " 'bigg.metabolite': 'g3p',\n",
       " 'biocyc': 'META:GAP',\n",
       " 'chebi': ['CHEBI:5446',\n",
       "  'CHEBI:14333',\n",
       "  'CHEBI:12984',\n",
       "  'CHEBI:181',\n",
       "  'CHEBI:17138',\n",
       "  'CHEBI:21026',\n",
       "  'CHEBI:12983',\n",
       "  'CHEBI:18324',\n",
       "  'CHEBI:58027',\n",
       "  'CHEBI:59776',\n",
       "  'CHEBI:29052'],\n",
       " 'hmdb': 'HMDB01112',\n",
       " 'inchi_key': 'LXJXRIRHZLFYRP-VKHMYHEASA-L',\n",
       " 'kegg.compound': ['C00661', 'C00118'],\n",
       " 'metanetx.chemical': 'MNXM74',\n",
       " 'reactome.compound': '29578',\n",
       " 'sabiork': ['27', '1687'],\n",
       " 'seed.compound': ['cpd00102', 'cpd19005']}"
      ]
     },
     "execution_count": 17,
     "metadata": {},
     "output_type": "execute_result"
    }
   ],
   "source": [
    "model.metabolites.g3p_c.annotation"
   ]
  },
  {
   "cell_type": "markdown",
   "metadata": {},
   "source": [
    "One can use these annotations to look up the compound on [KEGG](http://www.genome.jp/dbget-bin/www_bget?cpd:C00118) for example."
   ]
  },
  {
   "cell_type": "markdown",
   "metadata": {},
   "source": [
    "Metabolites are not isolated things. They participate in reactions as substrates and products."
   ]
  },
  {
   "cell_type": "code",
   "execution_count": 18,
   "metadata": {},
   "outputs": [
    {
     "data": {
      "text/plain": [
       "frozenset({<Reaction DDPGALA at 0x215b48c7a90>,\n",
       "           <Reaction DRPA at 0x215b4d14790>,\n",
       "           <Reaction DXPS at 0x215b48122d0>,\n",
       "           <Reaction EDA at 0x215b46ca050>,\n",
       "           <Reaction F6PA at 0x215b48d1950>,\n",
       "           <Reaction FBA at 0x215b46bb590>,\n",
       "           <Reaction GAPD at 0x215b4b696d0>,\n",
       "           <Reaction GAPP at 0x215b5e2cc10>,\n",
       "           <Reaction TALA at 0x215b4701b10>,\n",
       "           <Reaction TGBPA at 0x215b48b8210>,\n",
       "           <Reaction TKT1 at 0x215b46ce2d0>,\n",
       "           <Reaction TKT2 at 0x215b4d3c890>,\n",
       "           <Reaction TPI at 0x215b5787010>,\n",
       "           <Reaction TRPS1 at 0x215b4aef190>,\n",
       "           <Reaction TRPS3 at 0x215b48fb950>})"
      ]
     },
     "execution_count": 18,
     "metadata": {},
     "output_type": "execute_result"
    }
   ],
   "source": [
    "model.metabolites.g3p_c.reactions"
   ]
  },
  {
   "cell_type": "markdown",
   "metadata": {},
   "source": [
    "### Reactions"
   ]
  },
  {
   "cell_type": "markdown",
   "metadata": {},
   "source": [
    "The model contains a list of reactions. Here are the first 10 of them."
   ]
  },
  {
   "cell_type": "code",
   "execution_count": 19,
   "metadata": {},
   "outputs": [
    {
     "data": {
      "text/plain": [
       "[<Reaction CYTDK2 at 0x215b459cc10>,\n",
       " <Reaction XPPT at 0x215b459cbd0>,\n",
       " <Reaction HXPRT at 0x215b459e110>,\n",
       " <Reaction NDPK5 at 0x215b459e0d0>,\n",
       " <Reaction SHK3Dr at 0x215b459e090>,\n",
       " <Reaction NDPK6 at 0x215b459f2d0>,\n",
       " <Reaction NDPK8 at 0x215b45a6f10>,\n",
       " <Reaction DHORTS at 0x215b45a5c90>,\n",
       " <Reaction OMPDC at 0x215b45a5a90>,\n",
       " <Reaction PYNP2r at 0x215b45a8110>]"
      ]
     },
     "execution_count": 19,
     "metadata": {},
     "output_type": "execute_result"
    }
   ],
   "source": [
    "model.reactions[0:10]"
   ]
  },
  {
   "cell_type": "markdown",
   "metadata": {},
   "source": [
    "How many reactions are in the model?"
   ]
  },
  {
   "cell_type": "code",
   "execution_count": 20,
   "metadata": {},
   "outputs": [
    {
     "data": {
      "text/plain": [
       "2712"
      ]
     },
     "execution_count": 20,
     "metadata": {},
     "output_type": "execute_result"
    }
   ],
   "source": [
    "len(model.reactions)"
   ]
  },
  {
   "cell_type": "markdown",
   "metadata": {},
   "source": [
    "Let's take a closer look at the reactions associated with Glyceraldehyde 3-phosphate (`g3p`)."
   ]
  },
  {
   "cell_type": "code",
   "execution_count": 21,
   "metadata": {},
   "outputs": [
    {
     "name": "stdout",
     "output_type": "stream",
     "text": [
      "TGBPA TGBPA: tagdp__D_c <=> dhap_c + g3p_c Tagatose-bisphosphate aldolase\n",
      "DRPA DRPA: 2dr5p_c --> acald_c + g3p_c Deoxyribose-phosphate aldolase\n",
      "TPI TPI: dhap_c <=> g3p_c Triose-phosphate isomerase\n",
      "GAPP GAPP: g3p_c + h2o_c --> glyald_c + pi_c Glyceraldehyde-3-phosphate phosphatase\n",
      "EDA EDA: 2ddg6p_c --> g3p_c + pyr_c 2-dehydro-3-deoxy-phosphogluconate aldolase\n",
      "DDPGALA DDPGALA: 2dh3dgal6p_c <=> g3p_c + pyr_c 2-dehydro-3-deoxy-6-phosphogalactonate aldolase\n",
      "TKT2 TKT2: e4p_c + xu5p__D_c <=> f6p_c + g3p_c Transketolase\n",
      "DXPS DXPS: g3p_c + h_c + pyr_c --> co2_c + dxyl5p_c 1-deoxy-D-xylulose 5-phosphate synthase\n",
      "TKT1 TKT1: r5p_c + xu5p__D_c <=> g3p_c + s7p_c Transketolase\n",
      "GAPD GAPD: g3p_c + nad_c + pi_c <=> 13dpg_c + h_c + nadh_c Glyceraldehyde-3-phosphate dehydrogenase\n",
      "TALA TALA: g3p_c + s7p_c <=> e4p_c + f6p_c Transaldolase\n",
      "TRPS3 TRPS3: 3ig3p_c --> g3p_c + indole_c Tryptophan synthase (indoleglycerol phosphate)\n",
      "F6PA F6PA: f6p_c <=> dha_c + g3p_c Fructose 6-phosphate aldolase\n",
      "TRPS1 TRPS1: 3ig3p_c + ser__L_c --> g3p_c + h2o_c + trp__L_c Tryptophan synthase (indoleglycerol phosphate)\n",
      "FBA FBA: fdp_c <=> dhap_c + g3p_c Fructose-bisphosphate aldolase\n"
     ]
    }
   ],
   "source": [
    "for reaction in model.metabolites.g3p_c.reactions:\n",
    "    print(reaction.id, reaction, reaction.name)"
   ]
  },
  {
   "cell_type": "markdown",
   "metadata": {},
   "source": [
    "The second reaction in this list is Glyceraldehyde-3-phosphate dehydrogenase (GAPD)."
   ]
  },
  {
   "cell_type": "code",
   "execution_count": 22,
   "metadata": {},
   "outputs": [
    {
     "data": {
      "text/plain": [
       "'Glyceraldehyde-3-phosphate dehydrogenase'"
      ]
     },
     "execution_count": 22,
     "metadata": {},
     "output_type": "execute_result"
    }
   ],
   "source": [
    "model.reactions.GAPD.name"
   ]
  },
  {
   "cell_type": "markdown",
   "metadata": {},
   "source": [
    "### Objective function"
   ]
  },
  {
   "cell_type": "markdown",
   "metadata": {},
   "source": [
    "Here is the objective function currently set in the model. "
   ]
  },
  {
   "cell_type": "markdown",
   "metadata": {},
   "source": [
    "<div class=\"alert alert-info\">\n",
    "\n",
    "Under the hood all reactions are represented by two flux variables, the first one representing the forward direction, the second  one the reverse direction. In all likelihood, you won't have to worry about this during the course.\n",
    "\n",
    "</div>"
   ]
  },
  {
   "cell_type": "code",
   "execution_count": 23,
   "metadata": {},
   "outputs": [
    {
     "name": "stdout",
     "output_type": "stream",
     "text": [
      "Maximize\n",
      "1.0*BIOMASS_Ec_iML1515_core_75p37M - 1.0*BIOMASS_Ec_iML1515_core_75p37M_reverse_35685\n"
     ]
    }
   ],
   "source": [
    "print(model.objective)"
   ]
  },
  {
   "cell_type": "markdown",
   "metadata": {},
   "source": [
    "To what reaction corresponds the objective function? Search it in the model and print it"
   ]
  },
  {
   "cell_type": "code",
   "execution_count": 24,
   "metadata": {},
   "outputs": [
    {
     "data": {
      "text/html": [
       "\n",
       "        <table>\n",
       "            <tr>\n",
       "                <td><strong>Reaction identifier</strong></td><td>BIOMASS_Ec_iML1515_core_75p37M</td>\n",
       "            </tr><tr>\n",
       "                <td><strong>Name</strong></td><td>E. coli biomass objective function (iML1515) - core - with 75.37 GAM estimate</td>\n",
       "            </tr><tr>\n",
       "                <td><strong>Memory address</strong></td>\n",
       "                <td>0x215b5dc60d0</td>\n",
       "            </tr><tr>\n",
       "                <td><strong>Stoichiometry</strong></td>\n",
       "                <td>\n",
       "                    <p style='text-align:right'>0.000223 10fthf_c + 2.6e-05 2fe2s_c + 0.000223 2ohph_c + 0.00026 4fe4s_c + 0.513689 ala__L_c + 0.000223 amet_c + 0.295792 arg__L_c + 0.241055 asn__L_c + 0.241055 asp__L_c + 75.55223 atp_c + 2e-06...</p>\n",
       "                    <p style='text-align:right'>0.000223 10-Formyltetrahydrofolate + 2.6e-05 [2Fe-2S] iron-sulfur cluster + 0.000223 2-Octaprenyl-6-hydroxyphenol + 0.00026 [4Fe-4S] iron-sulfur cluster + 0.513689 L-Alanine + 0.000223 S-Adenosyl-...</p>\n",
       "                </td>\n",
       "            </tr><tr>\n",
       "                <td><strong>GPR</strong></td><td></td>\n",
       "            </tr><tr>\n",
       "                <td><strong>Lower bound</strong></td><td>0.0</td>\n",
       "            </tr><tr>\n",
       "                <td><strong>Upper bound</strong></td><td>1000.0</td>\n",
       "            </tr>\n",
       "        </table>\n",
       "        "
      ],
      "text/plain": [
       "<Reaction BIOMASS_Ec_iML1515_core_75p37M at 0x215b5dc60d0>"
      ]
     },
     "execution_count": 24,
     "metadata": {},
     "output_type": "execute_result"
    }
   ],
   "source": [
    "model.reactions.BIOMASS_Ec_iML1515_core_75p37M"
   ]
  },
  {
   "cell_type": "markdown",
   "metadata": {},
   "source": [
    "### ATP maintenance requirement"
   ]
  },
  {
   "cell_type": "markdown",
   "metadata": {},
   "source": [
    "Most models also contain a reaction that hydrolyzes ATP and that represents the non-growth ATP maintenance (NGAM) cost. Usually its lower bound is set to an experimentally determined value to enforce a certain flux."
   ]
  },
  {
   "cell_type": "code",
   "execution_count": 25,
   "metadata": {},
   "outputs": [
    {
     "data": {
      "text/html": [
       "\n",
       "        <table>\n",
       "            <tr>\n",
       "                <td><strong>Reaction identifier</strong></td><td>ATPM</td>\n",
       "            </tr><tr>\n",
       "                <td><strong>Name</strong></td><td>ATP maintenance requirement</td>\n",
       "            </tr><tr>\n",
       "                <td><strong>Memory address</strong></td>\n",
       "                <td>0x215b5270e10</td>\n",
       "            </tr><tr>\n",
       "                <td><strong>Stoichiometry</strong></td>\n",
       "                <td>\n",
       "                    <p style='text-align:right'>atp_c + h2o_c --> adp_c + h_c + pi_c</p>\n",
       "                    <p style='text-align:right'>ATP C10H12N5O13P3 + H2O H2O --> ADP C10H12N5O10P2 + H+ + Phosphate</p>\n",
       "                </td>\n",
       "            </tr><tr>\n",
       "                <td><strong>GPR</strong></td><td></td>\n",
       "            </tr><tr>\n",
       "                <td><strong>Lower bound</strong></td><td>6.86</td>\n",
       "            </tr><tr>\n",
       "                <td><strong>Upper bound</strong></td><td>1000.0</td>\n",
       "            </tr>\n",
       "        </table>\n",
       "        "
      ],
      "text/plain": [
       "<Reaction ATPM at 0x215b5270e10>"
      ]
     },
     "execution_count": 25,
     "metadata": {},
     "output_type": "execute_result"
    }
   ],
   "source": [
    "model.reactions.ATPM"
   ]
  },
  {
   "cell_type": "markdown",
   "metadata": {},
   "source": [
    "### Gene-Protein-Reaction associations"
   ]
  },
  {
   "cell_type": "markdown",
   "metadata": {},
   "source": [
    "Glyceraldehyde-3-phosphate dehydrogenase is associated with a single gene. "
   ]
  },
  {
   "cell_type": "code",
   "execution_count": 26,
   "metadata": {},
   "outputs": [
    {
     "data": {
      "text/plain": [
       "'b1779'"
      ]
     },
     "execution_count": 26,
     "metadata": {},
     "output_type": "execute_result"
    }
   ],
   "source": [
    "model.reactions.GAPD.gene_reaction_rule"
   ]
  },
  {
   "cell_type": "markdown",
   "metadata": {},
   "source": [
    "Phosphofructokinase (PFK) on the other hand seems to be associated with two isozymes."
   ]
  },
  {
   "cell_type": "code",
   "execution_count": 27,
   "metadata": {},
   "outputs": [
    {
     "data": {
      "text/plain": [
       "'b3916 or b1723'"
      ]
     },
     "execution_count": 27,
     "metadata": {},
     "output_type": "execute_result"
    }
   ],
   "source": [
    "model.reactions.PFK.gene_reaction_rule"
   ]
  },
  {
   "cell_type": "markdown",
   "metadata": {},
   "source": [
    "One can display the gene names (typical 4 letter gene codes) instead of the identifiers (Blattner numbers in this case)."
   ]
  },
  {
   "cell_type": "code",
   "execution_count": 28,
   "metadata": {},
   "outputs": [
    {
     "data": {
      "text/plain": [
       "'pfkA or pfkB'"
      ]
     },
     "execution_count": 28,
     "metadata": {},
     "output_type": "execute_result"
    }
   ],
   "source": [
    "model.reactions.PFK.gene_name_reaction_rule"
   ]
  },
  {
   "cell_type": "markdown",
   "metadata": {},
   "source": [
    "Here a very complicated gene to reaction mapping (ATP synthase)."
   ]
  },
  {
   "cell_type": "code",
   "execution_count": 29,
   "metadata": {},
   "outputs": [
    {
     "data": {
      "text/plain": [
       "'(atpI and (atpC and atpG and atpH and atpA and atpD) and (atpB and atpF and atpE)) or ((atpC and atpG and atpH and atpA and atpD) and (atpB and atpF and atpE))'"
      ]
     },
     "execution_count": 29,
     "metadata": {},
     "output_type": "execute_result"
    }
   ],
   "source": [
    "model.reactions.ATPS4rpp.gene_name_reaction_rule"
   ]
  },
  {
   "cell_type": "markdown",
   "metadata": {},
   "source": [
    "### Finding things"
   ]
  },
  {
   "cell_type": "markdown",
   "metadata": {},
   "source": [
    "One can use `.query('search term', 'attribute_to_search_in')` to search in model metabolites, reactions, and genes. For example, one can search metabolites that contain the term _glucose_ in their name."
   ]
  },
  {
   "cell_type": "code",
   "execution_count": 30,
   "metadata": {},
   "outputs": [
    {
     "name": "stdout",
     "output_type": "stream",
     "text": [
      "6-Phospho-beta-D-glucosyl-(1,4)-D-glucose\n",
      "DTDP-4-dehydro-6-deoxy-D-glucose\n",
      "Undecaprenol-diphosphate-glucose\n",
      "UDPglucose\n",
      "2 Deoxy D glucose 6 phosphate C6H11O8P\n",
      "ADPglucose C16H23N5O15P2\n",
      "6-Acetyl-D-glucose\n",
      "UDPglucose\n",
      "UDPglucose\n",
      "DTDPglucose\n",
      "2 Deoxy D glucose C6H12O5\n",
      "2 Deoxy D glucose C6H12O5\n",
      "2 Deoxy D glucose C6H12O5\n"
     ]
    }
   ],
   "source": [
    "for metabolite in model.metabolites.query('glucose', 'name'):\n",
    "    print(metabolite.name)"
   ]
  },
  {
   "cell_type": "markdown",
   "metadata": {},
   "source": [
    "## Simulating models"
   ]
  },
  {
   "cell_type": "code",
   "execution_count": 31,
   "metadata": {},
   "outputs": [
    {
     "data": {
      "text/html": [
       "<strong><em>Optimal</em> solution with objective value 0.877</strong><br><div>\n",
       "<style scoped>\n",
       "    .dataframe tbody tr th:only-of-type {\n",
       "        vertical-align: middle;\n",
       "    }\n",
       "\n",
       "    .dataframe tbody tr th {\n",
       "        vertical-align: top;\n",
       "    }\n",
       "\n",
       "    .dataframe thead th {\n",
       "        text-align: right;\n",
       "    }\n",
       "</style>\n",
       "<table border=\"1\" class=\"dataframe\">\n",
       "  <thead>\n",
       "    <tr style=\"text-align: right;\">\n",
       "      <th></th>\n",
       "      <th>fluxes</th>\n",
       "      <th>reduced_costs</th>\n",
       "    </tr>\n",
       "  </thead>\n",
       "  <tbody>\n",
       "    <tr>\n",
       "      <th>CYTDK2</th>\n",
       "      <td>0.000000e+00</td>\n",
       "      <td>9.521763e-17</td>\n",
       "    </tr>\n",
       "    <tr>\n",
       "      <th>XPPT</th>\n",
       "      <td>-8.698806e-17</td>\n",
       "      <td>1.387779e-17</td>\n",
       "    </tr>\n",
       "    <tr>\n",
       "      <th>HXPRT</th>\n",
       "      <td>0.000000e+00</td>\n",
       "      <td>-1.504671e-02</td>\n",
       "    </tr>\n",
       "    <tr>\n",
       "      <th>NDPK5</th>\n",
       "      <td>0.000000e+00</td>\n",
       "      <td>3.855759e-16</td>\n",
       "    </tr>\n",
       "    <tr>\n",
       "      <th>SHK3Dr</th>\n",
       "      <td>3.342403e-01</td>\n",
       "      <td>-2.639676e-18</td>\n",
       "    </tr>\n",
       "    <tr>\n",
       "      <th>...</th>\n",
       "      <td>...</td>\n",
       "      <td>...</td>\n",
       "    </tr>\n",
       "    <tr>\n",
       "      <th>MPTS</th>\n",
       "      <td>0.000000e+00</td>\n",
       "      <td>-2.602085e-18</td>\n",
       "    </tr>\n",
       "    <tr>\n",
       "      <th>MOCOS</th>\n",
       "      <td>0.000000e+00</td>\n",
       "      <td>-5.642514e-03</td>\n",
       "    </tr>\n",
       "    <tr>\n",
       "      <th>BMOGDS2</th>\n",
       "      <td>0.000000e+00</td>\n",
       "      <td>-3.338488e-01</td>\n",
       "    </tr>\n",
       "    <tr>\n",
       "      <th>FESD2s</th>\n",
       "      <td>0.000000e+00</td>\n",
       "      <td>-3.447763e-17</td>\n",
       "    </tr>\n",
       "    <tr>\n",
       "      <th>OCTNLL</th>\n",
       "      <td>0.000000e+00</td>\n",
       "      <td>-1.504671e-02</td>\n",
       "    </tr>\n",
       "  </tbody>\n",
       "</table>\n",
       "<p>2712 rows × 2 columns</p>\n",
       "</div>"
      ],
      "text/plain": [
       "<Solution 0.877 at 0x215b56b7fd0>"
      ]
     },
     "execution_count": 31,
     "metadata": {},
     "output_type": "execute_result"
    }
   ],
   "source": [
    "model.optimize()"
   ]
  },
  {
   "cell_type": "markdown",
   "metadata": {},
   "source": [
    "You can get the objective value (which corresponds to $\\mu_{max}$ in this case) like this."
   ]
  },
  {
   "cell_type": "code",
   "execution_count": 32,
   "metadata": {},
   "outputs": [
    {
     "data": {
      "text/plain": [
       "0.8769972144269834"
      ]
     },
     "execution_count": 32,
     "metadata": {},
     "output_type": "execute_result"
    }
   ],
   "source": [
    "model.optimize().objective_value"
   ]
  },
  {
   "cell_type": "markdown",
   "metadata": {},
   "source": [
    "We'll get to the fluxes in a second."
   ]
  },
  {
   "cell_type": "markdown",
   "metadata": {},
   "source": [
    "## *E. coli* Core model"
   ]
  },
  {
   "cell_type": "markdown",
   "metadata": {},
   "source": [
    "For the sake of keeping things simple, let's continue with a much simplified model representing *Escherichia coli's* central carbon metabolism, i.e., the *E. coli* Core Model [10.1128/ecosalplus.10.2.1]( https://doi.org/10.1128/ecosalplus.10.2.1)."
   ]
  },
  {
   "cell_type": "code",
   "execution_count": 33,
   "metadata": {},
   "outputs": [],
   "source": [
    "from cobra.io import read_sbml_model\n",
    "model = read_sbml_model('data/e_coli_core.xml')"
   ]
  },
  {
   "cell_type": "code",
   "execution_count": 34,
   "metadata": {},
   "outputs": [
    {
     "data": {
      "text/html": [
       "\n",
       "        <table>\n",
       "            <tr>\n",
       "                <td><strong>Name</strong></td>\n",
       "                <td>e_coli_core</td>\n",
       "            </tr><tr>\n",
       "                <td><strong>Memory address</strong></td>\n",
       "                <td>215b55cfad0</td>\n",
       "            </tr><tr>\n",
       "                <td><strong>Number of metabolites</strong></td>\n",
       "                <td>72</td>\n",
       "            </tr><tr>\n",
       "                <td><strong>Number of reactions</strong></td>\n",
       "                <td>95</td>\n",
       "            </tr><tr>\n",
       "                <td><strong>Number of genes</strong></td>\n",
       "                <td>137</td>\n",
       "            </tr><tr>\n",
       "                <td><strong>Number of groups</strong></td>\n",
       "                <td>9</td>\n",
       "            </tr><tr>\n",
       "                <td><strong>Objective expression</strong></td>\n",
       "                <td>1.0*BIOMASS_Ecoli_core_w_GAM - 1.0*BIOMASS_Ecoli_core_w_GAM_reverse_712e5</td>\n",
       "            </tr><tr>\n",
       "                <td><strong>Compartments</strong></td>\n",
       "                <td>cytosol, extracellular space</td>\n",
       "            </tr>\n",
       "          </table>"
      ],
      "text/plain": [
       "<Model e_coli_core at 0x215b55cfad0>"
      ]
     },
     "execution_count": 34,
     "metadata": {},
     "output_type": "execute_result"
    }
   ],
   "source": [
    "model"
   ]
  },
  {
   "cell_type": "markdown",
   "metadata": {},
   "source": [
    "We can simulate the model and the store the solution in a variable."
   ]
  },
  {
   "cell_type": "code",
   "execution_count": 35,
   "metadata": {},
   "outputs": [],
   "source": [
    "solution = model.optimize()"
   ]
  },
  {
   "cell_type": "markdown",
   "metadata": {},
   "source": [
    "Then we can access the predicted fluxes."
   ]
  },
  {
   "cell_type": "code",
   "execution_count": 36,
   "metadata": {},
   "outputs": [
    {
     "data": {
      "text/plain": [
       "ACALD     0.000000e+00\n",
       "ACALDt    0.000000e+00\n",
       "ACKr      3.192215e-14\n",
       "ACONTa    6.007250e+00\n",
       "ACONTb    6.007250e+00\n",
       "              ...     \n",
       "TALA      1.496984e+00\n",
       "THD2      0.000000e+00\n",
       "TKT1      1.496984e+00\n",
       "TKT2      1.181498e+00\n",
       "TPI       7.477382e+00\n",
       "Name: fluxes, Length: 95, dtype: float64"
      ]
     },
     "execution_count": 36,
     "metadata": {},
     "output_type": "execute_result"
    }
   ],
   "source": [
    "solution.fluxes"
   ]
  },
  {
   "cell_type": "markdown",
   "metadata": {},
   "source": [
    "`solution.fluxes` is a pandas `Series` object so we can do easily pandas related things (statistics, plotting, filtering etc.)."
   ]
  },
  {
   "cell_type": "code",
   "execution_count": 37,
   "metadata": {},
   "outputs": [
    {
     "data": {
      "text/plain": [
       "pandas.core.series.Series"
      ]
     },
     "execution_count": 37,
     "metadata": {},
     "output_type": "execute_result"
    }
   ],
   "source": [
    "type(solution.fluxes)"
   ]
  },
  {
   "cell_type": "markdown",
   "metadata": {},
   "source": [
    "Let's get statistical overview of the data."
   ]
  },
  {
   "cell_type": "code",
   "execution_count": 38,
   "metadata": {},
   "outputs": [
    {
     "data": {
      "text/plain": [
       "count    95.000000\n",
       "mean      2.627753\n",
       "std      10.698095\n",
       "min     -29.175827\n",
       "25%       0.000000\n",
       "50%       0.000000\n",
       "75%       4.959985\n",
       "max      45.514010\n",
       "Name: fluxes, dtype: float64"
      ]
     },
     "execution_count": 38,
     "metadata": {},
     "output_type": "execute_result"
    }
   ],
   "source": [
    "solution.fluxes.describe()"
   ]
  },
  {
   "cell_type": "markdown",
   "metadata": {},
   "source": [
    "Let's plot a histogram of the distribution of flux values."
   ]
  },
  {
   "cell_type": "code",
   "execution_count": 39,
   "metadata": {},
   "outputs": [
    {
     "data": {
      "text/plain": [
       "Text(0, 0.5, 'Frequency')"
      ]
     },
     "execution_count": 39,
     "metadata": {},
     "output_type": "execute_result"
    },
    {
     "data": {
      "image/png": "[encoded data removed]",
      "text/plain": [
       "<Figure size 640x480 with 1 Axes>"
      ]
     },
     "metadata": {},
     "output_type": "display_data"
    }
   ],
   "source": [
    "fig = solution.fluxes.hist()\n",
    "fig.set_xlabel('flux [$mmol gDW^{-1} h^{-1}]$')\n",
    "fig.set_ylabel('Frequency')"
   ]
  },
  {
   "cell_type": "markdown",
   "metadata": {},
   "source": [
    "Let's filter the non-zero fluxes."
   ]
  },
  {
   "cell_type": "code",
   "execution_count": 40,
   "metadata": {},
   "outputs": [
    {
     "data": {
      "text/plain": [
       "ACKr                        3.192215e-14\n",
       "ACONTa                      6.007250e+00\n",
       "ACONTb                      6.007250e+00\n",
       "ACt2r                       3.192215e-14\n",
       "AKGDH                       5.064376e+00\n",
       "ATPM                        8.390000e+00\n",
       "ATPS4r                      4.551401e+01\n",
       "BIOMASS_Ecoli_core_w_GAM    8.739215e-01\n",
       "CO2t                       -2.280983e+01\n",
       "CS                          6.007250e+00\n",
       "CYTBD                       4.359899e+01\n",
       "ENO                         1.471614e+01\n",
       "EX_co2_e                    2.280983e+01\n",
       "EX_glc__D_e                -1.000000e+01\n",
       "EX_h_e                      1.753087e+01\n",
       "EX_h2o_e                    2.917583e+01\n",
       "EX_nh4_e                   -4.765319e+00\n",
       "EX_o2_e                    -2.179949e+01\n",
       "EX_pi_e                    -3.214895e+00\n",
       "FBA                         7.477382e+00\n",
       "FUM                         5.064376e+00\n",
       "G6PDH2r                     4.959985e+00\n",
       "GAPD                        1.602353e+01\n",
       "GLCpts                      1.000000e+01\n",
       "GLNS                        2.234617e-01\n",
       "GLUDy                      -4.541857e+00\n",
       "GND                         4.959985e+00\n",
       "H2Ot                       -2.917583e+01\n",
       "ICDHyr                      6.007250e+00\n",
       "LDH_D                      -2.885167e-15\n",
       "MDH                         5.064376e+00\n",
       "NADH16                      3.853461e+01\n",
       "NH4t                        4.765319e+00\n",
       "O2t                         2.179949e+01\n",
       "PDH                         9.282533e+00\n",
       "PFK                         7.477382e+00\n",
       "PGI                         4.860861e+00\n",
       "PGK                        -1.602353e+01\n",
       "PGL                         4.959985e+00\n",
       "PGM                        -1.471614e+01\n",
       "PIt2r                       3.214895e+00\n",
       "PPC                         2.504309e+00\n",
       "PTAr                       -1.212470e-14\n",
       "PYK                         1.758177e+00\n",
       "PYRt2                      -7.597785e-16\n",
       "RPE                         2.678482e+00\n",
       "RPI                        -2.281503e+00\n",
       "SUCDi                       5.064376e+00\n",
       "SUCOAS                     -5.064376e+00\n",
       "TALA                        1.496984e+00\n",
       "TKT1                        1.496984e+00\n",
       "TKT2                        1.181498e+00\n",
       "TPI                         7.477382e+00\n",
       "Name: fluxes, dtype: float64"
      ]
     },
     "execution_count": 40,
     "metadata": {},
     "output_type": "execute_result"
    }
   ],
   "source": [
    "solution.fluxes[solution.fluxes != 0.]"
   ]
  },
  {
   "cell_type": "markdown",
   "metadata": {},
   "source": [
    "## Metabolic pathway visualizations with Escher"
   ]
  },
  {
   "cell_type": "markdown",
   "metadata": {},
   "source": [
    "It is quite tedious to try to interpret GSM flux predictions by looking at the raw numbers or statistics. One very useful approach to analyzing simulation results is to plot them on metabolic pathway maps. Luckily a very useful Python package exists for that purpose – [Escher](https://escher.github.io/#/) ([10.1371/journal.pcbi.1004321](http://dx.doi.org/10.1371/journal.pcbi.1004321))."
   ]
  },
  {
   "cell_type": "code",
   "execution_count": 41,
   "metadata": {},
   "outputs": [],
   "source": [
    "import escher"
   ]
  },
  {
   "cell_type": "markdown",
   "metadata": {},
   "source": [
    "You can watch the following [video](https://www.youtube.com/embed/qUipX-xzZjQ) to get an overview of Escher's functionality."
   ]
  },
  {
   "cell_type": "code",
   "execution_count": 42,
   "metadata": {},
   "outputs": [
    {
     "data": {
      "text/html": [
       "\n",
       "        <iframe\n",
       "            width=\"560\"\n",
       "            height=\"315\"\n",
       "            src=\"https://www.youtube.com/embed/qUipX-xzZjQ\"\n",
       "            frameborder=\"0\"\n",
       "            allowfullscreen\n",
       "            \n",
       "        ></iframe>\n",
       "        "
      ],
      "text/plain": [
       "<IPython.lib.display.IFrame at 0x215b4e29ad0>"
      ]
     },
     "execution_count": 42,
     "metadata": {},
     "output_type": "execute_result"
    }
   ],
   "source": [
    "from IPython.display import IFrame\n",
    "IFrame(width=\"560\", height=\"315\", src=\"https://www.youtube.com/embed/qUipX-xzZjQ\")"
   ]
  },
  {
   "cell_type": "markdown",
   "metadata": {},
   "source": [
    "With the following you can display all available maps in escher (you can also load you're own which we are not going to cover here)."
   ]
  },
  {
   "cell_type": "code",
   "execution_count": 43,
   "metadata": {
    "scrolled": true
   },
   "outputs": [
    {
     "data": {
      "text/plain": [
       "[{'organism': 'Saccharomyces cerevisiae',\n",
       "  'map_name': 'iMM904.Central carbon metabolism'},\n",
       " {'organism': 'Homo sapiens',\n",
       "  'map_name': 'RECON1.Inositol retinol metabolism'},\n",
       " {'organism': 'Homo sapiens', 'map_name': 'RECON1.Glycolysis TCA PPP'},\n",
       " {'organism': 'Homo sapiens', 'map_name': 'RECON1.Tryptophan metabolism'},\n",
       " {'organism': 'Homo sapiens', 'map_name': 'RECON1.Carbohydrate metabolism'},\n",
       " {'organism': 'Homo sapiens',\n",
       "  'map_name': 'RECON1.Amino acid metabolism (partial)'},\n",
       " {'organism': 'Escherichia coli', 'map_name': 'iJO1366.Nucleotide metabolism'},\n",
       " {'organism': 'Escherichia coli',\n",
       "  'map_name': 'iJO1366.Fatty acid biosynthesis (saturated)'},\n",
       " {'organism': 'Escherichia coli',\n",
       "  'map_name': 'iJO1366.Nucleotide and histidine biosynthesis'},\n",
       " {'organism': 'Escherichia coli', 'map_name': 'e_coli_core.Core metabolism'},\n",
       " {'organism': 'Escherichia coli', 'map_name': 'iJO1366.Central metabolism'},\n",
       " {'organism': 'Escherichia coli',\n",
       "  'map_name': 'iJO1366.Fatty acid beta-oxidation'}]"
      ]
     },
     "execution_count": 43,
     "metadata": {},
     "output_type": "execute_result"
    }
   ],
   "source": [
    "escher.list_available_maps()"
   ]
  },
  {
   "cell_type": "markdown",
   "metadata": {},
   "source": [
    "Let's display the map that corresponds to the _E. coli_ core model."
   ]
  },
  {
   "cell_type": "code",
   "execution_count": 44,
   "metadata": {},
   "outputs": [
    {
     "name": "stdout",
     "output_type": "stream",
     "text": [
      "Downloading Map from https://escher.github.io/1-0-0/6/maps/Escherichia%20coli/e_coli_core.Core%20metabolism.json\n"
     ]
    },
    {
     "data": {
      "application/vnd.jupyter.widget-view+json": {
       "model_id": "f76088fc416b4c26a0cc26b929bb2233",
       "version_major": 2,
       "version_minor": 0
      },
      "text/plain": [
       "Builder()"
      ]
     },
     "metadata": {},
     "output_type": "display_data"
    }
   ],
   "source": [
    "escher.Builder('e_coli_core.Core metabolism')"
   ]
  },
  {
   "cell_type": "markdown",
   "metadata": {},
   "source": [
    "Ok, now to the data visualization part. Escher can visualization gene, reaction, and metabolite-centric  data. Here an example of visualizing one flux and one metabolite concentration (Escher expect Python dictionaries as data input mapping data values to gene/reaction/metabolite identifiers)."
   ]
  },
  {
   "cell_type": "code",
   "execution_count": 45,
   "metadata": {},
   "outputs": [
    {
     "name": "stdout",
     "output_type": "stream",
     "text": [
      "Downloading Map from https://escher.github.io/1-0-0/6/maps/Escherichia%20coli/e_coli_core.Core%20metabolism.json\n"
     ]
    },
    {
     "data": {
      "application/vnd.jupyter.widget-view+json": {
       "model_id": "8232d7b31e30482abddc6eae0d813379",
       "version_major": 2,
       "version_minor": 0
      },
      "text/plain": [
       "Builder(metabolite_data={'ATP': 20}, reaction_data={'PGK': 100})"
      ]
     },
     "metadata": {},
     "output_type": "display_data"
    }
   ],
   "source": [
    "escher.Builder('e_coli_core.Core metabolism',\n",
    "               reaction_data={'PGK': 100},\n",
    "               metabolite_data={'ATP': 20})"
   ]
  },
  {
   "cell_type": "markdown",
   "metadata": {},
   "source": [
    "***\n",
    "**A.**\n",
    "\n",
    "* Visualize the computed fluxes (see above `solution.fluxes`) on the central carbon metabolism map.\n",
    "\n",
    "Hints:\n",
    "* You can convert a pandas Series into a dictionary using the `.to_dict()` method."
   ]
  },
  {
   "cell_type": "code",
   "execution_count": 46,
   "metadata": {},
   "outputs": [],
   "source": [
    "#solution.fluxes.to_dict()"
   ]
  },
  {
   "cell_type": "code",
   "execution_count": 47,
   "metadata": {},
   "outputs": [
    {
     "name": "stdout",
     "output_type": "stream",
     "text": [
      "Downloading Map from https://escher.github.io/1-0-0/6/maps/Escherichia%20coli/e_coli_core.Core%20metabolism.json\n"
     ]
    },
    {
     "data": {
      "application/vnd.jupyter.widget-view+json": {
       "model_id": "43d6e97ac38744e9a99354e6f98b842f",
       "version_major": 2,
       "version_minor": 0
      },
      "text/plain": [
       "Builder(reaction_data={'ACALD': 0.0, 'ACALDt': 0.0, 'ACKr': 3.1922147150048876e-14, 'ACONTa': 6.00724957535039…"
      ]
     },
     "metadata": {},
     "output_type": "display_data"
    }
   ],
   "source": [
    "escher.Builder('e_coli_core.Core metabolism',\n",
    "               reaction_data=solution.fluxes.to_dict())"
   ]
  },
  {
   "cell_type": "markdown",
   "metadata": {},
   "source": [
    "## Manipulating models"
   ]
  },
  {
   "cell_type": "markdown",
   "metadata": {},
   "source": [
    "### Making temporary changes to the model"
   ]
  },
  {
   "cell_type": "markdown",
   "metadata": {},
   "source": [
    "Usually one relies on making copies if objects need to be changed but the original state needs to be retained. Unfortunately, making copies of models is time consuming."
   ]
  },
  {
   "cell_type": "code",
   "execution_count": 48,
   "metadata": {},
   "outputs": [
    {
     "data": {
      "text/html": [
       "<strong><em>Optimal</em> solution with objective value 0.874</strong><br><div>\n",
       "<style scoped>\n",
       "    .dataframe tbody tr th:only-of-type {\n",
       "        vertical-align: middle;\n",
       "    }\n",
       "\n",
       "    .dataframe tbody tr th {\n",
       "        vertical-align: top;\n",
       "    }\n",
       "\n",
       "    .dataframe thead th {\n",
       "        text-align: right;\n",
       "    }\n",
       "</style>\n",
       "<table border=\"1\" class=\"dataframe\">\n",
       "  <thead>\n",
       "    <tr style=\"text-align: right;\">\n",
       "      <th></th>\n",
       "      <th>fluxes</th>\n",
       "      <th>reduced_costs</th>\n",
       "    </tr>\n",
       "  </thead>\n",
       "  <tbody>\n",
       "    <tr>\n",
       "      <th>ACALD</th>\n",
       "      <td>0.000000</td>\n",
       "      <td>0.000000e+00</td>\n",
       "    </tr>\n",
       "    <tr>\n",
       "      <th>ACALDt</th>\n",
       "      <td>0.000000</td>\n",
       "      <td>0.000000e+00</td>\n",
       "    </tr>\n",
       "    <tr>\n",
       "      <th>ACKr</th>\n",
       "      <td>0.000000</td>\n",
       "      <td>-0.000000e+00</td>\n",
       "    </tr>\n",
       "    <tr>\n",
       "      <th>ACONTa</th>\n",
       "      <td>6.007250</td>\n",
       "      <td>0.000000e+00</td>\n",
       "    </tr>\n",
       "    <tr>\n",
       "      <th>ACONTb</th>\n",
       "      <td>6.007250</td>\n",
       "      <td>0.000000e+00</td>\n",
       "    </tr>\n",
       "    <tr>\n",
       "      <th>...</th>\n",
       "      <td>...</td>\n",
       "      <td>...</td>\n",
       "    </tr>\n",
       "    <tr>\n",
       "      <th>TALA</th>\n",
       "      <td>1.496984</td>\n",
       "      <td>-3.173170e-17</td>\n",
       "    </tr>\n",
       "    <tr>\n",
       "      <th>THD2</th>\n",
       "      <td>0.000000</td>\n",
       "      <td>-2.546243e-03</td>\n",
       "    </tr>\n",
       "    <tr>\n",
       "      <th>TKT1</th>\n",
       "      <td>1.496984</td>\n",
       "      <td>2.552371e-17</td>\n",
       "    </tr>\n",
       "    <tr>\n",
       "      <th>TKT2</th>\n",
       "      <td>1.181498</td>\n",
       "      <td>3.173170e-17</td>\n",
       "    </tr>\n",
       "    <tr>\n",
       "      <th>TPI</th>\n",
       "      <td>7.477382</td>\n",
       "      <td>0.000000e+00</td>\n",
       "    </tr>\n",
       "  </tbody>\n",
       "</table>\n",
       "<p>95 rows × 2 columns</p>\n",
       "</div>"
      ],
      "text/plain": [
       "<Solution 0.874 at 0x215b4e0e910>"
      ]
     },
     "execution_count": 48,
     "metadata": {},
     "output_type": "execute_result"
    }
   ],
   "source": [
    "model.optimize()"
   ]
  },
  {
   "cell_type": "code",
   "execution_count": 49,
   "metadata": {},
   "outputs": [
    {
     "name": "stdout",
     "output_type": "stream",
     "text": [
      "CPU times: total: 15.6 ms\n",
      "Wall time: 81.3 ms\n"
     ]
    }
   ],
   "source": [
    "%%time\n",
    "copy_of_model = model.copy()"
   ]
  },
  {
   "cell_type": "markdown",
   "metadata": {},
   "source": [
    "Yes, even milliseconds add up pretty quickly if you need to run many simulations (e.g. if you need to knock out every single gene individually in the model to check if it is essential or not)."
   ]
  },
  {
   "cell_type": "code",
   "execution_count": 50,
   "metadata": {},
   "outputs": [
    {
     "name": "stdout",
     "output_type": "stream",
     "text": [
      "CPU times: total: 3.09 s\n",
      "Wall time: 11.5 s\n"
     ]
    }
   ],
   "source": [
    "%%time\n",
    "for gene in model.genes:\n",
    "    mutant = model.copy()\n",
    "    mutant.genes.get_by_id(gene.id).knock_out()"
   ]
  },
  {
   "cell_type": "markdown",
   "metadata": {},
   "source": [
    "For that reason cobrapy provides a mechanism that is less time consuming. Almost all methods that make changes to the model such as knocking-out genes, reactions, adding or removing metabolites, reactions etc can be automatically reverted upon exit from a python context. How this works is probably best understood by looking at an example."
   ]
  },
  {
   "cell_type": "code",
   "execution_count": 51,
   "metadata": {},
   "outputs": [
    {
     "name": "stdout",
     "output_type": "stream",
     "text": [
      "CPU times: total: 0 ns\n",
      "Wall time: 14.6 ms\n"
     ]
    }
   ],
   "source": [
    "%%time\n",
    "with model:\n",
    "    for gene in model.genes:\n",
    "        gene.knock_out()"
   ]
  },
  {
   "cell_type": "markdown",
   "metadata": {},
   "source": [
    "Here, the `with model` statements starts the context and changes done to the model one indentation level to the right, are automatically recorded. When that block finishes, the context manager is requested to roll-back all changes leaving the model looking exactly as it did before all the changes."
   ]
  },
  {
   "cell_type": "markdown",
   "metadata": {},
   "source": [
    "Changing flux bounds can as indicated also be done reversibly. For example let's set the lower and upper bound of phosphoglycerate kinase to 0 (effectively knocking out the reaction)."
   ]
  },
  {
   "cell_type": "code",
   "execution_count": 52,
   "metadata": {},
   "outputs": [
    {
     "name": "stdout",
     "output_type": "stream",
     "text": [
      "PGK's bounds inside the with statement\n",
      "0 (0, 0)\n",
      "Mutant growth rate:  1.0525207219950656e-15\n",
      "PGK's bounds outside the with statement\n",
      "(-1000.0, 1000.0)\n"
     ]
    }
   ],
   "source": [
    "with model:\n",
    "    model.reactions.PGK.bounds = 0, 0\n",
    "    print(\"PGK's bounds inside the with statement\")\n",
    "    print(model.reactions.PGK.lower_bound, model.reactions.PGK.bounds)\n",
    "    print('Mutant growth rate: ', model.optimize().objective_value)\n",
    "print(\"PGK's bounds outside the with statement\")\n",
    "print(model.reactions.PGK.bounds)"
   ]
  },
  {
   "cell_type": "markdown",
   "metadata": {},
   "source": [
    "### Slim versus full optimize"
   ]
  },
  {
   "cell_type": "markdown",
   "metadata": {},
   "source": [
    "Mathematical solvers are now so fast that for many small to mid-size models computing the solution can be even faster than it takes us to collect the values from the solver and convert that to objects that are usable for in python. When we use `model.optimize` we gather values for all reactions and metabolites and that can take some time. If we are only interested in the flux value of a single reaction or the objective, it is faster to instead use `model.slim_optimize` which only does the optimization and returns the objective value leaving it up to you to fetch other values that you may need. For example, let's optimize and get the flux value of the `ATPM` reaction."
   ]
  },
  {
   "cell_type": "code",
   "execution_count": 53,
   "metadata": {},
   "outputs": [
    {
     "name": "stdout",
     "output_type": "stream",
     "text": [
      "CPU times: total: 0 ns\n",
      "Wall time: 3.01 ms\n"
     ]
    },
    {
     "data": {
      "text/plain": [
       "8.39"
      ]
     },
     "execution_count": 53,
     "metadata": {},
     "output_type": "execute_result"
    }
   ],
   "source": [
    "%%time\n",
    "solution = model.optimize()\n",
    "solution.fluxes['ATPM']"
   ]
  },
  {
   "cell_type": "code",
   "execution_count": 54,
   "metadata": {},
   "outputs": [
    {
     "name": "stdout",
     "output_type": "stream",
     "text": [
      "CPU times: total: 0 ns\n",
      "Wall time: 0 ns\n"
     ]
    },
    {
     "data": {
      "text/plain": [
       "8.39"
      ]
     },
     "execution_count": 54,
     "metadata": {},
     "output_type": "execute_result"
    }
   ],
   "source": [
    "%%time\n",
    "model.slim_optimize()\n",
    "model.reactions.ATPM.flux"
   ]
  },
  {
   "cell_type": "markdown",
   "metadata": {},
   "source": [
    "Again, the difference may seem small but when done thousands of times these small differences can start to become significant."
   ]
  },
  {
   "cell_type": "markdown",
   "metadata": {},
   "source": [
    "### Changing the objective function"
   ]
  },
  {
   "cell_type": "markdown",
   "metadata": {},
   "source": [
    "You can change the objective function like this (e.g. if you'd like to determine the maximum possible production rate of acetate)."
   ]
  },
  {
   "cell_type": "code",
   "execution_count": 55,
   "metadata": {},
   "outputs": [
    {
     "name": "stdout",
     "output_type": "stream",
     "text": [
      "20.000000000000004\n"
     ]
    }
   ],
   "source": [
    "with model:\n",
    "    model.objective = model.reactions.EX_ac_e\n",
    "    print(model.optimize().objective_value)"
   ]
  },
  {
   "cell_type": "markdown",
   "metadata": {},
   "source": [
    "### Changing the medium"
   ]
  },
  {
   "cell_type": "markdown",
   "metadata": {},
   "source": [
    "One can access the medium condition using `model.medium`. The indicated bound is the effective upper uptake bound. "
   ]
  },
  {
   "cell_type": "code",
   "execution_count": 56,
   "metadata": {},
   "outputs": [
    {
     "data": {
      "text/plain": [
       "{'EX_co2_e': 1000.0,\n",
       " 'EX_glc__D_e': 10.0,\n",
       " 'EX_h_e': 1000.0,\n",
       " 'EX_h2o_e': 1000.0,\n",
       " 'EX_nh4_e': 1000.0,\n",
       " 'EX_o2_e': 1000.0,\n",
       " 'EX_pi_e': 1000.0}"
      ]
     },
     "execution_count": 56,
     "metadata": {},
     "output_type": "execute_result"
    }
   ],
   "source": [
    "model.medium"
   ]
  },
  {
   "cell_type": "markdown",
   "metadata": {},
   "source": [
    "Changing the carbon source in the medium can be achieved by adjusting the flux bounds of the respective exchange reactions appropriately. For example, the following code block removes glucose from the medium and adds succinate."
   ]
  },
  {
   "cell_type": "code",
   "execution_count": 57,
   "metadata": {},
   "outputs": [
    {
     "name": "stdout",
     "output_type": "stream",
     "text": [
      "0.39756301542776235\n"
     ]
    }
   ],
   "source": [
    "medium = model.medium\n",
    "with model:\n",
    "    medium['EX_glc__D_e'] = 0\n",
    "    medium['EX_succ_e'] = 10\n",
    "    model.medium = medium\n",
    "    solution = model.optimize()\n",
    "    print(solution.fluxes['BIOMASS_Ecoli_core_w_GAM'])"
   ]
  },
  {
   "cell_type": "markdown",
   "metadata": {},
   "source": [
    "Changing the carbon source to succinate led to a significant drop in growth rate."
   ]
  },
  {
   "cell_type": "markdown",
   "metadata": {},
   "source": [
    "***\n",
    "**B.**\n",
    "\n",
    "* Change the carbon source in the medium to a different carbon source. What is the difference in the growth rate observed?\n",
    "* How about growing E. coli under anaerobic conditions?\n",
    "* Now that you know how to compute the maximum production rate of a compound and you know how to manipulate the medium, calculate the theoretical maximum yield of succinate.\n",
    "\n",
    "Hints:\n",
    "* Remember that you can use model.reactions.query to find specific metabolites and reactions etc.\n",
    "* You can use `model.exchanges` to get an overview of available exchange reactions"
   ]
  },
  {
   "cell_type": "code",
   "execution_count": null,
   "metadata": {},
   "outputs": [],
   "source": []
  },
  {
   "cell_type": "markdown",
   "metadata": {},
   "source": [
    "## Phenotype predictions"
   ]
  },
  {
   "cell_type": "markdown",
   "metadata": {},
   "source": [
    "### Gene deletions and gene essentiality"
   ]
  },
  {
   "cell_type": "markdown",
   "metadata": {},
   "source": [
    "#### Knocking out a single gene"
   ]
  },
  {
   "cell_type": "markdown",
   "metadata": {},
   "source": [
    "In the model, exactly one gene is associated with reaction with [phosphoglycerate kinase](http://bigg.ucsd.edu/universal/reactions/PGK) (PGK)."
   ]
  },
  {
   "cell_type": "code",
   "execution_count": 58,
   "metadata": {},
   "outputs": [
    {
     "data": {
      "text/plain": [
       "frozenset({<Gene b2926 at 0x215b545e590>})"
      ]
     },
     "execution_count": 58,
     "metadata": {},
     "output_type": "execute_result"
    }
   ],
   "source": [
    "model.reactions.PGK.genes"
   ]
  },
  {
   "cell_type": "markdown",
   "metadata": {},
   "source": [
    "Checking the name of this gene in the model (the id is the Blattner number b2926), reveals that it is indeed [pgk](http://ecocyc.org/gene?orgid=ECOLI&id=EG10703)."
   ]
  },
  {
   "cell_type": "code",
   "execution_count": 59,
   "metadata": {},
   "outputs": [
    {
     "data": {
      "text/plain": [
       "'pgk'"
      ]
     },
     "execution_count": 59,
     "metadata": {},
     "output_type": "execute_result"
    }
   ],
   "source": [
    "model.genes.b2926.name"
   ]
  },
  {
   "cell_type": "markdown",
   "metadata": {},
   "source": [
    "Is [pgk](http://ecocyc.org/gene?orgid=ECOLI&id=EG10703) essential? Let's find out."
   ]
  },
  {
   "cell_type": "code",
   "execution_count": null,
   "metadata": {},
   "outputs": [],
   "source": []
  },
  {
   "cell_type": "markdown",
   "metadata": {},
   "source": []
  },
  {
   "cell_type": "markdown",
   "metadata": {},
   "source": [
    "#### Perform all possible single gene deletions"
   ]
  },
  {
   "cell_type": "markdown",
   "metadata": {},
   "source": [
    "Using a `for` loop allows to iterate over all genes in the model and knock out each one of them individually. We're using the model as a context to undo every gene deletion before proceeding to the next knockout."
   ]
  },
  {
   "cell_type": "code",
   "execution_count": 60,
   "metadata": {},
   "outputs": [],
   "source": [
    "essentiality = {}\n",
    "for gene in model.genes:\n",
    "    with model:\n",
    "        gene.knock_out()\n",
    "        essentiality[gene] = model.slim_optimize(error_value=0.)"
   ]
  },
  {
   "cell_type": "code",
   "execution_count": 61,
   "metadata": {},
   "outputs": [
    {
     "data": {
      "text/plain": [
       "{<Gene b0351 at 0x215b56ace50>: 0.8739215069684306,\n",
       " <Gene b1241 at 0x215b561eb90>: 0.8739215069684307,\n",
       " <Gene s0001 at 0x215b56b4e90>: 0.21114065257211606,\n",
       " <Gene b1849 at 0x215b56bba10>: 0.8739215069684305,\n",
       " <Gene b3115 at 0x215b56acf50>: 0.8739215069684305,\n",
       " <Gene b2296 at 0x215b54c9f90>: 0.8739215069684305,\n",
       " <Gene b1276 at 0x215b56bab10>: 0.8739215069684305,\n",
       " <Gene b0118 at 0x215b54c9190>: 0.8739215069684305,\n",
       " <Gene b0474 at 0x215b56b4590>: 0.8739215069684305,\n",
       " <Gene b0116 at 0x215b56a3950>: 0.7823510529477402,\n",
       " <Gene b0726 at 0x215b56b9890>: 0.8583074080226888,\n",
       " <Gene b0727 at 0x215b55c5250>: 0.858307408022689,\n",
       " <Gene b2587 at 0x215b56af7d0>: 0.8739215069684305,\n",
       " <Gene b0356 at 0x215b54c65d0>: 0.8739215069684305,\n",
       " <Gene b1478 at 0x215b55c4e10>: 0.8739215069684305,\n",
       " <Gene b3731 at 0x215b54c6c50>: 0.374229874933111,\n",
       " <Gene b3733 at 0x215b55b1ad0>: 0.3742298749331097,\n",
       " <Gene b3735 at 0x215b54c4b10>: 0.3742298749331097,\n",
       " <Gene b3739 at 0x215b56b4d90>: 0.8739215069684303,\n",
       " <Gene b3732 at 0x215b54b7010>: 0.3742298749331104,\n",
       " <Gene b3737 at 0x215b56acb50>: 0.3742298749331097,\n",
       " <Gene b3736 at 0x215b54b6cd0>: 0.3742298749331097,\n",
       " <Gene b3738 at 0x215b55b2c90>: 0.3742298749331097,\n",
       " <Gene b3734 at 0x215b55b0950>: 0.3742298749331097,\n",
       " <Gene b0720 at 0x215b56b9bd0>: 6.835345741582727e-17,\n",
       " <Gene b0979 at 0x215b56d3b50>: 0.8739215069684311,\n",
       " <Gene b0978 at 0x215b56b4a90>: 0.8739215069684305,\n",
       " <Gene b0733 at 0x215b55b0490>: 0.8739215069684305,\n",
       " <Gene b0734 at 0x215b56b73d0>: 0.8739215069684305,\n",
       " <Gene b2975 at 0x215b54b4710>: 0.8739215069684305,\n",
       " <Gene b3603 at 0x215b56b7490>: 0.8739215069684305,\n",
       " <Gene b2779 at 0x215b54b0fd0>: 1.5208622319983277e-15,\n",
       " <Gene b2925 at 0x215b55c4bd0>: 0.8739215069684303,\n",
       " <Gene b1773 at 0x215b564dd50>: 0.8739215069684305,\n",
       " <Gene b2097 at 0x215b56b7950>: 0.8739215069684305,\n",
       " <Gene b3925 at 0x215b54b1750>: 0.8739215069684305,\n",
       " <Gene b4232 at 0x215b54b1550>: 0.8739215069684305,\n",
       " <Gene b0904 at 0x215b54b01d0>: 0.8739215069684305,\n",
       " <Gene b2492 at 0x215b54ab9d0>: 0.8739215069684305,\n",
       " <Gene b4151 at 0x215b54a8250>: 0.8739215069684305,\n",
       " <Gene b4154 at 0x215b55c4ad0>: 0.8739215069684305,\n",
       " <Gene b4152 at 0x215b54aae90>: 0.8739215069684305,\n",
       " <Gene b4153 at 0x215b54aaf10>: 0.8739215069684305,\n",
       " <Gene b1817 at 0x215b55cf010>: 0.8739215069684305,\n",
       " <Gene b2415 at 0x215b56b75d0>: 0.0,\n",
       " <Gene b1818 at 0x215b54a9d50>: 0.8739215069684306,\n",
       " <Gene b1819 at 0x215b56baf50>: 0.8739215069684305,\n",
       " <Gene b2416 at 0x215b54a9110>: 0.0,\n",
       " <Gene b4122 at 0x215b54a8cd0>: 0.8739215069684306,\n",
       " <Gene b1612 at 0x215b56d3e50>: 0.8739215069684305,\n",
       " <Gene b1611 at 0x215b55b1350>: 0.8739215069684305,\n",
       " <Gene b3528 at 0x215b5499790>: 0.8739215069684305,\n",
       " <Gene b1852 at 0x215b561f0d0>: 0.863813309504001,\n",
       " <Gene b1779 at 0x215b56d3ed0>: 4.5720105671090073e-17,\n",
       " <Gene b1101 at 0x215b561fad0>: 0.8739215069684306,\n",
       " <Gene b1621 at 0x215b549aad0>: 0.8739215069684305,\n",
       " <Gene b2417 at 0x215b549a150>: 0.8739215069684305,\n",
       " <Gene b3870 at 0x215b5499010>: 0.8739215069684305,\n",
       " <Gene b1297 at 0x215b548d390>: 0.8739215069684305,\n",
       " <Gene b0810 at 0x215b548ef10>: 0.8739215069684305,\n",
       " <Gene b0809 at 0x215b548f1d0>: 0.8739215069684305,\n",
       " <Gene b0811 at 0x215b548ded0>: 0.8739215069684305,\n",
       " <Gene b1761 at 0x215b55bee90>: 0.851388523346209,\n",
       " <Gene b1524 at 0x215b56b7250>: 0.8739215069684306,\n",
       " <Gene b1812 at 0x215b55bee50>: 0.8739215069684305,\n",
       " <Gene b0485 at 0x215b548bf10>: 0.8739215069684305,\n",
       " <Gene b3213 at 0x215b5486150>: 0.8739215069684305,\n",
       " <Gene b3212 at 0x215b5485910>: 0.8739215069684305,\n",
       " <Gene b4077 at 0x215b5485710>: 0.8739215069684305,\n",
       " <Gene b2029 at 0x215b5484f10>: 0.863813309504001,\n",
       " <Gene b0875 at 0x215b5485150>: 0.8739215069684311,\n",
       " <Gene b1136 at 0x215b5485210>: -3.642223560848925e-15,\n",
       " <Gene b4015 at 0x215b56b8fd0>: 0.8739215069684313,\n",
       " <Gene b2133 at 0x215b547eed0>: 0.8739215069684305,\n",
       " <Gene b1380 at 0x215b56af390>: 0.8739215069684305,\n",
       " <Gene b4014 at 0x215b547fd10>: 0.8739215069684305,\n",
       " <Gene b2976 at 0x215b547e0d0>: 0.8739215069684305,\n",
       " <Gene b3236 at 0x215b56d2110>: 0.8258192905969891,\n",
       " <Gene b1479 at 0x215b56b5410>: 0.8739215069684306,\n",
       " <Gene b2463 at 0x215b56b9e10>: 0.8739215069684305,\n",
       " <Gene b2279 at 0x215b547d250>: 0.2116629497353101,\n",
       " <Gene b2282 at 0x215b547ced0>: 0.21166294973531088,\n",
       " <Gene b2284 at 0x215b547c090>: 0.21166294973531088,\n",
       " <Gene b2287 at 0x215b55b1d90>: 0.21166294973531088,\n",
       " <Gene b2276 at 0x215b55bdf10>: 0.21166294973531088,\n",
       " <Gene b2278 at 0x215b5473bd0>: 0.21166294973531088,\n",
       " <Gene b2288 at 0x215b55bed90>: 0.21166294973531088,\n",
       " <Gene b2285 at 0x215b56d3350>: 0.21166294973531088,\n",
       " <Gene b2280 at 0x215b54716d0>: 0.21166294973531088,\n",
       " <Gene b2281 at 0x215b55b1cd0>: 0.21166294973531088,\n",
       " <Gene b2283 at 0x215b5470410>: 0.21166294973531088,\n",
       " <Gene b2286 at 0x215b5470f10>: 0.21166294973531088,\n",
       " <Gene b2277 at 0x215b546b2d0>: 0.21166294973531088,\n",
       " <Gene b1602 at 0x215b5468950>: 0.8739215069684322,\n",
       " <Gene b3962 at 0x215b546b3d0>: 0.8739215069684305,\n",
       " <Gene b1603 at 0x215b546bd10>: 0.8739215069684305,\n",
       " <Gene b0451 at 0x215b546a990>: 0.8739215069684305,\n",
       " <Gene b0114 at 0x215b55cf6d0>: 0.7966959254309572,\n",
       " <Gene b0115 at 0x215b546a090>: 0.7966959254309566,\n",
       " <Gene b3916 at 0x215b5469ed0>: 0.8739215069684306,\n",
       " <Gene b1723 at 0x215b5468990>: 0.8739215069684305,\n",
       " <Gene b3114 at 0x215b54686d0>: 0.8739215069684305,\n",
       " <Gene b3951 at 0x215b545d450>: 0.8739215069684305,\n",
       " <Gene b0902 at 0x215b545c110>: 0.8739215069684305,\n",
       " <Gene b2579 at 0x215b545fb90>: 0.8739215069684305,\n",
       " <Gene b0903 at 0x215b545ef90>: 0.8739215069684305,\n",
       " <Gene b3952 at 0x215b56d1b10>: 0.8739215069684305,\n",
       " <Gene b4025 at 0x215b545ef10>: 0.8631595522084181,\n",
       " <Gene b2926 at 0x215b545e590>: 1.4471852414284364e-16,\n",
       " <Gene b0767 at 0x215b55cf450>: 0.8638133095040006,\n",
       " <Gene b3612 at 0x215b56b5810>: 0.8739215069684311,\n",
       " <Gene b4395 at 0x215b56af450>: 0.8739215069684305,\n",
       " <Gene b0755 at 0x215b56b6850>: 0.8739215069684305,\n",
       " <Gene b2987 at 0x215b5450110>: 0.8739215069684305,\n",
       " <Gene b3493 at 0x215b55b0c10>: 0.8739215069684305,\n",
       " <Gene b3956 at 0x215b5453d50>: 0.8707448062160257,\n",
       " <Gene b3403 at 0x215b5453a50>: 0.8739215069684311,\n",
       " <Gene b1702 at 0x215b5453c10>: 0.8739215069684305,\n",
       " <Gene b2297 at 0x215b56b5b50>: 0.8739215069684305,\n",
       " <Gene b2458 at 0x215b5452a50>: 0.8739215069684305,\n",
       " <Gene b1676 at 0x215b54505d0>: 0.8739215069684305,\n",
       " <Gene b1854 at 0x215b55cf5d0>: 0.8739215069684305,\n",
       " <Gene b4301 at 0x215b56b5bd0>: 0.8739215069684305,\n",
       " <Gene b3386 at 0x215b55cf610>: 0.8739215069684305,\n",
       " <Gene b2914 at 0x215b5442450>: 0.8739215069684305,\n",
       " <Gene b4090 at 0x215b5441910>: 0.8739215069684305,\n",
       " <Gene b0722 at 0x215b56b5450>: 0.8142975075325308,\n",
       " <Gene b0724 at 0x215b5443710>: 0.8142975075325308,\n",
       " <Gene b0723 at 0x215b56b6650>: 0.8142975075325308,\n",
       " <Gene b0721 at 0x215b5443c10>: 0.8142975075325308,\n",
       " <Gene b0729 at 0x215b56aed50>: 0.8583074080226886,\n",
       " <Gene b0728 at 0x215b5442810>: 0.858307408022689,\n",
       " <Gene b0008 at 0x215b54407d0>: 0.8739215069684305,\n",
       " <Gene b2464 at 0x215b543ab50>: 0.8739215069684305,\n",
       " <Gene b2935 at 0x215b543ae10>: 0.8739215069684305,\n",
       " <Gene b2465 at 0x215b543b990>: 0.8739215069684305,\n",
       " <Gene b3919 at 0x215b56b58d0>: 0.7040369478590248}"
      ]
     },
     "execution_count": 61,
     "metadata": {},
     "output_type": "execute_result"
    }
   ],
   "source": [
    "essentiality"
   ]
  },
  {
   "cell_type": "code",
   "execution_count": 62,
   "metadata": {
    "scrolled": true
   },
   "outputs": [],
   "source": [
    "df = pd.DataFrame.from_dict(essentiality, orient='index')\n",
    "df = df.rename(columns={0: 'growth'})\n",
    "df = df.sort_values('growth')"
   ]
  },
  {
   "cell_type": "code",
   "execution_count": 63,
   "metadata": {},
   "outputs": [
    {
     "data": {
      "text/plain": [
       "<Axes: ylabel='Frequency'>"
      ]
     },
     "execution_count": 63,
     "metadata": {},
     "output_type": "execute_result"
    },
    {
     "data": {
      "image/png": "[encoded data removed]",
      "text/plain": [
       "<Figure size 640x480 with 1 Axes>"
      ]
     },
     "metadata": {},
     "output_type": "display_data"
    }
   ],
   "source": [
    "df.plot.hist()"
   ]
  },
  {
   "cell_type": "code",
   "execution_count": 64,
   "metadata": {},
   "outputs": [
    {
     "data": {
      "image/png": "[encoded data removed]",
      "text/plain": [
       "<Figure size 2000x900 with 1 Axes>"
      ]
     },
     "metadata": {},
     "output_type": "display_data"
    }
   ],
   "source": [
    "ax = df.plot.bar().axes\n",
    "ax.figure.set_size_inches(20, 9)"
   ]
  },
  {
   "cell_type": "markdown",
   "metadata": {},
   "source": [
    "## Phenotypic phase plane analysis"
   ]
  },
  {
   "cell_type": "code",
   "execution_count": 65,
   "metadata": {},
   "outputs": [],
   "source": [
    "from cobra.flux_analysis.phenotype_phase_plane import production_envelope"
   ]
  },
  {
   "cell_type": "code",
   "execution_count": 66,
   "metadata": {},
   "outputs": [],
   "source": [
    "ppp_succ = production_envelope(model,\n",
    "                    reactions=[model.reactions.EX_glc__D_e],\n",
    "                    objective=model.reactions.BIOMASS_Ecoli_core_w_GAM)"
   ]
  },
  {
   "cell_type": "code",
   "execution_count": 67,
   "metadata": {},
   "outputs": [
    {
     "data": {
      "text/html": [
       "<div>\n",
       "<style scoped>\n",
       "    .dataframe tbody tr th:only-of-type {\n",
       "        vertical-align: middle;\n",
       "    }\n",
       "\n",
       "    .dataframe tbody tr th {\n",
       "        vertical-align: top;\n",
       "    }\n",
       "\n",
       "    .dataframe thead th {\n",
       "        text-align: right;\n",
       "    }\n",
       "</style>\n",
       "<table border=\"1\" class=\"dataframe\">\n",
       "  <thead>\n",
       "    <tr style=\"text-align: right;\">\n",
       "      <th></th>\n",
       "      <th>carbon_source</th>\n",
       "      <th>flux_minimum</th>\n",
       "      <th>carbon_yield_minimum</th>\n",
       "      <th>mass_yield_minimum</th>\n",
       "      <th>flux_maximum</th>\n",
       "      <th>carbon_yield_maximum</th>\n",
       "      <th>mass_yield_maximum</th>\n",
       "      <th>EX_glc__D_e</th>\n",
       "    </tr>\n",
       "  </thead>\n",
       "  <tbody>\n",
       "    <tr>\n",
       "      <th>0</th>\n",
       "      <td>EX_glc__D_e</td>\n",
       "      <td>0.0</td>\n",
       "      <td>0.0</td>\n",
       "      <td>NaN</td>\n",
       "      <td>0.873922</td>\n",
       "      <td>1.584745e+01</td>\n",
       "      <td>NaN</td>\n",
       "      <td>-10.000000</td>\n",
       "    </tr>\n",
       "    <tr>\n",
       "      <th>1</th>\n",
       "      <td>EX_glc__D_e</td>\n",
       "      <td>0.0</td>\n",
       "      <td>0.0</td>\n",
       "      <td>NaN</td>\n",
       "      <td>0.827990</td>\n",
       "      <td>1.580658e+01</td>\n",
       "      <td>NaN</td>\n",
       "      <td>-9.498917</td>\n",
       "    </tr>\n",
       "    <tr>\n",
       "      <th>2</th>\n",
       "      <td>EX_glc__D_e</td>\n",
       "      <td>0.0</td>\n",
       "      <td>0.0</td>\n",
       "      <td>NaN</td>\n",
       "      <td>0.782058</td>\n",
       "      <td>1.576115e+01</td>\n",
       "      <td>NaN</td>\n",
       "      <td>-8.997835</td>\n",
       "    </tr>\n",
       "    <tr>\n",
       "      <th>3</th>\n",
       "      <td>EX_glc__D_e</td>\n",
       "      <td>0.0</td>\n",
       "      <td>0.0</td>\n",
       "      <td>NaN</td>\n",
       "      <td>0.736127</td>\n",
       "      <td>1.571037e+01</td>\n",
       "      <td>NaN</td>\n",
       "      <td>-8.496752</td>\n",
       "    </tr>\n",
       "    <tr>\n",
       "      <th>4</th>\n",
       "      <td>EX_glc__D_e</td>\n",
       "      <td>0.0</td>\n",
       "      <td>0.0</td>\n",
       "      <td>NaN</td>\n",
       "      <td>0.690195</td>\n",
       "      <td>1.565323e+01</td>\n",
       "      <td>NaN</td>\n",
       "      <td>-7.995669</td>\n",
       "    </tr>\n",
       "    <tr>\n",
       "      <th>5</th>\n",
       "      <td>EX_glc__D_e</td>\n",
       "      <td>0.0</td>\n",
       "      <td>0.0</td>\n",
       "      <td>NaN</td>\n",
       "      <td>0.644263</td>\n",
       "      <td>1.558844e+01</td>\n",
       "      <td>NaN</td>\n",
       "      <td>-7.494586</td>\n",
       "    </tr>\n",
       "    <tr>\n",
       "      <th>6</th>\n",
       "      <td>EX_glc__D_e</td>\n",
       "      <td>0.0</td>\n",
       "      <td>0.0</td>\n",
       "      <td>NaN</td>\n",
       "      <td>0.598332</td>\n",
       "      <td>1.551437e+01</td>\n",
       "      <td>NaN</td>\n",
       "      <td>-6.993504</td>\n",
       "    </tr>\n",
       "    <tr>\n",
       "      <th>7</th>\n",
       "      <td>EX_glc__D_e</td>\n",
       "      <td>0.0</td>\n",
       "      <td>0.0</td>\n",
       "      <td>NaN</td>\n",
       "      <td>0.552400</td>\n",
       "      <td>1.542887e+01</td>\n",
       "      <td>NaN</td>\n",
       "      <td>-6.492421</td>\n",
       "    </tr>\n",
       "    <tr>\n",
       "      <th>8</th>\n",
       "      <td>EX_glc__D_e</td>\n",
       "      <td>0.0</td>\n",
       "      <td>0.0</td>\n",
       "      <td>NaN</td>\n",
       "      <td>0.506469</td>\n",
       "      <td>1.532906e+01</td>\n",
       "      <td>NaN</td>\n",
       "      <td>-5.991338</td>\n",
       "    </tr>\n",
       "    <tr>\n",
       "      <th>9</th>\n",
       "      <td>EX_glc__D_e</td>\n",
       "      <td>0.0</td>\n",
       "      <td>0.0</td>\n",
       "      <td>NaN</td>\n",
       "      <td>0.460537</td>\n",
       "      <td>1.521104e+01</td>\n",
       "      <td>NaN</td>\n",
       "      <td>-5.490256</td>\n",
       "    </tr>\n",
       "    <tr>\n",
       "      <th>10</th>\n",
       "      <td>EX_glc__D_e</td>\n",
       "      <td>0.0</td>\n",
       "      <td>0.0</td>\n",
       "      <td>NaN</td>\n",
       "      <td>0.414605</td>\n",
       "      <td>1.506930e+01</td>\n",
       "      <td>NaN</td>\n",
       "      <td>-4.989173</td>\n",
       "    </tr>\n",
       "    <tr>\n",
       "      <th>11</th>\n",
       "      <td>EX_glc__D_e</td>\n",
       "      <td>0.0</td>\n",
       "      <td>0.0</td>\n",
       "      <td>NaN</td>\n",
       "      <td>0.368674</td>\n",
       "      <td>1.489593e+01</td>\n",
       "      <td>NaN</td>\n",
       "      <td>-4.488090</td>\n",
       "    </tr>\n",
       "    <tr>\n",
       "      <th>12</th>\n",
       "      <td>EX_glc__D_e</td>\n",
       "      <td>0.0</td>\n",
       "      <td>0.0</td>\n",
       "      <td>NaN</td>\n",
       "      <td>0.322742</td>\n",
       "      <td>1.467897e+01</td>\n",
       "      <td>NaN</td>\n",
       "      <td>-3.987008</td>\n",
       "    </tr>\n",
       "    <tr>\n",
       "      <th>13</th>\n",
       "      <td>EX_glc__D_e</td>\n",
       "      <td>0.0</td>\n",
       "      <td>0.0</td>\n",
       "      <td>NaN</td>\n",
       "      <td>0.276810</td>\n",
       "      <td>1.439963e+01</td>\n",
       "      <td>NaN</td>\n",
       "      <td>-3.485925</td>\n",
       "    </tr>\n",
       "    <tr>\n",
       "      <th>14</th>\n",
       "      <td>EX_glc__D_e</td>\n",
       "      <td>0.0</td>\n",
       "      <td>0.0</td>\n",
       "      <td>NaN</td>\n",
       "      <td>0.230879</td>\n",
       "      <td>1.402651e+01</td>\n",
       "      <td>NaN</td>\n",
       "      <td>-2.984842</td>\n",
       "    </tr>\n",
       "    <tr>\n",
       "      <th>15</th>\n",
       "      <td>EX_glc__D_e</td>\n",
       "      <td>0.0</td>\n",
       "      <td>0.0</td>\n",
       "      <td>NaN</td>\n",
       "      <td>0.184947</td>\n",
       "      <td>1.350284e+01</td>\n",
       "      <td>NaN</td>\n",
       "      <td>-2.483759</td>\n",
       "    </tr>\n",
       "    <tr>\n",
       "      <th>16</th>\n",
       "      <td>EX_glc__D_e</td>\n",
       "      <td>0.0</td>\n",
       "      <td>0.0</td>\n",
       "      <td>NaN</td>\n",
       "      <td>0.139016</td>\n",
       "      <td>1.271448e+01</td>\n",
       "      <td>NaN</td>\n",
       "      <td>-1.982677</td>\n",
       "    </tr>\n",
       "    <tr>\n",
       "      <th>17</th>\n",
       "      <td>EX_glc__D_e</td>\n",
       "      <td>0.0</td>\n",
       "      <td>0.0</td>\n",
       "      <td>NaN</td>\n",
       "      <td>0.093084</td>\n",
       "      <td>1.139286e+01</td>\n",
       "      <td>NaN</td>\n",
       "      <td>-1.481594</td>\n",
       "    </tr>\n",
       "    <tr>\n",
       "      <th>18</th>\n",
       "      <td>EX_glc__D_e</td>\n",
       "      <td>0.0</td>\n",
       "      <td>0.0</td>\n",
       "      <td>NaN</td>\n",
       "      <td>0.046574</td>\n",
       "      <td>8.613386e+00</td>\n",
       "      <td>NaN</td>\n",
       "      <td>-0.980511</td>\n",
       "    </tr>\n",
       "    <tr>\n",
       "      <th>19</th>\n",
       "      <td>EX_glc__D_e</td>\n",
       "      <td>0.0</td>\n",
       "      <td>0.0</td>\n",
       "      <td>NaN</td>\n",
       "      <td>0.000000</td>\n",
       "      <td>1.057952e-13</td>\n",
       "      <td>NaN</td>\n",
       "      <td>-0.479429</td>\n",
       "    </tr>\n",
       "  </tbody>\n",
       "</table>\n",
       "</div>"
      ],
      "text/plain": [
       "   carbon_source  flux_minimum  carbon_yield_minimum  mass_yield_minimum  \\\n",
       "0    EX_glc__D_e           0.0                   0.0                 NaN   \n",
       "1    EX_glc__D_e           0.0                   0.0                 NaN   \n",
       "2    EX_glc__D_e           0.0                   0.0                 NaN   \n",
       "3    EX_glc__D_e           0.0                   0.0                 NaN   \n",
       "4    EX_glc__D_e           0.0                   0.0                 NaN   \n",
       "5    EX_glc__D_e           0.0                   0.0                 NaN   \n",
       "6    EX_glc__D_e           0.0                   0.0                 NaN   \n",
       "7    EX_glc__D_e           0.0                   0.0                 NaN   \n",
       "8    EX_glc__D_e           0.0                   0.0                 NaN   \n",
       "9    EX_glc__D_e           0.0                   0.0                 NaN   \n",
       "10   EX_glc__D_e           0.0                   0.0                 NaN   \n",
       "11   EX_glc__D_e           0.0                   0.0                 NaN   \n",
       "12   EX_glc__D_e           0.0                   0.0                 NaN   \n",
       "13   EX_glc__D_e           0.0                   0.0                 NaN   \n",
       "14   EX_glc__D_e           0.0                   0.0                 NaN   \n",
       "15   EX_glc__D_e           0.0                   0.0                 NaN   \n",
       "16   EX_glc__D_e           0.0                   0.0                 NaN   \n",
       "17   EX_glc__D_e           0.0                   0.0                 NaN   \n",
       "18   EX_glc__D_e           0.0                   0.0                 NaN   \n",
       "19   EX_glc__D_e           0.0                   0.0                 NaN   \n",
       "\n",
       "    flux_maximum  carbon_yield_maximum  mass_yield_maximum  EX_glc__D_e  \n",
       "0       0.873922          1.584745e+01                 NaN   -10.000000  \n",
       "1       0.827990          1.580658e+01                 NaN    -9.498917  \n",
       "2       0.782058          1.576115e+01                 NaN    -8.997835  \n",
       "3       0.736127          1.571037e+01                 NaN    -8.496752  \n",
       "4       0.690195          1.565323e+01                 NaN    -7.995669  \n",
       "5       0.644263          1.558844e+01                 NaN    -7.494586  \n",
       "6       0.598332          1.551437e+01                 NaN    -6.993504  \n",
       "7       0.552400          1.542887e+01                 NaN    -6.492421  \n",
       "8       0.506469          1.532906e+01                 NaN    -5.991338  \n",
       "9       0.460537          1.521104e+01                 NaN    -5.490256  \n",
       "10      0.414605          1.506930e+01                 NaN    -4.989173  \n",
       "11      0.368674          1.489593e+01                 NaN    -4.488090  \n",
       "12      0.322742          1.467897e+01                 NaN    -3.987008  \n",
       "13      0.276810          1.439963e+01                 NaN    -3.485925  \n",
       "14      0.230879          1.402651e+01                 NaN    -2.984842  \n",
       "15      0.184947          1.350284e+01                 NaN    -2.483759  \n",
       "16      0.139016          1.271448e+01                 NaN    -1.982677  \n",
       "17      0.093084          1.139286e+01                 NaN    -1.481594  \n",
       "18      0.046574          8.613386e+00                 NaN    -0.980511  \n",
       "19      0.000000          1.057952e-13                 NaN    -0.479429  "
      ]
     },
     "execution_count": 67,
     "metadata": {},
     "output_type": "execute_result"
    }
   ],
   "source": [
    "ppp_succ"
   ]
  },
  {
   "cell_type": "code",
   "execution_count": 68,
   "metadata": {},
   "outputs": [
    {
     "data": {
      "text/plain": [
       "<Axes: xlabel='EX_glc__D_e'>"
      ]
     },
     "execution_count": 68,
     "metadata": {},
     "output_type": "execute_result"
    },
    {
     "data": {
      "image/png": "[encoded data removed]",
      "text/plain": [
       "<Figure size 640x480 with 1 Axes>"
      ]
     },
     "metadata": {},
     "output_type": "display_data"
    }
   ],
   "source": [
    "ppp_succ.plot(x='EX_glc__D_e', y='flux_maximum')"
   ]
  },
  {
   "cell_type": "markdown",
   "metadata": {},
   "source": [
    "***\n",
    "**C.**\n",
    "\n",
    "Use `production_envelope` to determine the optimal O2 uptake rate.\n",
    "***"
   ]
  },
  {
   "cell_type": "code",
   "execution_count": null,
   "metadata": {},
   "outputs": [],
   "source": []
  },
  {
   "cell_type": "code",
   "execution_count": null,
   "metadata": {},
   "outputs": [],
   "source": []
  },
  {
   "cell_type": "code",
   "execution_count": 69,
   "metadata": {},
   "outputs": [],
   "source": [
    "## PLOT\n"
   ]
  },
  {
   "cell_type": "code",
   "execution_count": null,
   "metadata": {},
   "outputs": [],
   "source": []
  }
 ],
 "metadata": {
  "kernelspec": {
   "display_name": "Python 3.10.6 64-bit",
   "language": "python",
   "name": "python3"
  },
  "language_info": {
   "codemirror_mode": {
    "name": "ipython",
    "version": 3
   },
   "file_extension": ".py",
   "mimetype": "text/x-python",
   "name": "python",
   "nbconvert_exporter": "python",
   "pygments_lexer": "ipython3",
   "version": "3.11.5"
  },
  "vscode": {
   "interpreter": {
    "hash": "916dbcbb3f70747c44a77c7bcd40155683ae19c65e1c03b4aa3499c5328201f1"
   }
  }
 },
 "nbformat": 4,
 "nbformat_minor": 4
}
